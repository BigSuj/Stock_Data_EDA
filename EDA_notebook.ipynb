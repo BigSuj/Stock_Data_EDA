{
 "cells": [
  {
   "cell_type": "code",
   "execution_count": 55,
   "id": "dd3949fb",
   "metadata": {},
   "outputs": [],
   "source": [
    "import pandas as pd\n",
    "import matplotlib.pyplot as plt\n",
    "import seaborn as sns\n",
    "import numpy as np\n"
   ]
  },
  {
   "cell_type": "code",
   "execution_count": 56,
   "id": "8240dc6b",
   "metadata": {},
   "outputs": [],
   "source": [
    "df = pd.read_csv('dow_jones_index.csv')\n",
    "batch_size = 100"
   ]
  },
  {
   "cell_type": "markdown",
   "id": "21d1acb5",
   "metadata": {},
   "source": [
    "# Introduction\n",
    "\n",
    "## Exploratory Data Analysis (EDA) Report\n",
    "\n",
    "The Dow Jones Index data set represents hundreds of Stocks with their meta data (included below). The data is structured as a csv with each row representing a stock with its ticker and meta data.\n",
    "\n"
   ]
  },
  {
   "cell_type": "markdown",
   "id": "da681e4e",
   "metadata": {},
   "source": [
    "## Data Overview:\n",
    "\n",
    "The dataset contains historical stock prices of the Dow Jones Index from January 2011 to December 2011. The dataset contains the following columns:\n",
    "\n",
    "- quarter: the fiscal quarter in which the stock price was recorded\n",
    "- stock: the stock symbol of the company\n",
    "- date: the date on which the stock price was recorded\n",
    "- open: the opening price of the stock\n",
    "- high: the highest price of the stock during the day\n",
    "- low: the lowest price of the stock during the day\n",
    "- close: the closing price of the stock\n",
    "- volume: the total number of shares traded during the day\n",
    "- percent_change_price: the percentage change in price from the previous day\n",
    "- percent_change_volume_over_last_wk: the percentage change in volume from the previous week\n",
    "- previous_weeks_volume: the total volume of shares traded during the previous week\n",
    "- next_weeks_open: the opening price of the stock during the next week\n",
    "- next_weeks_close: the closing price of the stock during the next week\n",
    "- percent_change_next_weeks_price: the percentage change in price from this week to next week\n",
    "- days_to_next_dividend: the number of days until the next dividend payment\n",
    "- percent_return_next_dividend: the percentage return on investment from holding until next dividend payment\n"
   ]
  },
  {
   "cell_type": "markdown",
   "id": "b887b0c7",
   "metadata": {},
   "source": [
    "## Data Cleaning: \n",
    "\n",
    "The data is for the most part cleaned, without any missing values or any typos that can affect the statistics for the data frame. The only cleaning we have done is changing the date column to be date objects, and converting the open, close, high, low columns to be integers because the csv vomes with a $ before each value in these columns, making it a string."
   ]
  },
  {
   "cell_type": "code",
   "execution_count": 57,
   "id": "9c864afb",
   "metadata": {},
   "outputs": [],
   "source": [
    "# Convert 'date' column to datetime data type\n",
    "df['date'] = pd.to_datetime(df['date'])\n",
    "\n",
    "# Remove the dollar sign from the 'open', 'high', 'low', and 'close' columns and convert them to a numeric data type\n",
    "cols_to_convert = ['open', 'high', 'low', 'close']\n",
    "df[cols_to_convert] = df[cols_to_convert].replace('[\\$,]', '', regex=True).astype(float)\n"
   ]
  },
  {
   "cell_type": "markdown",
   "id": "dc7c9bba",
   "metadata": {},
   "source": [
    "## Descriptive Statistics\n",
    "\n",
    "Let's start by examining some basic descriptive statistics for our dataset. This will provide us with a general understanding of the data's central tendency, dispersion, and distribution.\n",
    "\n"
   ]
  },
  {
   "cell_type": "code",
   "execution_count": 58,
   "id": "616b15be",
   "metadata": {},
   "outputs": [
    {
     "data": {
      "text/html": [
       "<div>\n",
       "<style scoped>\n",
       "    .dataframe tbody tr th:only-of-type {\n",
       "        vertical-align: middle;\n",
       "    }\n",
       "\n",
       "    .dataframe tbody tr th {\n",
       "        vertical-align: top;\n",
       "    }\n",
       "\n",
       "    .dataframe thead th {\n",
       "        text-align: right;\n",
       "    }\n",
       "</style>\n",
       "<table border=\"1\" class=\"dataframe\">\n",
       "  <thead>\n",
       "    <tr style=\"text-align: right;\">\n",
       "      <th></th>\n",
       "      <th>quarter</th>\n",
       "      <th>open</th>\n",
       "      <th>high</th>\n",
       "      <th>low</th>\n",
       "      <th>close</th>\n",
       "      <th>volume</th>\n",
       "      <th>percent_change_price</th>\n",
       "      <th>percent_change_volume_over_last_wk</th>\n",
       "      <th>previous_weeks_volume</th>\n",
       "      <th>percent_change_next_weeks_price</th>\n",
       "      <th>days_to_next_dividend</th>\n",
       "      <th>percent_return_next_dividend</th>\n",
       "    </tr>\n",
       "  </thead>\n",
       "  <tbody>\n",
       "    <tr>\n",
       "      <th>count</th>\n",
       "      <td>750.000000</td>\n",
       "      <td>750.000000</td>\n",
       "      <td>750.000000</td>\n",
       "      <td>750.000000</td>\n",
       "      <td>750.000000</td>\n",
       "      <td>7.500000e+02</td>\n",
       "      <td>750.000000</td>\n",
       "      <td>720.000000</td>\n",
       "      <td>7.200000e+02</td>\n",
       "      <td>750.000000</td>\n",
       "      <td>750.000000</td>\n",
       "      <td>750.000000</td>\n",
       "    </tr>\n",
       "    <tr>\n",
       "      <th>mean</th>\n",
       "      <td>1.520000</td>\n",
       "      <td>53.651840</td>\n",
       "      <td>54.669987</td>\n",
       "      <td>52.640160</td>\n",
       "      <td>53.729267</td>\n",
       "      <td>1.175478e+08</td>\n",
       "      <td>0.050262</td>\n",
       "      <td>5.593627</td>\n",
       "      <td>1.173876e+08</td>\n",
       "      <td>0.238468</td>\n",
       "      <td>52.525333</td>\n",
       "      <td>0.691826</td>\n",
       "    </tr>\n",
       "    <tr>\n",
       "      <th>std</th>\n",
       "      <td>0.499933</td>\n",
       "      <td>32.638852</td>\n",
       "      <td>33.215994</td>\n",
       "      <td>32.119277</td>\n",
       "      <td>32.788787</td>\n",
       "      <td>1.584381e+08</td>\n",
       "      <td>2.517809</td>\n",
       "      <td>40.543478</td>\n",
       "      <td>1.592322e+08</td>\n",
       "      <td>2.679538</td>\n",
       "      <td>46.335098</td>\n",
       "      <td>0.305482</td>\n",
       "    </tr>\n",
       "    <tr>\n",
       "      <th>min</th>\n",
       "      <td>1.000000</td>\n",
       "      <td>10.590000</td>\n",
       "      <td>10.940000</td>\n",
       "      <td>10.400000</td>\n",
       "      <td>10.520000</td>\n",
       "      <td>9.718851e+06</td>\n",
       "      <td>-15.422900</td>\n",
       "      <td>-61.433175</td>\n",
       "      <td>9.718851e+06</td>\n",
       "      <td>-15.422900</td>\n",
       "      <td>0.000000</td>\n",
       "      <td>0.065574</td>\n",
       "    </tr>\n",
       "    <tr>\n",
       "      <th>25%</th>\n",
       "      <td>1.000000</td>\n",
       "      <td>29.830000</td>\n",
       "      <td>30.627500</td>\n",
       "      <td>28.720000</td>\n",
       "      <td>30.365000</td>\n",
       "      <td>3.086624e+07</td>\n",
       "      <td>-1.288053</td>\n",
       "      <td>-19.804284</td>\n",
       "      <td>3.067832e+07</td>\n",
       "      <td>-1.222068</td>\n",
       "      <td>24.000000</td>\n",
       "      <td>0.534549</td>\n",
       "    </tr>\n",
       "    <tr>\n",
       "      <th>50%</th>\n",
       "      <td>2.000000</td>\n",
       "      <td>45.970000</td>\n",
       "      <td>46.885000</td>\n",
       "      <td>44.800000</td>\n",
       "      <td>45.930000</td>\n",
       "      <td>5.306088e+07</td>\n",
       "      <td>0.000000</td>\n",
       "      <td>0.512586</td>\n",
       "      <td>5.294556e+07</td>\n",
       "      <td>0.101193</td>\n",
       "      <td>47.000000</td>\n",
       "      <td>0.681067</td>\n",
       "    </tr>\n",
       "    <tr>\n",
       "      <th>75%</th>\n",
       "      <td>2.000000</td>\n",
       "      <td>72.715000</td>\n",
       "      <td>74.287500</td>\n",
       "      <td>71.037500</td>\n",
       "      <td>72.667500</td>\n",
       "      <td>1.327218e+08</td>\n",
       "      <td>1.650888</td>\n",
       "      <td>21.800622</td>\n",
       "      <td>1.333230e+08</td>\n",
       "      <td>1.845562</td>\n",
       "      <td>69.000000</td>\n",
       "      <td>0.854291</td>\n",
       "    </tr>\n",
       "    <tr>\n",
       "      <th>max</th>\n",
       "      <td>2.000000</td>\n",
       "      <td>172.110000</td>\n",
       "      <td>173.540000</td>\n",
       "      <td>167.820000</td>\n",
       "      <td>170.580000</td>\n",
       "      <td>1.453439e+09</td>\n",
       "      <td>9.882230</td>\n",
       "      <td>327.408924</td>\n",
       "      <td>1.453439e+09</td>\n",
       "      <td>9.882230</td>\n",
       "      <td>336.000000</td>\n",
       "      <td>1.564210</td>\n",
       "    </tr>\n",
       "  </tbody>\n",
       "</table>\n",
       "</div>"
      ],
      "text/plain": [
       "          quarter        open        high         low       close  \\\n",
       "count  750.000000  750.000000  750.000000  750.000000  750.000000   \n",
       "mean     1.520000   53.651840   54.669987   52.640160   53.729267   \n",
       "std      0.499933   32.638852   33.215994   32.119277   32.788787   \n",
       "min      1.000000   10.590000   10.940000   10.400000   10.520000   \n",
       "25%      1.000000   29.830000   30.627500   28.720000   30.365000   \n",
       "50%      2.000000   45.970000   46.885000   44.800000   45.930000   \n",
       "75%      2.000000   72.715000   74.287500   71.037500   72.667500   \n",
       "max      2.000000  172.110000  173.540000  167.820000  170.580000   \n",
       "\n",
       "             volume  percent_change_price  percent_change_volume_over_last_wk  \\\n",
       "count  7.500000e+02            750.000000                          720.000000   \n",
       "mean   1.175478e+08              0.050262                            5.593627   \n",
       "std    1.584381e+08              2.517809                           40.543478   \n",
       "min    9.718851e+06            -15.422900                          -61.433175   \n",
       "25%    3.086624e+07             -1.288053                          -19.804284   \n",
       "50%    5.306088e+07              0.000000                            0.512586   \n",
       "75%    1.327218e+08              1.650888                           21.800622   \n",
       "max    1.453439e+09              9.882230                          327.408924   \n",
       "\n",
       "       previous_weeks_volume  percent_change_next_weeks_price  \\\n",
       "count           7.200000e+02                       750.000000   \n",
       "mean            1.173876e+08                         0.238468   \n",
       "std             1.592322e+08                         2.679538   \n",
       "min             9.718851e+06                       -15.422900   \n",
       "25%             3.067832e+07                        -1.222068   \n",
       "50%             5.294556e+07                         0.101193   \n",
       "75%             1.333230e+08                         1.845562   \n",
       "max             1.453439e+09                         9.882230   \n",
       "\n",
       "       days_to_next_dividend  percent_return_next_dividend  \n",
       "count             750.000000                    750.000000  \n",
       "mean               52.525333                      0.691826  \n",
       "std                46.335098                      0.305482  \n",
       "min                 0.000000                      0.065574  \n",
       "25%                24.000000                      0.534549  \n",
       "50%                47.000000                      0.681067  \n",
       "75%                69.000000                      0.854291  \n",
       "max               336.000000                      1.564210  "
      ]
     },
     "execution_count": 58,
     "metadata": {},
     "output_type": "execute_result"
    }
   ],
   "source": [
    "df.describe()"
   ]
  },
  {
   "cell_type": "markdown",
   "id": "e2210c03",
   "metadata": {},
   "source": [
    "## Distribution of Stock Prices\n",
    "\n",
    "To understand the distribution of stock prices in the Dow Jones Index, we plotted a histogram of the 'close' column, which represents the closing price of each stock. The histogram shows that the majority of the stock prices are between 0 and 50 dollars, with a few outliers above $145."
   ]
  },
  {
   "cell_type": "code",
   "execution_count": 59,
   "id": "9920ad94",
   "metadata": {},
   "outputs": [
    {
     "data": {
      "image/png": "[encoded data removed]",
      "text/plain": [
       "<Figure size 640x480 with 1 Axes>"
      ]
     },
     "metadata": {},
     "output_type": "display_data"
    }
   ],
   "source": [
    "sns.histplot(df['close'])\n",
    "plt.title('Distribution of Close Prices')\n",
    "plt.xlabel('Close Price')\n",
    "plt.ylabel('Frequency')\n",
    "plt.show()"
   ]
  },
  {
   "cell_type": "markdown",
   "id": "cbf96c51",
   "metadata": {},
   "source": [
    "## Closing Price vs. Volume\n",
    "\n",
    "Now, we'll create a scatter plot to visualize the relationship between the closing price and volume for each stock. This can help us identify any potential correlation between the two variables. \n",
    "\n",
    "From the visualization there seems to be some negative correlation between the volume of a stock and the closing price.\n"
   ]
  },
  {
   "cell_type": "code",
   "execution_count": 76,
   "id": "a0349d75",
   "metadata": {},
   "outputs": [
    {
     "data": {
      "application/vnd.plotly.v1+json": {
       "config": {
        "plotlyServerURL": "https://plot.ly"
       },
       "data": [
        {
         "hovertemplate": "stock=AA<br>close=%{x}<br>volume=%{y}<extra></extra>",
         "legendgroup": "AA",
         "marker": {
          "color": "#636efa",
          "symbol": "circle"
         },
         "mode": "markers",
         "name": "AA",
         "orientation": "v",
         "showlegend": true,
         "type": "scatter",
         "x": [
          16.42,
          15.97,
          15.79,
          16.13,
          17.14,
          17.37,
          17.28,
          16.68,
          16.58,
          16.03,
          16.11,
          17.09,
          17.47,
          17.92,
          16.52,
          16.97,
          17,
          17.15,
          17.1,
          16.26,
          16.48,
          15.92,
          15.28,
          14.72,
          15.23
         ],
         "xaxis": "x",
         "y": [
          239655616,
          242963398,
          138428495,
          151379173,
          154387761,
          114691279,
          80023895,
          132981863,
          109493077,
          114332562,
          130374108,
          95550392,
          103320396,
          129237024,
          213061090,
          85235391,
          90831895,
          225053559,
          111630753,
          118281015,
          77236662,
          77152591,
          94970970,
          111273573,
          99423717
         ],
         "yaxis": "y"
        },
        {
         "hovertemplate": "stock=AXP<br>close=%{x}<br>volume=%{y}<extra></extra>",
         "legendgroup": "AXP",
         "marker": {
          "color": "#EF553B",
          "symbol": "circle"
         },
         "mode": "markers",
         "name": "AXP",
         "orientation": "v",
         "showlegend": true,
         "type": "scatter",
         "x": [
          44.36,
          46.25,
          46,
          43.86,
          43.82,
          46.75,
          45.53,
          43.53,
          43.72,
          44.28,
          44.17,
          45.59,
          45.36,
          46.28,
          46.25,
          47.11,
          49.08,
          50.2,
          49.49,
          51.19,
          51.13,
          49.28,
          47.74,
          48.5,
          48.34
         ],
         "xaxis": "x",
         "y": [
          45102042,
          25913713,
          38824728,
          51427274,
          39501680,
          43746998,
          28564910,
          39654146,
          38985037,
          37613429,
          41757526,
          30798332,
          28738689,
          31114741,
          29090940,
          22929313,
          32470319,
          43997724,
          35427164,
          36565612,
          26359875,
          25215640,
          33828918,
          37705374,
          34877916
         ],
         "yaxis": "y"
        },
        {
         "hovertemplate": "stock=BA<br>close=%{x}<br>volume=%{y}<extra></extra>",
         "legendgroup": "BA",
         "marker": {
          "color": "#00cc96",
          "symbol": "circle"
         },
         "mode": "markers",
         "name": "BA",
         "orientation": "v",
         "showlegend": true,
         "type": "scatter",
         "x": [
          69.38,
          70.07,
          71.68,
          69.23,
          71.38,
          72.14,
          73.04,
          72.3,
          71.8,
          71.64,
          69.1,
          73.34,
          74.01,
          73.47,
          72.6,
          75.44,
          79.78,
          79.31,
          79.03,
          77.52,
          76.99,
          74.84,
          72.69,
          74.16,
          71.26
         ],
         "xaxis": "x",
         "y": [
          36258120,
          18834664,
          29594221,
          34929673,
          22770062,
          21809411,
          15989248,
          26258425,
          27527285,
          25556296,
          29746370,
          24423545,
          20590618,
          21220138,
          19492289,
          16947409,
          30503034,
          25394946,
          18368201,
          19990094,
          15886795,
          17813730,
          18574466,
          25381159,
          30675314
         ],
         "yaxis": "y"
        },
        {
         "hovertemplate": "stock=BAC<br>close=%{x}<br>volume=%{y}<extra></extra>",
         "legendgroup": "BAC",
         "marker": {
          "color": "#ab63fa",
          "symbol": "circle"
         },
         "mode": "markers",
         "name": "BAC",
         "orientation": "v",
         "showlegend": true,
         "type": "scatter",
         "x": [
          14.25,
          15.25,
          14.25,
          13.6,
          14.29,
          14.77,
          14.75,
          14.2,
          14.12,
          14.38,
          14.04,
          13.34,
          13.37,
          13.48,
          12.82,
          12.31,
          12.28,
          12.31,
          11.93,
          11.58,
          11.69,
          11.28,
          10.8,
          10.68,
          10.52
         ],
         "xaxis": "x",
         "y": [
          1453438639,
          760935694,
          982445809,
          1054415375,
          757192224,
          746465458,
          458423511,
          712456757,
          699671790,
          805210688,
          792380862,
          717678994,
          499672763,
          480033181,
          670594575,
          624897506,
          557530217,
          577232010,
          623724296,
          658968285,
          479389107,
          596420503,
          873241317,
          889460755,
          603098073
         ],
         "yaxis": "y"
        },
        {
         "hovertemplate": "stock=CAT<br>close=%{x}<br>volume=%{y}<extra></extra>",
         "legendgroup": "CAT",
         "marker": {
          "color": "#FFA15A",
          "symbol": "circle"
         },
         "mode": "markers",
         "name": "CAT",
         "orientation": "v",
         "showlegend": true,
         "type": "scatter",
         "x": [
          93.73,
          94.01,
          92.75,
          95.68,
          99.59,
          103.54,
          105.86,
          102,
          103.04,
          100.02,
          105.06,
          109.09,
          113.12,
          109.82,
          107.21,
          109.42,
          115.41,
          110.34,
          106.33,
          104.33,
          104.6,
          101.1,
          96.79,
          95.95,
          100.01
         ],
         "xaxis": "x",
         "y": [
          24135903,
          19707235,
          28651009,
          34929068,
          31169285,
          27632394,
          16331886,
          28146727,
          29851515,
          38614049,
          54195667,
          37837456,
          28116391,
          28772937,
          30697889,
          23938892,
          34522949,
          39678464,
          38211403,
          54274252,
          30213720,
          35887587,
          40431926,
          43606429,
          43722864
         ],
         "yaxis": "y"
        },
        {
         "hovertemplate": "stock=CSCO<br>close=%{x}<br>volume=%{y}<extra></extra>",
         "legendgroup": "CSCO",
         "marker": {
          "color": "#19d3f3",
          "symbol": "circle"
         },
         "mode": "markers",
         "name": "CSCO",
         "orientation": "v",
         "showlegend": true,
         "type": "scatter",
         "x": [
          20.97,
          21.21,
          20.72,
          20.93,
          22.05,
          18.7,
          18.85,
          18.64,
          18.4,
          17.95,
          17.14,
          17.28,
          17.04,
          17.65,
          17.03,
          16.94,
          17.52,
          17.56,
          16.88,
          16.53,
          16.46,
          16.01,
          15.12,
          14.97,
          14.93
         ],
         "xaxis": "x",
         "y": [
          303545878,
          154708263,
          193706863,
          265687272,
          236334561,
          1000362015,
          390258123,
          285212201,
          302059981,
          311209442,
          444161658,
          284574143,
          308644641,
          539982011,
          324203125,
          249420898,
          412492845,
          290282402,
          563552552,
          371711669,
          235050333,
          256069538,
          412198054,
          401380782,
          429730443
         ],
         "yaxis": "y"
        },
        {
         "hovertemplate": "stock=CVX<br>close=%{x}<br>volume=%{y}<extra></extra>",
         "legendgroup": "CVX",
         "marker": {
          "color": "#FF6692",
          "symbol": "circle"
         },
         "mode": "markers",
         "name": "CVX",
         "orientation": "v",
         "showlegend": true,
         "type": "scatter",
         "x": [
          91.19,
          92.83,
          93.78,
          93.37,
          97.11,
          96.45,
          98.72,
          102.1,
          103.75,
          99.93,
          102.8,
          106.78,
          108.32,
          109.66,
          106.24,
          108.13,
          109.44,
          102.88,
          102.39,
          102.57,
          103.21,
          101,
          99.67,
          99.17,
          97.9
         ],
         "xaxis": "x",
         "y": [
          35556288,
          28260512,
          27752622,
          42303108,
          48766293,
          38838595,
          28037827,
          57897831,
          48214502,
          43673568,
          56186791,
          39606692,
          35824123,
          31958307,
          42617245,
          18873837,
          28004621,
          44930373,
          43103424,
          39951901,
          28858240,
          32206213,
          35612426,
          44845243,
          42615162
         ],
         "yaxis": "y"
        },
        {
         "hovertemplate": "stock=DD<br>close=%{x}<br>volume=%{y}<extra></extra>",
         "legendgroup": "DD",
         "marker": {
          "color": "#B6E880",
          "symbol": "circle"
         },
         "mode": "markers",
         "name": "DD",
         "orientation": "v",
         "showlegend": true,
         "type": "scatter",
         "x": [
          49.76,
          49.8,
          48.35,
          50.29,
          52.53,
          54.58,
          55.98,
          54.07,
          53.87,
          52.9,
          52.99,
          54.1,
          55.19,
          55.4,
          54.89,
          55.91,
          56.79,
          54.63,
          52.91,
          52.74,
          52.56,
          50.29,
          49.78,
          49.57,
          51.96
         ],
         "xaxis": "x",
         "y": [
          27658789,
          34546875,
          25611091,
          45429653,
          31069977,
          37155830,
          27705910,
          33190716,
          32958368,
          27091813,
          39779608,
          24464568,
          23341552,
          19685778,
          24059673,
          15537427,
          27349183,
          27498887,
          27207924,
          27511651,
          24845668,
          25203572,
          28186429,
          36027620,
          34797906
         ],
         "yaxis": "y"
        },
        {
         "hovertemplate": "stock=DIS<br>close=%{x}<br>volume=%{y}<extra></extra>",
         "legendgroup": "DIS",
         "marker": {
          "color": "#FF97FF",
          "symbol": "circle"
         },
         "mode": "markers",
         "name": "DIS",
         "orientation": "v",
         "showlegend": true,
         "type": "scatter",
         "x": [
          39.45,
          39.29,
          39.74,
          38.85,
          40.71,
          43.41,
          43.56,
          42.95,
          43.55,
          42.93,
          41.23,
          42.97,
          42.85,
          41.76,
          41.52,
          42.27,
          43.1,
          43.06,
          41.52,
          41.5,
          41.52,
          39.38,
          38.5,
          38.04,
          37.58
         ],
         "xaxis": "x",
         "y": [
          72917621,
          31943413,
          36187032,
          42131642,
          53521486,
          83975520,
          33868302,
          56966763,
          53096584,
          41229388,
          65060004,
          40696371,
          34130223,
          39055258,
          40820710,
          24312043,
          30122091,
          35369886,
          78855110,
          50988843,
          34651349,
          52169227,
          49099516,
          54513950,
          50409504
         ],
         "yaxis": "y"
        },
        {
         "hovertemplate": "stock=GE<br>close=%{x}<br>volume=%{y}<extra></extra>",
         "legendgroup": "GE",
         "marker": {
          "color": "#FECB52",
          "symbol": "circle"
         },
         "mode": "markers",
         "name": "GE",
         "orientation": "v",
         "showlegend": true,
         "type": "scatter",
         "x": [
          18.43,
          18.82,
          19.74,
          20.2,
          20.56,
          21.33,
          21.44,
          20.82,
          20.37,
          20.36,
          19.25,
          19.75,
          20.34,
          20.19,
          20.04,
          19.95,
          20.45,
          20.01,
          19.89,
          19.62,
          19.44,
          18.82,
          18.32,
          18.49,
          17.97
         ],
         "xaxis": "x",
         "y": [
          280146510,
          215626229,
          449508777,
          437317986,
          246591055,
          252254376,
          158691572,
          268500170,
          261175412,
          303566341,
          520516218,
          227819072,
          207897262,
          238618636,
          212315926,
          182835072,
          280299000,
          235180053,
          195448891,
          228297982,
          169411364,
          207576381,
          260898990,
          261979707,
          295978977
         ],
         "yaxis": "y"
        },
        {
         "hovertemplate": "stock=HD<br>close=%{x}<br>volume=%{y}<extra></extra>",
         "legendgroup": "HD",
         "marker": {
          "color": "#636efa",
          "symbol": "circle"
         },
         "mode": "markers",
         "name": "HD",
         "orientation": "v",
         "showlegend": true,
         "type": "scatter",
         "x": [
          34.38,
          35.89,
          36.51,
          36.7,
          36.8,
          37.48,
          38.48,
          37.08,
          37.22,
          37.14,
          36,
          37.42,
          37.56,
          37.46,
          38.17,
          37.8,
          37.15,
          36.99,
          37.01,
          37.05,
          36,
          34.63,
          33.47,
          34.53,
          35.08
         ],
         "xaxis": "x",
         "y": [
          56576860,
          41918450,
          45249920,
          63397367,
          41844858,
          36079400,
          30619613,
          54816070,
          49763519,
          49156185,
          52758908,
          40337534,
          52881329,
          47021433,
          42983064,
          24190528,
          61019095,
          52439439,
          41391929,
          53378802,
          40673778,
          39307513,
          45606663,
          76297124,
          65416820
         ],
         "yaxis": "y"
        },
        {
         "hovertemplate": "stock=HPQ<br>close=%{x}<br>volume=%{y}<extra></extra>",
         "legendgroup": "HPQ",
         "marker": {
          "color": "#EF553B",
          "symbol": "circle"
         },
         "mode": "markers",
         "name": "HPQ",
         "orientation": "v",
         "showlegend": true,
         "type": "scatter",
         "x": [
          45.09,
          46.25,
          47.23,
          45.51,
          47.43,
          48.64,
          48.67,
          42.68,
          42.61,
          41.73,
          41.32,
          42.53,
          40.98,
          40.7,
          40.26,
          40.99,
          40.37,
          40.81,
          40.41,
          35.98,
          36.96,
          36.11,
          35.25,
          35,
          34.9
         ],
         "xaxis": "x",
         "y": [
          100020724,
          65464211,
          82623453,
          84066350,
          74475624,
          84089936,
          49401750,
          211147488,
          110702335,
          85140794,
          121051768,
          78089358,
          90069975,
          87672936,
          70321527,
          46244533,
          82362537,
          70249698,
          63498759,
          217523955,
          106507716,
          79313559,
          74301015,
          134346312,
          102774442
         ],
         "yaxis": "y"
        },
        {
         "hovertemplate": "stock=IBM<br>close=%{x}<br>volume=%{y}<extra></extra>",
         "legendgroup": "IBM",
         "marker": {
          "color": "#00cc96",
          "symbol": "circle"
         },
         "mode": "markers",
         "name": "IBM",
         "orientation": "v",
         "showlegend": true,
         "type": "scatter",
         "x": [
          147.93,
          150,
          155.5,
          159.21,
          164,
          163.85,
          164.84,
          162.28,
          161.83,
          162.43,
          155.89,
          162.18,
          164.27,
          164.05,
          166.21,
          168.28,
          170.58,
          168.89,
          169.92,
          170.16,
          167.5,
          165.05,
          163.18,
          164.44,
          165.07
         ],
         "xaxis": "x",
         "y": [
          23492843,
          15335348,
          35770931,
          32510483,
          25377163,
          26106753,
          14352613,
          21443811,
          21549118,
          31119857,
          41827781,
          25381792,
          19081936,
          17615408,
          22183383,
          23662621,
          26829625,
          29480567,
          23505533,
          26027660,
          19453763,
          23349972,
          20646079,
          29390025,
          22984546
         ],
         "yaxis": "y"
        },
        {
         "hovertemplate": "stock=INTC<br>close=%{x}<br>volume=%{y}<extra></extra>",
         "legendgroup": "INTC",
         "marker": {
          "color": "#ab63fa",
          "symbol": "circle"
         },
         "mode": "markers",
         "name": "INTC",
         "orientation": "v",
         "showlegend": true,
         "type": "scatter",
         "x": [
          20.66,
          21.08,
          20.82,
          21.46,
          21.68,
          21.76,
          22.14,
          21.86,
          21.56,
          20.87,
          19.93,
          20.37,
          19.72,
          20.02,
          19.75,
          21.46,
          23.15,
          23.25,
          23.41,
          23.22,
          22.21,
          21.73,
          21.38,
          21.19,
          21.2
         ],
         "xaxis": "x",
         "y": [
          386719626,
          274111012,
          218479469,
          325168191,
          277969054,
          236842359,
          201181541,
          256135777,
          291751623,
          289874871,
          347426088,
          229150771,
          321390635,
          286343950,
          231298341,
          302470339,
          466579710,
          513891027,
          344755154,
          387571150,
          210446967,
          222978209,
          249719951,
          294273143,
          309031457
         ],
         "yaxis": "y"
        },
        {
         "hovertemplate": "stock=JNJ<br>close=%{x}<br>volume=%{y}<extra></extra>",
         "legendgroup": "JNJ",
         "marker": {
          "color": "#FFA15A",
          "symbol": "circle"
         },
         "mode": "markers",
         "name": "JNJ",
         "orientation": "v",
         "showlegend": true,
         "type": "scatter",
         "x": [
          62.6,
          62.55,
          62.66,
          60.01,
          60.84,
          60.7,
          61.11,
          59.64,
          61.06,
          59.69,
          58.57,
          58.98,
          59.49,
          59.46,
          60.56,
          64.07,
          65.72,
          65.27,
          66.62,
          65.69,
          66.77,
          66.09,
          66.09,
          66.29,
          65.06
         ],
         "xaxis": "x",
         "y": [
          57774737,
          34950419,
          47999880,
          86229071,
          63641929,
          42897125,
          33273371,
          46786798,
          63576642,
          53844149,
          71716802,
          47498000,
          48029143,
          47141409,
          58631682,
          72888066,
          70745990,
          68840083,
          66040498,
          53385097,
          49866786,
          47426009,
          52231924,
          58201928,
          56535090
         ],
         "yaxis": "y"
        },
        {
         "hovertemplate": "stock=JPM<br>close=%{x}<br>volume=%{y}<extra></extra>",
         "legendgroup": "JPM",
         "marker": {
          "color": "#19d3f3",
          "symbol": "circle"
         },
         "mode": "markers",
         "name": "JPM",
         "orientation": "v",
         "showlegend": true,
         "type": "scatter",
         "x": [
          43.64,
          44.91,
          45.29,
          44.54,
          44.59,
          46.57,
          48,
          46.68,
          45.52,
          45.74,
          45.74,
          45.86,
          46.35,
          46.84,
          44.89,
          44.68,
          45.63,
          45.04,
          43.15,
          43.13,
          42.79,
          41.57,
          41.05,
          40.8,
          39.49
         ],
         "xaxis": "x",
         "y": [
          234547885,
          144662779,
          182971761,
          154832501,
          137430065,
          162434145,
          131941706,
          139540125,
          139051830,
          140414285,
          226413618,
          117959443,
          112702290,
          121937602,
          186017520,
          113261188,
          107332185,
          131213937,
          137013704,
          145114846,
          119828886,
          145187926,
          194764785,
          183560880,
          167589521
         ],
         "yaxis": "y"
        },
        {
         "hovertemplate": "stock=KRFT<br>close=%{x}<br>volume=%{y}<extra></extra>",
         "legendgroup": "KRFT",
         "marker": {
          "color": "#FF6692",
          "symbol": "circle"
         },
         "mode": "markers",
         "name": "KRFT",
         "orientation": "v",
         "showlegend": true,
         "type": "scatter",
         "x": [
          31.19,
          31.34,
          31.35,
          30.53,
          31.19,
          30.66,
          30.91,
          31.71,
          31.58,
          31.7,
          30.99,
          31.26,
          31.61,
          31.67,
          33.36,
          33.38,
          33.59,
          34.08,
          34.89,
          35.23,
          34.75,
          34.1,
          33.79,
          34.48,
          34.6
         ],
         "xaxis": "x",
         "y": [
          44971770,
          24955086,
          41200255,
          55657855,
          34764359,
          65912258,
          38172345,
          50462721,
          55211152,
          41766976,
          51736270,
          41958399,
          38759730,
          34314135,
          71530535,
          33399240,
          42547809,
          58969733,
          47572999,
          48017488,
          31660711,
          38915498,
          43535139,
          44641104,
          39770714
         ],
         "yaxis": "y"
        },
        {
         "hovertemplate": "stock=KO<br>close=%{x}<br>volume=%{y}<extra></extra>",
         "legendgroup": "KO",
         "marker": {
          "color": "#B6E880",
          "symbol": "circle"
         },
         "mode": "markers",
         "name": "KO",
         "orientation": "v",
         "showlegend": true,
         "type": "scatter",
         "x": [
          62.92,
          63.13,
          62.77,
          62.21,
          62.56,
          63.57,
          64.55,
          64.31,
          65.21,
          64.81,
          62.7,
          65.22,
          67.22,
          67.27,
          68.01,
          67.88,
          67.46,
          66.9,
          68.18,
          68.3,
          66.51,
          65.53,
          65.39,
          65.62,
          64.93
         ],
         "xaxis": "x",
         "y": [
          59802189,
          31297830,
          36000586,
          42141599,
          34863226,
          46269528,
          29937386,
          32331825,
          61665987,
          44560041,
          59542953,
          29853434,
          39265955,
          32024467,
          40595470,
          19831270,
          44603365,
          33947562,
          32166394,
          32520067,
          26066805,
          31192400,
          30422351,
          43194922,
          49806614
         ],
         "yaxis": "y"
        },
        {
         "hovertemplate": "stock=MCD<br>close=%{x}<br>volume=%{y}<extra></extra>",
         "legendgroup": "MCD",
         "marker": {
          "color": "#FF97FF",
          "symbol": "circle"
         },
         "mode": "markers",
         "name": "MCD",
         "orientation": "v",
         "showlegend": true,
         "type": "scatter",
         "x": [
          74.37,
          74.06,
          75.01,
          73.28,
          74.05,
          76.14,
          76.13,
          74.44,
          76.03,
          76.73,
          72.99,
          75.25,
          75.99,
          76.04,
          77.38,
          76.91,
          78.31,
          78.7,
          80.74,
          82.33,
          81.62,
          80.54,
          80.36,
          82.52,
          81.84
         ],
         "xaxis": "x",
         "y": [
          85400677,
          44895850,
          40056497,
          46734907,
          41519549,
          39363816,
          16734140,
          27881213,
          41047787,
          34855064,
          40853280,
          23877441,
          17977737,
          22337802,
          21670715,
          17718174,
          22923015,
          26460318,
          26573357,
          27816875,
          26628471,
          23382621,
          31264251,
          27515629,
          28303321
         ],
         "yaxis": "y"
        },
        {
         "hovertemplate": "stock=MMM<br>close=%{x}<br>volume=%{y}<extra></extra>",
         "legendgroup": "MMM",
         "marker": {
          "color": "#FECB52",
          "symbol": "circle"
         },
         "mode": "markers",
         "name": "MMM",
         "orientation": "v",
         "showlegend": true,
         "type": "scatter",
         "x": [
          86.23,
          88.1,
          89.29,
          87.44,
          88.29,
          91.8,
          92.96,
          90.25,
          92.19,
          91.61,
          88.98,
          92.27,
          93.13,
          93.22,
          92.82,
          93.92,
          97.21,
          95.6,
          96.01,
          93.56,
          93.47,
          90.7,
          90.73,
          91.78,
          90.89
         ],
         "xaxis": "x",
         "y": [
          16166921,
          11585909,
          10705548,
          26110543,
          14960948,
          16315175,
          13431331,
          17249356,
          17453306,
          18144593,
          23633329,
          14970403,
          14958061,
          12672220,
          15375510,
          9718851,
          20655611,
          17031494,
          15657591,
          16596686,
          11695384,
          12491882,
          14734714,
          15549946,
          15126028
         ],
         "yaxis": "y"
        },
        {
         "hovertemplate": "stock=MRK<br>close=%{x}<br>volume=%{y}<extra></extra>",
         "legendgroup": "MRK",
         "marker": {
          "color": "#636efa",
          "symbol": "circle"
         },
         "mode": "markers",
         "name": "MRK",
         "orientation": "v",
         "showlegend": true,
         "type": "scatter",
         "x": [
          37.35,
          34.23,
          33.9,
          33.07,
          32.89,
          33.07,
          32.85,
          32.19,
          33.06,
          32.73,
          31.91,
          32.57,
          33.07,
          33.67,
          34.51,
          34.04,
          35.95,
          36.39,
          37.08,
          37.06,
          36.21,
          35.82,
          35.45,
          35.39,
          34.55
         ],
         "xaxis": "x",
         "y": [
          72760487,
          108158891,
          131132702,
          110066602,
          114880019,
          62039482,
          54419625,
          57467917,
          128028062,
          91319466,
          86394177,
          66135182,
          60348951,
          64799122,
          85533686,
          47226349,
          83960030,
          82810421,
          59693542,
          74833386,
          52416661,
          46564832,
          57259558,
          57933495,
          63163236
         ],
         "yaxis": "y"
        },
        {
         "hovertemplate": "stock=MSFT<br>close=%{x}<br>volume=%{y}<extra></extra>",
         "legendgroup": "MSFT",
         "marker": {
          "color": "#EF553B",
          "symbol": "circle"
         },
         "mode": "markers",
         "name": "MSFT",
         "orientation": "v",
         "showlegend": true,
         "type": "scatter",
         "x": [
          28.6,
          28.3,
          28.02,
          27.75,
          27.77,
          27.25,
          27.06,
          26.55,
          25.95,
          25.68,
          24.8,
          25.62,
          25.48,
          26.07,
          25.37,
          25.52,
          25.92,
          25.87,
          25.03,
          24.49,
          24.76,
          23.9,
          23.7,
          24.26,
          24.3
         ],
         "xaxis": "x",
         "y": [
          328646154,
          227601331,
          220040646,
          457318851,
          274432773,
          317408348,
          228916129,
          238628349,
          298801508,
          271799244,
          379216242,
          217545216,
          258143967,
          260749872,
          229693684,
          158547201,
          554889924,
          346656165,
          382293426,
          311462943,
          213316051,
          246418070,
          230307366,
          280430166,
          309206180
         ],
         "yaxis": "y"
        },
        {
         "hovertemplate": "stock=PFE<br>close=%{x}<br>volume=%{y}<extra></extra>",
         "legendgroup": "PFE",
         "marker": {
          "color": "#00cc96",
          "symbol": "circle"
         },
         "mode": "markers",
         "name": "PFE",
         "orientation": "v",
         "showlegend": true,
         "type": "scatter",
         "x": [
          18.34,
          18.34,
          18.36,
          18.15,
          19.3,
          18.83,
          19.19,
          18.86,
          19.66,
          19.47,
          20.18,
          20.35,
          20.38,
          20.46,
          20.53,
          19.79,
          20.97,
          20.55,
          20.92,
          20.69,
          20.93,
          20.84,
          20.11,
          20.26,
          20.08
         ],
         "xaxis": "x",
         "y": [
          386804789,
          218359623,
          159663706,
          277157388,
          358819619,
          180912039,
          153153528,
          177077740,
          257979737,
          195391037,
          457640533,
          215914627,
          170424399,
          199157969,
          209481824,
          143338656,
          205782608,
          273973053,
          180162306,
          249113161,
          162550095,
          169014117,
          196181321,
          229372501,
          259247639
         ],
         "yaxis": "y"
        },
        {
         "hovertemplate": "stock=PG<br>close=%{x}<br>volume=%{y}<extra></extra>",
         "legendgroup": "PG",
         "marker": {
          "color": "#ab63fa",
          "symbol": "circle"
         },
         "mode": "markers",
         "name": "PG",
         "orientation": "v",
         "showlegend": true,
         "type": "scatter",
         "x": [
          64.5,
          65.53,
          65.91,
          64.2,
          63.61,
          64.73,
          64.3,
          62.84,
          62.03,
          61.49,
          60.6,
          60.88,
          62.08,
          61.9,
          64.18,
          63.27,
          64.9,
          65.27,
          66.86,
          67.36,
          66.2,
          65.43,
          64.7,
          64.69,
          62.59
         ],
         "xaxis": "x",
         "y": [
          52323352,
          41932473,
          46213962,
          70042160,
          57201539,
          51999812,
          36098973,
          47748854,
          59801160,
          52731797,
          66311521,
          41351155,
          43453701,
          38792072,
          51918017,
          29487333,
          53544624,
          55046479,
          49677302,
          47738539,
          37114265,
          37312488,
          48599369,
          46861128,
          53025186
         ],
         "yaxis": "y"
        },
        {
         "hovertemplate": "stock=T<br>close=%{x}<br>volume=%{y}<extra></extra>",
         "legendgroup": "T",
         "marker": {
          "color": "#FFA15A",
          "symbol": "circle"
         },
         "mode": "markers",
         "name": "T",
         "orientation": "v",
         "showlegend": true,
         "type": "scatter",
         "x": [
          28.85,
          28.43,
          28.33,
          27.49,
          27.97,
          28.47,
          28.57,
          28.13,
          27.92,
          28.46,
          27.94,
          28.85,
          30.62,
          30.71,
          30.65,
          30.68,
          31.12,
          31.26,
          31.41,
          31.32,
          31.29,
          30.65,
          30.34,
          30.77,
          30.44
         ],
         "xaxis": "x",
         "y": [
          157834347,
          170616350,
          130584257,
          171464186,
          118469916,
          128889979,
          88244232,
          94960503,
          118740085,
          139153253,
          153806769,
          169105318,
          384284485,
          148206324,
          108080405,
          76563904,
          112339712,
          156030184,
          92523592,
          102539987,
          73854767,
          85085937,
          95255686,
          114504788,
          116043866
         ],
         "yaxis": "y"
        },
        {
         "hovertemplate": "stock=TRV<br>close=%{x}<br>volume=%{y}<extra></extra>",
         "legendgroup": "TRV",
         "marker": {
          "color": "#19d3f3",
          "symbol": "circle"
         },
         "mode": "markers",
         "name": "TRV",
         "orientation": "v",
         "showlegend": true,
         "type": "scatter",
         "x": [
          53.33,
          54.63,
          55,
          55.81,
          57.41,
          58.99,
          60.92,
          59.6,
          59.18,
          58.88,
          58.06,
          58.98,
          59.71,
          59.58,
          59.8,
          61.32,
          63.28,
          63.43,
          62.33,
          62.25,
          61.52,
          61.18,
          59.21,
          57.92,
          56.68
         ],
         "xaxis": "x",
         "y": [
          20010115,
          14820631,
          13631048,
          26595621,
          27494461,
          19539527,
          14107769,
          20849299,
          20284170,
          15980871,
          24832210,
          14126721,
          16608737,
          12307164,
          15459751,
          10135730,
          16046782,
          14335889,
          14388418,
          11795580,
          12344531,
          13535632,
          18091902,
          20647583,
          20959450
         ],
         "yaxis": "y"
        },
        {
         "hovertemplate": "stock=UTX<br>close=%{x}<br>volume=%{y}<extra></extra>",
         "legendgroup": "UTX",
         "marker": {
          "color": "#FF6692",
          "symbol": "circle"
         },
         "mode": "markers",
         "name": "UTX",
         "orientation": "v",
         "showlegend": true,
         "type": "scatter",
         "x": [
          79.08,
          79.08,
          80.2,
          81.43,
          82.52,
          85.2,
          85.01,
          83.37,
          82.86,
          81.28,
          80.16,
          83.52,
          85.32,
          84.81,
          83.45,
          87.1,
          89.58,
          89.21,
          88.98,
          87.5,
          86.33,
          83.24,
          82.7,
          84.57,
          84.33
         ],
         "xaxis": "x",
         "y": [
          15797841,
          12713121,
          16471934,
          23565688,
          15689029,
          16641148,
          11922670,
          15551183,
          19167224,
          22004496,
          26234929,
          19032729,
          16314122,
          11690792,
          17017620,
          16859647,
          20800024,
          21797524,
          17420630,
          22021867,
          15097865,
          21179642,
          20109892,
          22074891,
          20775217
         ],
         "yaxis": "y"
        },
        {
         "hovertemplate": "stock=VZ<br>close=%{x}<br>volume=%{y}<extra></extra>",
         "legendgroup": "VZ",
         "marker": {
          "color": "#B6E880",
          "symbol": "circle"
         },
         "mode": "markers",
         "name": "VZ",
         "orientation": "v",
         "showlegend": true,
         "type": "scatter",
         "x": [
          35.93,
          35.46,
          34.95,
          35.63,
          36.31,
          36.39,
          36.62,
          35.97,
          36.08,
          35.85,
          35.84,
          37.29,
          38.47,
          37.72,
          37.85,
          36.91,
          37.78,
          37.28,
          37.26,
          37.15,
          36.67,
          35.63,
          35.19,
          35.51,
          36
         ],
         "xaxis": "x",
         "y": [
          141938064,
          130610954,
          108296302,
          124127036,
          72890565,
          78429505,
          68915874,
          57673647,
          80086312,
          66137992,
          124202175,
          79604168,
          96766651,
          62429599,
          55355691,
          37735134,
          68330713,
          84281362,
          50917728,
          53263954,
          43400125,
          50174214,
          72100710,
          69585912,
          82375230
         ],
         "yaxis": "y"
        },
        {
         "hovertemplate": "stock=WMT<br>close=%{x}<br>volume=%{y}<extra></extra>",
         "legendgroup": "WMT",
         "marker": {
          "color": "#FF97FF",
          "symbol": "circle"
         },
         "mode": "markers",
         "name": "WMT",
         "orientation": "v",
         "showlegend": true,
         "type": "scatter",
         "x": [
          54.08,
          54.81,
          55.73,
          56.7,
          56.03,
          55.69,
          55.38,
          51.75,
          52.07,
          52.59,
          51.52,
          52.35,
          52.13,
          52.54,
          53.55,
          53.58,
          54.98,
          55.02,
          55.72,
          55.29,
          54.7,
          53.66,
          52.72,
          52.82,
          52.41
         ],
         "xaxis": "x",
         "y": [
          64231179,
          48929455,
          53009787,
          69546259,
          60981950,
          49477410,
          51556658,
          92696912,
          74964203,
          69185186,
          63198175,
          53385178,
          44519431,
          48382262,
          45662991,
          23073491,
          47159044,
          46668727,
          42649301,
          56695842,
          35560853,
          48156051,
          58746396,
          68996550,
          75602550
         ],
         "yaxis": "y"
        },
        {
         "hovertemplate": "stock=XOM<br>close=%{x}<br>volume=%{y}<extra></extra>",
         "legendgroup": "XOM",
         "marker": {
          "color": "#FECB52",
          "symbol": "circle"
         },
         "mode": "markers",
         "name": "XOM",
         "orientation": "v",
         "showlegend": true,
         "type": "scatter",
         "x": [
          75.59,
          77.84,
          78.98,
          78.99,
          83.28,
          82.82,
          84.5,
          85.34,
          85.08,
          82.12,
          80.85,
          83.62,
          84.68,
          85.95,
          84.29,
          86.36,
          87.98,
          82.69,
          80.87,
          81.57,
          82.63,
          81.18,
          79.78,
          79.02,
          76.78
         ],
         "xaxis": "x",
         "y": [
          101740933,
          74376886,
          99941187,
          115376817,
          129743696,
          85733429,
          93325562,
          122018405,
          102134160,
          92727886,
          123914255,
          83364516,
          77569311,
          75566590,
          81056144,
          43378708,
          81596868,
          113805856,
          99678100,
          86758820,
          68230855,
          78616295,
          92380844,
          100521400,
          118679791
         ],
         "yaxis": "y"
        }
       ],
       "layout": {
        "legend": {
         "title": {
          "text": "stock"
         },
         "tracegroupgap": 0
        },
        "template": {
         "data": {
          "bar": [
           {
            "error_x": {
             "color": "#2a3f5f"
            },
            "error_y": {
             "color": "#2a3f5f"
            },
            "marker": {
             "line": {
              "color": "#E5ECF6",
              "width": 0.5
             },
             "pattern": {
              "fillmode": "overlay",
              "size": 10,
              "solidity": 0.2
             }
            },
            "type": "bar"
           }
          ],
          "barpolar": [
           {
            "marker": {
             "line": {
              "color": "#E5ECF6",
              "width": 0.5
             },
             "pattern": {
              "fillmode": "overlay",
              "size": 10,
              "solidity": 0.2
             }
            },
            "type": "barpolar"
           }
          ],
          "carpet": [
           {
            "aaxis": {
             "endlinecolor": "#2a3f5f",
             "gridcolor": "white",
             "linecolor": "white",
             "minorgridcolor": "white",
             "startlinecolor": "#2a3f5f"
            },
            "baxis": {
             "endlinecolor": "#2a3f5f",
             "gridcolor": "white",
             "linecolor": "white",
             "minorgridcolor": "white",
             "startlinecolor": "#2a3f5f"
            },
            "type": "carpet"
           }
          ],
          "choropleth": [
           {
            "colorbar": {
             "outlinewidth": 0,
             "ticks": ""
            },
            "type": "choropleth"
           }
          ],
          "contour": [
           {
            "colorbar": {
             "outlinewidth": 0,
             "ticks": ""
            },
            "colorscale": [
             [
              0,
              "#0d0887"
             ],
             [
              0.1111111111111111,
              "#46039f"
             ],
             [
              0.2222222222222222,
              "#7201a8"
             ],
             [
              0.3333333333333333,
              "#9c179e"
             ],
             [
              0.4444444444444444,
              "#bd3786"
             ],
             [
              0.5555555555555556,
              "#d8576b"
             ],
             [
              0.6666666666666666,
              "#ed7953"
             ],
             [
              0.7777777777777778,
              "#fb9f3a"
             ],
             [
              0.8888888888888888,
              "#fdca26"
             ],
             [
              1,
              "#f0f921"
             ]
            ],
            "type": "contour"
           }
          ],
          "contourcarpet": [
           {
            "colorbar": {
             "outlinewidth": 0,
             "ticks": ""
            },
            "type": "contourcarpet"
           }
          ],
          "heatmap": [
           {
            "colorbar": {
             "outlinewidth": 0,
             "ticks": ""
            },
            "colorscale": [
             [
              0,
              "#0d0887"
             ],
             [
              0.1111111111111111,
              "#46039f"
             ],
             [
              0.2222222222222222,
              "#7201a8"
             ],
             [
              0.3333333333333333,
              "#9c179e"
             ],
             [
              0.4444444444444444,
              "#bd3786"
             ],
             [
              0.5555555555555556,
              "#d8576b"
             ],
             [
              0.6666666666666666,
              "#ed7953"
             ],
             [
              0.7777777777777778,
              "#fb9f3a"
             ],
             [
              0.8888888888888888,
              "#fdca26"
             ],
             [
              1,
              "#f0f921"
             ]
            ],
            "type": "heatmap"
           }
          ],
          "heatmapgl": [
           {
            "colorbar": {
             "outlinewidth": 0,
             "ticks": ""
            },
            "colorscale": [
             [
              0,
              "#0d0887"
             ],
             [
              0.1111111111111111,
              "#46039f"
             ],
             [
              0.2222222222222222,
              "#7201a8"
             ],
             [
              0.3333333333333333,
              "#9c179e"
             ],
             [
              0.4444444444444444,
              "#bd3786"
             ],
             [
              0.5555555555555556,
              "#d8576b"
             ],
             [
              0.6666666666666666,
              "#ed7953"
             ],
             [
              0.7777777777777778,
              "#fb9f3a"
             ],
             [
              0.8888888888888888,
              "#fdca26"
             ],
             [
              1,
              "#f0f921"
             ]
            ],
            "type": "heatmapgl"
           }
          ],
          "histogram": [
           {
            "marker": {
             "pattern": {
              "fillmode": "overlay",
              "size": 10,
              "solidity": 0.2
             }
            },
            "type": "histogram"
           }
          ],
          "histogram2d": [
           {
            "colorbar": {
             "outlinewidth": 0,
             "ticks": ""
            },
            "colorscale": [
             [
              0,
              "#0d0887"
             ],
             [
              0.1111111111111111,
              "#46039f"
             ],
             [
              0.2222222222222222,
              "#7201a8"
             ],
             [
              0.3333333333333333,
              "#9c179e"
             ],
             [
              0.4444444444444444,
              "#bd3786"
             ],
             [
              0.5555555555555556,
              "#d8576b"
             ],
             [
              0.6666666666666666,
              "#ed7953"
             ],
             [
              0.7777777777777778,
              "#fb9f3a"
             ],
             [
              0.8888888888888888,
              "#fdca26"
             ],
             [
              1,
              "#f0f921"
             ]
            ],
            "type": "histogram2d"
           }
          ],
          "histogram2dcontour": [
           {
            "colorbar": {
             "outlinewidth": 0,
             "ticks": ""
            },
            "colorscale": [
             [
              0,
              "#0d0887"
             ],
             [
              0.1111111111111111,
              "#46039f"
             ],
             [
              0.2222222222222222,
              "#7201a8"
             ],
             [
              0.3333333333333333,
              "#9c179e"
             ],
             [
              0.4444444444444444,
              "#bd3786"
             ],
             [
              0.5555555555555556,
              "#d8576b"
             ],
             [
              0.6666666666666666,
              "#ed7953"
             ],
             [
              0.7777777777777778,
              "#fb9f3a"
             ],
             [
              0.8888888888888888,
              "#fdca26"
             ],
             [
              1,
              "#f0f921"
             ]
            ],
            "type": "histogram2dcontour"
           }
          ],
          "mesh3d": [
           {
            "colorbar": {
             "outlinewidth": 0,
             "ticks": ""
            },
            "type": "mesh3d"
           }
          ],
          "parcoords": [
           {
            "line": {
             "colorbar": {
              "outlinewidth": 0,
              "ticks": ""
             }
            },
            "type": "parcoords"
           }
          ],
          "pie": [
           {
            "automargin": true,
            "type": "pie"
           }
          ],
          "scatter": [
           {
            "fillpattern": {
             "fillmode": "overlay",
             "size": 10,
             "solidity": 0.2
            },
            "type": "scatter"
           }
          ],
          "scatter3d": [
           {
            "line": {
             "colorbar": {
              "outlinewidth": 0,
              "ticks": ""
             }
            },
            "marker": {
             "colorbar": {
              "outlinewidth": 0,
              "ticks": ""
             }
            },
            "type": "scatter3d"
           }
          ],
          "scattercarpet": [
           {
            "marker": {
             "colorbar": {
              "outlinewidth": 0,
              "ticks": ""
             }
            },
            "type": "scattercarpet"
           }
          ],
          "scattergeo": [
           {
            "marker": {
             "colorbar": {
              "outlinewidth": 0,
              "ticks": ""
             }
            },
            "type": "scattergeo"
           }
          ],
          "scattergl": [
           {
            "marker": {
             "colorbar": {
              "outlinewidth": 0,
              "ticks": ""
             }
            },
            "type": "scattergl"
           }
          ],
          "scattermapbox": [
           {
            "marker": {
             "colorbar": {
              "outlinewidth": 0,
              "ticks": ""
             }
            },
            "type": "scattermapbox"
           }
          ],
          "scatterpolar": [
           {
            "marker": {
             "colorbar": {
              "outlinewidth": 0,
              "ticks": ""
             }
            },
            "type": "scatterpolar"
           }
          ],
          "scatterpolargl": [
           {
            "marker": {
             "colorbar": {
              "outlinewidth": 0,
              "ticks": ""
             }
            },
            "type": "scatterpolargl"
           }
          ],
          "scatterternary": [
           {
            "marker": {
             "colorbar": {
              "outlinewidth": 0,
              "ticks": ""
             }
            },
            "type": "scatterternary"
           }
          ],
          "surface": [
           {
            "colorbar": {
             "outlinewidth": 0,
             "ticks": ""
            },
            "colorscale": [
             [
              0,
              "#0d0887"
             ],
             [
              0.1111111111111111,
              "#46039f"
             ],
             [
              0.2222222222222222,
              "#7201a8"
             ],
             [
              0.3333333333333333,
              "#9c179e"
             ],
             [
              0.4444444444444444,
              "#bd3786"
             ],
             [
              0.5555555555555556,
              "#d8576b"
             ],
             [
              0.6666666666666666,
              "#ed7953"
             ],
             [
              0.7777777777777778,
              "#fb9f3a"
             ],
             [
              0.8888888888888888,
              "#fdca26"
             ],
             [
              1,
              "#f0f921"
             ]
            ],
            "type": "surface"
           }
          ],
          "table": [
           {
            "cells": {
             "fill": {
              "color": "#EBF0F8"
             },
             "line": {
              "color": "white"
             }
            },
            "header": {
             "fill": {
              "color": "#C8D4E3"
             },
             "line": {
              "color": "white"
             }
            },
            "type": "table"
           }
          ]
         },
         "layout": {
          "annotationdefaults": {
           "arrowcolor": "#2a3f5f",
           "arrowhead": 0,
           "arrowwidth": 1
          },
          "autotypenumbers": "strict",
          "coloraxis": {
           "colorbar": {
            "outlinewidth": 0,
            "ticks": ""
           }
          },
          "colorscale": {
           "diverging": [
            [
             0,
             "#8e0152"
            ],
            [
             0.1,
             "#c51b7d"
            ],
            [
             0.2,
             "#de77ae"
            ],
            [
             0.3,
             "#f1b6da"
            ],
            [
             0.4,
             "#fde0ef"
            ],
            [
             0.5,
             "#f7f7f7"
            ],
            [
             0.6,
             "#e6f5d0"
            ],
            [
             0.7,
             "#b8e186"
            ],
            [
             0.8,
             "#7fbc41"
            ],
            [
             0.9,
             "#4d9221"
            ],
            [
             1,
             "#276419"
            ]
           ],
           "sequential": [
            [
             0,
             "#0d0887"
            ],
            [
             0.1111111111111111,
             "#46039f"
            ],
            [
             0.2222222222222222,
             "#7201a8"
            ],
            [
             0.3333333333333333,
             "#9c179e"
            ],
            [
             0.4444444444444444,
             "#bd3786"
            ],
            [
             0.5555555555555556,
             "#d8576b"
            ],
            [
             0.6666666666666666,
             "#ed7953"
            ],
            [
             0.7777777777777778,
             "#fb9f3a"
            ],
            [
             0.8888888888888888,
             "#fdca26"
            ],
            [
             1,
             "#f0f921"
            ]
           ],
           "sequentialminus": [
            [
             0,
             "#0d0887"
            ],
            [
             0.1111111111111111,
             "#46039f"
            ],
            [
             0.2222222222222222,
             "#7201a8"
            ],
            [
             0.3333333333333333,
             "#9c179e"
            ],
            [
             0.4444444444444444,
             "#bd3786"
            ],
            [
             0.5555555555555556,
             "#d8576b"
            ],
            [
             0.6666666666666666,
             "#ed7953"
            ],
            [
             0.7777777777777778,
             "#fb9f3a"
            ],
            [
             0.8888888888888888,
             "#fdca26"
            ],
            [
             1,
             "#f0f921"
            ]
           ]
          },
          "colorway": [
           "#636efa",
           "#EF553B",
           "#00cc96",
           "#ab63fa",
           "#FFA15A",
           "#19d3f3",
           "#FF6692",
           "#B6E880",
           "#FF97FF",
           "#FECB52"
          ],
          "font": {
           "color": "#2a3f5f"
          },
          "geo": {
           "bgcolor": "white",
           "lakecolor": "white",
           "landcolor": "#E5ECF6",
           "showlakes": true,
           "showland": true,
           "subunitcolor": "white"
          },
          "hoverlabel": {
           "align": "left"
          },
          "hovermode": "closest",
          "mapbox": {
           "style": "light"
          },
          "paper_bgcolor": "white",
          "plot_bgcolor": "#E5ECF6",
          "polar": {
           "angularaxis": {
            "gridcolor": "white",
            "linecolor": "white",
            "ticks": ""
           },
           "bgcolor": "#E5ECF6",
           "radialaxis": {
            "gridcolor": "white",
            "linecolor": "white",
            "ticks": ""
           }
          },
          "scene": {
           "xaxis": {
            "backgroundcolor": "#E5ECF6",
            "gridcolor": "white",
            "gridwidth": 2,
            "linecolor": "white",
            "showbackground": true,
            "ticks": "",
            "zerolinecolor": "white"
           },
           "yaxis": {
            "backgroundcolor": "#E5ECF6",
            "gridcolor": "white",
            "gridwidth": 2,
            "linecolor": "white",
            "showbackground": true,
            "ticks": "",
            "zerolinecolor": "white"
           },
           "zaxis": {
            "backgroundcolor": "#E5ECF6",
            "gridcolor": "white",
            "gridwidth": 2,
            "linecolor": "white",
            "showbackground": true,
            "ticks": "",
            "zerolinecolor": "white"
           }
          },
          "shapedefaults": {
           "line": {
            "color": "#2a3f5f"
           }
          },
          "ternary": {
           "aaxis": {
            "gridcolor": "white",
            "linecolor": "white",
            "ticks": ""
           },
           "baxis": {
            "gridcolor": "white",
            "linecolor": "white",
            "ticks": ""
           },
           "bgcolor": "#E5ECF6",
           "caxis": {
            "gridcolor": "white",
            "linecolor": "white",
            "ticks": ""
           }
          },
          "title": {
           "x": 0.05
          },
          "xaxis": {
           "automargin": true,
           "gridcolor": "white",
           "linecolor": "white",
           "ticks": "",
           "title": {
            "standoff": 15
           },
           "zerolinecolor": "white",
           "zerolinewidth": 2
          },
          "yaxis": {
           "automargin": true,
           "gridcolor": "white",
           "linecolor": "white",
           "ticks": "",
           "title": {
            "standoff": 15
           },
           "zerolinecolor": "white",
           "zerolinewidth": 2
          }
         }
        },
        "title": {
         "text": "Closing Price vs. Volume"
        },
        "xaxis": {
         "anchor": "y",
         "domain": [
          0,
          1
         ],
         "title": {
          "text": "close"
         }
        },
        "yaxis": {
         "anchor": "x",
         "domain": [
          0,
          1
         ],
         "title": {
          "text": "volume"
         }
        }
       }
      },
      "text/html": [
       "<div>                            <div id=\"ee14c25e-4b82-4ae7-8d71-a77ad828d16d\" class=\"plotly-graph-div\" style=\"height:525px; width:100%;\"></div>            <script type=\"text/javascript\">                require([\"plotly\"], function(Plotly) {                    window.PLOTLYENV=window.PLOTLYENV || {};                                    if (document.getElementById(\"ee14c25e-4b82-4ae7-8d71-a77ad828d16d\")) {                    Plotly.newPlot(                        \"ee14c25e-4b82-4ae7-8d71-a77ad828d16d\",                        [{\"hovertemplate\":\"stock=AA<br>close=%{x}<br>volume=%{y}<extra></extra>\",\"legendgroup\":\"AA\",\"marker\":{\"color\":\"#636efa\",\"symbol\":\"circle\"},\"mode\":\"markers\",\"name\":\"AA\",\"orientation\":\"v\",\"showlegend\":true,\"x\":[16.42,15.97,15.79,16.13,17.14,17.37,17.28,16.68,16.58,16.03,16.11,17.09,17.47,17.92,16.52,16.97,17.0,17.15,17.1,16.26,16.48,15.92,15.28,14.72,15.23],\"xaxis\":\"x\",\"y\":[239655616,242963398,138428495,151379173,154387761,114691279,80023895,132981863,109493077,114332562,130374108,95550392,103320396,129237024,213061090,85235391,90831895,225053559,111630753,118281015,77236662,77152591,94970970,111273573,99423717],\"yaxis\":\"y\",\"type\":\"scatter\"},{\"hovertemplate\":\"stock=AXP<br>close=%{x}<br>volume=%{y}<extra></extra>\",\"legendgroup\":\"AXP\",\"marker\":{\"color\":\"#EF553B\",\"symbol\":\"circle\"},\"mode\":\"markers\",\"name\":\"AXP\",\"orientation\":\"v\",\"showlegend\":true,\"x\":[44.36,46.25,46.0,43.86,43.82,46.75,45.53,43.53,43.72,44.28,44.17,45.59,45.36,46.28,46.25,47.11,49.08,50.2,49.49,51.19,51.13,49.28,47.74,48.5,48.34],\"xaxis\":\"x\",\"y\":[45102042,25913713,38824728,51427274,39501680,43746998,28564910,39654146,38985037,37613429,41757526,30798332,28738689,31114741,29090940,22929313,32470319,43997724,35427164,36565612,26359875,25215640,33828918,37705374,34877916],\"yaxis\":\"y\",\"type\":\"scatter\"},{\"hovertemplate\":\"stock=BA<br>close=%{x}<br>volume=%{y}<extra></extra>\",\"legendgroup\":\"BA\",\"marker\":{\"color\":\"#00cc96\",\"symbol\":\"circle\"},\"mode\":\"markers\",\"name\":\"BA\",\"orientation\":\"v\",\"showlegend\":true,\"x\":[69.38,70.07,71.68,69.23,71.38,72.14,73.04,72.3,71.8,71.64,69.1,73.34,74.01,73.47,72.6,75.44,79.78,79.31,79.03,77.52,76.99,74.84,72.69,74.16,71.26],\"xaxis\":\"x\",\"y\":[36258120,18834664,29594221,34929673,22770062,21809411,15989248,26258425,27527285,25556296,29746370,24423545,20590618,21220138,19492289,16947409,30503034,25394946,18368201,19990094,15886795,17813730,18574466,25381159,30675314],\"yaxis\":\"y\",\"type\":\"scatter\"},{\"hovertemplate\":\"stock=BAC<br>close=%{x}<br>volume=%{y}<extra></extra>\",\"legendgroup\":\"BAC\",\"marker\":{\"color\":\"#ab63fa\",\"symbol\":\"circle\"},\"mode\":\"markers\",\"name\":\"BAC\",\"orientation\":\"v\",\"showlegend\":true,\"x\":[14.25,15.25,14.25,13.6,14.29,14.77,14.75,14.2,14.12,14.38,14.04,13.34,13.37,13.48,12.82,12.31,12.28,12.31,11.93,11.58,11.69,11.28,10.8,10.68,10.52],\"xaxis\":\"x\",\"y\":[1453438639,760935694,982445809,1054415375,757192224,746465458,458423511,712456757,699671790,805210688,792380862,717678994,499672763,480033181,670594575,624897506,557530217,577232010,623724296,658968285,479389107,596420503,873241317,889460755,603098073],\"yaxis\":\"y\",\"type\":\"scatter\"},{\"hovertemplate\":\"stock=CAT<br>close=%{x}<br>volume=%{y}<extra></extra>\",\"legendgroup\":\"CAT\",\"marker\":{\"color\":\"#FFA15A\",\"symbol\":\"circle\"},\"mode\":\"markers\",\"name\":\"CAT\",\"orientation\":\"v\",\"showlegend\":true,\"x\":[93.73,94.01,92.75,95.68,99.59,103.54,105.86,102.0,103.04,100.02,105.06,109.09,113.12,109.82,107.21,109.42,115.41,110.34,106.33,104.33,104.6,101.1,96.79,95.95,100.01],\"xaxis\":\"x\",\"y\":[24135903,19707235,28651009,34929068,31169285,27632394,16331886,28146727,29851515,38614049,54195667,37837456,28116391,28772937,30697889,23938892,34522949,39678464,38211403,54274252,30213720,35887587,40431926,43606429,43722864],\"yaxis\":\"y\",\"type\":\"scatter\"},{\"hovertemplate\":\"stock=CSCO<br>close=%{x}<br>volume=%{y}<extra></extra>\",\"legendgroup\":\"CSCO\",\"marker\":{\"color\":\"#19d3f3\",\"symbol\":\"circle\"},\"mode\":\"markers\",\"name\":\"CSCO\",\"orientation\":\"v\",\"showlegend\":true,\"x\":[20.97,21.21,20.72,20.93,22.05,18.7,18.85,18.64,18.4,17.95,17.14,17.28,17.04,17.65,17.03,16.94,17.52,17.56,16.88,16.53,16.46,16.01,15.12,14.97,14.93],\"xaxis\":\"x\",\"y\":[303545878,154708263,193706863,265687272,236334561,1000362015,390258123,285212201,302059981,311209442,444161658,284574143,308644641,539982011,324203125,249420898,412492845,290282402,563552552,371711669,235050333,256069538,412198054,401380782,429730443],\"yaxis\":\"y\",\"type\":\"scatter\"},{\"hovertemplate\":\"stock=CVX<br>close=%{x}<br>volume=%{y}<extra></extra>\",\"legendgroup\":\"CVX\",\"marker\":{\"color\":\"#FF6692\",\"symbol\":\"circle\"},\"mode\":\"markers\",\"name\":\"CVX\",\"orientation\":\"v\",\"showlegend\":true,\"x\":[91.19,92.83,93.78,93.37,97.11,96.45,98.72,102.1,103.75,99.93,102.8,106.78,108.32,109.66,106.24,108.13,109.44,102.88,102.39,102.57,103.21,101.0,99.67,99.17,97.9],\"xaxis\":\"x\",\"y\":[35556288,28260512,27752622,42303108,48766293,38838595,28037827,57897831,48214502,43673568,56186791,39606692,35824123,31958307,42617245,18873837,28004621,44930373,43103424,39951901,28858240,32206213,35612426,44845243,42615162],\"yaxis\":\"y\",\"type\":\"scatter\"},{\"hovertemplate\":\"stock=DD<br>close=%{x}<br>volume=%{y}<extra></extra>\",\"legendgroup\":\"DD\",\"marker\":{\"color\":\"#B6E880\",\"symbol\":\"circle\"},\"mode\":\"markers\",\"name\":\"DD\",\"orientation\":\"v\",\"showlegend\":true,\"x\":[49.76,49.8,48.35,50.29,52.53,54.58,55.98,54.07,53.87,52.9,52.99,54.1,55.19,55.4,54.89,55.91,56.79,54.63,52.91,52.74,52.56,50.29,49.78,49.57,51.96],\"xaxis\":\"x\",\"y\":[27658789,34546875,25611091,45429653,31069977,37155830,27705910,33190716,32958368,27091813,39779608,24464568,23341552,19685778,24059673,15537427,27349183,27498887,27207924,27511651,24845668,25203572,28186429,36027620,34797906],\"yaxis\":\"y\",\"type\":\"scatter\"},{\"hovertemplate\":\"stock=DIS<br>close=%{x}<br>volume=%{y}<extra></extra>\",\"legendgroup\":\"DIS\",\"marker\":{\"color\":\"#FF97FF\",\"symbol\":\"circle\"},\"mode\":\"markers\",\"name\":\"DIS\",\"orientation\":\"v\",\"showlegend\":true,\"x\":[39.45,39.29,39.74,38.85,40.71,43.41,43.56,42.95,43.55,42.93,41.23,42.97,42.85,41.76,41.52,42.27,43.1,43.06,41.52,41.5,41.52,39.38,38.5,38.04,37.58],\"xaxis\":\"x\",\"y\":[72917621,31943413,36187032,42131642,53521486,83975520,33868302,56966763,53096584,41229388,65060004,40696371,34130223,39055258,40820710,24312043,30122091,35369886,78855110,50988843,34651349,52169227,49099516,54513950,50409504],\"yaxis\":\"y\",\"type\":\"scatter\"},{\"hovertemplate\":\"stock=GE<br>close=%{x}<br>volume=%{y}<extra></extra>\",\"legendgroup\":\"GE\",\"marker\":{\"color\":\"#FECB52\",\"symbol\":\"circle\"},\"mode\":\"markers\",\"name\":\"GE\",\"orientation\":\"v\",\"showlegend\":true,\"x\":[18.43,18.82,19.74,20.2,20.56,21.33,21.44,20.82,20.37,20.36,19.25,19.75,20.34,20.19,20.04,19.95,20.45,20.01,19.89,19.62,19.44,18.82,18.32,18.49,17.97],\"xaxis\":\"x\",\"y\":[280146510,215626229,449508777,437317986,246591055,252254376,158691572,268500170,261175412,303566341,520516218,227819072,207897262,238618636,212315926,182835072,280299000,235180053,195448891,228297982,169411364,207576381,260898990,261979707,295978977],\"yaxis\":\"y\",\"type\":\"scatter\"},{\"hovertemplate\":\"stock=HD<br>close=%{x}<br>volume=%{y}<extra></extra>\",\"legendgroup\":\"HD\",\"marker\":{\"color\":\"#636efa\",\"symbol\":\"circle\"},\"mode\":\"markers\",\"name\":\"HD\",\"orientation\":\"v\",\"showlegend\":true,\"x\":[34.38,35.89,36.51,36.7,36.8,37.48,38.48,37.08,37.22,37.14,36.0,37.42,37.56,37.46,38.17,37.8,37.15,36.99,37.01,37.05,36.0,34.63,33.47,34.53,35.08],\"xaxis\":\"x\",\"y\":[56576860,41918450,45249920,63397367,41844858,36079400,30619613,54816070,49763519,49156185,52758908,40337534,52881329,47021433,42983064,24190528,61019095,52439439,41391929,53378802,40673778,39307513,45606663,76297124,65416820],\"yaxis\":\"y\",\"type\":\"scatter\"},{\"hovertemplate\":\"stock=HPQ<br>close=%{x}<br>volume=%{y}<extra></extra>\",\"legendgroup\":\"HPQ\",\"marker\":{\"color\":\"#EF553B\",\"symbol\":\"circle\"},\"mode\":\"markers\",\"name\":\"HPQ\",\"orientation\":\"v\",\"showlegend\":true,\"x\":[45.09,46.25,47.23,45.51,47.43,48.64,48.67,42.68,42.61,41.73,41.32,42.53,40.98,40.7,40.26,40.99,40.37,40.81,40.41,35.98,36.96,36.11,35.25,35.0,34.9],\"xaxis\":\"x\",\"y\":[100020724,65464211,82623453,84066350,74475624,84089936,49401750,211147488,110702335,85140794,121051768,78089358,90069975,87672936,70321527,46244533,82362537,70249698,63498759,217523955,106507716,79313559,74301015,134346312,102774442],\"yaxis\":\"y\",\"type\":\"scatter\"},{\"hovertemplate\":\"stock=IBM<br>close=%{x}<br>volume=%{y}<extra></extra>\",\"legendgroup\":\"IBM\",\"marker\":{\"color\":\"#00cc96\",\"symbol\":\"circle\"},\"mode\":\"markers\",\"name\":\"IBM\",\"orientation\":\"v\",\"showlegend\":true,\"x\":[147.93,150.0,155.5,159.21,164.0,163.85,164.84,162.28,161.83,162.43,155.89,162.18,164.27,164.05,166.21,168.28,170.58,168.89,169.92,170.16,167.5,165.05,163.18,164.44,165.07],\"xaxis\":\"x\",\"y\":[23492843,15335348,35770931,32510483,25377163,26106753,14352613,21443811,21549118,31119857,41827781,25381792,19081936,17615408,22183383,23662621,26829625,29480567,23505533,26027660,19453763,23349972,20646079,29390025,22984546],\"yaxis\":\"y\",\"type\":\"scatter\"},{\"hovertemplate\":\"stock=INTC<br>close=%{x}<br>volume=%{y}<extra></extra>\",\"legendgroup\":\"INTC\",\"marker\":{\"color\":\"#ab63fa\",\"symbol\":\"circle\"},\"mode\":\"markers\",\"name\":\"INTC\",\"orientation\":\"v\",\"showlegend\":true,\"x\":[20.66,21.08,20.82,21.46,21.68,21.76,22.14,21.86,21.56,20.87,19.93,20.37,19.72,20.02,19.75,21.46,23.15,23.25,23.41,23.22,22.21,21.73,21.38,21.19,21.2],\"xaxis\":\"x\",\"y\":[386719626,274111012,218479469,325168191,277969054,236842359,201181541,256135777,291751623,289874871,347426088,229150771,321390635,286343950,231298341,302470339,466579710,513891027,344755154,387571150,210446967,222978209,249719951,294273143,309031457],\"yaxis\":\"y\",\"type\":\"scatter\"},{\"hovertemplate\":\"stock=JNJ<br>close=%{x}<br>volume=%{y}<extra></extra>\",\"legendgroup\":\"JNJ\",\"marker\":{\"color\":\"#FFA15A\",\"symbol\":\"circle\"},\"mode\":\"markers\",\"name\":\"JNJ\",\"orientation\":\"v\",\"showlegend\":true,\"x\":[62.6,62.55,62.66,60.01,60.84,60.7,61.11,59.64,61.06,59.69,58.57,58.98,59.49,59.46,60.56,64.07,65.72,65.27,66.62,65.69,66.77,66.09,66.09,66.29,65.06],\"xaxis\":\"x\",\"y\":[57774737,34950419,47999880,86229071,63641929,42897125,33273371,46786798,63576642,53844149,71716802,47498000,48029143,47141409,58631682,72888066,70745990,68840083,66040498,53385097,49866786,47426009,52231924,58201928,56535090],\"yaxis\":\"y\",\"type\":\"scatter\"},{\"hovertemplate\":\"stock=JPM<br>close=%{x}<br>volume=%{y}<extra></extra>\",\"legendgroup\":\"JPM\",\"marker\":{\"color\":\"#19d3f3\",\"symbol\":\"circle\"},\"mode\":\"markers\",\"name\":\"JPM\",\"orientation\":\"v\",\"showlegend\":true,\"x\":[43.64,44.91,45.29,44.54,44.59,46.57,48.0,46.68,45.52,45.74,45.74,45.86,46.35,46.84,44.89,44.68,45.63,45.04,43.15,43.13,42.79,41.57,41.05,40.8,39.49],\"xaxis\":\"x\",\"y\":[234547885,144662779,182971761,154832501,137430065,162434145,131941706,139540125,139051830,140414285,226413618,117959443,112702290,121937602,186017520,113261188,107332185,131213937,137013704,145114846,119828886,145187926,194764785,183560880,167589521],\"yaxis\":\"y\",\"type\":\"scatter\"},{\"hovertemplate\":\"stock=KRFT<br>close=%{x}<br>volume=%{y}<extra></extra>\",\"legendgroup\":\"KRFT\",\"marker\":{\"color\":\"#FF6692\",\"symbol\":\"circle\"},\"mode\":\"markers\",\"name\":\"KRFT\",\"orientation\":\"v\",\"showlegend\":true,\"x\":[31.19,31.34,31.35,30.53,31.19,30.66,30.91,31.71,31.58,31.7,30.99,31.26,31.61,31.67,33.36,33.38,33.59,34.08,34.89,35.23,34.75,34.1,33.79,34.48,34.6],\"xaxis\":\"x\",\"y\":[44971770,24955086,41200255,55657855,34764359,65912258,38172345,50462721,55211152,41766976,51736270,41958399,38759730,34314135,71530535,33399240,42547809,58969733,47572999,48017488,31660711,38915498,43535139,44641104,39770714],\"yaxis\":\"y\",\"type\":\"scatter\"},{\"hovertemplate\":\"stock=KO<br>close=%{x}<br>volume=%{y}<extra></extra>\",\"legendgroup\":\"KO\",\"marker\":{\"color\":\"#B6E880\",\"symbol\":\"circle\"},\"mode\":\"markers\",\"name\":\"KO\",\"orientation\":\"v\",\"showlegend\":true,\"x\":[62.92,63.13,62.77,62.21,62.56,63.57,64.55,64.31,65.21,64.81,62.7,65.22,67.22,67.27,68.01,67.88,67.46,66.9,68.18,68.3,66.51,65.53,65.39,65.62,64.93],\"xaxis\":\"x\",\"y\":[59802189,31297830,36000586,42141599,34863226,46269528,29937386,32331825,61665987,44560041,59542953,29853434,39265955,32024467,40595470,19831270,44603365,33947562,32166394,32520067,26066805,31192400,30422351,43194922,49806614],\"yaxis\":\"y\",\"type\":\"scatter\"},{\"hovertemplate\":\"stock=MCD<br>close=%{x}<br>volume=%{y}<extra></extra>\",\"legendgroup\":\"MCD\",\"marker\":{\"color\":\"#FF97FF\",\"symbol\":\"circle\"},\"mode\":\"markers\",\"name\":\"MCD\",\"orientation\":\"v\",\"showlegend\":true,\"x\":[74.37,74.06,75.01,73.28,74.05,76.14,76.13,74.44,76.03,76.73,72.99,75.25,75.99,76.04,77.38,76.91,78.31,78.7,80.74,82.33,81.62,80.54,80.36,82.52,81.84],\"xaxis\":\"x\",\"y\":[85400677,44895850,40056497,46734907,41519549,39363816,16734140,27881213,41047787,34855064,40853280,23877441,17977737,22337802,21670715,17718174,22923015,26460318,26573357,27816875,26628471,23382621,31264251,27515629,28303321],\"yaxis\":\"y\",\"type\":\"scatter\"},{\"hovertemplate\":\"stock=MMM<br>close=%{x}<br>volume=%{y}<extra></extra>\",\"legendgroup\":\"MMM\",\"marker\":{\"color\":\"#FECB52\",\"symbol\":\"circle\"},\"mode\":\"markers\",\"name\":\"MMM\",\"orientation\":\"v\",\"showlegend\":true,\"x\":[86.23,88.1,89.29,87.44,88.29,91.8,92.96,90.25,92.19,91.61,88.98,92.27,93.13,93.22,92.82,93.92,97.21,95.6,96.01,93.56,93.47,90.7,90.73,91.78,90.89],\"xaxis\":\"x\",\"y\":[16166921,11585909,10705548,26110543,14960948,16315175,13431331,17249356,17453306,18144593,23633329,14970403,14958061,12672220,15375510,9718851,20655611,17031494,15657591,16596686,11695384,12491882,14734714,15549946,15126028],\"yaxis\":\"y\",\"type\":\"scatter\"},{\"hovertemplate\":\"stock=MRK<br>close=%{x}<br>volume=%{y}<extra></extra>\",\"legendgroup\":\"MRK\",\"marker\":{\"color\":\"#636efa\",\"symbol\":\"circle\"},\"mode\":\"markers\",\"name\":\"MRK\",\"orientation\":\"v\",\"showlegend\":true,\"x\":[37.35,34.23,33.9,33.07,32.89,33.07,32.85,32.19,33.06,32.73,31.91,32.57,33.07,33.67,34.51,34.04,35.95,36.39,37.08,37.06,36.21,35.82,35.45,35.39,34.55],\"xaxis\":\"x\",\"y\":[72760487,108158891,131132702,110066602,114880019,62039482,54419625,57467917,128028062,91319466,86394177,66135182,60348951,64799122,85533686,47226349,83960030,82810421,59693542,74833386,52416661,46564832,57259558,57933495,63163236],\"yaxis\":\"y\",\"type\":\"scatter\"},{\"hovertemplate\":\"stock=MSFT<br>close=%{x}<br>volume=%{y}<extra></extra>\",\"legendgroup\":\"MSFT\",\"marker\":{\"color\":\"#EF553B\",\"symbol\":\"circle\"},\"mode\":\"markers\",\"name\":\"MSFT\",\"orientation\":\"v\",\"showlegend\":true,\"x\":[28.6,28.3,28.02,27.75,27.77,27.25,27.06,26.55,25.95,25.68,24.8,25.62,25.48,26.07,25.37,25.52,25.92,25.87,25.03,24.49,24.76,23.9,23.7,24.26,24.3],\"xaxis\":\"x\",\"y\":[328646154,227601331,220040646,457318851,274432773,317408348,228916129,238628349,298801508,271799244,379216242,217545216,258143967,260749872,229693684,158547201,554889924,346656165,382293426,311462943,213316051,246418070,230307366,280430166,309206180],\"yaxis\":\"y\",\"type\":\"scatter\"},{\"hovertemplate\":\"stock=PFE<br>close=%{x}<br>volume=%{y}<extra></extra>\",\"legendgroup\":\"PFE\",\"marker\":{\"color\":\"#00cc96\",\"symbol\":\"circle\"},\"mode\":\"markers\",\"name\":\"PFE\",\"orientation\":\"v\",\"showlegend\":true,\"x\":[18.34,18.34,18.36,18.15,19.3,18.83,19.19,18.86,19.66,19.47,20.18,20.35,20.38,20.46,20.53,19.79,20.97,20.55,20.92,20.69,20.93,20.84,20.11,20.26,20.08],\"xaxis\":\"x\",\"y\":[386804789,218359623,159663706,277157388,358819619,180912039,153153528,177077740,257979737,195391037,457640533,215914627,170424399,199157969,209481824,143338656,205782608,273973053,180162306,249113161,162550095,169014117,196181321,229372501,259247639],\"yaxis\":\"y\",\"type\":\"scatter\"},{\"hovertemplate\":\"stock=PG<br>close=%{x}<br>volume=%{y}<extra></extra>\",\"legendgroup\":\"PG\",\"marker\":{\"color\":\"#ab63fa\",\"symbol\":\"circle\"},\"mode\":\"markers\",\"name\":\"PG\",\"orientation\":\"v\",\"showlegend\":true,\"x\":[64.5,65.53,65.91,64.2,63.61,64.73,64.3,62.84,62.03,61.49,60.6,60.88,62.08,61.9,64.18,63.27,64.9,65.27,66.86,67.36,66.2,65.43,64.7,64.69,62.59],\"xaxis\":\"x\",\"y\":[52323352,41932473,46213962,70042160,57201539,51999812,36098973,47748854,59801160,52731797,66311521,41351155,43453701,38792072,51918017,29487333,53544624,55046479,49677302,47738539,37114265,37312488,48599369,46861128,53025186],\"yaxis\":\"y\",\"type\":\"scatter\"},{\"hovertemplate\":\"stock=T<br>close=%{x}<br>volume=%{y}<extra></extra>\",\"legendgroup\":\"T\",\"marker\":{\"color\":\"#FFA15A\",\"symbol\":\"circle\"},\"mode\":\"markers\",\"name\":\"T\",\"orientation\":\"v\",\"showlegend\":true,\"x\":[28.85,28.43,28.33,27.49,27.97,28.47,28.57,28.13,27.92,28.46,27.94,28.85,30.62,30.71,30.65,30.68,31.12,31.26,31.41,31.32,31.29,30.65,30.34,30.77,30.44],\"xaxis\":\"x\",\"y\":[157834347,170616350,130584257,171464186,118469916,128889979,88244232,94960503,118740085,139153253,153806769,169105318,384284485,148206324,108080405,76563904,112339712,156030184,92523592,102539987,73854767,85085937,95255686,114504788,116043866],\"yaxis\":\"y\",\"type\":\"scatter\"},{\"hovertemplate\":\"stock=TRV<br>close=%{x}<br>volume=%{y}<extra></extra>\",\"legendgroup\":\"TRV\",\"marker\":{\"color\":\"#19d3f3\",\"symbol\":\"circle\"},\"mode\":\"markers\",\"name\":\"TRV\",\"orientation\":\"v\",\"showlegend\":true,\"x\":[53.33,54.63,55.0,55.81,57.41,58.99,60.92,59.6,59.18,58.88,58.06,58.98,59.71,59.58,59.8,61.32,63.28,63.43,62.33,62.25,61.52,61.18,59.21,57.92,56.68],\"xaxis\":\"x\",\"y\":[20010115,14820631,13631048,26595621,27494461,19539527,14107769,20849299,20284170,15980871,24832210,14126721,16608737,12307164,15459751,10135730,16046782,14335889,14388418,11795580,12344531,13535632,18091902,20647583,20959450],\"yaxis\":\"y\",\"type\":\"scatter\"},{\"hovertemplate\":\"stock=UTX<br>close=%{x}<br>volume=%{y}<extra></extra>\",\"legendgroup\":\"UTX\",\"marker\":{\"color\":\"#FF6692\",\"symbol\":\"circle\"},\"mode\":\"markers\",\"name\":\"UTX\",\"orientation\":\"v\",\"showlegend\":true,\"x\":[79.08,79.08,80.2,81.43,82.52,85.2,85.01,83.37,82.86,81.28,80.16,83.52,85.32,84.81,83.45,87.1,89.58,89.21,88.98,87.5,86.33,83.24,82.7,84.57,84.33],\"xaxis\":\"x\",\"y\":[15797841,12713121,16471934,23565688,15689029,16641148,11922670,15551183,19167224,22004496,26234929,19032729,16314122,11690792,17017620,16859647,20800024,21797524,17420630,22021867,15097865,21179642,20109892,22074891,20775217],\"yaxis\":\"y\",\"type\":\"scatter\"},{\"hovertemplate\":\"stock=VZ<br>close=%{x}<br>volume=%{y}<extra></extra>\",\"legendgroup\":\"VZ\",\"marker\":{\"color\":\"#B6E880\",\"symbol\":\"circle\"},\"mode\":\"markers\",\"name\":\"VZ\",\"orientation\":\"v\",\"showlegend\":true,\"x\":[35.93,35.46,34.95,35.63,36.31,36.39,36.62,35.97,36.08,35.85,35.84,37.29,38.47,37.72,37.85,36.91,37.78,37.28,37.26,37.15,36.67,35.63,35.19,35.51,36.0],\"xaxis\":\"x\",\"y\":[141938064,130610954,108296302,124127036,72890565,78429505,68915874,57673647,80086312,66137992,124202175,79604168,96766651,62429599,55355691,37735134,68330713,84281362,50917728,53263954,43400125,50174214,72100710,69585912,82375230],\"yaxis\":\"y\",\"type\":\"scatter\"},{\"hovertemplate\":\"stock=WMT<br>close=%{x}<br>volume=%{y}<extra></extra>\",\"legendgroup\":\"WMT\",\"marker\":{\"color\":\"#FF97FF\",\"symbol\":\"circle\"},\"mode\":\"markers\",\"name\":\"WMT\",\"orientation\":\"v\",\"showlegend\":true,\"x\":[54.08,54.81,55.73,56.7,56.03,55.69,55.38,51.75,52.07,52.59,51.52,52.35,52.13,52.54,53.55,53.58,54.98,55.02,55.72,55.29,54.7,53.66,52.72,52.82,52.41],\"xaxis\":\"x\",\"y\":[64231179,48929455,53009787,69546259,60981950,49477410,51556658,92696912,74964203,69185186,63198175,53385178,44519431,48382262,45662991,23073491,47159044,46668727,42649301,56695842,35560853,48156051,58746396,68996550,75602550],\"yaxis\":\"y\",\"type\":\"scatter\"},{\"hovertemplate\":\"stock=XOM<br>close=%{x}<br>volume=%{y}<extra></extra>\",\"legendgroup\":\"XOM\",\"marker\":{\"color\":\"#FECB52\",\"symbol\":\"circle\"},\"mode\":\"markers\",\"name\":\"XOM\",\"orientation\":\"v\",\"showlegend\":true,\"x\":[75.59,77.84,78.98,78.99,83.28,82.82,84.5,85.34,85.08,82.12,80.85,83.62,84.68,85.95,84.29,86.36,87.98,82.69,80.87,81.57,82.63,81.18,79.78,79.02,76.78],\"xaxis\":\"x\",\"y\":[101740933,74376886,99941187,115376817,129743696,85733429,93325562,122018405,102134160,92727886,123914255,83364516,77569311,75566590,81056144,43378708,81596868,113805856,99678100,86758820,68230855,78616295,92380844,100521400,118679791],\"yaxis\":\"y\",\"type\":\"scatter\"}],                        {\"template\":{\"data\":{\"histogram2dcontour\":[{\"type\":\"histogram2dcontour\",\"colorbar\":{\"outlinewidth\":0,\"ticks\":\"\"},\"colorscale\":[[0.0,\"#0d0887\"],[0.1111111111111111,\"#46039f\"],[0.2222222222222222,\"#7201a8\"],[0.3333333333333333,\"#9c179e\"],[0.4444444444444444,\"#bd3786\"],[0.5555555555555556,\"#d8576b\"],[0.6666666666666666,\"#ed7953\"],[0.7777777777777778,\"#fb9f3a\"],[0.8888888888888888,\"#fdca26\"],[1.0,\"#f0f921\"]]}],\"choropleth\":[{\"type\":\"choropleth\",\"colorbar\":{\"outlinewidth\":0,\"ticks\":\"\"}}],\"histogram2d\":[{\"type\":\"histogram2d\",\"colorbar\":{\"outlinewidth\":0,\"ticks\":\"\"},\"colorscale\":[[0.0,\"#0d0887\"],[0.1111111111111111,\"#46039f\"],[0.2222222222222222,\"#7201a8\"],[0.3333333333333333,\"#9c179e\"],[0.4444444444444444,\"#bd3786\"],[0.5555555555555556,\"#d8576b\"],[0.6666666666666666,\"#ed7953\"],[0.7777777777777778,\"#fb9f3a\"],[0.8888888888888888,\"#fdca26\"],[1.0,\"#f0f921\"]]}],\"heatmap\":[{\"type\":\"heatmap\",\"colorbar\":{\"outlinewidth\":0,\"ticks\":\"\"},\"colorscale\":[[0.0,\"#0d0887\"],[0.1111111111111111,\"#46039f\"],[0.2222222222222222,\"#7201a8\"],[0.3333333333333333,\"#9c179e\"],[0.4444444444444444,\"#bd3786\"],[0.5555555555555556,\"#d8576b\"],[0.6666666666666666,\"#ed7953\"],[0.7777777777777778,\"#fb9f3a\"],[0.8888888888888888,\"#fdca26\"],[1.0,\"#f0f921\"]]}],\"heatmapgl\":[{\"type\":\"heatmapgl\",\"colorbar\":{\"outlinewidth\":0,\"ticks\":\"\"},\"colorscale\":[[0.0,\"#0d0887\"],[0.1111111111111111,\"#46039f\"],[0.2222222222222222,\"#7201a8\"],[0.3333333333333333,\"#9c179e\"],[0.4444444444444444,\"#bd3786\"],[0.5555555555555556,\"#d8576b\"],[0.6666666666666666,\"#ed7953\"],[0.7777777777777778,\"#fb9f3a\"],[0.8888888888888888,\"#fdca26\"],[1.0,\"#f0f921\"]]}],\"contourcarpet\":[{\"type\":\"contourcarpet\",\"colorbar\":{\"outlinewidth\":0,\"ticks\":\"\"}}],\"contour\":[{\"type\":\"contour\",\"colorbar\":{\"outlinewidth\":0,\"ticks\":\"\"},\"colorscale\":[[0.0,\"#0d0887\"],[0.1111111111111111,\"#46039f\"],[0.2222222222222222,\"#7201a8\"],[0.3333333333333333,\"#9c179e\"],[0.4444444444444444,\"#bd3786\"],[0.5555555555555556,\"#d8576b\"],[0.6666666666666666,\"#ed7953\"],[0.7777777777777778,\"#fb9f3a\"],[0.8888888888888888,\"#fdca26\"],[1.0,\"#f0f921\"]]}],\"surface\":[{\"type\":\"surface\",\"colorbar\":{\"outlinewidth\":0,\"ticks\":\"\"},\"colorscale\":[[0.0,\"#0d0887\"],[0.1111111111111111,\"#46039f\"],[0.2222222222222222,\"#7201a8\"],[0.3333333333333333,\"#9c179e\"],[0.4444444444444444,\"#bd3786\"],[0.5555555555555556,\"#d8576b\"],[0.6666666666666666,\"#ed7953\"],[0.7777777777777778,\"#fb9f3a\"],[0.8888888888888888,\"#fdca26\"],[1.0,\"#f0f921\"]]}],\"mesh3d\":[{\"type\":\"mesh3d\",\"colorbar\":{\"outlinewidth\":0,\"ticks\":\"\"}}],\"scatter\":[{\"fillpattern\":{\"fillmode\":\"overlay\",\"size\":10,\"solidity\":0.2},\"type\":\"scatter\"}],\"parcoords\":[{\"type\":\"parcoords\",\"line\":{\"colorbar\":{\"outlinewidth\":0,\"ticks\":\"\"}}}],\"scatterpolargl\":[{\"type\":\"scatterpolargl\",\"marker\":{\"colorbar\":{\"outlinewidth\":0,\"ticks\":\"\"}}}],\"bar\":[{\"error_x\":{\"color\":\"#2a3f5f\"},\"error_y\":{\"color\":\"#2a3f5f\"},\"marker\":{\"line\":{\"color\":\"#E5ECF6\",\"width\":0.5},\"pattern\":{\"fillmode\":\"overlay\",\"size\":10,\"solidity\":0.2}},\"type\":\"bar\"}],\"scattergeo\":[{\"type\":\"scattergeo\",\"marker\":{\"colorbar\":{\"outlinewidth\":0,\"ticks\":\"\"}}}],\"scatterpolar\":[{\"type\":\"scatterpolar\",\"marker\":{\"colorbar\":{\"outlinewidth\":0,\"ticks\":\"\"}}}],\"histogram\":[{\"marker\":{\"pattern\":{\"fillmode\":\"overlay\",\"size\":10,\"solidity\":0.2}},\"type\":\"histogram\"}],\"scattergl\":[{\"type\":\"scattergl\",\"marker\":{\"colorbar\":{\"outlinewidth\":0,\"ticks\":\"\"}}}],\"scatter3d\":[{\"type\":\"scatter3d\",\"line\":{\"colorbar\":{\"outlinewidth\":0,\"ticks\":\"\"}},\"marker\":{\"colorbar\":{\"outlinewidth\":0,\"ticks\":\"\"}}}],\"scattermapbox\":[{\"type\":\"scattermapbox\",\"marker\":{\"colorbar\":{\"outlinewidth\":0,\"ticks\":\"\"}}}],\"scatterternary\":[{\"type\":\"scatterternary\",\"marker\":{\"colorbar\":{\"outlinewidth\":0,\"ticks\":\"\"}}}],\"scattercarpet\":[{\"type\":\"scattercarpet\",\"marker\":{\"colorbar\":{\"outlinewidth\":0,\"ticks\":\"\"}}}],\"carpet\":[{\"aaxis\":{\"endlinecolor\":\"#2a3f5f\",\"gridcolor\":\"white\",\"linecolor\":\"white\",\"minorgridcolor\":\"white\",\"startlinecolor\":\"#2a3f5f\"},\"baxis\":{\"endlinecolor\":\"#2a3f5f\",\"gridcolor\":\"white\",\"linecolor\":\"white\",\"minorgridcolor\":\"white\",\"startlinecolor\":\"#2a3f5f\"},\"type\":\"carpet\"}],\"table\":[{\"cells\":{\"fill\":{\"color\":\"#EBF0F8\"},\"line\":{\"color\":\"white\"}},\"header\":{\"fill\":{\"color\":\"#C8D4E3\"},\"line\":{\"color\":\"white\"}},\"type\":\"table\"}],\"barpolar\":[{\"marker\":{\"line\":{\"color\":\"#E5ECF6\",\"width\":0.5},\"pattern\":{\"fillmode\":\"overlay\",\"size\":10,\"solidity\":0.2}},\"type\":\"barpolar\"}],\"pie\":[{\"automargin\":true,\"type\":\"pie\"}]},\"layout\":{\"autotypenumbers\":\"strict\",\"colorway\":[\"#636efa\",\"#EF553B\",\"#00cc96\",\"#ab63fa\",\"#FFA15A\",\"#19d3f3\",\"#FF6692\",\"#B6E880\",\"#FF97FF\",\"#FECB52\"],\"font\":{\"color\":\"#2a3f5f\"},\"hovermode\":\"closest\",\"hoverlabel\":{\"align\":\"left\"},\"paper_bgcolor\":\"white\",\"plot_bgcolor\":\"#E5ECF6\",\"polar\":{\"bgcolor\":\"#E5ECF6\",\"angularaxis\":{\"gridcolor\":\"white\",\"linecolor\":\"white\",\"ticks\":\"\"},\"radialaxis\":{\"gridcolor\":\"white\",\"linecolor\":\"white\",\"ticks\":\"\"}},\"ternary\":{\"bgcolor\":\"#E5ECF6\",\"aaxis\":{\"gridcolor\":\"white\",\"linecolor\":\"white\",\"ticks\":\"\"},\"baxis\":{\"gridcolor\":\"white\",\"linecolor\":\"white\",\"ticks\":\"\"},\"caxis\":{\"gridcolor\":\"white\",\"linecolor\":\"white\",\"ticks\":\"\"}},\"coloraxis\":{\"colorbar\":{\"outlinewidth\":0,\"ticks\":\"\"}},\"colorscale\":{\"sequential\":[[0.0,\"#0d0887\"],[0.1111111111111111,\"#46039f\"],[0.2222222222222222,\"#7201a8\"],[0.3333333333333333,\"#9c179e\"],[0.4444444444444444,\"#bd3786\"],[0.5555555555555556,\"#d8576b\"],[0.6666666666666666,\"#ed7953\"],[0.7777777777777778,\"#fb9f3a\"],[0.8888888888888888,\"#fdca26\"],[1.0,\"#f0f921\"]],\"sequentialminus\":[[0.0,\"#0d0887\"],[0.1111111111111111,\"#46039f\"],[0.2222222222222222,\"#7201a8\"],[0.3333333333333333,\"#9c179e\"],[0.4444444444444444,\"#bd3786\"],[0.5555555555555556,\"#d8576b\"],[0.6666666666666666,\"#ed7953\"],[0.7777777777777778,\"#fb9f3a\"],[0.8888888888888888,\"#fdca26\"],[1.0,\"#f0f921\"]],\"diverging\":[[0,\"#8e0152\"],[0.1,\"#c51b7d\"],[0.2,\"#de77ae\"],[0.3,\"#f1b6da\"],[0.4,\"#fde0ef\"],[0.5,\"#f7f7f7\"],[0.6,\"#e6f5d0\"],[0.7,\"#b8e186\"],[0.8,\"#7fbc41\"],[0.9,\"#4d9221\"],[1,\"#276419\"]]},\"xaxis\":{\"gridcolor\":\"white\",\"linecolor\":\"white\",\"ticks\":\"\",\"title\":{\"standoff\":15},\"zerolinecolor\":\"white\",\"automargin\":true,\"zerolinewidth\":2},\"yaxis\":{\"gridcolor\":\"white\",\"linecolor\":\"white\",\"ticks\":\"\",\"title\":{\"standoff\":15},\"zerolinecolor\":\"white\",\"automargin\":true,\"zerolinewidth\":2},\"scene\":{\"xaxis\":{\"backgroundcolor\":\"#E5ECF6\",\"gridcolor\":\"white\",\"linecolor\":\"white\",\"showbackground\":true,\"ticks\":\"\",\"zerolinecolor\":\"white\",\"gridwidth\":2},\"yaxis\":{\"backgroundcolor\":\"#E5ECF6\",\"gridcolor\":\"white\",\"linecolor\":\"white\",\"showbackground\":true,\"ticks\":\"\",\"zerolinecolor\":\"white\",\"gridwidth\":2},\"zaxis\":{\"backgroundcolor\":\"#E5ECF6\",\"gridcolor\":\"white\",\"linecolor\":\"white\",\"showbackground\":true,\"ticks\":\"\",\"zerolinecolor\":\"white\",\"gridwidth\":2}},\"shapedefaults\":{\"line\":{\"color\":\"#2a3f5f\"}},\"annotationdefaults\":{\"arrowcolor\":\"#2a3f5f\",\"arrowhead\":0,\"arrowwidth\":1},\"geo\":{\"bgcolor\":\"white\",\"landcolor\":\"#E5ECF6\",\"subunitcolor\":\"white\",\"showland\":true,\"showlakes\":true,\"lakecolor\":\"white\"},\"title\":{\"x\":0.05},\"mapbox\":{\"style\":\"light\"}}},\"xaxis\":{\"anchor\":\"y\",\"domain\":[0.0,1.0],\"title\":{\"text\":\"close\"}},\"yaxis\":{\"anchor\":\"x\",\"domain\":[0.0,1.0],\"title\":{\"text\":\"volume\"}},\"legend\":{\"title\":{\"text\":\"stock\"},\"tracegroupgap\":0},\"title\":{\"text\":\"Closing Price vs. Volume\"}},                        {\"responsive\": true}                    ).then(function(){\n",
       "                            \n",
       "var gd = document.getElementById('ee14c25e-4b82-4ae7-8d71-a77ad828d16d');\n",
       "var x = new MutationObserver(function (mutations, observer) {{\n",
       "        var display = window.getComputedStyle(gd).display;\n",
       "        if (!display || display === 'none') {{\n",
       "            console.log([gd, 'removed!']);\n",
       "            Plotly.purge(gd);\n",
       "            observer.disconnect();\n",
       "        }}\n",
       "}});\n",
       "\n",
       "// Listen for the removal of the full notebook cells\n",
       "var notebookContainer = gd.closest('#notebook-container');\n",
       "if (notebookContainer) {{\n",
       "    x.observe(notebookContainer, {childList: true});\n",
       "}}\n",
       "\n",
       "// Listen for the clearing of the current output cell\n",
       "var outputEl = gd.closest('.output');\n",
       "if (outputEl) {{\n",
       "    x.observe(outputEl, {childList: true});\n",
       "}}\n",
       "\n",
       "                        })                };                });            </script>        </div>"
      ]
     },
     "metadata": {},
     "output_type": "display_data"
    }
   ],
   "source": [
    "fig = px.scatter(df, x='close', y='volume', color='stock', title='Closing Price vs. Volume')\n",
    "fig.show()"
   ]
  },
  {
   "cell_type": "markdown",
   "id": "523799c1",
   "metadata": {},
   "source": [
    "## Correlation Heatmap\n",
    "\n",
    "Finally, we'll create a correlation heatmap to explore the relationships between all features in the dataset. This can help us identify any strong correlations or potential multicollinearity between variables. The visualization shows the \n",
    "strong correlation between open, high, low, and close. This makes sense because for many of the stocks, the price can be around the same with the market's ups and downs. There is also a negative correlation between volume and the previously stated variables. This can be due to the fact that a stock with a large price will not be traded as much because of its high price, while a stock with lower price will be traded more because people will tend to make trades in large orders to increase their profit. "
   ]
  },
  {
   "cell_type": "code",
   "execution_count": 114,
   "id": "8c93ed21",
   "metadata": {},
   "outputs": [
    {
     "data": {
      "image/png": "[encoded data removed]",
      "text/plain": [
       "<Figure size 1000x800 with 2 Axes>"
      ]
     },
     "metadata": {},
     "output_type": "display_data"
    }
   ],
   "source": [
    "corr = df.corr()\n",
    "plt.figure(figsize=(10, 8))\n",
    "sns.heatmap(corr, annot=True, cmap='coolwarm', linewidths=.5)\n",
    "plt.title('Correlation Heatmap')\n",
    "plt.show()"
   ]
  },
  {
   "cell_type": "markdown",
   "id": "5dd64784",
   "metadata": {},
   "source": [
    "## Top Performing Ticker\n",
    "\n",
    "The stock with the highest percentage change will be considered the top performer.\n"
   ]
  },
  {
   "cell_type": "code",
   "execution_count": 124,
   "id": "a9805dd7",
   "metadata": {},
   "outputs": [],
   "source": [
    "# Calculate the percentage change for each stock\n",
    "percent_change = df.groupby('stock')['percent_change_price'].first()\n",
    "\n",
    "\n",
    "# Find the top-performing ticker\n",
    "top_performing_ticker = percentage_change.idxmax()\n",
    "top_performance = percentage_change.max()\n"
   ]
  },
  {
   "cell_type": "code",
   "execution_count": 125,
   "id": "12f02f72",
   "metadata": {},
   "outputs": [
    {
     "name": "stdout",
     "output_type": "stream",
     "text": [
      "The top-performing ticker is IBM with a percentage change of 11.59%.\n"
     ]
    }
   ],
   "source": [
    "print(f\"The top-performing ticker is {top_performing_ticker} with a percentage change of {top_performance:.2f}%.\")"
   ]
  },
  {
   "cell_type": "markdown",
   "id": "da5e00f9",
   "metadata": {},
   "source": [
    "## Monthly Trends\n",
    "\n",
    "Next, let's analyze the monthly trends for the closing prices and volumes of the stocks by average volume.\n",
    "Just from the summary statistics, the month of May seems to have the highest close price average and January seems to have the highest volume average."
   ]
  },
  {
   "cell_type": "code",
   "execution_count": 88,
   "id": "1a4cb2fa",
   "metadata": {},
   "outputs": [
    {
     "data": {
      "text/html": [
       "<div>\n",
       "<style scoped>\n",
       "    .dataframe tbody tr th:only-of-type {\n",
       "        vertical-align: middle;\n",
       "    }\n",
       "\n",
       "    .dataframe tbody tr th {\n",
       "        vertical-align: top;\n",
       "    }\n",
       "\n",
       "    .dataframe thead tr th {\n",
       "        text-align: left;\n",
       "    }\n",
       "\n",
       "    .dataframe thead tr:last-of-type th {\n",
       "        text-align: right;\n",
       "    }\n",
       "</style>\n",
       "<table border=\"1\" class=\"dataframe\">\n",
       "  <thead>\n",
       "    <tr>\n",
       "      <th></th>\n",
       "      <th colspan=\"8\" halign=\"left\">close</th>\n",
       "      <th colspan=\"8\" halign=\"left\">volume</th>\n",
       "    </tr>\n",
       "    <tr>\n",
       "      <th></th>\n",
       "      <th>count</th>\n",
       "      <th>mean</th>\n",
       "      <th>std</th>\n",
       "      <th>min</th>\n",
       "      <th>25%</th>\n",
       "      <th>50%</th>\n",
       "      <th>75%</th>\n",
       "      <th>max</th>\n",
       "      <th>count</th>\n",
       "      <th>mean</th>\n",
       "      <th>std</th>\n",
       "      <th>min</th>\n",
       "      <th>25%</th>\n",
       "      <th>50%</th>\n",
       "      <th>75%</th>\n",
       "      <th>max</th>\n",
       "    </tr>\n",
       "    <tr>\n",
       "      <th>month_name</th>\n",
       "      <th></th>\n",
       "      <th></th>\n",
       "      <th></th>\n",
       "      <th></th>\n",
       "      <th></th>\n",
       "      <th></th>\n",
       "      <th></th>\n",
       "      <th></th>\n",
       "      <th></th>\n",
       "      <th></th>\n",
       "      <th></th>\n",
       "      <th></th>\n",
       "      <th></th>\n",
       "      <th></th>\n",
       "      <th></th>\n",
       "      <th></th>\n",
       "    </tr>\n",
       "  </thead>\n",
       "  <tbody>\n",
       "    <tr>\n",
       "      <th>Jan</th>\n",
       "      <td>30.0</td>\n",
       "      <td>51.924333</td>\n",
       "      <td>30.603206</td>\n",
       "      <td>14.3375</td>\n",
       "      <td>28.981875</td>\n",
       "      <td>45.56875</td>\n",
       "      <td>68.82625</td>\n",
       "      <td>153.1600</td>\n",
       "      <td>30.0</td>\n",
       "      <td>1.365794e+08</td>\n",
       "      <td>2.001133e+08</td>\n",
       "      <td>16142230.25</td>\n",
       "      <td>3.518033e+07</td>\n",
       "      <td>5.550525e+07</td>\n",
       "      <td>1.738465e+08</td>\n",
       "      <td>1.062809e+09</td>\n",
       "    </tr>\n",
       "    <tr>\n",
       "      <th>Feb</th>\n",
       "      <td>30.0</td>\n",
       "      <td>53.828083</td>\n",
       "      <td>32.862676</td>\n",
       "      <td>14.5025</td>\n",
       "      <td>28.993125</td>\n",
       "      <td>46.65750</td>\n",
       "      <td>70.12875</td>\n",
       "      <td>163.7425</td>\n",
       "      <td>30.0</td>\n",
       "      <td>1.144534e+08</td>\n",
       "      <td>1.458272e+08</td>\n",
       "      <td>14951007.50</td>\n",
       "      <td>3.317308e+07</td>\n",
       "      <td>5.267266e+07</td>\n",
       "      <td>1.173172e+08</td>\n",
       "      <td>6.686345e+08</td>\n",
       "    </tr>\n",
       "    <tr>\n",
       "      <th>Mar</th>\n",
       "      <td>30.0</td>\n",
       "      <td>53.174000</td>\n",
       "      <td>32.972119</td>\n",
       "      <td>13.9700</td>\n",
       "      <td>29.065000</td>\n",
       "      <td>45.07750</td>\n",
       "      <td>69.72375</td>\n",
       "      <td>160.5825</td>\n",
       "      <td>30.0</td>\n",
       "      <td>1.251430e+08</td>\n",
       "      <td>1.544336e+08</td>\n",
       "      <td>18550407.75</td>\n",
       "      <td>3.799760e+07</td>\n",
       "      <td>5.710390e+07</td>\n",
       "      <td>1.370104e+08</td>\n",
       "      <td>7.537356e+08</td>\n",
       "    </tr>\n",
       "    <tr>\n",
       "      <th>Apr</th>\n",
       "      <td>30.0</td>\n",
       "      <td>54.977867</td>\n",
       "      <td>34.637203</td>\n",
       "      <td>12.8520</td>\n",
       "      <td>31.247500</td>\n",
       "      <td>46.24700</td>\n",
       "      <td>73.18700</td>\n",
       "      <td>166.6780</td>\n",
       "      <td>30.0</td>\n",
       "      <td>1.060022e+08</td>\n",
       "      <td>1.300039e+08</td>\n",
       "      <td>14111632.80</td>\n",
       "      <td>2.895405e+07</td>\n",
       "      <td>4.486469e+07</td>\n",
       "      <td>1.272719e+08</td>\n",
       "      <td>5.665456e+08</td>\n",
       "    </tr>\n",
       "    <tr>\n",
       "      <th>May</th>\n",
       "      <td>30.0</td>\n",
       "      <td>55.260750</td>\n",
       "      <td>34.577688</td>\n",
       "      <td>11.8775</td>\n",
       "      <td>32.174375</td>\n",
       "      <td>47.01500</td>\n",
       "      <td>75.52750</td>\n",
       "      <td>169.1175</td>\n",
       "      <td>30.0</td>\n",
       "      <td>1.114583e+08</td>\n",
       "      <td>1.342752e+08</td>\n",
       "      <td>13216104.50</td>\n",
       "      <td>3.227830e+07</td>\n",
       "      <td>4.868022e+07</td>\n",
       "      <td>1.283991e+08</td>\n",
       "      <td>5.848284e+08</td>\n",
       "    </tr>\n",
       "    <tr>\n",
       "      <th>Jun</th>\n",
       "      <td>30.0</td>\n",
       "      <td>52.898417</td>\n",
       "      <td>33.558584</td>\n",
       "      <td>10.8200</td>\n",
       "      <td>31.473125</td>\n",
       "      <td>44.59625</td>\n",
       "      <td>71.39875</td>\n",
       "      <td>164.4350</td>\n",
       "      <td>30.0</td>\n",
       "      <td>1.145370e+08</td>\n",
       "      <td>1.500427e+08</td>\n",
       "      <td>14475642.50</td>\n",
       "      <td>3.434374e+07</td>\n",
       "      <td>5.491451e+07</td>\n",
       "      <td>1.014629e+08</td>\n",
       "      <td>7.405552e+08</td>\n",
       "    </tr>\n",
       "  </tbody>\n",
       "</table>\n",
       "</div>"
      ],
      "text/plain": [
       "           close                                                      \\\n",
       "           count       mean        std      min        25%       50%   \n",
       "month_name                                                             \n",
       "Jan         30.0  51.924333  30.603206  14.3375  28.981875  45.56875   \n",
       "Feb         30.0  53.828083  32.862676  14.5025  28.993125  46.65750   \n",
       "Mar         30.0  53.174000  32.972119  13.9700  29.065000  45.07750   \n",
       "Apr         30.0  54.977867  34.637203  12.8520  31.247500  46.24700   \n",
       "May         30.0  55.260750  34.577688  11.8775  32.174375  47.01500   \n",
       "Jun         30.0  52.898417  33.558584  10.8200  31.473125  44.59625   \n",
       "\n",
       "                               volume                              \\\n",
       "                 75%       max  count          mean           std   \n",
       "month_name                                                          \n",
       "Jan         68.82625  153.1600   30.0  1.365794e+08  2.001133e+08   \n",
       "Feb         70.12875  163.7425   30.0  1.144534e+08  1.458272e+08   \n",
       "Mar         69.72375  160.5825   30.0  1.251430e+08  1.544336e+08   \n",
       "Apr         73.18700  166.6780   30.0  1.060022e+08  1.300039e+08   \n",
       "May         75.52750  169.1175   30.0  1.114583e+08  1.342752e+08   \n",
       "Jun         71.39875  164.4350   30.0  1.145370e+08  1.500427e+08   \n",
       "\n",
       "                                                                   \\\n",
       "                    min           25%           50%           75%   \n",
       "month_name                                                          \n",
       "Jan         16142230.25  3.518033e+07  5.550525e+07  1.738465e+08   \n",
       "Feb         14951007.50  3.317308e+07  5.267266e+07  1.173172e+08   \n",
       "Mar         18550407.75  3.799760e+07  5.710390e+07  1.370104e+08   \n",
       "Apr         14111632.80  2.895405e+07  4.486469e+07  1.272719e+08   \n",
       "May         13216104.50  3.227830e+07  4.868022e+07  1.283991e+08   \n",
       "Jun         14475642.50  3.434374e+07  5.491451e+07  1.014629e+08   \n",
       "\n",
       "                          \n",
       "                     max  \n",
       "month_name                \n",
       "Jan         1.062809e+09  \n",
       "Feb         6.686345e+08  \n",
       "Mar         7.537356e+08  \n",
       "Apr         5.665456e+08  \n",
       "May         5.848284e+08  \n",
       "Jun         7.405552e+08  "
      ]
     },
     "execution_count": 88,
     "metadata": {},
     "output_type": "execute_result"
    }
   ],
   "source": [
    "# Create a new DataFrame with monthly data\n",
    "df_monthly = df.copy()\n",
    "df_monthly['month'] = df_monthly['date'].dt.to_period('M')\n",
    "\n",
    "# Calculate the average closing price and volume for each stock by month\n",
    "monthly_trends_all = df_monthly.groupby(['stock', 'month']).agg({'close': 'mean', 'volume': 'mean'}).reset_index()\n",
    "monthly_trends_all['month'] = monthly_trends_all['month'].dt.to_timestamp()\n",
    "monthly_trends_all.sort_values(by='month', inplace=True)\n",
    "monthly_trends_all['month_name'] = monthly_trends_all['month'].dt.strftime('%b')\n",
    "\n",
    "monthly_trends_all.groupby('month_name', sort=False).describe()\n"
   ]
  },
  {
   "cell_type": "markdown",
   "id": "7d22e0ab",
   "metadata": {},
   "source": [
    "### Monthly Closing of All Stocks\n",
    "\n",
    "Now, let's visualize the average monthly volume for all stocks in the dataset. The visulization shows the average monthly closing price in each stock. There seems to be similarity in the stocks among the months, but some months have clear difference, like January has a generally lower average closing price.\n"
   ]
  },
  {
   "cell_type": "code",
   "execution_count": 129,
   "id": "e0c5ff76",
   "metadata": {},
   "outputs": [
    {
     "data": {
      "application/vnd.plotly.v1+json": {
       "config": {
        "plotlyServerURL": "https://plot.ly"
       },
       "data": [
        {
         "alignmentgroup": "True",
         "hovertemplate": "stock=AA<br>month=%{x}<br>closing_price=%{y}<extra></extra>",
         "legendgroup": "AA",
         "marker": {
          "color": "#636efa",
          "pattern": {
           "shape": ""
          }
         },
         "name": "AA",
         "offsetgroup": "AA",
         "orientation": "v",
         "showlegend": true,
         "textposition": "auto",
         "type": "bar",
         "x": [
          "Apr",
          "Feb",
          "Jan",
          "Jun",
          "Mar",
          "May"
         ],
         "xaxis": "x",
         "y": [
          17.176,
          17.1175,
          16.0775,
          15.2875,
          16.4525,
          16.747500000000002
         ],
         "yaxis": "y"
        },
        {
         "alignmentgroup": "True",
         "hovertemplate": "stock=CSCO<br>month=%{x}<br>closing_price=%{y}<extra></extra>",
         "legendgroup": "CSCO",
         "marker": {
          "color": "#EF553B",
          "pattern": {
           "shape": ""
          }
         },
         "name": "CSCO",
         "offsetgroup": "CSCO",
         "orientation": "v",
         "showlegend": true,
         "textposition": "auto",
         "type": "bar",
         "x": [
          "Apr",
          "Feb",
          "Jan",
          "Jun",
          "Mar",
          "May"
         ],
         "xaxis": "x",
         "y": [
          17.236,
          19.560000000000002,
          20.9575,
          15.2575,
          17.6925,
          16.8575
         ],
         "yaxis": "y"
        },
        {
         "alignmentgroup": "True",
         "hovertemplate": "stock=MRK<br>month=%{x}<br>closing_price=%{y}<extra></extra>",
         "legendgroup": "MRK",
         "marker": {
          "color": "#00cc96",
          "pattern": {
           "shape": ""
          }
         },
         "name": "MRK",
         "offsetgroup": "MRK",
         "orientation": "v",
         "showlegend": true,
         "textposition": "auto",
         "type": "bar",
         "x": [
          "Apr",
          "Feb",
          "Jan",
          "Jun",
          "Mar",
          "May"
         ],
         "xaxis": "x",
         "y": [
          34.248000000000005,
          32.75,
          34.6375,
          35.3025,
          32.567499999999995,
          36.685
         ],
         "yaxis": "y"
        },
        {
         "alignmentgroup": "True",
         "hovertemplate": "stock=UTX<br>month=%{x}<br>closing_price=%{y}<extra></extra>",
         "legendgroup": "UTX",
         "marker": {
          "color": "#ab63fa",
          "pattern": {
           "shape": ""
          }
         },
         "name": "UTX",
         "offsetgroup": "UTX",
         "orientation": "v",
         "showlegend": true,
         "textposition": "auto",
         "type": "bar",
         "x": [
          "Apr",
          "Feb",
          "Jan",
          "Jun",
          "Mar",
          "May"
         ],
         "xaxis": "x",
         "y": [
          86.05199999999999,
          84.025,
          79.9475,
          83.71,
          81.955,
          88.005
         ],
         "yaxis": "y"
        },
        {
         "alignmentgroup": "True",
         "hovertemplate": "stock=PG<br>month=%{x}<br>closing_price=%{y}<extra></extra>",
         "legendgroup": "PG",
         "marker": {
          "color": "#FFA15A",
          "pattern": {
           "shape": ""
          }
         },
         "name": "PG",
         "offsetgroup": "PG",
         "orientation": "v",
         "showlegend": true,
         "textposition": "auto",
         "type": "bar",
         "x": [
          "Apr",
          "Feb",
          "Jan",
          "Jun",
          "Mar",
          "May"
         ],
         "xaxis": "x",
         "y": [
          63.266000000000005,
          63.870000000000005,
          65.035,
          64.3525,
          61.25,
          66.4225
         ],
         "yaxis": "y"
        },
        {
         "alignmentgroup": "True",
         "hovertemplate": "stock=HPQ<br>month=%{x}<br>closing_price=%{y}<extra></extra>",
         "legendgroup": "HPQ",
         "marker": {
          "color": "#19d3f3",
          "pattern": {
           "shape": ""
          }
         },
         "name": "HPQ",
         "offsetgroup": "HPQ",
         "orientation": "v",
         "showlegend": true,
         "textposition": "auto",
         "type": "bar",
         "x": [
          "Apr",
          "Feb",
          "Jan",
          "Jun",
          "Mar",
          "May"
         ],
         "xaxis": "x",
         "y": [
          40.660000000000004,
          46.855000000000004,
          46.019999999999996,
          35.315,
          42.0475,
          38.54
         ],
         "yaxis": "y"
        },
        {
         "alignmentgroup": "True",
         "hovertemplate": "stock=PFE<br>month=%{x}<br>closing_price=%{y}<extra></extra>",
         "legendgroup": "PFE",
         "marker": {
          "color": "#FF6692",
          "pattern": {
           "shape": ""
          }
         },
         "name": "PFE",
         "offsetgroup": "PFE",
         "orientation": "v",
         "showlegend": true,
         "textposition": "auto",
         "type": "bar",
         "x": [
          "Apr",
          "Feb",
          "Jan",
          "Jun",
          "Mar",
          "May"
         ],
         "xaxis": "x",
         "y": [
          20.426,
          19.045,
          18.2975,
          20.322499999999998,
          19.915,
          20.7725
         ],
         "yaxis": "y"
        },
        {
         "alignmentgroup": "True",
         "hovertemplate": "stock=CAT<br>month=%{x}<br>closing_price=%{y}<extra></extra>",
         "legendgroup": "CAT",
         "marker": {
          "color": "#B6E880",
          "pattern": {
           "shape": ""
          }
         },
         "name": "CAT",
         "offsetgroup": "CAT",
         "orientation": "v",
         "showlegend": true,
         "textposition": "auto",
         "type": "bar",
         "x": [
          "Apr",
          "Feb",
          "Jan",
          "Jun",
          "Mar",
          "May"
         ],
         "xaxis": "x",
         "y": [
          110.99600000000001,
          102.7475,
          94.0425,
          98.4625,
          104.30250000000001,
          106.4
         ],
         "yaxis": "y"
        },
        {
         "alignmentgroup": "True",
         "hovertemplate": "stock=XOM<br>month=%{x}<br>closing_price=%{y}<extra></extra>",
         "legendgroup": "XOM",
         "marker": {
          "color": "#FF97FF",
          "pattern": {
           "shape": ""
          }
         },
         "name": "XOM",
         "offsetgroup": "XOM",
         "orientation": "v",
         "showlegend": true,
         "textposition": "auto",
         "type": "bar",
         "x": [
          "Apr",
          "Feb",
          "Jan",
          "Jun",
          "Mar",
          "May"
         ],
         "xaxis": "x",
         "y": [
          85.852,
          83.985,
          77.85,
          79.19,
          82.9175,
          81.94
         ],
         "yaxis": "y"
        },
        {
         "alignmentgroup": "True",
         "hovertemplate": "stock=MSFT<br>month=%{x}<br>closing_price=%{y}<extra></extra>",
         "legendgroup": "MSFT",
         "marker": {
          "color": "#FECB52",
          "pattern": {
           "shape": ""
          }
         },
         "name": "MSFT",
         "offsetgroup": "MSFT",
         "orientation": "v",
         "showlegend": true,
         "textposition": "auto",
         "type": "bar",
         "x": [
          "Apr",
          "Feb",
          "Jan",
          "Jun",
          "Mar",
          "May"
         ],
         "xaxis": "x",
         "y": [
          25.672000000000004,
          27.1575,
          28.1675,
          24.04,
          25.5125,
          25.0375
         ],
         "yaxis": "y"
        },
        {
         "alignmentgroup": "True",
         "hovertemplate": "stock=MMM<br>month=%{x}<br>closing_price=%{y}<extra></extra>",
         "legendgroup": "MMM",
         "marker": {
          "color": "#636efa",
          "pattern": {
           "shape": ""
          }
         },
         "name": "MMM",
         "offsetgroup": "MMM",
         "orientation": "v",
         "showlegend": true,
         "textposition": "auto",
         "type": "bar",
         "x": [
          "Apr",
          "Feb",
          "Jan",
          "Jun",
          "Mar",
          "May"
         ],
         "xaxis": "x",
         "y": [
          94.05999999999999,
          90.825,
          87.765,
          91.025,
          91.2625,
          94.66
         ],
         "yaxis": "y"
        },
        {
         "alignmentgroup": "True",
         "hovertemplate": "stock=IBM<br>month=%{x}<br>closing_price=%{y}<extra></extra>",
         "legendgroup": "IBM",
         "marker": {
          "color": "#EF553B",
          "pattern": {
           "shape": ""
          }
         },
         "name": "IBM",
         "offsetgroup": "IBM",
         "orientation": "v",
         "showlegend": true,
         "textposition": "auto",
         "type": "bar",
         "x": [
          "Apr",
          "Feb",
          "Jan",
          "Jun",
          "Mar",
          "May"
         ],
         "xaxis": "x",
         "y": [
          166.67800000000003,
          163.7425,
          153.16,
          164.435,
          160.5825,
          169.1175
         ],
         "yaxis": "y"
        },
        {
         "alignmentgroup": "True",
         "hovertemplate": "stock=CVX<br>month=%{x}<br>closing_price=%{y}<extra></extra>",
         "legendgroup": "CVX",
         "marker": {
          "color": "#00cc96",
          "pattern": {
           "shape": ""
          }
         },
         "name": "CVX",
         "offsetgroup": "CVX",
         "orientation": "v",
         "showlegend": true,
         "textposition": "auto",
         "type": "bar",
         "x": [
          "Apr",
          "Feb",
          "Jan",
          "Jun",
          "Mar",
          "May"
         ],
         "xaxis": "x",
         "y": [
          108.35799999999999,
          98.595,
          92.7925,
          99.435,
          103.315,
          102.76249999999999
         ],
         "yaxis": "y"
        },
        {
         "alignmentgroup": "True",
         "hovertemplate": "stock=BAC<br>month=%{x}<br>closing_price=%{y}<extra></extra>",
         "legendgroup": "BAC",
         "marker": {
          "color": "#ab63fa",
          "pattern": {
           "shape": ""
          }
         },
         "name": "BAC",
         "offsetgroup": "BAC",
         "orientation": "v",
         "showlegend": true,
         "textposition": "auto",
         "type": "bar",
         "x": [
          "Apr",
          "Feb",
          "Jan",
          "Jun",
          "Mar",
          "May"
         ],
         "xaxis": "x",
         "y": [
          12.852,
          14.5025,
          14.3375,
          10.82,
          13.969999999999999,
          11.8775
         ],
         "yaxis": "y"
        },
        {
         "alignmentgroup": "True",
         "hovertemplate": "stock=INTC<br>month=%{x}<br>closing_price=%{y}<extra></extra>",
         "legendgroup": "INTC",
         "marker": {
          "color": "#FFA15A",
          "pattern": {
           "shape": ""
          }
         },
         "name": "INTC",
         "offsetgroup": "INTC",
         "orientation": "v",
         "showlegend": true,
         "textposition": "auto",
         "type": "bar",
         "x": [
          "Apr",
          "Feb",
          "Jan",
          "Jun",
          "Mar",
          "May"
         ],
         "xaxis": "x",
         "y": [
          20.82,
          21.86,
          21.005,
          21.375,
          20.6825,
          23.0225
         ],
         "yaxis": "y"
        },
        {
         "alignmentgroup": "True",
         "hovertemplate": "stock=HD<br>month=%{x}<br>closing_price=%{y}<extra></extra>",
         "legendgroup": "HD",
         "marker": {
          "color": "#19d3f3",
          "pattern": {
           "shape": ""
          }
         },
         "name": "HD",
         "offsetgroup": "HD",
         "orientation": "v",
         "showlegend": true,
         "textposition": "auto",
         "type": "bar",
         "x": [
          "Apr",
          "Feb",
          "Jan",
          "Jun",
          "Mar",
          "May"
         ],
         "xaxis": "x",
         "y": [
          37.628,
          37.459999999999994,
          35.870000000000005,
          34.4275,
          36.945,
          36.7625
         ],
         "yaxis": "y"
        },
        {
         "alignmentgroup": "True",
         "hovertemplate": "stock=WMT<br>month=%{x}<br>closing_price=%{y}<extra></extra>",
         "legendgroup": "WMT",
         "marker": {
          "color": "#FF6692",
          "pattern": {
           "shape": ""
          }
         },
         "name": "WMT",
         "offsetgroup": "WMT",
         "orientation": "v",
         "showlegend": true,
         "textposition": "auto",
         "type": "bar",
         "x": [
          "Apr",
          "Feb",
          "Jan",
          "Jun",
          "Mar",
          "May"
         ],
         "xaxis": "x",
         "y": [
          53.355999999999995,
          54.7125,
          55.33,
          52.902499999999996,
          52.1325,
          55.182500000000005
         ],
         "yaxis": "y"
        },
        {
         "alignmentgroup": "True",
         "hovertemplate": "stock=GE<br>month=%{x}<br>closing_price=%{y}<extra></extra>",
         "legendgroup": "GE",
         "marker": {
          "color": "#B6E880",
          "pattern": {
           "shape": ""
          }
         },
         "name": "GE",
         "offsetgroup": "GE",
         "orientation": "v",
         "showlegend": true,
         "textposition": "auto",
         "type": "bar",
         "x": [
          "Apr",
          "Feb",
          "Jan",
          "Jun",
          "Mar",
          "May"
         ],
         "xaxis": "x",
         "y": [
          20.194,
          21.0375,
          19.2975,
          18.4,
          19.9325,
          19.740000000000002
         ],
         "yaxis": "y"
        },
        {
         "alignmentgroup": "True",
         "hovertemplate": "stock=KO<br>month=%{x}<br>closing_price=%{y}<extra></extra>",
         "legendgroup": "KO",
         "marker": {
          "color": "#FF97FF",
          "pattern": {
           "shape": ""
          }
         },
         "name": "KO",
         "offsetgroup": "KO",
         "orientation": "v",
         "showlegend": true,
         "textposition": "auto",
         "type": "bar",
         "x": [
          "Apr",
          "Feb",
          "Jan",
          "Jun",
          "Mar",
          "May"
         ],
         "xaxis": "x",
         "y": [
          67.568,
          63.7475,
          62.7575,
          65.3675,
          64.485,
          67.4725
         ],
         "yaxis": "y"
        },
        {
         "alignmentgroup": "True",
         "hovertemplate": "stock=DD<br>month=%{x}<br>closing_price=%{y}<extra></extra>",
         "legendgroup": "DD",
         "marker": {
          "color": "#FECB52",
          "pattern": {
           "shape": ""
          }
         },
         "name": "DD",
         "offsetgroup": "DD",
         "orientation": "v",
         "showlegend": true,
         "textposition": "auto",
         "type": "bar",
         "x": [
          "Apr",
          "Feb",
          "Jan",
          "Jun",
          "Mar",
          "May"
         ],
         "xaxis": "x",
         "y": [
          55.636,
          54.29,
          49.55,
          50.4,
          53.465,
          53.21
         ],
         "yaxis": "y"
        },
        {
         "alignmentgroup": "True",
         "hovertemplate": "stock=VZ<br>month=%{x}<br>closing_price=%{y}<extra></extra>",
         "legendgroup": "VZ",
         "marker": {
          "color": "#636efa",
          "pattern": {
           "shape": ""
          }
         },
         "name": "VZ",
         "offsetgroup": "VZ",
         "orientation": "v",
         "showlegend": true,
         "textposition": "auto",
         "type": "bar",
         "x": [
          "Apr",
          "Feb",
          "Jan",
          "Jun",
          "Mar",
          "May"
         ],
         "xaxis": "x",
         "y": [
          37.745999999999995,
          36.3225,
          35.4925,
          35.582499999999996,
          36.265,
          37.09
         ],
         "yaxis": "y"
        },
        {
         "alignmentgroup": "True",
         "hovertemplate": "stock=TRV<br>month=%{x}<br>closing_price=%{y}<extra></extra>",
         "legendgroup": "TRV",
         "marker": {
          "color": "#EF553B",
          "pattern": {
           "shape": ""
          }
         },
         "name": "TRV",
         "offsetgroup": "TRV",
         "orientation": "v",
         "showlegend": true,
         "textposition": "auto",
         "type": "bar",
         "x": [
          "Apr",
          "Feb",
          "Jan",
          "Jun",
          "Mar",
          "May"
         ],
         "xaxis": "x",
         "y": [
          60.738,
          59.230000000000004,
          54.6925,
          58.7475,
          58.775,
          62.3825
         ],
         "yaxis": "y"
        },
        {
         "alignmentgroup": "True",
         "hovertemplate": "stock=KRFT<br>month=%{x}<br>closing_price=%{y}<extra></extra>",
         "legendgroup": "KRFT",
         "marker": {
          "color": "#00cc96",
          "pattern": {
           "shape": ""
          }
         },
         "name": "KRFT",
         "offsetgroup": "KRFT",
         "orientation": "v",
         "showlegend": true,
         "textposition": "auto",
         "type": "bar",
         "x": [
          "Apr",
          "Feb",
          "Jan",
          "Jun",
          "Mar",
          "May"
         ],
         "xaxis": "x",
         "y": [
          32.722,
          31.1175,
          31.1025,
          34.2425,
          31.3825,
          34.7375
         ],
         "yaxis": "y"
        },
        {
         "alignmentgroup": "True",
         "hovertemplate": "stock=T<br>month=%{x}<br>closing_price=%{y}<extra></extra>",
         "legendgroup": "T",
         "marker": {
          "color": "#ab63fa",
          "pattern": {
           "shape": ""
          }
         },
         "name": "T",
         "offsetgroup": "T",
         "orientation": "v",
         "showlegend": true,
         "textposition": "auto",
         "type": "bar",
         "x": [
          "Apr",
          "Feb",
          "Jan",
          "Jun",
          "Mar",
          "May"
         ],
         "xaxis": "x",
         "y": [
          30.756,
          28.285,
          28.275,
          30.55,
          28.2925,
          31.32
         ],
         "yaxis": "y"
        },
        {
         "alignmentgroup": "True",
         "hovertemplate": "stock=AXP<br>month=%{x}<br>closing_price=%{y}<extra></extra>",
         "legendgroup": "AXP",
         "marker": {
          "color": "#FFA15A",
          "pattern": {
           "shape": ""
          }
         },
         "name": "AXP",
         "offsetgroup": "AXP",
         "orientation": "v",
         "showlegend": true,
         "textposition": "auto",
         "type": "bar",
         "x": [
          "Apr",
          "Feb",
          "Jan",
          "Jun",
          "Mar",
          "May"
         ],
         "xaxis": "x",
         "y": [
          46.815999999999995,
          44.9075,
          45.1175,
          48.465,
          44.44,
          50.5025
         ],
         "yaxis": "y"
        },
        {
         "alignmentgroup": "True",
         "hovertemplate": "stock=JPM<br>month=%{x}<br>closing_price=%{y}<extra></extra>",
         "legendgroup": "JPM",
         "marker": {
          "color": "#19d3f3",
          "pattern": {
           "shape": ""
          }
         },
         "name": "JPM",
         "offsetgroup": "JPM",
         "orientation": "v",
         "showlegend": true,
         "textposition": "auto",
         "type": "bar",
         "x": [
          "Apr",
          "Feb",
          "Jan",
          "Jun",
          "Mar",
          "May"
         ],
         "xaxis": "x",
         "y": [
          45.678000000000004,
          46.46,
          44.595,
          40.7275,
          45.715,
          43.5275
         ],
         "yaxis": "y"
        },
        {
         "alignmentgroup": "True",
         "hovertemplate": "stock=JNJ<br>month=%{x}<br>closing_price=%{y}<extra></extra>",
         "legendgroup": "JNJ",
         "marker": {
          "color": "#FF6692",
          "pattern": {
           "shape": ""
          }
         },
         "name": "JNJ",
         "offsetgroup": "JNJ",
         "orientation": "v",
         "showlegend": true,
         "textposition": "auto",
         "type": "bar",
         "x": [
          "Apr",
          "Feb",
          "Jan",
          "Jun",
          "Mar",
          "May"
         ],
         "xaxis": "x",
         "y": [
          61.86,
          60.572500000000005,
          61.955,
          65.88250000000001,
          59.575,
          66.0875
         ],
         "yaxis": "y"
        },
        {
         "alignmentgroup": "True",
         "hovertemplate": "stock=BA<br>month=%{x}<br>closing_price=%{y}<extra></extra>",
         "legendgroup": "BA",
         "marker": {
          "color": "#B6E880",
          "pattern": {
           "shape": ""
          }
         },
         "name": "BA",
         "offsetgroup": "BA",
         "orientation": "v",
         "showlegend": true,
         "textposition": "auto",
         "type": "bar",
         "x": [
          "Apr",
          "Feb",
          "Jan",
          "Jun",
          "Mar",
          "May"
         ],
         "xaxis": "x",
         "y": [
          75.06,
          72.215,
          70.09,
          73.2375,
          71.47,
          78.2125
         ],
         "yaxis": "y"
        },
        {
         "alignmentgroup": "True",
         "hovertemplate": "stock=MCD<br>month=%{x}<br>closing_price=%{y}<extra></extra>",
         "legendgroup": "MCD",
         "marker": {
          "color": "#FF97FF",
          "pattern": {
           "shape": ""
          }
         },
         "name": "MCD",
         "offsetgroup": "MCD",
         "orientation": "v",
         "showlegend": true,
         "textposition": "auto",
         "type": "bar",
         "x": [
          "Apr",
          "Feb",
          "Jan",
          "Jun",
          "Mar",
          "May"
         ],
         "xaxis": "x",
         "y": [
          76.926,
          75.19,
          74.18,
          81.315,
          75.25,
          80.8475
         ],
         "yaxis": "y"
        },
        {
         "alignmentgroup": "True",
         "hovertemplate": "stock=DIS<br>month=%{x}<br>closing_price=%{y}<extra></extra>",
         "legendgroup": "DIS",
         "marker": {
          "color": "#FECB52",
          "pattern": {
           "shape": ""
          }
         },
         "name": "DIS",
         "offsetgroup": "DIS",
         "orientation": "v",
         "showlegend": true,
         "textposition": "auto",
         "type": "bar",
         "x": [
          "Apr",
          "Feb",
          "Jan",
          "Jun",
          "Mar",
          "May"
         ],
         "xaxis": "x",
         "y": [
          42.3,
          42.6575,
          39.3325,
          38.375,
          42.67,
          41.900000000000006
         ],
         "yaxis": "y"
        }
       ],
       "layout": {
        "barmode": "relative",
        "legend": {
         "title": {
          "text": "stock"
         },
         "tracegroupgap": 0
        },
        "margin": {
         "t": 60
        },
        "template": {
         "data": {
          "bar": [
           {
            "error_x": {
             "color": "#2a3f5f"
            },
            "error_y": {
             "color": "#2a3f5f"
            },
            "marker": {
             "line": {
              "color": "#E5ECF6",
              "width": 0.5
             },
             "pattern": {
              "fillmode": "overlay",
              "size": 10,
              "solidity": 0.2
             }
            },
            "type": "bar"
           }
          ],
          "barpolar": [
           {
            "marker": {
             "line": {
              "color": "#E5ECF6",
              "width": 0.5
             },
             "pattern": {
              "fillmode": "overlay",
              "size": 10,
              "solidity": 0.2
             }
            },
            "type": "barpolar"
           }
          ],
          "carpet": [
           {
            "aaxis": {
             "endlinecolor": "#2a3f5f",
             "gridcolor": "white",
             "linecolor": "white",
             "minorgridcolor": "white",
             "startlinecolor": "#2a3f5f"
            },
            "baxis": {
             "endlinecolor": "#2a3f5f",
             "gridcolor": "white",
             "linecolor": "white",
             "minorgridcolor": "white",
             "startlinecolor": "#2a3f5f"
            },
            "type": "carpet"
           }
          ],
          "choropleth": [
           {
            "colorbar": {
             "outlinewidth": 0,
             "ticks": ""
            },
            "type": "choropleth"
           }
          ],
          "contour": [
           {
            "colorbar": {
             "outlinewidth": 0,
             "ticks": ""
            },
            "colorscale": [
             [
              0,
              "#0d0887"
             ],
             [
              0.1111111111111111,
              "#46039f"
             ],
             [
              0.2222222222222222,
              "#7201a8"
             ],
             [
              0.3333333333333333,
              "#9c179e"
             ],
             [
              0.4444444444444444,
              "#bd3786"
             ],
             [
              0.5555555555555556,
              "#d8576b"
             ],
             [
              0.6666666666666666,
              "#ed7953"
             ],
             [
              0.7777777777777778,
              "#fb9f3a"
             ],
             [
              0.8888888888888888,
              "#fdca26"
             ],
             [
              1,
              "#f0f921"
             ]
            ],
            "type": "contour"
           }
          ],
          "contourcarpet": [
           {
            "colorbar": {
             "outlinewidth": 0,
             "ticks": ""
            },
            "type": "contourcarpet"
           }
          ],
          "heatmap": [
           {
            "colorbar": {
             "outlinewidth": 0,
             "ticks": ""
            },
            "colorscale": [
             [
              0,
              "#0d0887"
             ],
             [
              0.1111111111111111,
              "#46039f"
             ],
             [
              0.2222222222222222,
              "#7201a8"
             ],
             [
              0.3333333333333333,
              "#9c179e"
             ],
             [
              0.4444444444444444,
              "#bd3786"
             ],
             [
              0.5555555555555556,
              "#d8576b"
             ],
             [
              0.6666666666666666,
              "#ed7953"
             ],
             [
              0.7777777777777778,
              "#fb9f3a"
             ],
             [
              0.8888888888888888,
              "#fdca26"
             ],
             [
              1,
              "#f0f921"
             ]
            ],
            "type": "heatmap"
           }
          ],
          "heatmapgl": [
           {
            "colorbar": {
             "outlinewidth": 0,
             "ticks": ""
            },
            "colorscale": [
             [
              0,
              "#0d0887"
             ],
             [
              0.1111111111111111,
              "#46039f"
             ],
             [
              0.2222222222222222,
              "#7201a8"
             ],
             [
              0.3333333333333333,
              "#9c179e"
             ],
             [
              0.4444444444444444,
              "#bd3786"
             ],
             [
              0.5555555555555556,
              "#d8576b"
             ],
             [
              0.6666666666666666,
              "#ed7953"
             ],
             [
              0.7777777777777778,
              "#fb9f3a"
             ],
             [
              0.8888888888888888,
              "#fdca26"
             ],
             [
              1,
              "#f0f921"
             ]
            ],
            "type": "heatmapgl"
           }
          ],
          "histogram": [
           {
            "marker": {
             "pattern": {
              "fillmode": "overlay",
              "size": 10,
              "solidity": 0.2
             }
            },
            "type": "histogram"
           }
          ],
          "histogram2d": [
           {
            "colorbar": {
             "outlinewidth": 0,
             "ticks": ""
            },
            "colorscale": [
             [
              0,
              "#0d0887"
             ],
             [
              0.1111111111111111,
              "#46039f"
             ],
             [
              0.2222222222222222,
              "#7201a8"
             ],
             [
              0.3333333333333333,
              "#9c179e"
             ],
             [
              0.4444444444444444,
              "#bd3786"
             ],
             [
              0.5555555555555556,
              "#d8576b"
             ],
             [
              0.6666666666666666,
              "#ed7953"
             ],
             [
              0.7777777777777778,
              "#fb9f3a"
             ],
             [
              0.8888888888888888,
              "#fdca26"
             ],
             [
              1,
              "#f0f921"
             ]
            ],
            "type": "histogram2d"
           }
          ],
          "histogram2dcontour": [
           {
            "colorbar": {
             "outlinewidth": 0,
             "ticks": ""
            },
            "colorscale": [
             [
              0,
              "#0d0887"
             ],
             [
              0.1111111111111111,
              "#46039f"
             ],
             [
              0.2222222222222222,
              "#7201a8"
             ],
             [
              0.3333333333333333,
              "#9c179e"
             ],
             [
              0.4444444444444444,
              "#bd3786"
             ],
             [
              0.5555555555555556,
              "#d8576b"
             ],
             [
              0.6666666666666666,
              "#ed7953"
             ],
             [
              0.7777777777777778,
              "#fb9f3a"
             ],
             [
              0.8888888888888888,
              "#fdca26"
             ],
             [
              1,
              "#f0f921"
             ]
            ],
            "type": "histogram2dcontour"
           }
          ],
          "mesh3d": [
           {
            "colorbar": {
             "outlinewidth": 0,
             "ticks": ""
            },
            "type": "mesh3d"
           }
          ],
          "parcoords": [
           {
            "line": {
             "colorbar": {
              "outlinewidth": 0,
              "ticks": ""
             }
            },
            "type": "parcoords"
           }
          ],
          "pie": [
           {
            "automargin": true,
            "type": "pie"
           }
          ],
          "scatter": [
           {
            "fillpattern": {
             "fillmode": "overlay",
             "size": 10,
             "solidity": 0.2
            },
            "type": "scatter"
           }
          ],
          "scatter3d": [
           {
            "line": {
             "colorbar": {
              "outlinewidth": 0,
              "ticks": ""
             }
            },
            "marker": {
             "colorbar": {
              "outlinewidth": 0,
              "ticks": ""
             }
            },
            "type": "scatter3d"
           }
          ],
          "scattercarpet": [
           {
            "marker": {
             "colorbar": {
              "outlinewidth": 0,
              "ticks": ""
             }
            },
            "type": "scattercarpet"
           }
          ],
          "scattergeo": [
           {
            "marker": {
             "colorbar": {
              "outlinewidth": 0,
              "ticks": ""
             }
            },
            "type": "scattergeo"
           }
          ],
          "scattergl": [
           {
            "marker": {
             "colorbar": {
              "outlinewidth": 0,
              "ticks": ""
             }
            },
            "type": "scattergl"
           }
          ],
          "scattermapbox": [
           {
            "marker": {
             "colorbar": {
              "outlinewidth": 0,
              "ticks": ""
             }
            },
            "type": "scattermapbox"
           }
          ],
          "scatterpolar": [
           {
            "marker": {
             "colorbar": {
              "outlinewidth": 0,
              "ticks": ""
             }
            },
            "type": "scatterpolar"
           }
          ],
          "scatterpolargl": [
           {
            "marker": {
             "colorbar": {
              "outlinewidth": 0,
              "ticks": ""
             }
            },
            "type": "scatterpolargl"
           }
          ],
          "scatterternary": [
           {
            "marker": {
             "colorbar": {
              "outlinewidth": 0,
              "ticks": ""
             }
            },
            "type": "scatterternary"
           }
          ],
          "surface": [
           {
            "colorbar": {
             "outlinewidth": 0,
             "ticks": ""
            },
            "colorscale": [
             [
              0,
              "#0d0887"
             ],
             [
              0.1111111111111111,
              "#46039f"
             ],
             [
              0.2222222222222222,
              "#7201a8"
             ],
             [
              0.3333333333333333,
              "#9c179e"
             ],
             [
              0.4444444444444444,
              "#bd3786"
             ],
             [
              0.5555555555555556,
              "#d8576b"
             ],
             [
              0.6666666666666666,
              "#ed7953"
             ],
             [
              0.7777777777777778,
              "#fb9f3a"
             ],
             [
              0.8888888888888888,
              "#fdca26"
             ],
             [
              1,
              "#f0f921"
             ]
            ],
            "type": "surface"
           }
          ],
          "table": [
           {
            "cells": {
             "fill": {
              "color": "#EBF0F8"
             },
             "line": {
              "color": "white"
             }
            },
            "header": {
             "fill": {
              "color": "#C8D4E3"
             },
             "line": {
              "color": "white"
             }
            },
            "type": "table"
           }
          ]
         },
         "layout": {
          "annotationdefaults": {
           "arrowcolor": "#2a3f5f",
           "arrowhead": 0,
           "arrowwidth": 1
          },
          "autotypenumbers": "strict",
          "coloraxis": {
           "colorbar": {
            "outlinewidth": 0,
            "ticks": ""
           }
          },
          "colorscale": {
           "diverging": [
            [
             0,
             "#8e0152"
            ],
            [
             0.1,
             "#c51b7d"
            ],
            [
             0.2,
             "#de77ae"
            ],
            [
             0.3,
             "#f1b6da"
            ],
            [
             0.4,
             "#fde0ef"
            ],
            [
             0.5,
             "#f7f7f7"
            ],
            [
             0.6,
             "#e6f5d0"
            ],
            [
             0.7,
             "#b8e186"
            ],
            [
             0.8,
             "#7fbc41"
            ],
            [
             0.9,
             "#4d9221"
            ],
            [
             1,
             "#276419"
            ]
           ],
           "sequential": [
            [
             0,
             "#0d0887"
            ],
            [
             0.1111111111111111,
             "#46039f"
            ],
            [
             0.2222222222222222,
             "#7201a8"
            ],
            [
             0.3333333333333333,
             "#9c179e"
            ],
            [
             0.4444444444444444,
             "#bd3786"
            ],
            [
             0.5555555555555556,
             "#d8576b"
            ],
            [
             0.6666666666666666,
             "#ed7953"
            ],
            [
             0.7777777777777778,
             "#fb9f3a"
            ],
            [
             0.8888888888888888,
             "#fdca26"
            ],
            [
             1,
             "#f0f921"
            ]
           ],
           "sequentialminus": [
            [
             0,
             "#0d0887"
            ],
            [
             0.1111111111111111,
             "#46039f"
            ],
            [
             0.2222222222222222,
             "#7201a8"
            ],
            [
             0.3333333333333333,
             "#9c179e"
            ],
            [
             0.4444444444444444,
             "#bd3786"
            ],
            [
             0.5555555555555556,
             "#d8576b"
            ],
            [
             0.6666666666666666,
             "#ed7953"
            ],
            [
             0.7777777777777778,
             "#fb9f3a"
            ],
            [
             0.8888888888888888,
             "#fdca26"
            ],
            [
             1,
             "#f0f921"
            ]
           ]
          },
          "colorway": [
           "#636efa",
           "#EF553B",
           "#00cc96",
           "#ab63fa",
           "#FFA15A",
           "#19d3f3",
           "#FF6692",
           "#B6E880",
           "#FF97FF",
           "#FECB52"
          ],
          "font": {
           "color": "#2a3f5f"
          },
          "geo": {
           "bgcolor": "white",
           "lakecolor": "white",
           "landcolor": "#E5ECF6",
           "showlakes": true,
           "showland": true,
           "subunitcolor": "white"
          },
          "hoverlabel": {
           "align": "left"
          },
          "hovermode": "closest",
          "mapbox": {
           "style": "light"
          },
          "paper_bgcolor": "white",
          "plot_bgcolor": "#E5ECF6",
          "polar": {
           "angularaxis": {
            "gridcolor": "white",
            "linecolor": "white",
            "ticks": ""
           },
           "bgcolor": "#E5ECF6",
           "radialaxis": {
            "gridcolor": "white",
            "linecolor": "white",
            "ticks": ""
           }
          },
          "scene": {
           "xaxis": {
            "backgroundcolor": "#E5ECF6",
            "gridcolor": "white",
            "gridwidth": 2,
            "linecolor": "white",
            "showbackground": true,
            "ticks": "",
            "zerolinecolor": "white"
           },
           "yaxis": {
            "backgroundcolor": "#E5ECF6",
            "gridcolor": "white",
            "gridwidth": 2,
            "linecolor": "white",
            "showbackground": true,
            "ticks": "",
            "zerolinecolor": "white"
           },
           "zaxis": {
            "backgroundcolor": "#E5ECF6",
            "gridcolor": "white",
            "gridwidth": 2,
            "linecolor": "white",
            "showbackground": true,
            "ticks": "",
            "zerolinecolor": "white"
           }
          },
          "shapedefaults": {
           "line": {
            "color": "#2a3f5f"
           }
          },
          "ternary": {
           "aaxis": {
            "gridcolor": "white",
            "linecolor": "white",
            "ticks": ""
           },
           "baxis": {
            "gridcolor": "white",
            "linecolor": "white",
            "ticks": ""
           },
           "bgcolor": "#E5ECF6",
           "caxis": {
            "gridcolor": "white",
            "linecolor": "white",
            "ticks": ""
           }
          },
          "title": {
           "x": 0.05
          },
          "xaxis": {
           "automargin": true,
           "gridcolor": "white",
           "linecolor": "white",
           "ticks": "",
           "title": {
            "standoff": 15
           },
           "zerolinecolor": "white",
           "zerolinewidth": 2
          },
          "yaxis": {
           "automargin": true,
           "gridcolor": "white",
           "linecolor": "white",
           "ticks": "",
           "title": {
            "standoff": 15
           },
           "zerolinecolor": "white",
           "zerolinewidth": 2
          }
         }
        },
        "xaxis": {
         "anchor": "y",
         "categoryarray": [
          "Jan",
          "Feb",
          "Mar",
          "Apr",
          "May",
          "Jun"
         ],
         "categoryorder": "array",
         "domain": [
          0,
          1
         ],
         "title": {
          "text": "month"
         }
        },
        "yaxis": {
         "anchor": "x",
         "domain": [
          0,
          1
         ],
         "title": {
          "text": "closing_price"
         }
        }
       }
      },
      "text/html": [
       "<div>                            <div id=\"d96edb53-8d3e-4ede-81ec-dcbca445c4e9\" class=\"plotly-graph-div\" style=\"height:525px; width:100%;\"></div>            <script type=\"text/javascript\">                require([\"plotly\"], function(Plotly) {                    window.PLOTLYENV=window.PLOTLYENV || {};                                    if (document.getElementById(\"d96edb53-8d3e-4ede-81ec-dcbca445c4e9\")) {                    Plotly.newPlot(                        \"d96edb53-8d3e-4ede-81ec-dcbca445c4e9\",                        [{\"alignmentgroup\":\"True\",\"hovertemplate\":\"stock=AA<br>month=%{x}<br>closing_price=%{y}<extra></extra>\",\"legendgroup\":\"AA\",\"marker\":{\"color\":\"#636efa\",\"pattern\":{\"shape\":\"\"}},\"name\":\"AA\",\"offsetgroup\":\"AA\",\"orientation\":\"v\",\"showlegend\":true,\"textposition\":\"auto\",\"x\":[\"Apr\",\"Feb\",\"Jan\",\"Jun\",\"Mar\",\"May\"],\"xaxis\":\"x\",\"y\":[17.176,17.1175,16.0775,15.2875,16.4525,16.747500000000002],\"yaxis\":\"y\",\"type\":\"bar\"},{\"alignmentgroup\":\"True\",\"hovertemplate\":\"stock=CSCO<br>month=%{x}<br>closing_price=%{y}<extra></extra>\",\"legendgroup\":\"CSCO\",\"marker\":{\"color\":\"#EF553B\",\"pattern\":{\"shape\":\"\"}},\"name\":\"CSCO\",\"offsetgroup\":\"CSCO\",\"orientation\":\"v\",\"showlegend\":true,\"textposition\":\"auto\",\"x\":[\"Apr\",\"Feb\",\"Jan\",\"Jun\",\"Mar\",\"May\"],\"xaxis\":\"x\",\"y\":[17.236,19.560000000000002,20.9575,15.2575,17.6925,16.8575],\"yaxis\":\"y\",\"type\":\"bar\"},{\"alignmentgroup\":\"True\",\"hovertemplate\":\"stock=MRK<br>month=%{x}<br>closing_price=%{y}<extra></extra>\",\"legendgroup\":\"MRK\",\"marker\":{\"color\":\"#00cc96\",\"pattern\":{\"shape\":\"\"}},\"name\":\"MRK\",\"offsetgroup\":\"MRK\",\"orientation\":\"v\",\"showlegend\":true,\"textposition\":\"auto\",\"x\":[\"Apr\",\"Feb\",\"Jan\",\"Jun\",\"Mar\",\"May\"],\"xaxis\":\"x\",\"y\":[34.248000000000005,32.75,34.6375,35.3025,32.567499999999995,36.685],\"yaxis\":\"y\",\"type\":\"bar\"},{\"alignmentgroup\":\"True\",\"hovertemplate\":\"stock=UTX<br>month=%{x}<br>closing_price=%{y}<extra></extra>\",\"legendgroup\":\"UTX\",\"marker\":{\"color\":\"#ab63fa\",\"pattern\":{\"shape\":\"\"}},\"name\":\"UTX\",\"offsetgroup\":\"UTX\",\"orientation\":\"v\",\"showlegend\":true,\"textposition\":\"auto\",\"x\":[\"Apr\",\"Feb\",\"Jan\",\"Jun\",\"Mar\",\"May\"],\"xaxis\":\"x\",\"y\":[86.05199999999999,84.025,79.9475,83.71,81.955,88.005],\"yaxis\":\"y\",\"type\":\"bar\"},{\"alignmentgroup\":\"True\",\"hovertemplate\":\"stock=PG<br>month=%{x}<br>closing_price=%{y}<extra></extra>\",\"legendgroup\":\"PG\",\"marker\":{\"color\":\"#FFA15A\",\"pattern\":{\"shape\":\"\"}},\"name\":\"PG\",\"offsetgroup\":\"PG\",\"orientation\":\"v\",\"showlegend\":true,\"textposition\":\"auto\",\"x\":[\"Apr\",\"Feb\",\"Jan\",\"Jun\",\"Mar\",\"May\"],\"xaxis\":\"x\",\"y\":[63.266000000000005,63.870000000000005,65.035,64.3525,61.25,66.4225],\"yaxis\":\"y\",\"type\":\"bar\"},{\"alignmentgroup\":\"True\",\"hovertemplate\":\"stock=HPQ<br>month=%{x}<br>closing_price=%{y}<extra></extra>\",\"legendgroup\":\"HPQ\",\"marker\":{\"color\":\"#19d3f3\",\"pattern\":{\"shape\":\"\"}},\"name\":\"HPQ\",\"offsetgroup\":\"HPQ\",\"orientation\":\"v\",\"showlegend\":true,\"textposition\":\"auto\",\"x\":[\"Apr\",\"Feb\",\"Jan\",\"Jun\",\"Mar\",\"May\"],\"xaxis\":\"x\",\"y\":[40.660000000000004,46.855000000000004,46.019999999999996,35.315,42.0475,38.54],\"yaxis\":\"y\",\"type\":\"bar\"},{\"alignmentgroup\":\"True\",\"hovertemplate\":\"stock=PFE<br>month=%{x}<br>closing_price=%{y}<extra></extra>\",\"legendgroup\":\"PFE\",\"marker\":{\"color\":\"#FF6692\",\"pattern\":{\"shape\":\"\"}},\"name\":\"PFE\",\"offsetgroup\":\"PFE\",\"orientation\":\"v\",\"showlegend\":true,\"textposition\":\"auto\",\"x\":[\"Apr\",\"Feb\",\"Jan\",\"Jun\",\"Mar\",\"May\"],\"xaxis\":\"x\",\"y\":[20.426,19.045,18.2975,20.322499999999998,19.915,20.7725],\"yaxis\":\"y\",\"type\":\"bar\"},{\"alignmentgroup\":\"True\",\"hovertemplate\":\"stock=CAT<br>month=%{x}<br>closing_price=%{y}<extra></extra>\",\"legendgroup\":\"CAT\",\"marker\":{\"color\":\"#B6E880\",\"pattern\":{\"shape\":\"\"}},\"name\":\"CAT\",\"offsetgroup\":\"CAT\",\"orientation\":\"v\",\"showlegend\":true,\"textposition\":\"auto\",\"x\":[\"Apr\",\"Feb\",\"Jan\",\"Jun\",\"Mar\",\"May\"],\"xaxis\":\"x\",\"y\":[110.99600000000001,102.7475,94.0425,98.4625,104.30250000000001,106.4],\"yaxis\":\"y\",\"type\":\"bar\"},{\"alignmentgroup\":\"True\",\"hovertemplate\":\"stock=XOM<br>month=%{x}<br>closing_price=%{y}<extra></extra>\",\"legendgroup\":\"XOM\",\"marker\":{\"color\":\"#FF97FF\",\"pattern\":{\"shape\":\"\"}},\"name\":\"XOM\",\"offsetgroup\":\"XOM\",\"orientation\":\"v\",\"showlegend\":true,\"textposition\":\"auto\",\"x\":[\"Apr\",\"Feb\",\"Jan\",\"Jun\",\"Mar\",\"May\"],\"xaxis\":\"x\",\"y\":[85.852,83.985,77.85,79.19,82.9175,81.94],\"yaxis\":\"y\",\"type\":\"bar\"},{\"alignmentgroup\":\"True\",\"hovertemplate\":\"stock=MSFT<br>month=%{x}<br>closing_price=%{y}<extra></extra>\",\"legendgroup\":\"MSFT\",\"marker\":{\"color\":\"#FECB52\",\"pattern\":{\"shape\":\"\"}},\"name\":\"MSFT\",\"offsetgroup\":\"MSFT\",\"orientation\":\"v\",\"showlegend\":true,\"textposition\":\"auto\",\"x\":[\"Apr\",\"Feb\",\"Jan\",\"Jun\",\"Mar\",\"May\"],\"xaxis\":\"x\",\"y\":[25.672000000000004,27.1575,28.1675,24.04,25.5125,25.0375],\"yaxis\":\"y\",\"type\":\"bar\"},{\"alignmentgroup\":\"True\",\"hovertemplate\":\"stock=MMM<br>month=%{x}<br>closing_price=%{y}<extra></extra>\",\"legendgroup\":\"MMM\",\"marker\":{\"color\":\"#636efa\",\"pattern\":{\"shape\":\"\"}},\"name\":\"MMM\",\"offsetgroup\":\"MMM\",\"orientation\":\"v\",\"showlegend\":true,\"textposition\":\"auto\",\"x\":[\"Apr\",\"Feb\",\"Jan\",\"Jun\",\"Mar\",\"May\"],\"xaxis\":\"x\",\"y\":[94.05999999999999,90.825,87.765,91.025,91.2625,94.66],\"yaxis\":\"y\",\"type\":\"bar\"},{\"alignmentgroup\":\"True\",\"hovertemplate\":\"stock=IBM<br>month=%{x}<br>closing_price=%{y}<extra></extra>\",\"legendgroup\":\"IBM\",\"marker\":{\"color\":\"#EF553B\",\"pattern\":{\"shape\":\"\"}},\"name\":\"IBM\",\"offsetgroup\":\"IBM\",\"orientation\":\"v\",\"showlegend\":true,\"textposition\":\"auto\",\"x\":[\"Apr\",\"Feb\",\"Jan\",\"Jun\",\"Mar\",\"May\"],\"xaxis\":\"x\",\"y\":[166.67800000000003,163.7425,153.16,164.435,160.5825,169.1175],\"yaxis\":\"y\",\"type\":\"bar\"},{\"alignmentgroup\":\"True\",\"hovertemplate\":\"stock=CVX<br>month=%{x}<br>closing_price=%{y}<extra></extra>\",\"legendgroup\":\"CVX\",\"marker\":{\"color\":\"#00cc96\",\"pattern\":{\"shape\":\"\"}},\"name\":\"CVX\",\"offsetgroup\":\"CVX\",\"orientation\":\"v\",\"showlegend\":true,\"textposition\":\"auto\",\"x\":[\"Apr\",\"Feb\",\"Jan\",\"Jun\",\"Mar\",\"May\"],\"xaxis\":\"x\",\"y\":[108.35799999999999,98.595,92.7925,99.435,103.315,102.76249999999999],\"yaxis\":\"y\",\"type\":\"bar\"},{\"alignmentgroup\":\"True\",\"hovertemplate\":\"stock=BAC<br>month=%{x}<br>closing_price=%{y}<extra></extra>\",\"legendgroup\":\"BAC\",\"marker\":{\"color\":\"#ab63fa\",\"pattern\":{\"shape\":\"\"}},\"name\":\"BAC\",\"offsetgroup\":\"BAC\",\"orientation\":\"v\",\"showlegend\":true,\"textposition\":\"auto\",\"x\":[\"Apr\",\"Feb\",\"Jan\",\"Jun\",\"Mar\",\"May\"],\"xaxis\":\"x\",\"y\":[12.852,14.5025,14.3375,10.82,13.969999999999999,11.8775],\"yaxis\":\"y\",\"type\":\"bar\"},{\"alignmentgroup\":\"True\",\"hovertemplate\":\"stock=INTC<br>month=%{x}<br>closing_price=%{y}<extra></extra>\",\"legendgroup\":\"INTC\",\"marker\":{\"color\":\"#FFA15A\",\"pattern\":{\"shape\":\"\"}},\"name\":\"INTC\",\"offsetgroup\":\"INTC\",\"orientation\":\"v\",\"showlegend\":true,\"textposition\":\"auto\",\"x\":[\"Apr\",\"Feb\",\"Jan\",\"Jun\",\"Mar\",\"May\"],\"xaxis\":\"x\",\"y\":[20.82,21.86,21.005,21.375,20.6825,23.0225],\"yaxis\":\"y\",\"type\":\"bar\"},{\"alignmentgroup\":\"True\",\"hovertemplate\":\"stock=HD<br>month=%{x}<br>closing_price=%{y}<extra></extra>\",\"legendgroup\":\"HD\",\"marker\":{\"color\":\"#19d3f3\",\"pattern\":{\"shape\":\"\"}},\"name\":\"HD\",\"offsetgroup\":\"HD\",\"orientation\":\"v\",\"showlegend\":true,\"textposition\":\"auto\",\"x\":[\"Apr\",\"Feb\",\"Jan\",\"Jun\",\"Mar\",\"May\"],\"xaxis\":\"x\",\"y\":[37.628,37.459999999999994,35.870000000000005,34.4275,36.945,36.7625],\"yaxis\":\"y\",\"type\":\"bar\"},{\"alignmentgroup\":\"True\",\"hovertemplate\":\"stock=WMT<br>month=%{x}<br>closing_price=%{y}<extra></extra>\",\"legendgroup\":\"WMT\",\"marker\":{\"color\":\"#FF6692\",\"pattern\":{\"shape\":\"\"}},\"name\":\"WMT\",\"offsetgroup\":\"WMT\",\"orientation\":\"v\",\"showlegend\":true,\"textposition\":\"auto\",\"x\":[\"Apr\",\"Feb\",\"Jan\",\"Jun\",\"Mar\",\"May\"],\"xaxis\":\"x\",\"y\":[53.355999999999995,54.7125,55.33,52.902499999999996,52.1325,55.182500000000005],\"yaxis\":\"y\",\"type\":\"bar\"},{\"alignmentgroup\":\"True\",\"hovertemplate\":\"stock=GE<br>month=%{x}<br>closing_price=%{y}<extra></extra>\",\"legendgroup\":\"GE\",\"marker\":{\"color\":\"#B6E880\",\"pattern\":{\"shape\":\"\"}},\"name\":\"GE\",\"offsetgroup\":\"GE\",\"orientation\":\"v\",\"showlegend\":true,\"textposition\":\"auto\",\"x\":[\"Apr\",\"Feb\",\"Jan\",\"Jun\",\"Mar\",\"May\"],\"xaxis\":\"x\",\"y\":[20.194,21.0375,19.2975,18.4,19.9325,19.740000000000002],\"yaxis\":\"y\",\"type\":\"bar\"},{\"alignmentgroup\":\"True\",\"hovertemplate\":\"stock=KO<br>month=%{x}<br>closing_price=%{y}<extra></extra>\",\"legendgroup\":\"KO\",\"marker\":{\"color\":\"#FF97FF\",\"pattern\":{\"shape\":\"\"}},\"name\":\"KO\",\"offsetgroup\":\"KO\",\"orientation\":\"v\",\"showlegend\":true,\"textposition\":\"auto\",\"x\":[\"Apr\",\"Feb\",\"Jan\",\"Jun\",\"Mar\",\"May\"],\"xaxis\":\"x\",\"y\":[67.568,63.7475,62.7575,65.3675,64.485,67.4725],\"yaxis\":\"y\",\"type\":\"bar\"},{\"alignmentgroup\":\"True\",\"hovertemplate\":\"stock=DD<br>month=%{x}<br>closing_price=%{y}<extra></extra>\",\"legendgroup\":\"DD\",\"marker\":{\"color\":\"#FECB52\",\"pattern\":{\"shape\":\"\"}},\"name\":\"DD\",\"offsetgroup\":\"DD\",\"orientation\":\"v\",\"showlegend\":true,\"textposition\":\"auto\",\"x\":[\"Apr\",\"Feb\",\"Jan\",\"Jun\",\"Mar\",\"May\"],\"xaxis\":\"x\",\"y\":[55.636,54.29,49.55,50.4,53.465,53.21],\"yaxis\":\"y\",\"type\":\"bar\"},{\"alignmentgroup\":\"True\",\"hovertemplate\":\"stock=VZ<br>month=%{x}<br>closing_price=%{y}<extra></extra>\",\"legendgroup\":\"VZ\",\"marker\":{\"color\":\"#636efa\",\"pattern\":{\"shape\":\"\"}},\"name\":\"VZ\",\"offsetgroup\":\"VZ\",\"orientation\":\"v\",\"showlegend\":true,\"textposition\":\"auto\",\"x\":[\"Apr\",\"Feb\",\"Jan\",\"Jun\",\"Mar\",\"May\"],\"xaxis\":\"x\",\"y\":[37.745999999999995,36.3225,35.4925,35.582499999999996,36.265,37.09],\"yaxis\":\"y\",\"type\":\"bar\"},{\"alignmentgroup\":\"True\",\"hovertemplate\":\"stock=TRV<br>month=%{x}<br>closing_price=%{y}<extra></extra>\",\"legendgroup\":\"TRV\",\"marker\":{\"color\":\"#EF553B\",\"pattern\":{\"shape\":\"\"}},\"name\":\"TRV\",\"offsetgroup\":\"TRV\",\"orientation\":\"v\",\"showlegend\":true,\"textposition\":\"auto\",\"x\":[\"Apr\",\"Feb\",\"Jan\",\"Jun\",\"Mar\",\"May\"],\"xaxis\":\"x\",\"y\":[60.738,59.230000000000004,54.6925,58.7475,58.775,62.3825],\"yaxis\":\"y\",\"type\":\"bar\"},{\"alignmentgroup\":\"True\",\"hovertemplate\":\"stock=KRFT<br>month=%{x}<br>closing_price=%{y}<extra></extra>\",\"legendgroup\":\"KRFT\",\"marker\":{\"color\":\"#00cc96\",\"pattern\":{\"shape\":\"\"}},\"name\":\"KRFT\",\"offsetgroup\":\"KRFT\",\"orientation\":\"v\",\"showlegend\":true,\"textposition\":\"auto\",\"x\":[\"Apr\",\"Feb\",\"Jan\",\"Jun\",\"Mar\",\"May\"],\"xaxis\":\"x\",\"y\":[32.722,31.1175,31.1025,34.2425,31.3825,34.7375],\"yaxis\":\"y\",\"type\":\"bar\"},{\"alignmentgroup\":\"True\",\"hovertemplate\":\"stock=T<br>month=%{x}<br>closing_price=%{y}<extra></extra>\",\"legendgroup\":\"T\",\"marker\":{\"color\":\"#ab63fa\",\"pattern\":{\"shape\":\"\"}},\"name\":\"T\",\"offsetgroup\":\"T\",\"orientation\":\"v\",\"showlegend\":true,\"textposition\":\"auto\",\"x\":[\"Apr\",\"Feb\",\"Jan\",\"Jun\",\"Mar\",\"May\"],\"xaxis\":\"x\",\"y\":[30.756,28.285,28.275,30.55,28.2925,31.32],\"yaxis\":\"y\",\"type\":\"bar\"},{\"alignmentgroup\":\"True\",\"hovertemplate\":\"stock=AXP<br>month=%{x}<br>closing_price=%{y}<extra></extra>\",\"legendgroup\":\"AXP\",\"marker\":{\"color\":\"#FFA15A\",\"pattern\":{\"shape\":\"\"}},\"name\":\"AXP\",\"offsetgroup\":\"AXP\",\"orientation\":\"v\",\"showlegend\":true,\"textposition\":\"auto\",\"x\":[\"Apr\",\"Feb\",\"Jan\",\"Jun\",\"Mar\",\"May\"],\"xaxis\":\"x\",\"y\":[46.815999999999995,44.9075,45.1175,48.465,44.44,50.5025],\"yaxis\":\"y\",\"type\":\"bar\"},{\"alignmentgroup\":\"True\",\"hovertemplate\":\"stock=JPM<br>month=%{x}<br>closing_price=%{y}<extra></extra>\",\"legendgroup\":\"JPM\",\"marker\":{\"color\":\"#19d3f3\",\"pattern\":{\"shape\":\"\"}},\"name\":\"JPM\",\"offsetgroup\":\"JPM\",\"orientation\":\"v\",\"showlegend\":true,\"textposition\":\"auto\",\"x\":[\"Apr\",\"Feb\",\"Jan\",\"Jun\",\"Mar\",\"May\"],\"xaxis\":\"x\",\"y\":[45.678000000000004,46.46,44.595,40.7275,45.715,43.5275],\"yaxis\":\"y\",\"type\":\"bar\"},{\"alignmentgroup\":\"True\",\"hovertemplate\":\"stock=JNJ<br>month=%{x}<br>closing_price=%{y}<extra></extra>\",\"legendgroup\":\"JNJ\",\"marker\":{\"color\":\"#FF6692\",\"pattern\":{\"shape\":\"\"}},\"name\":\"JNJ\",\"offsetgroup\":\"JNJ\",\"orientation\":\"v\",\"showlegend\":true,\"textposition\":\"auto\",\"x\":[\"Apr\",\"Feb\",\"Jan\",\"Jun\",\"Mar\",\"May\"],\"xaxis\":\"x\",\"y\":[61.86,60.572500000000005,61.955,65.88250000000001,59.575,66.0875],\"yaxis\":\"y\",\"type\":\"bar\"},{\"alignmentgroup\":\"True\",\"hovertemplate\":\"stock=BA<br>month=%{x}<br>closing_price=%{y}<extra></extra>\",\"legendgroup\":\"BA\",\"marker\":{\"color\":\"#B6E880\",\"pattern\":{\"shape\":\"\"}},\"name\":\"BA\",\"offsetgroup\":\"BA\",\"orientation\":\"v\",\"showlegend\":true,\"textposition\":\"auto\",\"x\":[\"Apr\",\"Feb\",\"Jan\",\"Jun\",\"Mar\",\"May\"],\"xaxis\":\"x\",\"y\":[75.06,72.215,70.09,73.2375,71.47,78.2125],\"yaxis\":\"y\",\"type\":\"bar\"},{\"alignmentgroup\":\"True\",\"hovertemplate\":\"stock=MCD<br>month=%{x}<br>closing_price=%{y}<extra></extra>\",\"legendgroup\":\"MCD\",\"marker\":{\"color\":\"#FF97FF\",\"pattern\":{\"shape\":\"\"}},\"name\":\"MCD\",\"offsetgroup\":\"MCD\",\"orientation\":\"v\",\"showlegend\":true,\"textposition\":\"auto\",\"x\":[\"Apr\",\"Feb\",\"Jan\",\"Jun\",\"Mar\",\"May\"],\"xaxis\":\"x\",\"y\":[76.926,75.19,74.18,81.315,75.25,80.8475],\"yaxis\":\"y\",\"type\":\"bar\"},{\"alignmentgroup\":\"True\",\"hovertemplate\":\"stock=DIS<br>month=%{x}<br>closing_price=%{y}<extra></extra>\",\"legendgroup\":\"DIS\",\"marker\":{\"color\":\"#FECB52\",\"pattern\":{\"shape\":\"\"}},\"name\":\"DIS\",\"offsetgroup\":\"DIS\",\"orientation\":\"v\",\"showlegend\":true,\"textposition\":\"auto\",\"x\":[\"Apr\",\"Feb\",\"Jan\",\"Jun\",\"Mar\",\"May\"],\"xaxis\":\"x\",\"y\":[42.3,42.6575,39.3325,38.375,42.67,41.900000000000006],\"yaxis\":\"y\",\"type\":\"bar\"}],                        {\"template\":{\"data\":{\"histogram2dcontour\":[{\"type\":\"histogram2dcontour\",\"colorbar\":{\"outlinewidth\":0,\"ticks\":\"\"},\"colorscale\":[[0.0,\"#0d0887\"],[0.1111111111111111,\"#46039f\"],[0.2222222222222222,\"#7201a8\"],[0.3333333333333333,\"#9c179e\"],[0.4444444444444444,\"#bd3786\"],[0.5555555555555556,\"#d8576b\"],[0.6666666666666666,\"#ed7953\"],[0.7777777777777778,\"#fb9f3a\"],[0.8888888888888888,\"#fdca26\"],[1.0,\"#f0f921\"]]}],\"choropleth\":[{\"type\":\"choropleth\",\"colorbar\":{\"outlinewidth\":0,\"ticks\":\"\"}}],\"histogram2d\":[{\"type\":\"histogram2d\",\"colorbar\":{\"outlinewidth\":0,\"ticks\":\"\"},\"colorscale\":[[0.0,\"#0d0887\"],[0.1111111111111111,\"#46039f\"],[0.2222222222222222,\"#7201a8\"],[0.3333333333333333,\"#9c179e\"],[0.4444444444444444,\"#bd3786\"],[0.5555555555555556,\"#d8576b\"],[0.6666666666666666,\"#ed7953\"],[0.7777777777777778,\"#fb9f3a\"],[0.8888888888888888,\"#fdca26\"],[1.0,\"#f0f921\"]]}],\"heatmap\":[{\"type\":\"heatmap\",\"colorbar\":{\"outlinewidth\":0,\"ticks\":\"\"},\"colorscale\":[[0.0,\"#0d0887\"],[0.1111111111111111,\"#46039f\"],[0.2222222222222222,\"#7201a8\"],[0.3333333333333333,\"#9c179e\"],[0.4444444444444444,\"#bd3786\"],[0.5555555555555556,\"#d8576b\"],[0.6666666666666666,\"#ed7953\"],[0.7777777777777778,\"#fb9f3a\"],[0.8888888888888888,\"#fdca26\"],[1.0,\"#f0f921\"]]}],\"heatmapgl\":[{\"type\":\"heatmapgl\",\"colorbar\":{\"outlinewidth\":0,\"ticks\":\"\"},\"colorscale\":[[0.0,\"#0d0887\"],[0.1111111111111111,\"#46039f\"],[0.2222222222222222,\"#7201a8\"],[0.3333333333333333,\"#9c179e\"],[0.4444444444444444,\"#bd3786\"],[0.5555555555555556,\"#d8576b\"],[0.6666666666666666,\"#ed7953\"],[0.7777777777777778,\"#fb9f3a\"],[0.8888888888888888,\"#fdca26\"],[1.0,\"#f0f921\"]]}],\"contourcarpet\":[{\"type\":\"contourcarpet\",\"colorbar\":{\"outlinewidth\":0,\"ticks\":\"\"}}],\"contour\":[{\"type\":\"contour\",\"colorbar\":{\"outlinewidth\":0,\"ticks\":\"\"},\"colorscale\":[[0.0,\"#0d0887\"],[0.1111111111111111,\"#46039f\"],[0.2222222222222222,\"#7201a8\"],[0.3333333333333333,\"#9c179e\"],[0.4444444444444444,\"#bd3786\"],[0.5555555555555556,\"#d8576b\"],[0.6666666666666666,\"#ed7953\"],[0.7777777777777778,\"#fb9f3a\"],[0.8888888888888888,\"#fdca26\"],[1.0,\"#f0f921\"]]}],\"surface\":[{\"type\":\"surface\",\"colorbar\":{\"outlinewidth\":0,\"ticks\":\"\"},\"colorscale\":[[0.0,\"#0d0887\"],[0.1111111111111111,\"#46039f\"],[0.2222222222222222,\"#7201a8\"],[0.3333333333333333,\"#9c179e\"],[0.4444444444444444,\"#bd3786\"],[0.5555555555555556,\"#d8576b\"],[0.6666666666666666,\"#ed7953\"],[0.7777777777777778,\"#fb9f3a\"],[0.8888888888888888,\"#fdca26\"],[1.0,\"#f0f921\"]]}],\"mesh3d\":[{\"type\":\"mesh3d\",\"colorbar\":{\"outlinewidth\":0,\"ticks\":\"\"}}],\"scatter\":[{\"fillpattern\":{\"fillmode\":\"overlay\",\"size\":10,\"solidity\":0.2},\"type\":\"scatter\"}],\"parcoords\":[{\"type\":\"parcoords\",\"line\":{\"colorbar\":{\"outlinewidth\":0,\"ticks\":\"\"}}}],\"scatterpolargl\":[{\"type\":\"scatterpolargl\",\"marker\":{\"colorbar\":{\"outlinewidth\":0,\"ticks\":\"\"}}}],\"bar\":[{\"error_x\":{\"color\":\"#2a3f5f\"},\"error_y\":{\"color\":\"#2a3f5f\"},\"marker\":{\"line\":{\"color\":\"#E5ECF6\",\"width\":0.5},\"pattern\":{\"fillmode\":\"overlay\",\"size\":10,\"solidity\":0.2}},\"type\":\"bar\"}],\"scattergeo\":[{\"type\":\"scattergeo\",\"marker\":{\"colorbar\":{\"outlinewidth\":0,\"ticks\":\"\"}}}],\"scatterpolar\":[{\"type\":\"scatterpolar\",\"marker\":{\"colorbar\":{\"outlinewidth\":0,\"ticks\":\"\"}}}],\"histogram\":[{\"marker\":{\"pattern\":{\"fillmode\":\"overlay\",\"size\":10,\"solidity\":0.2}},\"type\":\"histogram\"}],\"scattergl\":[{\"type\":\"scattergl\",\"marker\":{\"colorbar\":{\"outlinewidth\":0,\"ticks\":\"\"}}}],\"scatter3d\":[{\"type\":\"scatter3d\",\"line\":{\"colorbar\":{\"outlinewidth\":0,\"ticks\":\"\"}},\"marker\":{\"colorbar\":{\"outlinewidth\":0,\"ticks\":\"\"}}}],\"scattermapbox\":[{\"type\":\"scattermapbox\",\"marker\":{\"colorbar\":{\"outlinewidth\":0,\"ticks\":\"\"}}}],\"scatterternary\":[{\"type\":\"scatterternary\",\"marker\":{\"colorbar\":{\"outlinewidth\":0,\"ticks\":\"\"}}}],\"scattercarpet\":[{\"type\":\"scattercarpet\",\"marker\":{\"colorbar\":{\"outlinewidth\":0,\"ticks\":\"\"}}}],\"carpet\":[{\"aaxis\":{\"endlinecolor\":\"#2a3f5f\",\"gridcolor\":\"white\",\"linecolor\":\"white\",\"minorgridcolor\":\"white\",\"startlinecolor\":\"#2a3f5f\"},\"baxis\":{\"endlinecolor\":\"#2a3f5f\",\"gridcolor\":\"white\",\"linecolor\":\"white\",\"minorgridcolor\":\"white\",\"startlinecolor\":\"#2a3f5f\"},\"type\":\"carpet\"}],\"table\":[{\"cells\":{\"fill\":{\"color\":\"#EBF0F8\"},\"line\":{\"color\":\"white\"}},\"header\":{\"fill\":{\"color\":\"#C8D4E3\"},\"line\":{\"color\":\"white\"}},\"type\":\"table\"}],\"barpolar\":[{\"marker\":{\"line\":{\"color\":\"#E5ECF6\",\"width\":0.5},\"pattern\":{\"fillmode\":\"overlay\",\"size\":10,\"solidity\":0.2}},\"type\":\"barpolar\"}],\"pie\":[{\"automargin\":true,\"type\":\"pie\"}]},\"layout\":{\"autotypenumbers\":\"strict\",\"colorway\":[\"#636efa\",\"#EF553B\",\"#00cc96\",\"#ab63fa\",\"#FFA15A\",\"#19d3f3\",\"#FF6692\",\"#B6E880\",\"#FF97FF\",\"#FECB52\"],\"font\":{\"color\":\"#2a3f5f\"},\"hovermode\":\"closest\",\"hoverlabel\":{\"align\":\"left\"},\"paper_bgcolor\":\"white\",\"plot_bgcolor\":\"#E5ECF6\",\"polar\":{\"bgcolor\":\"#E5ECF6\",\"angularaxis\":{\"gridcolor\":\"white\",\"linecolor\":\"white\",\"ticks\":\"\"},\"radialaxis\":{\"gridcolor\":\"white\",\"linecolor\":\"white\",\"ticks\":\"\"}},\"ternary\":{\"bgcolor\":\"#E5ECF6\",\"aaxis\":{\"gridcolor\":\"white\",\"linecolor\":\"white\",\"ticks\":\"\"},\"baxis\":{\"gridcolor\":\"white\",\"linecolor\":\"white\",\"ticks\":\"\"},\"caxis\":{\"gridcolor\":\"white\",\"linecolor\":\"white\",\"ticks\":\"\"}},\"coloraxis\":{\"colorbar\":{\"outlinewidth\":0,\"ticks\":\"\"}},\"colorscale\":{\"sequential\":[[0.0,\"#0d0887\"],[0.1111111111111111,\"#46039f\"],[0.2222222222222222,\"#7201a8\"],[0.3333333333333333,\"#9c179e\"],[0.4444444444444444,\"#bd3786\"],[0.5555555555555556,\"#d8576b\"],[0.6666666666666666,\"#ed7953\"],[0.7777777777777778,\"#fb9f3a\"],[0.8888888888888888,\"#fdca26\"],[1.0,\"#f0f921\"]],\"sequentialminus\":[[0.0,\"#0d0887\"],[0.1111111111111111,\"#46039f\"],[0.2222222222222222,\"#7201a8\"],[0.3333333333333333,\"#9c179e\"],[0.4444444444444444,\"#bd3786\"],[0.5555555555555556,\"#d8576b\"],[0.6666666666666666,\"#ed7953\"],[0.7777777777777778,\"#fb9f3a\"],[0.8888888888888888,\"#fdca26\"],[1.0,\"#f0f921\"]],\"diverging\":[[0,\"#8e0152\"],[0.1,\"#c51b7d\"],[0.2,\"#de77ae\"],[0.3,\"#f1b6da\"],[0.4,\"#fde0ef\"],[0.5,\"#f7f7f7\"],[0.6,\"#e6f5d0\"],[0.7,\"#b8e186\"],[0.8,\"#7fbc41\"],[0.9,\"#4d9221\"],[1,\"#276419\"]]},\"xaxis\":{\"gridcolor\":\"white\",\"linecolor\":\"white\",\"ticks\":\"\",\"title\":{\"standoff\":15},\"zerolinecolor\":\"white\",\"automargin\":true,\"zerolinewidth\":2},\"yaxis\":{\"gridcolor\":\"white\",\"linecolor\":\"white\",\"ticks\":\"\",\"title\":{\"standoff\":15},\"zerolinecolor\":\"white\",\"automargin\":true,\"zerolinewidth\":2},\"scene\":{\"xaxis\":{\"backgroundcolor\":\"#E5ECF6\",\"gridcolor\":\"white\",\"linecolor\":\"white\",\"showbackground\":true,\"ticks\":\"\",\"zerolinecolor\":\"white\",\"gridwidth\":2},\"yaxis\":{\"backgroundcolor\":\"#E5ECF6\",\"gridcolor\":\"white\",\"linecolor\":\"white\",\"showbackground\":true,\"ticks\":\"\",\"zerolinecolor\":\"white\",\"gridwidth\":2},\"zaxis\":{\"backgroundcolor\":\"#E5ECF6\",\"gridcolor\":\"white\",\"linecolor\":\"white\",\"showbackground\":true,\"ticks\":\"\",\"zerolinecolor\":\"white\",\"gridwidth\":2}},\"shapedefaults\":{\"line\":{\"color\":\"#2a3f5f\"}},\"annotationdefaults\":{\"arrowcolor\":\"#2a3f5f\",\"arrowhead\":0,\"arrowwidth\":1},\"geo\":{\"bgcolor\":\"white\",\"landcolor\":\"#E5ECF6\",\"subunitcolor\":\"white\",\"showland\":true,\"showlakes\":true,\"lakecolor\":\"white\"},\"title\":{\"x\":0.05},\"mapbox\":{\"style\":\"light\"}}},\"xaxis\":{\"anchor\":\"y\",\"domain\":[0.0,1.0],\"title\":{\"text\":\"month\"},\"categoryorder\":\"array\",\"categoryarray\":[\"Jan\",\"Feb\",\"Mar\",\"Apr\",\"May\",\"Jun\"]},\"yaxis\":{\"anchor\":\"x\",\"domain\":[0.0,1.0],\"title\":{\"text\":\"closing_price\"}},\"legend\":{\"title\":{\"text\":\"stock\"},\"tracegroupgap\":0},\"margin\":{\"t\":60},\"barmode\":\"relative\"},                        {\"responsive\": true}                    ).then(function(){\n",
       "                            \n",
       "var gd = document.getElementById('d96edb53-8d3e-4ede-81ec-dcbca445c4e9');\n",
       "var x = new MutationObserver(function (mutations, observer) {{\n",
       "        var display = window.getComputedStyle(gd).display;\n",
       "        if (!display || display === 'none') {{\n",
       "            console.log([gd, 'removed!']);\n",
       "            Plotly.purge(gd);\n",
       "            observer.disconnect();\n",
       "        }}\n",
       "}});\n",
       "\n",
       "// Listen for the removal of the full notebook cells\n",
       "var notebookContainer = gd.closest('#notebook-container');\n",
       "if (notebookContainer) {{\n",
       "    x.observe(notebookContainer, {childList: true});\n",
       "}}\n",
       "\n",
       "// Listen for the clearing of the current output cell\n",
       "var outputEl = gd.closest('.output');\n",
       "if (outputEl) {{\n",
       "    x.observe(outputEl, {childList: true});\n",
       "}}\n",
       "\n",
       "                        })                };                });            </script>        </div>"
      ]
     },
     "metadata": {},
     "output_type": "display_data"
    }
   ],
   "source": [
    "# Pivot the data into a wide format for closing prices and volume\n",
    "closing_prices_pivot = monthly_trends_all.pivot_table(index='stock', columns='month_name', values='close', sort=False)\n",
    "volume_pivot = monthly_trends_all.pivot_table(index='stock', columns='month_name', values='volume', sort=False)\n",
    "closing_prices_pivot\n",
    "\n",
    "import plotly.express as px\n",
    "\n",
    "plot_df = closing_prices_pivot.reset_index().melt(id_vars='stock', var_name='month', value_name='closing_price' )\n",
    "\n",
    "fig = px.bar(plot_df, x='month', y='closing_price', color='stock', category_orders={'month': ['Jan', 'Feb', 'Mar', 'Apr', 'May', 'Jun']})\n",
    "fig.show()"
   ]
  },
  {
   "cell_type": "markdown",
   "id": "1b0dd1fb",
   "metadata": {},
   "source": [
    "### Monthly Volume of All Stocks\n",
    "\n",
    "Now, let's visualize the average monthly volume for all stocks in the dataset. The visulization shows the average monthly volume in each stock. There seems to be similarity in the stocks among the months, but some months have clear difference, like January has a generally higher average volume indicating that more people generally trade their stocks in January.\n"
   ]
  },
  {
   "cell_type": "code",
   "execution_count": 130,
   "id": "428e99fb",
   "metadata": {},
   "outputs": [
    {
     "data": {
      "application/vnd.plotly.v1+json": {
       "config": {
        "plotlyServerURL": "https://plot.ly"
       },
       "data": [
        {
         "alignmentgroup": "True",
         "hovertemplate": "stock=AA<br>month=%{x}<br>volume=%{y}<extra></extra>",
         "legendgroup": "AA",
         "marker": {
          "color": "#636efa",
          "pattern": {
           "shape": ""
          }
         },
         "name": "AA",
         "offsetgroup": "AA",
         "orientation": "v",
         "showlegend": true,
         "textposition": "auto",
         "type": "bar",
         "x": [
          "Apr",
          "Feb",
          "Jan",
          "Jun",
          "Mar",
          "May"
         ],
         "xaxis": "x",
         "y": [
          124337159.2,
          120521199.5,
          193106670.5,
          95705212.75,
          112437534.75,
          133050497.25
         ],
         "yaxis": "y"
        },
        {
         "alignmentgroup": "True",
         "hovertemplate": "stock=CSCO<br>month=%{x}<br>volume=%{y}<extra></extra>",
         "legendgroup": "CSCO",
         "marker": {
          "color": "#EF553B",
          "pattern": {
           "shape": ""
          }
         },
         "name": "CSCO",
         "offsetgroup": "CSCO",
         "orientation": "v",
         "showlegend": true,
         "textposition": "auto",
         "type": "bar",
         "x": [
          "Apr",
          "Feb",
          "Jan",
          "Jun",
          "Mar",
          "May"
         ],
         "xaxis": "x",
         "y": [
          366948704,
          478041725,
          229412069,
          374844704.25,
          335501306,
          365149239
         ],
         "yaxis": "y"
        },
        {
         "alignmentgroup": "True",
         "hovertemplate": "stock=MRK<br>month=%{x}<br>volume=%{y}<extra></extra>",
         "legendgroup": "MRK",
         "marker": {
          "color": "#00cc96",
          "pattern": {
           "shape": ""
          }
         },
         "name": "MRK",
         "offsetgroup": "MRK",
         "orientation": "v",
         "showlegend": true,
         "textposition": "auto",
         "type": "bar",
         "x": [
          "Apr",
          "Feb",
          "Jan",
          "Jun",
          "Mar",
          "May"
         ],
         "xaxis": "x",
         "y": [
          68373627.6,
          72201760.75,
          105529670.5,
          56230280.25,
          92969221.75,
          67438502.5
         ],
         "yaxis": "y"
        },
        {
         "alignmentgroup": "True",
         "hovertemplate": "stock=UTX<br>month=%{x}<br>volume=%{y}<extra></extra>",
         "legendgroup": "UTX",
         "marker": {
          "color": "#ab63fa",
          "pattern": {
           "shape": ""
          }
         },
         "name": "UTX",
         "offsetgroup": "UTX",
         "orientation": "v",
         "showlegend": true,
         "textposition": "auto",
         "type": "bar",
         "x": [
          "Apr",
          "Feb",
          "Jan",
          "Jun",
          "Mar",
          "May"
         ],
         "xaxis": "x",
         "y": [
          16536441,
          14951007.5,
          17137146,
          21034910.5,
          21609844.5,
          19084471.5
         ],
         "yaxis": "y"
        },
        {
         "alignmentgroup": "True",
         "hovertemplate": "stock=PG<br>month=%{x}<br>volume=%{y}<extra></extra>",
         "legendgroup": "PG",
         "marker": {
          "color": "#FFA15A",
          "pattern": {
           "shape": ""
          }
         },
         "name": "PG",
         "offsetgroup": "PG",
         "orientation": "v",
         "showlegend": true,
         "textposition": "auto",
         "type": "bar",
         "x": [
          "Apr",
          "Feb",
          "Jan",
          "Jun",
          "Mar",
          "May"
         ],
         "xaxis": "x",
         "y": [
          43439149.4,
          48262294.5,
          52627986.75,
          46449542.75,
          55048908.25,
          47394146.25
         ],
         "yaxis": "y"
        },
        {
         "alignmentgroup": "True",
         "hovertemplate": "stock=HPQ<br>month=%{x}<br>volume=%{y}<extra></extra>",
         "legendgroup": "HPQ",
         "marker": {
          "color": "#19d3f3",
          "pattern": {
           "shape": ""
          }
         },
         "name": "HPQ",
         "offsetgroup": "HPQ",
         "orientation": "v",
         "showlegend": true,
         "textposition": "auto",
         "type": "bar",
         "x": [
          "Apr",
          "Feb",
          "Jan",
          "Jun",
          "Mar",
          "May"
         ],
         "xaxis": "x",
         "y": [
          75334301.6,
          104778699.5,
          83043684.5,
          97683832,
          98746063.75,
          114445032
         ],
         "yaxis": "y"
        },
        {
         "alignmentgroup": "True",
         "hovertemplate": "stock=PFE<br>month=%{x}<br>volume=%{y}<extra></extra>",
         "legendgroup": "PFE",
         "marker": {
          "color": "#FF6692",
          "pattern": {
           "shape": ""
          }
         },
         "name": "PFE",
         "offsetgroup": "PFE",
         "orientation": "v",
         "showlegend": true,
         "textposition": "auto",
         "type": "bar",
         "x": [
          "Apr",
          "Feb",
          "Jan",
          "Jun",
          "Mar",
          "May"
         ],
         "xaxis": "x",
         "y": [
          185637091.2,
          217490731.5,
          260496376.5,
          213453894.5,
          281731483.5,
          216449653.75
         ],
         "yaxis": "y"
        },
        {
         "alignmentgroup": "True",
         "hovertemplate": "stock=CAT<br>month=%{x}<br>volume=%{y}<extra></extra>",
         "legendgroup": "CAT",
         "marker": {
          "color": "#B6E880",
          "pattern": {
           "shape": ""
          }
         },
         "name": "CAT",
         "offsetgroup": "CAT",
         "orientation": "v",
         "showlegend": true,
         "textposition": "auto",
         "type": "bar",
         "x": [
          "Apr",
          "Feb",
          "Jan",
          "Jun",
          "Mar",
          "May"
         ],
         "xaxis": "x",
         "y": [
          29209811.6,
          25820073,
          26855803.75,
          40912201.5,
          40124671.75,
          40594459.75
         ],
         "yaxis": "y"
        },
        {
         "alignmentgroup": "True",
         "hovertemplate": "stock=XOM<br>month=%{x}<br>volume=%{y}<extra></extra>",
         "legendgroup": "XOM",
         "marker": {
          "color": "#FF97FF",
          "pattern": {
           "shape": ""
          }
         },
         "name": "XOM",
         "offsetgroup": "XOM",
         "orientation": "v",
         "showlegend": true,
         "textposition": "auto",
         "type": "bar",
         "x": [
          "Apr",
          "Feb",
          "Jan",
          "Jun",
          "Mar",
          "May"
         ],
         "xaxis": "x",
         "y": [
          71833524.2,
          107705273,
          97858955.75,
          97549582.5,
          100535204.25,
          92118407.75
         ],
         "yaxis": "y"
        },
        {
         "alignmentgroup": "True",
         "hovertemplate": "stock=MSFT<br>month=%{x}<br>volume=%{y}<extra></extra>",
         "legendgroup": "MSFT",
         "marker": {
          "color": "#FECB52",
          "pattern": {
           "shape": ""
          }
         },
         "name": "MSFT",
         "offsetgroup": "MSFT",
         "orientation": "v",
         "showlegend": true,
         "textposition": "auto",
         "type": "bar",
         "x": [
          "Apr",
          "Feb",
          "Jan",
          "Jun",
          "Mar",
          "May"
         ],
         "xaxis": "x",
         "y": [
          292404929.6,
          264846399.75,
          308401745.5,
          266590445.5,
          291840552.5,
          313432146.25
         ],
         "yaxis": "y"
        },
        {
         "alignmentgroup": "True",
         "hovertemplate": "stock=MMM<br>month=%{x}<br>volume=%{y}<extra></extra>",
         "legendgroup": "MMM",
         "marker": {
          "color": "#636efa",
          "pattern": {
           "shape": ""
          }
         },
         "name": "MMM",
         "offsetgroup": "MMM",
         "orientation": "v",
         "showlegend": true,
         "textposition": "auto",
         "type": "bar",
         "x": [
          "Apr",
          "Feb",
          "Jan",
          "Jun",
          "Mar",
          "May"
         ],
         "xaxis": "x",
         "y": [
          14676050.6,
          15489202.5,
          16142230.25,
          14475642.5,
          18550407.75,
          15245288.75
         ],
         "yaxis": "y"
        },
        {
         "alignmentgroup": "True",
         "hovertemplate": "stock=IBM<br>month=%{x}<br>volume=%{y}<extra></extra>",
         "legendgroup": "IBM",
         "marker": {
          "color": "#EF553B",
          "pattern": {
           "shape": ""
          }
         },
         "name": "IBM",
         "offsetgroup": "IBM",
         "orientation": "v",
         "showlegend": true,
         "textposition": "auto",
         "type": "bar",
         "x": [
          "Apr",
          "Feb",
          "Jan",
          "Jun",
          "Mar",
          "May"
         ],
         "xaxis": "x",
         "y": [
          21874594.6,
          21820085,
          26777401.25,
          24092655.5,
          29969637,
          24616880.75
         ],
         "yaxis": "y"
        },
        {
         "alignmentgroup": "True",
         "hovertemplate": "stock=CVX<br>month=%{x}<br>volume=%{y}<extra></extra>",
         "legendgroup": "CVX",
         "marker": {
          "color": "#00cc96",
          "pattern": {
           "shape": ""
          }
         },
         "name": "CVX",
         "offsetgroup": "CVX",
         "orientation": "v",
         "showlegend": true,
         "textposition": "auto",
         "type": "bar",
         "x": [
          "Apr",
          "Feb",
          "Jan",
          "Jun",
          "Mar",
          "May"
         ],
         "xaxis": "x",
         "y": [
          31455626.6,
          43385136.5,
          33468132.5,
          38819761,
          46920388.25,
          39210984.5
         ],
         "yaxis": "y"
        },
        {
         "alignmentgroup": "True",
         "hovertemplate": "stock=BAC<br>month=%{x}<br>volume=%{y}<extra></extra>",
         "legendgroup": "BAC",
         "marker": {
          "color": "#ab63fa",
          "pattern": {
           "shape": ""
          }
         },
         "name": "BAC",
         "offsetgroup": "BAC",
         "orientation": "v",
         "showlegend": true,
         "textposition": "auto",
         "type": "bar",
         "x": [
          "Apr",
          "Feb",
          "Jan",
          "Jun",
          "Mar",
          "May"
         ],
         "xaxis": "x",
         "y": [
          566545648.4,
          668634487.5,
          1062808879.25,
          740555162,
          753735583.5,
          584828424.5
         ],
         "yaxis": "y"
        },
        {
         "alignmentgroup": "True",
         "hovertemplate": "stock=INTC<br>month=%{x}<br>volume=%{y}<extra></extra>",
         "legendgroup": "INTC",
         "marker": {
          "color": "#FFA15A",
          "pattern": {
           "shape": ""
          }
         },
         "name": "INTC",
         "offsetgroup": "INTC",
         "orientation": "v",
         "showlegend": true,
         "textposition": "auto",
         "type": "bar",
         "x": [
          "Apr",
          "Feb",
          "Jan",
          "Jun",
          "Mar",
          "May"
         ],
         "xaxis": "x",
         "y": [
          321616595,
          243032182.75,
          301119574.5,
          269000690,
          289550838.25,
          364166074.5
         ],
         "yaxis": "y"
        },
        {
         "alignmentgroup": "True",
         "hovertemplate": "stock=HD<br>month=%{x}<br>volume=%{y}<extra></extra>",
         "legendgroup": "HD",
         "marker": {
          "color": "#19d3f3",
          "pattern": {
           "shape": ""
          }
         },
         "name": "HD",
         "offsetgroup": "HD",
         "orientation": "v",
         "showlegend": true,
         "textposition": "auto",
         "type": "bar",
         "x": [
          "Apr",
          "Feb",
          "Jan",
          "Jun",
          "Mar",
          "May"
         ],
         "xaxis": "x",
         "y": [
          45619089.8,
          40839985.25,
          51785649.25,
          56657030,
          48004036.5,
          46970987
         ],
         "yaxis": "y"
        },
        {
         "alignmentgroup": "True",
         "hovertemplate": "stock=WMT<br>month=%{x}<br>volume=%{y}<extra></extra>",
         "legendgroup": "WMT",
         "marker": {
          "color": "#FF6692",
          "pattern": {
           "shape": ""
          }
         },
         "name": "WMT",
         "offsetgroup": "WMT",
         "orientation": "v",
         "showlegend": true,
         "textposition": "auto",
         "type": "bar",
         "x": [
          "Apr",
          "Feb",
          "Jan",
          "Jun",
          "Mar",
          "May"
         ],
         "xaxis": "x",
         "y": [
          41759443.8,
          63678232.5,
          58929170,
          62875386.75,
          65183185.5,
          45393680.75
         ],
         "yaxis": "y"
        },
        {
         "alignmentgroup": "True",
         "hovertemplate": "stock=GE<br>month=%{x}<br>volume=%{y}<extra></extra>",
         "legendgroup": "GE",
         "marker": {
          "color": "#B6E880",
          "pattern": {
           "shape": ""
          }
         },
         "name": "GE",
         "offsetgroup": "GE",
         "orientation": "v",
         "showlegend": true,
         "textposition": "auto",
         "type": "bar",
         "x": [
          "Apr",
          "Feb",
          "Jan",
          "Jun",
          "Mar",
          "May"
         ],
         "xaxis": "x",
         "y": [
          224393179.2,
          231509293.25,
          345649875.5,
          256608513.75,
          328269260.75,
          207084572.5
         ],
         "yaxis": "y"
        },
        {
         "alignmentgroup": "True",
         "hovertemplate": "stock=KO<br>month=%{x}<br>volume=%{y}<extra></extra>",
         "legendgroup": "KO",
         "marker": {
          "color": "#FF97FF",
          "pattern": {
           "shape": ""
          }
         },
         "name": "KO",
         "offsetgroup": "KO",
         "orientation": "v",
         "showlegend": true,
         "textposition": "auto",
         "type": "bar",
         "x": [
          "Apr",
          "Feb",
          "Jan",
          "Jun",
          "Mar",
          "May"
         ],
         "xaxis": "x",
         "y": [
          35264105.4,
          35850491.25,
          42310551,
          38654071.75,
          48905603.75,
          31175207
         ],
         "yaxis": "y"
        },
        {
         "alignmentgroup": "True",
         "hovertemplate": "stock=DD<br>month=%{x}<br>volume=%{y}<extra></extra>",
         "legendgroup": "DD",
         "marker": {
          "color": "#FECB52",
          "pattern": {
           "shape": ""
          }
         },
         "name": "DD",
         "offsetgroup": "DD",
         "orientation": "v",
         "showlegend": true,
         "textposition": "auto",
         "type": "bar",
         "x": [
          "Apr",
          "Feb",
          "Jan",
          "Jun",
          "Mar",
          "May"
         ],
         "xaxis": "x",
         "y": [
          21994722.6,
          32280608.25,
          33311602,
          31053881.75,
          31073589.25,
          26766032.5
         ],
         "yaxis": "y"
        },
        {
         "alignmentgroup": "True",
         "hovertemplate": "stock=VZ<br>month=%{x}<br>volume=%{y}<extra></extra>",
         "legendgroup": "VZ",
         "marker": {
          "color": "#636efa",
          "pattern": {
           "shape": ""
          }
         },
         "name": "VZ",
         "offsetgroup": "VZ",
         "orientation": "v",
         "showlegend": true,
         "textposition": "auto",
         "type": "bar",
         "x": [
          "Apr",
          "Feb",
          "Jan",
          "Jun",
          "Mar",
          "May"
         ],
         "xaxis": "x",
         "y": [
          64123557.6,
          69477397.75,
          126243089,
          68559016.5,
          87507661.75,
          57965792.25
         ],
         "yaxis": "y"
        },
        {
         "alignmentgroup": "True",
         "hovertemplate": "stock=TRV<br>month=%{x}<br>volume=%{y}<extra></extra>",
         "legendgroup": "TRV",
         "marker": {
          "color": "#EF553B",
          "pattern": {
           "shape": ""
          }
         },
         "name": "TRV",
         "offsetgroup": "TRV",
         "orientation": "v",
         "showlegend": true,
         "textposition": "auto",
         "type": "bar",
         "x": [
          "Apr",
          "Feb",
          "Jan",
          "Jun",
          "Mar",
          "May"
         ],
         "xaxis": "x",
         "y": [
          14111632.8,
          20497764,
          18764353.75,
          18308641.75,
          18805993,
          13216104.5
         ],
         "yaxis": "y"
        },
        {
         "alignmentgroup": "True",
         "hovertemplate": "stock=KRFT<br>month=%{x}<br>volume=%{y}<extra></extra>",
         "legendgroup": "KRFT",
         "marker": {
          "color": "#00cc96",
          "pattern": {
           "shape": ""
          }
         },
         "name": "KRFT",
         "offsetgroup": "KRFT",
         "orientation": "v",
         "showlegend": true,
         "textposition": "auto",
         "type": "bar",
         "x": [
          "Apr",
          "Feb",
          "Jan",
          "Jun",
          "Mar",
          "May"
         ],
         "xaxis": "x",
         "y": [
          44110289.8,
          47327920.75,
          41696241.5,
          41715613.75,
          47668199.25,
          46555232.75
         ],
         "yaxis": "y"
        },
        {
         "alignmentgroup": "True",
         "hovertemplate": "stock=T<br>month=%{x}<br>volume=%{y}<extra></extra>",
         "legendgroup": "T",
         "marker": {
          "color": "#ab63fa",
          "pattern": {
           "shape": ""
          }
         },
         "name": "T",
         "offsetgroup": "T",
         "orientation": "v",
         "showlegend": true,
         "textposition": "auto",
         "type": "bar",
         "x": [
          "Apr",
          "Feb",
          "Jan",
          "Jun",
          "Mar",
          "May"
         ],
         "xaxis": "x",
         "y": [
          165894966,
          107641157.5,
          157624785,
          102722569.25,
          145201356.25,
          106237132.5
         ],
         "yaxis": "y"
        },
        {
         "alignmentgroup": "True",
         "hovertemplate": "stock=AXP<br>month=%{x}<br>volume=%{y}<extra></extra>",
         "legendgroup": "AXP",
         "marker": {
          "color": "#FFA15A",
          "pattern": {
           "shape": ""
          }
         },
         "name": "AXP",
         "offsetgroup": "AXP",
         "orientation": "v",
         "showlegend": true,
         "textposition": "auto",
         "type": "bar",
         "x": [
          "Apr",
          "Feb",
          "Jan",
          "Jun",
          "Mar",
          "May"
         ],
         "xaxis": "x",
         "y": [
          28868800.4,
          37866933.5,
          40316939.25,
          32906962,
          37288581,
          35587593.75
         ],
         "yaxis": "y"
        },
        {
         "alignmentgroup": "True",
         "hovertemplate": "stock=JPM<br>month=%{x}<br>volume=%{y}<extra></extra>",
         "legendgroup": "JPM",
         "marker": {
          "color": "#19d3f3",
          "pattern": {
           "shape": ""
          }
         },
         "name": "JPM",
         "offsetgroup": "JPM",
         "orientation": "v",
         "showlegend": true,
         "textposition": "auto",
         "type": "bar",
         "x": [
          "Apr",
          "Feb",
          "Jan",
          "Jun",
          "Mar",
          "May"
         ],
         "xaxis": "x",
         "y": [
          128250157,
          142836510.25,
          179253731.5,
          172775778,
          155959794,
          133292843.25
         ],
         "yaxis": "y"
        },
        {
         "alignmentgroup": "True",
         "hovertemplate": "stock=JNJ<br>month=%{x}<br>volume=%{y}<extra></extra>",
         "legendgroup": "JNJ",
         "marker": {
          "color": "#FF6692",
          "pattern": {
           "shape": ""
          }
         },
         "name": "JNJ",
         "offsetgroup": "JNJ",
         "orientation": "v",
         "showlegend": true,
         "textposition": "auto",
         "type": "bar",
         "x": [
          "Apr",
          "Feb",
          "Jan",
          "Jun",
          "Mar",
          "May"
         ],
         "xaxis": "x",
         "y": [
          59487258,
          46649805.75,
          56738526.75,
          53598737.75,
          59158898.25,
          59533116
         ],
         "yaxis": "y"
        },
        {
         "alignmentgroup": "True",
         "hovertemplate": "stock=BA<br>month=%{x}<br>volume=%{y}<extra></extra>",
         "legendgroup": "BA",
         "marker": {
          "color": "#B6E880",
          "pattern": {
           "shape": ""
          }
         },
         "name": "BA",
         "offsetgroup": "BA",
         "orientation": "v",
         "showlegend": true,
         "textposition": "auto",
         "type": "bar",
         "x": [
          "Apr",
          "Feb",
          "Jan",
          "Jun",
          "Mar",
          "May"
         ],
         "xaxis": "x",
         "y": [
          21750697.6,
          21706786.5,
          29904169.5,
          23111167.25,
          26813374,
          19910009
         ],
         "yaxis": "y"
        },
        {
         "alignmentgroup": "True",
         "hovertemplate": "stock=MCD<br>month=%{x}<br>volume=%{y}<extra></extra>",
         "legendgroup": "MCD",
         "marker": {
          "color": "#FF97FF",
          "pattern": {
           "shape": ""
          }
         },
         "name": "MCD",
         "offsetgroup": "MCD",
         "orientation": "v",
         "showlegend": true,
         "textposition": "auto",
         "type": "bar",
         "x": [
          "Apr",
          "Feb",
          "Jan",
          "Jun",
          "Mar",
          "May"
         ],
         "xaxis": "x",
         "y": [
          20525488.6,
          31374679.5,
          54271982.75,
          27616455.5,
          35158393,
          26869755.25
         ],
         "yaxis": "y"
        },
        {
         "alignmentgroup": "True",
         "hovertemplate": "stock=DIS<br>month=%{x}<br>volume=%{y}<extra></extra>",
         "legendgroup": "DIS",
         "marker": {
          "color": "#FECB52",
          "pattern": {
           "shape": ""
          }
         },
         "name": "DIS",
         "offsetgroup": "DIS",
         "orientation": "v",
         "showlegend": true,
         "textposition": "auto",
         "type": "bar",
         "x": [
          "Apr",
          "Feb",
          "Jan",
          "Jun",
          "Mar",
          "May"
         ],
         "xaxis": "x",
         "y": [
          33688065,
          57083017.75,
          45794927,
          51548049.25,
          50020586.75,
          49966297
         ],
         "yaxis": "y"
        }
       ],
       "layout": {
        "barmode": "relative",
        "legend": {
         "title": {
          "text": "stock"
         },
         "tracegroupgap": 0
        },
        "margin": {
         "t": 60
        },
        "template": {
         "data": {
          "bar": [
           {
            "error_x": {
             "color": "#2a3f5f"
            },
            "error_y": {
             "color": "#2a3f5f"
            },
            "marker": {
             "line": {
              "color": "#E5ECF6",
              "width": 0.5
             },
             "pattern": {
              "fillmode": "overlay",
              "size": 10,
              "solidity": 0.2
             }
            },
            "type": "bar"
           }
          ],
          "barpolar": [
           {
            "marker": {
             "line": {
              "color": "#E5ECF6",
              "width": 0.5
             },
             "pattern": {
              "fillmode": "overlay",
              "size": 10,
              "solidity": 0.2
             }
            },
            "type": "barpolar"
           }
          ],
          "carpet": [
           {
            "aaxis": {
             "endlinecolor": "#2a3f5f",
             "gridcolor": "white",
             "linecolor": "white",
             "minorgridcolor": "white",
             "startlinecolor": "#2a3f5f"
            },
            "baxis": {
             "endlinecolor": "#2a3f5f",
             "gridcolor": "white",
             "linecolor": "white",
             "minorgridcolor": "white",
             "startlinecolor": "#2a3f5f"
            },
            "type": "carpet"
           }
          ],
          "choropleth": [
           {
            "colorbar": {
             "outlinewidth": 0,
             "ticks": ""
            },
            "type": "choropleth"
           }
          ],
          "contour": [
           {
            "colorbar": {
             "outlinewidth": 0,
             "ticks": ""
            },
            "colorscale": [
             [
              0,
              "#0d0887"
             ],
             [
              0.1111111111111111,
              "#46039f"
             ],
             [
              0.2222222222222222,
              "#7201a8"
             ],
             [
              0.3333333333333333,
              "#9c179e"
             ],
             [
              0.4444444444444444,
              "#bd3786"
             ],
             [
              0.5555555555555556,
              "#d8576b"
             ],
             [
              0.6666666666666666,
              "#ed7953"
             ],
             [
              0.7777777777777778,
              "#fb9f3a"
             ],
             [
              0.8888888888888888,
              "#fdca26"
             ],
             [
              1,
              "#f0f921"
             ]
            ],
            "type": "contour"
           }
          ],
          "contourcarpet": [
           {
            "colorbar": {
             "outlinewidth": 0,
             "ticks": ""
            },
            "type": "contourcarpet"
           }
          ],
          "heatmap": [
           {
            "colorbar": {
             "outlinewidth": 0,
             "ticks": ""
            },
            "colorscale": [
             [
              0,
              "#0d0887"
             ],
             [
              0.1111111111111111,
              "#46039f"
             ],
             [
              0.2222222222222222,
              "#7201a8"
             ],
             [
              0.3333333333333333,
              "#9c179e"
             ],
             [
              0.4444444444444444,
              "#bd3786"
             ],
             [
              0.5555555555555556,
              "#d8576b"
             ],
             [
              0.6666666666666666,
              "#ed7953"
             ],
             [
              0.7777777777777778,
              "#fb9f3a"
             ],
             [
              0.8888888888888888,
              "#fdca26"
             ],
             [
              1,
              "#f0f921"
             ]
            ],
            "type": "heatmap"
           }
          ],
          "heatmapgl": [
           {
            "colorbar": {
             "outlinewidth": 0,
             "ticks": ""
            },
            "colorscale": [
             [
              0,
              "#0d0887"
             ],
             [
              0.1111111111111111,
              "#46039f"
             ],
             [
              0.2222222222222222,
              "#7201a8"
             ],
             [
              0.3333333333333333,
              "#9c179e"
             ],
             [
              0.4444444444444444,
              "#bd3786"
             ],
             [
              0.5555555555555556,
              "#d8576b"
             ],
             [
              0.6666666666666666,
              "#ed7953"
             ],
             [
              0.7777777777777778,
              "#fb9f3a"
             ],
             [
              0.8888888888888888,
              "#fdca26"
             ],
             [
              1,
              "#f0f921"
             ]
            ],
            "type": "heatmapgl"
           }
          ],
          "histogram": [
           {
            "marker": {
             "pattern": {
              "fillmode": "overlay",
              "size": 10,
              "solidity": 0.2
             }
            },
            "type": "histogram"
           }
          ],
          "histogram2d": [
           {
            "colorbar": {
             "outlinewidth": 0,
             "ticks": ""
            },
            "colorscale": [
             [
              0,
              "#0d0887"
             ],
             [
              0.1111111111111111,
              "#46039f"
             ],
             [
              0.2222222222222222,
              "#7201a8"
             ],
             [
              0.3333333333333333,
              "#9c179e"
             ],
             [
              0.4444444444444444,
              "#bd3786"
             ],
             [
              0.5555555555555556,
              "#d8576b"
             ],
             [
              0.6666666666666666,
              "#ed7953"
             ],
             [
              0.7777777777777778,
              "#fb9f3a"
             ],
             [
              0.8888888888888888,
              "#fdca26"
             ],
             [
              1,
              "#f0f921"
             ]
            ],
            "type": "histogram2d"
           }
          ],
          "histogram2dcontour": [
           {
            "colorbar": {
             "outlinewidth": 0,
             "ticks": ""
            },
            "colorscale": [
             [
              0,
              "#0d0887"
             ],
             [
              0.1111111111111111,
              "#46039f"
             ],
             [
              0.2222222222222222,
              "#7201a8"
             ],
             [
              0.3333333333333333,
              "#9c179e"
             ],
             [
              0.4444444444444444,
              "#bd3786"
             ],
             [
              0.5555555555555556,
              "#d8576b"
             ],
             [
              0.6666666666666666,
              "#ed7953"
             ],
             [
              0.7777777777777778,
              "#fb9f3a"
             ],
             [
              0.8888888888888888,
              "#fdca26"
             ],
             [
              1,
              "#f0f921"
             ]
            ],
            "type": "histogram2dcontour"
           }
          ],
          "mesh3d": [
           {
            "colorbar": {
             "outlinewidth": 0,
             "ticks": ""
            },
            "type": "mesh3d"
           }
          ],
          "parcoords": [
           {
            "line": {
             "colorbar": {
              "outlinewidth": 0,
              "ticks": ""
             }
            },
            "type": "parcoords"
           }
          ],
          "pie": [
           {
            "automargin": true,
            "type": "pie"
           }
          ],
          "scatter": [
           {
            "fillpattern": {
             "fillmode": "overlay",
             "size": 10,
             "solidity": 0.2
            },
            "type": "scatter"
           }
          ],
          "scatter3d": [
           {
            "line": {
             "colorbar": {
              "outlinewidth": 0,
              "ticks": ""
             }
            },
            "marker": {
             "colorbar": {
              "outlinewidth": 0,
              "ticks": ""
             }
            },
            "type": "scatter3d"
           }
          ],
          "scattercarpet": [
           {
            "marker": {
             "colorbar": {
              "outlinewidth": 0,
              "ticks": ""
             }
            },
            "type": "scattercarpet"
           }
          ],
          "scattergeo": [
           {
            "marker": {
             "colorbar": {
              "outlinewidth": 0,
              "ticks": ""
             }
            },
            "type": "scattergeo"
           }
          ],
          "scattergl": [
           {
            "marker": {
             "colorbar": {
              "outlinewidth": 0,
              "ticks": ""
             }
            },
            "type": "scattergl"
           }
          ],
          "scattermapbox": [
           {
            "marker": {
             "colorbar": {
              "outlinewidth": 0,
              "ticks": ""
             }
            },
            "type": "scattermapbox"
           }
          ],
          "scatterpolar": [
           {
            "marker": {
             "colorbar": {
              "outlinewidth": 0,
              "ticks": ""
             }
            },
            "type": "scatterpolar"
           }
          ],
          "scatterpolargl": [
           {
            "marker": {
             "colorbar": {
              "outlinewidth": 0,
              "ticks": ""
             }
            },
            "type": "scatterpolargl"
           }
          ],
          "scatterternary": [
           {
            "marker": {
             "colorbar": {
              "outlinewidth": 0,
              "ticks": ""
             }
            },
            "type": "scatterternary"
           }
          ],
          "surface": [
           {
            "colorbar": {
             "outlinewidth": 0,
             "ticks": ""
            },
            "colorscale": [
             [
              0,
              "#0d0887"
             ],
             [
              0.1111111111111111,
              "#46039f"
             ],
             [
              0.2222222222222222,
              "#7201a8"
             ],
             [
              0.3333333333333333,
              "#9c179e"
             ],
             [
              0.4444444444444444,
              "#bd3786"
             ],
             [
              0.5555555555555556,
              "#d8576b"
             ],
             [
              0.6666666666666666,
              "#ed7953"
             ],
             [
              0.7777777777777778,
              "#fb9f3a"
             ],
             [
              0.8888888888888888,
              "#fdca26"
             ],
             [
              1,
              "#f0f921"
             ]
            ],
            "type": "surface"
           }
          ],
          "table": [
           {
            "cells": {
             "fill": {
              "color": "#EBF0F8"
             },
             "line": {
              "color": "white"
             }
            },
            "header": {
             "fill": {
              "color": "#C8D4E3"
             },
             "line": {
              "color": "white"
             }
            },
            "type": "table"
           }
          ]
         },
         "layout": {
          "annotationdefaults": {
           "arrowcolor": "#2a3f5f",
           "arrowhead": 0,
           "arrowwidth": 1
          },
          "autotypenumbers": "strict",
          "coloraxis": {
           "colorbar": {
            "outlinewidth": 0,
            "ticks": ""
           }
          },
          "colorscale": {
           "diverging": [
            [
             0,
             "#8e0152"
            ],
            [
             0.1,
             "#c51b7d"
            ],
            [
             0.2,
             "#de77ae"
            ],
            [
             0.3,
             "#f1b6da"
            ],
            [
             0.4,
             "#fde0ef"
            ],
            [
             0.5,
             "#f7f7f7"
            ],
            [
             0.6,
             "#e6f5d0"
            ],
            [
             0.7,
             "#b8e186"
            ],
            [
             0.8,
             "#7fbc41"
            ],
            [
             0.9,
             "#4d9221"
            ],
            [
             1,
             "#276419"
            ]
           ],
           "sequential": [
            [
             0,
             "#0d0887"
            ],
            [
             0.1111111111111111,
             "#46039f"
            ],
            [
             0.2222222222222222,
             "#7201a8"
            ],
            [
             0.3333333333333333,
             "#9c179e"
            ],
            [
             0.4444444444444444,
             "#bd3786"
            ],
            [
             0.5555555555555556,
             "#d8576b"
            ],
            [
             0.6666666666666666,
             "#ed7953"
            ],
            [
             0.7777777777777778,
             "#fb9f3a"
            ],
            [
             0.8888888888888888,
             "#fdca26"
            ],
            [
             1,
             "#f0f921"
            ]
           ],
           "sequentialminus": [
            [
             0,
             "#0d0887"
            ],
            [
             0.1111111111111111,
             "#46039f"
            ],
            [
             0.2222222222222222,
             "#7201a8"
            ],
            [
             0.3333333333333333,
             "#9c179e"
            ],
            [
             0.4444444444444444,
             "#bd3786"
            ],
            [
             0.5555555555555556,
             "#d8576b"
            ],
            [
             0.6666666666666666,
             "#ed7953"
            ],
            [
             0.7777777777777778,
             "#fb9f3a"
            ],
            [
             0.8888888888888888,
             "#fdca26"
            ],
            [
             1,
             "#f0f921"
            ]
           ]
          },
          "colorway": [
           "#636efa",
           "#EF553B",
           "#00cc96",
           "#ab63fa",
           "#FFA15A",
           "#19d3f3",
           "#FF6692",
           "#B6E880",
           "#FF97FF",
           "#FECB52"
          ],
          "font": {
           "color": "#2a3f5f"
          },
          "geo": {
           "bgcolor": "white",
           "lakecolor": "white",
           "landcolor": "#E5ECF6",
           "showlakes": true,
           "showland": true,
           "subunitcolor": "white"
          },
          "hoverlabel": {
           "align": "left"
          },
          "hovermode": "closest",
          "mapbox": {
           "style": "light"
          },
          "paper_bgcolor": "white",
          "plot_bgcolor": "#E5ECF6",
          "polar": {
           "angularaxis": {
            "gridcolor": "white",
            "linecolor": "white",
            "ticks": ""
           },
           "bgcolor": "#E5ECF6",
           "radialaxis": {
            "gridcolor": "white",
            "linecolor": "white",
            "ticks": ""
           }
          },
          "scene": {
           "xaxis": {
            "backgroundcolor": "#E5ECF6",
            "gridcolor": "white",
            "gridwidth": 2,
            "linecolor": "white",
            "showbackground": true,
            "ticks": "",
            "zerolinecolor": "white"
           },
           "yaxis": {
            "backgroundcolor": "#E5ECF6",
            "gridcolor": "white",
            "gridwidth": 2,
            "linecolor": "white",
            "showbackground": true,
            "ticks": "",
            "zerolinecolor": "white"
           },
           "zaxis": {
            "backgroundcolor": "#E5ECF6",
            "gridcolor": "white",
            "gridwidth": 2,
            "linecolor": "white",
            "showbackground": true,
            "ticks": "",
            "zerolinecolor": "white"
           }
          },
          "shapedefaults": {
           "line": {
            "color": "#2a3f5f"
           }
          },
          "ternary": {
           "aaxis": {
            "gridcolor": "white",
            "linecolor": "white",
            "ticks": ""
           },
           "baxis": {
            "gridcolor": "white",
            "linecolor": "white",
            "ticks": ""
           },
           "bgcolor": "#E5ECF6",
           "caxis": {
            "gridcolor": "white",
            "linecolor": "white",
            "ticks": ""
           }
          },
          "title": {
           "x": 0.05
          },
          "xaxis": {
           "automargin": true,
           "gridcolor": "white",
           "linecolor": "white",
           "ticks": "",
           "title": {
            "standoff": 15
           },
           "zerolinecolor": "white",
           "zerolinewidth": 2
          },
          "yaxis": {
           "automargin": true,
           "gridcolor": "white",
           "linecolor": "white",
           "ticks": "",
           "title": {
            "standoff": 15
           },
           "zerolinecolor": "white",
           "zerolinewidth": 2
          }
         }
        },
        "xaxis": {
         "anchor": "y",
         "categoryarray": [
          "Jan",
          "Feb",
          "Mar",
          "Apr",
          "May",
          "Jun"
         ],
         "categoryorder": "array",
         "domain": [
          0,
          1
         ],
         "title": {
          "text": "month"
         }
        },
        "yaxis": {
         "anchor": "x",
         "domain": [
          0,
          1
         ],
         "title": {
          "text": "volume"
         }
        }
       }
      },
      "text/html": [
       "<div>                            <div id=\"145e7330-9a2a-401c-8efb-ba7cc3f93dfe\" class=\"plotly-graph-div\" style=\"height:525px; width:100%;\"></div>            <script type=\"text/javascript\">                require([\"plotly\"], function(Plotly) {                    window.PLOTLYENV=window.PLOTLYENV || {};                                    if (document.getElementById(\"145e7330-9a2a-401c-8efb-ba7cc3f93dfe\")) {                    Plotly.newPlot(                        \"145e7330-9a2a-401c-8efb-ba7cc3f93dfe\",                        [{\"alignmentgroup\":\"True\",\"hovertemplate\":\"stock=AA<br>month=%{x}<br>volume=%{y}<extra></extra>\",\"legendgroup\":\"AA\",\"marker\":{\"color\":\"#636efa\",\"pattern\":{\"shape\":\"\"}},\"name\":\"AA\",\"offsetgroup\":\"AA\",\"orientation\":\"v\",\"showlegend\":true,\"textposition\":\"auto\",\"x\":[\"Apr\",\"Feb\",\"Jan\",\"Jun\",\"Mar\",\"May\"],\"xaxis\":\"x\",\"y\":[124337159.2,120521199.5,193106670.5,95705212.75,112437534.75,133050497.25],\"yaxis\":\"y\",\"type\":\"bar\"},{\"alignmentgroup\":\"True\",\"hovertemplate\":\"stock=CSCO<br>month=%{x}<br>volume=%{y}<extra></extra>\",\"legendgroup\":\"CSCO\",\"marker\":{\"color\":\"#EF553B\",\"pattern\":{\"shape\":\"\"}},\"name\":\"CSCO\",\"offsetgroup\":\"CSCO\",\"orientation\":\"v\",\"showlegend\":true,\"textposition\":\"auto\",\"x\":[\"Apr\",\"Feb\",\"Jan\",\"Jun\",\"Mar\",\"May\"],\"xaxis\":\"x\",\"y\":[366948704.0,478041725.0,229412069.0,374844704.25,335501306.0,365149239.0],\"yaxis\":\"y\",\"type\":\"bar\"},{\"alignmentgroup\":\"True\",\"hovertemplate\":\"stock=MRK<br>month=%{x}<br>volume=%{y}<extra></extra>\",\"legendgroup\":\"MRK\",\"marker\":{\"color\":\"#00cc96\",\"pattern\":{\"shape\":\"\"}},\"name\":\"MRK\",\"offsetgroup\":\"MRK\",\"orientation\":\"v\",\"showlegend\":true,\"textposition\":\"auto\",\"x\":[\"Apr\",\"Feb\",\"Jan\",\"Jun\",\"Mar\",\"May\"],\"xaxis\":\"x\",\"y\":[68373627.6,72201760.75,105529670.5,56230280.25,92969221.75,67438502.5],\"yaxis\":\"y\",\"type\":\"bar\"},{\"alignmentgroup\":\"True\",\"hovertemplate\":\"stock=UTX<br>month=%{x}<br>volume=%{y}<extra></extra>\",\"legendgroup\":\"UTX\",\"marker\":{\"color\":\"#ab63fa\",\"pattern\":{\"shape\":\"\"}},\"name\":\"UTX\",\"offsetgroup\":\"UTX\",\"orientation\":\"v\",\"showlegend\":true,\"textposition\":\"auto\",\"x\":[\"Apr\",\"Feb\",\"Jan\",\"Jun\",\"Mar\",\"May\"],\"xaxis\":\"x\",\"y\":[16536441.0,14951007.5,17137146.0,21034910.5,21609844.5,19084471.5],\"yaxis\":\"y\",\"type\":\"bar\"},{\"alignmentgroup\":\"True\",\"hovertemplate\":\"stock=PG<br>month=%{x}<br>volume=%{y}<extra></extra>\",\"legendgroup\":\"PG\",\"marker\":{\"color\":\"#FFA15A\",\"pattern\":{\"shape\":\"\"}},\"name\":\"PG\",\"offsetgroup\":\"PG\",\"orientation\":\"v\",\"showlegend\":true,\"textposition\":\"auto\",\"x\":[\"Apr\",\"Feb\",\"Jan\",\"Jun\",\"Mar\",\"May\"],\"xaxis\":\"x\",\"y\":[43439149.4,48262294.5,52627986.75,46449542.75,55048908.25,47394146.25],\"yaxis\":\"y\",\"type\":\"bar\"},{\"alignmentgroup\":\"True\",\"hovertemplate\":\"stock=HPQ<br>month=%{x}<br>volume=%{y}<extra></extra>\",\"legendgroup\":\"HPQ\",\"marker\":{\"color\":\"#19d3f3\",\"pattern\":{\"shape\":\"\"}},\"name\":\"HPQ\",\"offsetgroup\":\"HPQ\",\"orientation\":\"v\",\"showlegend\":true,\"textposition\":\"auto\",\"x\":[\"Apr\",\"Feb\",\"Jan\",\"Jun\",\"Mar\",\"May\"],\"xaxis\":\"x\",\"y\":[75334301.6,104778699.5,83043684.5,97683832.0,98746063.75,114445032.0],\"yaxis\":\"y\",\"type\":\"bar\"},{\"alignmentgroup\":\"True\",\"hovertemplate\":\"stock=PFE<br>month=%{x}<br>volume=%{y}<extra></extra>\",\"legendgroup\":\"PFE\",\"marker\":{\"color\":\"#FF6692\",\"pattern\":{\"shape\":\"\"}},\"name\":\"PFE\",\"offsetgroup\":\"PFE\",\"orientation\":\"v\",\"showlegend\":true,\"textposition\":\"auto\",\"x\":[\"Apr\",\"Feb\",\"Jan\",\"Jun\",\"Mar\",\"May\"],\"xaxis\":\"x\",\"y\":[185637091.2,217490731.5,260496376.5,213453894.5,281731483.5,216449653.75],\"yaxis\":\"y\",\"type\":\"bar\"},{\"alignmentgroup\":\"True\",\"hovertemplate\":\"stock=CAT<br>month=%{x}<br>volume=%{y}<extra></extra>\",\"legendgroup\":\"CAT\",\"marker\":{\"color\":\"#B6E880\",\"pattern\":{\"shape\":\"\"}},\"name\":\"CAT\",\"offsetgroup\":\"CAT\",\"orientation\":\"v\",\"showlegend\":true,\"textposition\":\"auto\",\"x\":[\"Apr\",\"Feb\",\"Jan\",\"Jun\",\"Mar\",\"May\"],\"xaxis\":\"x\",\"y\":[29209811.6,25820073.0,26855803.75,40912201.5,40124671.75,40594459.75],\"yaxis\":\"y\",\"type\":\"bar\"},{\"alignmentgroup\":\"True\",\"hovertemplate\":\"stock=XOM<br>month=%{x}<br>volume=%{y}<extra></extra>\",\"legendgroup\":\"XOM\",\"marker\":{\"color\":\"#FF97FF\",\"pattern\":{\"shape\":\"\"}},\"name\":\"XOM\",\"offsetgroup\":\"XOM\",\"orientation\":\"v\",\"showlegend\":true,\"textposition\":\"auto\",\"x\":[\"Apr\",\"Feb\",\"Jan\",\"Jun\",\"Mar\",\"May\"],\"xaxis\":\"x\",\"y\":[71833524.2,107705273.0,97858955.75,97549582.5,100535204.25,92118407.75],\"yaxis\":\"y\",\"type\":\"bar\"},{\"alignmentgroup\":\"True\",\"hovertemplate\":\"stock=MSFT<br>month=%{x}<br>volume=%{y}<extra></extra>\",\"legendgroup\":\"MSFT\",\"marker\":{\"color\":\"#FECB52\",\"pattern\":{\"shape\":\"\"}},\"name\":\"MSFT\",\"offsetgroup\":\"MSFT\",\"orientation\":\"v\",\"showlegend\":true,\"textposition\":\"auto\",\"x\":[\"Apr\",\"Feb\",\"Jan\",\"Jun\",\"Mar\",\"May\"],\"xaxis\":\"x\",\"y\":[292404929.6,264846399.75,308401745.5,266590445.5,291840552.5,313432146.25],\"yaxis\":\"y\",\"type\":\"bar\"},{\"alignmentgroup\":\"True\",\"hovertemplate\":\"stock=MMM<br>month=%{x}<br>volume=%{y}<extra></extra>\",\"legendgroup\":\"MMM\",\"marker\":{\"color\":\"#636efa\",\"pattern\":{\"shape\":\"\"}},\"name\":\"MMM\",\"offsetgroup\":\"MMM\",\"orientation\":\"v\",\"showlegend\":true,\"textposition\":\"auto\",\"x\":[\"Apr\",\"Feb\",\"Jan\",\"Jun\",\"Mar\",\"May\"],\"xaxis\":\"x\",\"y\":[14676050.6,15489202.5,16142230.25,14475642.5,18550407.75,15245288.75],\"yaxis\":\"y\",\"type\":\"bar\"},{\"alignmentgroup\":\"True\",\"hovertemplate\":\"stock=IBM<br>month=%{x}<br>volume=%{y}<extra></extra>\",\"legendgroup\":\"IBM\",\"marker\":{\"color\":\"#EF553B\",\"pattern\":{\"shape\":\"\"}},\"name\":\"IBM\",\"offsetgroup\":\"IBM\",\"orientation\":\"v\",\"showlegend\":true,\"textposition\":\"auto\",\"x\":[\"Apr\",\"Feb\",\"Jan\",\"Jun\",\"Mar\",\"May\"],\"xaxis\":\"x\",\"y\":[21874594.6,21820085.0,26777401.25,24092655.5,29969637.0,24616880.75],\"yaxis\":\"y\",\"type\":\"bar\"},{\"alignmentgroup\":\"True\",\"hovertemplate\":\"stock=CVX<br>month=%{x}<br>volume=%{y}<extra></extra>\",\"legendgroup\":\"CVX\",\"marker\":{\"color\":\"#00cc96\",\"pattern\":{\"shape\":\"\"}},\"name\":\"CVX\",\"offsetgroup\":\"CVX\",\"orientation\":\"v\",\"showlegend\":true,\"textposition\":\"auto\",\"x\":[\"Apr\",\"Feb\",\"Jan\",\"Jun\",\"Mar\",\"May\"],\"xaxis\":\"x\",\"y\":[31455626.6,43385136.5,33468132.5,38819761.0,46920388.25,39210984.5],\"yaxis\":\"y\",\"type\":\"bar\"},{\"alignmentgroup\":\"True\",\"hovertemplate\":\"stock=BAC<br>month=%{x}<br>volume=%{y}<extra></extra>\",\"legendgroup\":\"BAC\",\"marker\":{\"color\":\"#ab63fa\",\"pattern\":{\"shape\":\"\"}},\"name\":\"BAC\",\"offsetgroup\":\"BAC\",\"orientation\":\"v\",\"showlegend\":true,\"textposition\":\"auto\",\"x\":[\"Apr\",\"Feb\",\"Jan\",\"Jun\",\"Mar\",\"May\"],\"xaxis\":\"x\",\"y\":[566545648.4,668634487.5,1062808879.25,740555162.0,753735583.5,584828424.5],\"yaxis\":\"y\",\"type\":\"bar\"},{\"alignmentgroup\":\"True\",\"hovertemplate\":\"stock=INTC<br>month=%{x}<br>volume=%{y}<extra></extra>\",\"legendgroup\":\"INTC\",\"marker\":{\"color\":\"#FFA15A\",\"pattern\":{\"shape\":\"\"}},\"name\":\"INTC\",\"offsetgroup\":\"INTC\",\"orientation\":\"v\",\"showlegend\":true,\"textposition\":\"auto\",\"x\":[\"Apr\",\"Feb\",\"Jan\",\"Jun\",\"Mar\",\"May\"],\"xaxis\":\"x\",\"y\":[321616595.0,243032182.75,301119574.5,269000690.0,289550838.25,364166074.5],\"yaxis\":\"y\",\"type\":\"bar\"},{\"alignmentgroup\":\"True\",\"hovertemplate\":\"stock=HD<br>month=%{x}<br>volume=%{y}<extra></extra>\",\"legendgroup\":\"HD\",\"marker\":{\"color\":\"#19d3f3\",\"pattern\":{\"shape\":\"\"}},\"name\":\"HD\",\"offsetgroup\":\"HD\",\"orientation\":\"v\",\"showlegend\":true,\"textposition\":\"auto\",\"x\":[\"Apr\",\"Feb\",\"Jan\",\"Jun\",\"Mar\",\"May\"],\"xaxis\":\"x\",\"y\":[45619089.8,40839985.25,51785649.25,56657030.0,48004036.5,46970987.0],\"yaxis\":\"y\",\"type\":\"bar\"},{\"alignmentgroup\":\"True\",\"hovertemplate\":\"stock=WMT<br>month=%{x}<br>volume=%{y}<extra></extra>\",\"legendgroup\":\"WMT\",\"marker\":{\"color\":\"#FF6692\",\"pattern\":{\"shape\":\"\"}},\"name\":\"WMT\",\"offsetgroup\":\"WMT\",\"orientation\":\"v\",\"showlegend\":true,\"textposition\":\"auto\",\"x\":[\"Apr\",\"Feb\",\"Jan\",\"Jun\",\"Mar\",\"May\"],\"xaxis\":\"x\",\"y\":[41759443.8,63678232.5,58929170.0,62875386.75,65183185.5,45393680.75],\"yaxis\":\"y\",\"type\":\"bar\"},{\"alignmentgroup\":\"True\",\"hovertemplate\":\"stock=GE<br>month=%{x}<br>volume=%{y}<extra></extra>\",\"legendgroup\":\"GE\",\"marker\":{\"color\":\"#B6E880\",\"pattern\":{\"shape\":\"\"}},\"name\":\"GE\",\"offsetgroup\":\"GE\",\"orientation\":\"v\",\"showlegend\":true,\"textposition\":\"auto\",\"x\":[\"Apr\",\"Feb\",\"Jan\",\"Jun\",\"Mar\",\"May\"],\"xaxis\":\"x\",\"y\":[224393179.2,231509293.25,345649875.5,256608513.75,328269260.75,207084572.5],\"yaxis\":\"y\",\"type\":\"bar\"},{\"alignmentgroup\":\"True\",\"hovertemplate\":\"stock=KO<br>month=%{x}<br>volume=%{y}<extra></extra>\",\"legendgroup\":\"KO\",\"marker\":{\"color\":\"#FF97FF\",\"pattern\":{\"shape\":\"\"}},\"name\":\"KO\",\"offsetgroup\":\"KO\",\"orientation\":\"v\",\"showlegend\":true,\"textposition\":\"auto\",\"x\":[\"Apr\",\"Feb\",\"Jan\",\"Jun\",\"Mar\",\"May\"],\"xaxis\":\"x\",\"y\":[35264105.4,35850491.25,42310551.0,38654071.75,48905603.75,31175207.0],\"yaxis\":\"y\",\"type\":\"bar\"},{\"alignmentgroup\":\"True\",\"hovertemplate\":\"stock=DD<br>month=%{x}<br>volume=%{y}<extra></extra>\",\"legendgroup\":\"DD\",\"marker\":{\"color\":\"#FECB52\",\"pattern\":{\"shape\":\"\"}},\"name\":\"DD\",\"offsetgroup\":\"DD\",\"orientation\":\"v\",\"showlegend\":true,\"textposition\":\"auto\",\"x\":[\"Apr\",\"Feb\",\"Jan\",\"Jun\",\"Mar\",\"May\"],\"xaxis\":\"x\",\"y\":[21994722.6,32280608.25,33311602.0,31053881.75,31073589.25,26766032.5],\"yaxis\":\"y\",\"type\":\"bar\"},{\"alignmentgroup\":\"True\",\"hovertemplate\":\"stock=VZ<br>month=%{x}<br>volume=%{y}<extra></extra>\",\"legendgroup\":\"VZ\",\"marker\":{\"color\":\"#636efa\",\"pattern\":{\"shape\":\"\"}},\"name\":\"VZ\",\"offsetgroup\":\"VZ\",\"orientation\":\"v\",\"showlegend\":true,\"textposition\":\"auto\",\"x\":[\"Apr\",\"Feb\",\"Jan\",\"Jun\",\"Mar\",\"May\"],\"xaxis\":\"x\",\"y\":[64123557.6,69477397.75,126243089.0,68559016.5,87507661.75,57965792.25],\"yaxis\":\"y\",\"type\":\"bar\"},{\"alignmentgroup\":\"True\",\"hovertemplate\":\"stock=TRV<br>month=%{x}<br>volume=%{y}<extra></extra>\",\"legendgroup\":\"TRV\",\"marker\":{\"color\":\"#EF553B\",\"pattern\":{\"shape\":\"\"}},\"name\":\"TRV\",\"offsetgroup\":\"TRV\",\"orientation\":\"v\",\"showlegend\":true,\"textposition\":\"auto\",\"x\":[\"Apr\",\"Feb\",\"Jan\",\"Jun\",\"Mar\",\"May\"],\"xaxis\":\"x\",\"y\":[14111632.8,20497764.0,18764353.75,18308641.75,18805993.0,13216104.5],\"yaxis\":\"y\",\"type\":\"bar\"},{\"alignmentgroup\":\"True\",\"hovertemplate\":\"stock=KRFT<br>month=%{x}<br>volume=%{y}<extra></extra>\",\"legendgroup\":\"KRFT\",\"marker\":{\"color\":\"#00cc96\",\"pattern\":{\"shape\":\"\"}},\"name\":\"KRFT\",\"offsetgroup\":\"KRFT\",\"orientation\":\"v\",\"showlegend\":true,\"textposition\":\"auto\",\"x\":[\"Apr\",\"Feb\",\"Jan\",\"Jun\",\"Mar\",\"May\"],\"xaxis\":\"x\",\"y\":[44110289.8,47327920.75,41696241.5,41715613.75,47668199.25,46555232.75],\"yaxis\":\"y\",\"type\":\"bar\"},{\"alignmentgroup\":\"True\",\"hovertemplate\":\"stock=T<br>month=%{x}<br>volume=%{y}<extra></extra>\",\"legendgroup\":\"T\",\"marker\":{\"color\":\"#ab63fa\",\"pattern\":{\"shape\":\"\"}},\"name\":\"T\",\"offsetgroup\":\"T\",\"orientation\":\"v\",\"showlegend\":true,\"textposition\":\"auto\",\"x\":[\"Apr\",\"Feb\",\"Jan\",\"Jun\",\"Mar\",\"May\"],\"xaxis\":\"x\",\"y\":[165894966.0,107641157.5,157624785.0,102722569.25,145201356.25,106237132.5],\"yaxis\":\"y\",\"type\":\"bar\"},{\"alignmentgroup\":\"True\",\"hovertemplate\":\"stock=AXP<br>month=%{x}<br>volume=%{y}<extra></extra>\",\"legendgroup\":\"AXP\",\"marker\":{\"color\":\"#FFA15A\",\"pattern\":{\"shape\":\"\"}},\"name\":\"AXP\",\"offsetgroup\":\"AXP\",\"orientation\":\"v\",\"showlegend\":true,\"textposition\":\"auto\",\"x\":[\"Apr\",\"Feb\",\"Jan\",\"Jun\",\"Mar\",\"May\"],\"xaxis\":\"x\",\"y\":[28868800.4,37866933.5,40316939.25,32906962.0,37288581.0,35587593.75],\"yaxis\":\"y\",\"type\":\"bar\"},{\"alignmentgroup\":\"True\",\"hovertemplate\":\"stock=JPM<br>month=%{x}<br>volume=%{y}<extra></extra>\",\"legendgroup\":\"JPM\",\"marker\":{\"color\":\"#19d3f3\",\"pattern\":{\"shape\":\"\"}},\"name\":\"JPM\",\"offsetgroup\":\"JPM\",\"orientation\":\"v\",\"showlegend\":true,\"textposition\":\"auto\",\"x\":[\"Apr\",\"Feb\",\"Jan\",\"Jun\",\"Mar\",\"May\"],\"xaxis\":\"x\",\"y\":[128250157.0,142836510.25,179253731.5,172775778.0,155959794.0,133292843.25],\"yaxis\":\"y\",\"type\":\"bar\"},{\"alignmentgroup\":\"True\",\"hovertemplate\":\"stock=JNJ<br>month=%{x}<br>volume=%{y}<extra></extra>\",\"legendgroup\":\"JNJ\",\"marker\":{\"color\":\"#FF6692\",\"pattern\":{\"shape\":\"\"}},\"name\":\"JNJ\",\"offsetgroup\":\"JNJ\",\"orientation\":\"v\",\"showlegend\":true,\"textposition\":\"auto\",\"x\":[\"Apr\",\"Feb\",\"Jan\",\"Jun\",\"Mar\",\"May\"],\"xaxis\":\"x\",\"y\":[59487258.0,46649805.75,56738526.75,53598737.75,59158898.25,59533116.0],\"yaxis\":\"y\",\"type\":\"bar\"},{\"alignmentgroup\":\"True\",\"hovertemplate\":\"stock=BA<br>month=%{x}<br>volume=%{y}<extra></extra>\",\"legendgroup\":\"BA\",\"marker\":{\"color\":\"#B6E880\",\"pattern\":{\"shape\":\"\"}},\"name\":\"BA\",\"offsetgroup\":\"BA\",\"orientation\":\"v\",\"showlegend\":true,\"textposition\":\"auto\",\"x\":[\"Apr\",\"Feb\",\"Jan\",\"Jun\",\"Mar\",\"May\"],\"xaxis\":\"x\",\"y\":[21750697.6,21706786.5,29904169.5,23111167.25,26813374.0,19910009.0],\"yaxis\":\"y\",\"type\":\"bar\"},{\"alignmentgroup\":\"True\",\"hovertemplate\":\"stock=MCD<br>month=%{x}<br>volume=%{y}<extra></extra>\",\"legendgroup\":\"MCD\",\"marker\":{\"color\":\"#FF97FF\",\"pattern\":{\"shape\":\"\"}},\"name\":\"MCD\",\"offsetgroup\":\"MCD\",\"orientation\":\"v\",\"showlegend\":true,\"textposition\":\"auto\",\"x\":[\"Apr\",\"Feb\",\"Jan\",\"Jun\",\"Mar\",\"May\"],\"xaxis\":\"x\",\"y\":[20525488.6,31374679.5,54271982.75,27616455.5,35158393.0,26869755.25],\"yaxis\":\"y\",\"type\":\"bar\"},{\"alignmentgroup\":\"True\",\"hovertemplate\":\"stock=DIS<br>month=%{x}<br>volume=%{y}<extra></extra>\",\"legendgroup\":\"DIS\",\"marker\":{\"color\":\"#FECB52\",\"pattern\":{\"shape\":\"\"}},\"name\":\"DIS\",\"offsetgroup\":\"DIS\",\"orientation\":\"v\",\"showlegend\":true,\"textposition\":\"auto\",\"x\":[\"Apr\",\"Feb\",\"Jan\",\"Jun\",\"Mar\",\"May\"],\"xaxis\":\"x\",\"y\":[33688065.0,57083017.75,45794927.0,51548049.25,50020586.75,49966297.0],\"yaxis\":\"y\",\"type\":\"bar\"}],                        {\"template\":{\"data\":{\"histogram2dcontour\":[{\"type\":\"histogram2dcontour\",\"colorbar\":{\"outlinewidth\":0,\"ticks\":\"\"},\"colorscale\":[[0.0,\"#0d0887\"],[0.1111111111111111,\"#46039f\"],[0.2222222222222222,\"#7201a8\"],[0.3333333333333333,\"#9c179e\"],[0.4444444444444444,\"#bd3786\"],[0.5555555555555556,\"#d8576b\"],[0.6666666666666666,\"#ed7953\"],[0.7777777777777778,\"#fb9f3a\"],[0.8888888888888888,\"#fdca26\"],[1.0,\"#f0f921\"]]}],\"choropleth\":[{\"type\":\"choropleth\",\"colorbar\":{\"outlinewidth\":0,\"ticks\":\"\"}}],\"histogram2d\":[{\"type\":\"histogram2d\",\"colorbar\":{\"outlinewidth\":0,\"ticks\":\"\"},\"colorscale\":[[0.0,\"#0d0887\"],[0.1111111111111111,\"#46039f\"],[0.2222222222222222,\"#7201a8\"],[0.3333333333333333,\"#9c179e\"],[0.4444444444444444,\"#bd3786\"],[0.5555555555555556,\"#d8576b\"],[0.6666666666666666,\"#ed7953\"],[0.7777777777777778,\"#fb9f3a\"],[0.8888888888888888,\"#fdca26\"],[1.0,\"#f0f921\"]]}],\"heatmap\":[{\"type\":\"heatmap\",\"colorbar\":{\"outlinewidth\":0,\"ticks\":\"\"},\"colorscale\":[[0.0,\"#0d0887\"],[0.1111111111111111,\"#46039f\"],[0.2222222222222222,\"#7201a8\"],[0.3333333333333333,\"#9c179e\"],[0.4444444444444444,\"#bd3786\"],[0.5555555555555556,\"#d8576b\"],[0.6666666666666666,\"#ed7953\"],[0.7777777777777778,\"#fb9f3a\"],[0.8888888888888888,\"#fdca26\"],[1.0,\"#f0f921\"]]}],\"heatmapgl\":[{\"type\":\"heatmapgl\",\"colorbar\":{\"outlinewidth\":0,\"ticks\":\"\"},\"colorscale\":[[0.0,\"#0d0887\"],[0.1111111111111111,\"#46039f\"],[0.2222222222222222,\"#7201a8\"],[0.3333333333333333,\"#9c179e\"],[0.4444444444444444,\"#bd3786\"],[0.5555555555555556,\"#d8576b\"],[0.6666666666666666,\"#ed7953\"],[0.7777777777777778,\"#fb9f3a\"],[0.8888888888888888,\"#fdca26\"],[1.0,\"#f0f921\"]]}],\"contourcarpet\":[{\"type\":\"contourcarpet\",\"colorbar\":{\"outlinewidth\":0,\"ticks\":\"\"}}],\"contour\":[{\"type\":\"contour\",\"colorbar\":{\"outlinewidth\":0,\"ticks\":\"\"},\"colorscale\":[[0.0,\"#0d0887\"],[0.1111111111111111,\"#46039f\"],[0.2222222222222222,\"#7201a8\"],[0.3333333333333333,\"#9c179e\"],[0.4444444444444444,\"#bd3786\"],[0.5555555555555556,\"#d8576b\"],[0.6666666666666666,\"#ed7953\"],[0.7777777777777778,\"#fb9f3a\"],[0.8888888888888888,\"#fdca26\"],[1.0,\"#f0f921\"]]}],\"surface\":[{\"type\":\"surface\",\"colorbar\":{\"outlinewidth\":0,\"ticks\":\"\"},\"colorscale\":[[0.0,\"#0d0887\"],[0.1111111111111111,\"#46039f\"],[0.2222222222222222,\"#7201a8\"],[0.3333333333333333,\"#9c179e\"],[0.4444444444444444,\"#bd3786\"],[0.5555555555555556,\"#d8576b\"],[0.6666666666666666,\"#ed7953\"],[0.7777777777777778,\"#fb9f3a\"],[0.8888888888888888,\"#fdca26\"],[1.0,\"#f0f921\"]]}],\"mesh3d\":[{\"type\":\"mesh3d\",\"colorbar\":{\"outlinewidth\":0,\"ticks\":\"\"}}],\"scatter\":[{\"fillpattern\":{\"fillmode\":\"overlay\",\"size\":10,\"solidity\":0.2},\"type\":\"scatter\"}],\"parcoords\":[{\"type\":\"parcoords\",\"line\":{\"colorbar\":{\"outlinewidth\":0,\"ticks\":\"\"}}}],\"scatterpolargl\":[{\"type\":\"scatterpolargl\",\"marker\":{\"colorbar\":{\"outlinewidth\":0,\"ticks\":\"\"}}}],\"bar\":[{\"error_x\":{\"color\":\"#2a3f5f\"},\"error_y\":{\"color\":\"#2a3f5f\"},\"marker\":{\"line\":{\"color\":\"#E5ECF6\",\"width\":0.5},\"pattern\":{\"fillmode\":\"overlay\",\"size\":10,\"solidity\":0.2}},\"type\":\"bar\"}],\"scattergeo\":[{\"type\":\"scattergeo\",\"marker\":{\"colorbar\":{\"outlinewidth\":0,\"ticks\":\"\"}}}],\"scatterpolar\":[{\"type\":\"scatterpolar\",\"marker\":{\"colorbar\":{\"outlinewidth\":0,\"ticks\":\"\"}}}],\"histogram\":[{\"marker\":{\"pattern\":{\"fillmode\":\"overlay\",\"size\":10,\"solidity\":0.2}},\"type\":\"histogram\"}],\"scattergl\":[{\"type\":\"scattergl\",\"marker\":{\"colorbar\":{\"outlinewidth\":0,\"ticks\":\"\"}}}],\"scatter3d\":[{\"type\":\"scatter3d\",\"line\":{\"colorbar\":{\"outlinewidth\":0,\"ticks\":\"\"}},\"marker\":{\"colorbar\":{\"outlinewidth\":0,\"ticks\":\"\"}}}],\"scattermapbox\":[{\"type\":\"scattermapbox\",\"marker\":{\"colorbar\":{\"outlinewidth\":0,\"ticks\":\"\"}}}],\"scatterternary\":[{\"type\":\"scatterternary\",\"marker\":{\"colorbar\":{\"outlinewidth\":0,\"ticks\":\"\"}}}],\"scattercarpet\":[{\"type\":\"scattercarpet\",\"marker\":{\"colorbar\":{\"outlinewidth\":0,\"ticks\":\"\"}}}],\"carpet\":[{\"aaxis\":{\"endlinecolor\":\"#2a3f5f\",\"gridcolor\":\"white\",\"linecolor\":\"white\",\"minorgridcolor\":\"white\",\"startlinecolor\":\"#2a3f5f\"},\"baxis\":{\"endlinecolor\":\"#2a3f5f\",\"gridcolor\":\"white\",\"linecolor\":\"white\",\"minorgridcolor\":\"white\",\"startlinecolor\":\"#2a3f5f\"},\"type\":\"carpet\"}],\"table\":[{\"cells\":{\"fill\":{\"color\":\"#EBF0F8\"},\"line\":{\"color\":\"white\"}},\"header\":{\"fill\":{\"color\":\"#C8D4E3\"},\"line\":{\"color\":\"white\"}},\"type\":\"table\"}],\"barpolar\":[{\"marker\":{\"line\":{\"color\":\"#E5ECF6\",\"width\":0.5},\"pattern\":{\"fillmode\":\"overlay\",\"size\":10,\"solidity\":0.2}},\"type\":\"barpolar\"}],\"pie\":[{\"automargin\":true,\"type\":\"pie\"}]},\"layout\":{\"autotypenumbers\":\"strict\",\"colorway\":[\"#636efa\",\"#EF553B\",\"#00cc96\",\"#ab63fa\",\"#FFA15A\",\"#19d3f3\",\"#FF6692\",\"#B6E880\",\"#FF97FF\",\"#FECB52\"],\"font\":{\"color\":\"#2a3f5f\"},\"hovermode\":\"closest\",\"hoverlabel\":{\"align\":\"left\"},\"paper_bgcolor\":\"white\",\"plot_bgcolor\":\"#E5ECF6\",\"polar\":{\"bgcolor\":\"#E5ECF6\",\"angularaxis\":{\"gridcolor\":\"white\",\"linecolor\":\"white\",\"ticks\":\"\"},\"radialaxis\":{\"gridcolor\":\"white\",\"linecolor\":\"white\",\"ticks\":\"\"}},\"ternary\":{\"bgcolor\":\"#E5ECF6\",\"aaxis\":{\"gridcolor\":\"white\",\"linecolor\":\"white\",\"ticks\":\"\"},\"baxis\":{\"gridcolor\":\"white\",\"linecolor\":\"white\",\"ticks\":\"\"},\"caxis\":{\"gridcolor\":\"white\",\"linecolor\":\"white\",\"ticks\":\"\"}},\"coloraxis\":{\"colorbar\":{\"outlinewidth\":0,\"ticks\":\"\"}},\"colorscale\":{\"sequential\":[[0.0,\"#0d0887\"],[0.1111111111111111,\"#46039f\"],[0.2222222222222222,\"#7201a8\"],[0.3333333333333333,\"#9c179e\"],[0.4444444444444444,\"#bd3786\"],[0.5555555555555556,\"#d8576b\"],[0.6666666666666666,\"#ed7953\"],[0.7777777777777778,\"#fb9f3a\"],[0.8888888888888888,\"#fdca26\"],[1.0,\"#f0f921\"]],\"sequentialminus\":[[0.0,\"#0d0887\"],[0.1111111111111111,\"#46039f\"],[0.2222222222222222,\"#7201a8\"],[0.3333333333333333,\"#9c179e\"],[0.4444444444444444,\"#bd3786\"],[0.5555555555555556,\"#d8576b\"],[0.6666666666666666,\"#ed7953\"],[0.7777777777777778,\"#fb9f3a\"],[0.8888888888888888,\"#fdca26\"],[1.0,\"#f0f921\"]],\"diverging\":[[0,\"#8e0152\"],[0.1,\"#c51b7d\"],[0.2,\"#de77ae\"],[0.3,\"#f1b6da\"],[0.4,\"#fde0ef\"],[0.5,\"#f7f7f7\"],[0.6,\"#e6f5d0\"],[0.7,\"#b8e186\"],[0.8,\"#7fbc41\"],[0.9,\"#4d9221\"],[1,\"#276419\"]]},\"xaxis\":{\"gridcolor\":\"white\",\"linecolor\":\"white\",\"ticks\":\"\",\"title\":{\"standoff\":15},\"zerolinecolor\":\"white\",\"automargin\":true,\"zerolinewidth\":2},\"yaxis\":{\"gridcolor\":\"white\",\"linecolor\":\"white\",\"ticks\":\"\",\"title\":{\"standoff\":15},\"zerolinecolor\":\"white\",\"automargin\":true,\"zerolinewidth\":2},\"scene\":{\"xaxis\":{\"backgroundcolor\":\"#E5ECF6\",\"gridcolor\":\"white\",\"linecolor\":\"white\",\"showbackground\":true,\"ticks\":\"\",\"zerolinecolor\":\"white\",\"gridwidth\":2},\"yaxis\":{\"backgroundcolor\":\"#E5ECF6\",\"gridcolor\":\"white\",\"linecolor\":\"white\",\"showbackground\":true,\"ticks\":\"\",\"zerolinecolor\":\"white\",\"gridwidth\":2},\"zaxis\":{\"backgroundcolor\":\"#E5ECF6\",\"gridcolor\":\"white\",\"linecolor\":\"white\",\"showbackground\":true,\"ticks\":\"\",\"zerolinecolor\":\"white\",\"gridwidth\":2}},\"shapedefaults\":{\"line\":{\"color\":\"#2a3f5f\"}},\"annotationdefaults\":{\"arrowcolor\":\"#2a3f5f\",\"arrowhead\":0,\"arrowwidth\":1},\"geo\":{\"bgcolor\":\"white\",\"landcolor\":\"#E5ECF6\",\"subunitcolor\":\"white\",\"showland\":true,\"showlakes\":true,\"lakecolor\":\"white\"},\"title\":{\"x\":0.05},\"mapbox\":{\"style\":\"light\"}}},\"xaxis\":{\"anchor\":\"y\",\"domain\":[0.0,1.0],\"title\":{\"text\":\"month\"},\"categoryorder\":\"array\",\"categoryarray\":[\"Jan\",\"Feb\",\"Mar\",\"Apr\",\"May\",\"Jun\"]},\"yaxis\":{\"anchor\":\"x\",\"domain\":[0.0,1.0],\"title\":{\"text\":\"volume\"}},\"legend\":{\"title\":{\"text\":\"stock\"},\"tracegroupgap\":0},\"margin\":{\"t\":60},\"barmode\":\"relative\"},                        {\"responsive\": true}                    ).then(function(){\n",
       "                            \n",
       "var gd = document.getElementById('145e7330-9a2a-401c-8efb-ba7cc3f93dfe');\n",
       "var x = new MutationObserver(function (mutations, observer) {{\n",
       "        var display = window.getComputedStyle(gd).display;\n",
       "        if (!display || display === 'none') {{\n",
       "            console.log([gd, 'removed!']);\n",
       "            Plotly.purge(gd);\n",
       "            observer.disconnect();\n",
       "        }}\n",
       "}});\n",
       "\n",
       "// Listen for the removal of the full notebook cells\n",
       "var notebookContainer = gd.closest('#notebook-container');\n",
       "if (notebookContainer) {{\n",
       "    x.observe(notebookContainer, {childList: true});\n",
       "}}\n",
       "\n",
       "// Listen for the clearing of the current output cell\n",
       "var outputEl = gd.closest('.output');\n",
       "if (outputEl) {{\n",
       "    x.observe(outputEl, {childList: true});\n",
       "}}\n",
       "\n",
       "                        })                };                });            </script>        </div>"
      ]
     },
     "metadata": {},
     "output_type": "display_data"
    }
   ],
   "source": [
    "plot_df = volume_pivot.reset_index().melt(id_vars='stock', var_name='month', value_name='volume')\n",
    "\n",
    "fig = px.bar(plot_df, x='month', y='volume', color='stock', category_orders={'month': ['Jan', 'Feb', 'Mar', 'Apr', 'May', 'Jun']})\n",
    "fig.show()"
   ]
  },
  {
   "cell_type": "markdown",
   "id": "39d0e8d4",
   "metadata": {},
   "source": [
    "### Monthly Average Percent Change\n",
    "Let's see which months have the highest spread in stock prices. This visulization shows the average monthly percent change in price for each stock. The months of February and April contain the some of the highest percent changes (both positively and negatively), corresponding with the increased volumes of the months prior. However, one interesting fact to note is that while June has the lowest percent change of all the months (and mostly negative), there doesn't seem to be much of an explainable reason for it within the data.\n"
   ]
  },
  {
   "cell_type": "code",
   "execution_count": 126,
   "id": "e2626778",
   "metadata": {},
   "outputs": [],
   "source": [
    "\n",
    "# Calculate the average closing price and volume for each stock by month\n",
    "monthly_trends_percent_change = df_monthly.groupby(['stock', 'month']).agg({'volume': 'mean', 'percent_change_price': 'mean'}).reset_index()\n",
    "monthly_trends_percent_change['month'] = monthly_trends_percent_change['month'].dt.to_timestamp()\n",
    "monthly_trends_percent_change.sort_values(by='month', inplace=True)\n",
    "monthly_trends_percent_change['month_name'] = monthly_trends_percent_change['month'].dt.strftime('%b')\n",
    "\n"
   ]
  },
  {
   "cell_type": "code",
   "execution_count": 127,
   "id": "d94d58ef",
   "metadata": {},
   "outputs": [
    {
     "data": {
      "application/vnd.plotly.v1+json": {
       "config": {
        "plotlyServerURL": "https://plot.ly"
       },
       "data": [
        {
         "hovertemplate": "stock=AA<br>month_name=%{x}<br>percent_change_price=%{y}<extra></extra>",
         "legendgroup": "AA",
         "marker": {
          "color": "#636efa",
          "symbol": "circle"
         },
         "mode": "markers",
         "name": "AA",
         "orientation": "v",
         "showlegend": true,
         "type": "scatter",
         "x": [
          "Jan",
          "Feb",
          "Mar",
          "Apr",
          "May",
          "Jun"
         ],
         "xaxis": "x",
         "y": [
          -0.3670425,
          0.9411842500000001,
          0.16305000000000003,
          0.08215020000000012,
          -0.53482175,
          -2.19308
         ],
         "yaxis": "y"
        },
        {
         "hovertemplate": "stock=CSCO<br>month_name=%{x}<br>percent_change_price=%{y}<extra></extra>",
         "legendgroup": "CSCO",
         "marker": {
          "color": "#EF553B",
          "symbol": "circle"
         },
         "mode": "markers",
         "name": "CSCO",
         "orientation": "v",
         "showlegend": true,
         "type": "scatter",
         "x": [
          "Jan",
          "Feb",
          "Mar",
          "Apr",
          "May",
          "Jun"
         ],
         "xaxis": "x",
         "y": [
          0.4769455000000001,
          -2.6247911,
          -1.88065025,
          0.383984,
          -1.21045675,
          -2.6053811000000002
         ],
         "yaxis": "y"
        },
        {
         "hovertemplate": "stock=MRK<br>month_name=%{x}<br>percent_change_price=%{y}<extra></extra>",
         "legendgroup": "MRK",
         "marker": {
          "color": "#00cc96",
          "symbol": "circle"
         },
         "mode": "markers",
         "name": "MRK",
         "orientation": "v",
         "showlegend": true,
         "type": "scatter",
         "x": [
          "Jan",
          "Feb",
          "Mar",
          "Apr",
          "May",
          "Jun"
         ],
         "xaxis": "x",
         "y": [
          -2.1041957499999997,
          -0.7201975,
          0.3832595,
          2.2583311999999998,
          0.3236495000000001,
          -0.833965
         ],
         "yaxis": "y"
        },
        {
         "hovertemplate": "stock=UTX<br>month_name=%{x}<br>percent_change_price=%{y}<extra></extra>",
         "legendgroup": "UTX",
         "marker": {
          "color": "#ab63fa",
          "symbol": "circle"
         },
         "mode": "markers",
         "name": "UTX",
         "orientation": "v",
         "showlegend": true,
         "type": "scatter",
         "x": [
          "Jan",
          "Feb",
          "Mar",
          "Apr",
          "May",
          "Jun"
         ],
         "xaxis": "x",
         "y": [
          0.8785434999999999,
          0.5655389499999999,
          -0.23921125,
          1.494453,
          -0.49402947500000005,
          -0.661218475
         ],
         "yaxis": "y"
        },
        {
         "hovertemplate": "stock=PG<br>month_name=%{x}<br>percent_change_price=%{y}<extra></extra>",
         "legendgroup": "PG",
         "marker": {
          "color": "#FFA15A",
          "symbol": "circle"
         },
         "mode": "markers",
         "name": "PG",
         "orientation": "v",
         "showlegend": true,
         "type": "scatter",
         "x": [
          "Jan",
          "Feb",
          "Mar",
          "Apr",
          "May",
          "Jun"
         ],
         "xaxis": "x",
         "y": [
          -0.06453399999999998,
          -0.52459625,
          -0.725191,
          1.3885295999999998,
          0.792577525,
          -1.3202620999999999
         ],
         "yaxis": "y"
        },
        {
         "hovertemplate": "stock=HPQ<br>month_name=%{x}<br>percent_change_price=%{y}<extra></extra>",
         "legendgroup": "HPQ",
         "marker": {
          "color": "#19d3f3",
          "symbol": "circle"
         },
         "mode": "markers",
         "name": "HPQ",
         "orientation": "v",
         "showlegend": true,
         "type": "scatter",
         "x": [
          "Jan",
          "Feb",
          "Mar",
          "Apr",
          "May",
          "Jun"
         ],
         "xaxis": "x",
         "y": [
          2.4328325,
          -0.8569710000000001,
          -0.5308157,
          -0.6959797999999999,
          -1.8139020000000001,
          -1.31210275
         ],
         "yaxis": "y"
        },
        {
         "hovertemplate": "stock=PFE<br>month_name=%{x}<br>percent_change_price=%{y}<extra></extra>",
         "legendgroup": "PFE",
         "marker": {
          "color": "#FF6692",
          "symbol": "circle"
         },
         "mode": "markers",
         "name": "PFE",
         "orientation": "v",
         "showlegend": true,
         "type": "scatter",
         "x": [
          "Jan",
          "Feb",
          "Mar",
          "Apr",
          "May",
          "Jun"
         ],
         "xaxis": "x",
         "y": [
          0.836733975,
          1.4197419999999998,
          1.695492,
          0.35466888,
          0.13409000000000004,
          -0.83136175
         ],
         "yaxis": "y"
        },
        {
         "hovertemplate": "stock=CAT<br>month_name=%{x}<br>percent_change_price=%{y}<extra></extra>",
         "legendgroup": "CAT",
         "marker": {
          "color": "#B6E880",
          "symbol": "circle"
         },
         "mode": "markers",
         "name": "CAT",
         "orientation": "v",
         "showlegend": true,
         "type": "scatter",
         "x": [
          "Jan",
          "Feb",
          "Mar",
          "Apr",
          "May",
          "Jun"
         ],
         "xaxis": "x",
         "y": [
          0.46891550000000004,
          1.75693,
          0.3700589999999999,
          1.308868,
          -1.8267425,
          -1.4511224999999999
         ],
         "yaxis": "y"
        },
        {
         "hovertemplate": "stock=XOM<br>month_name=%{x}<br>percent_change_price=%{y}<extra></extra>",
         "legendgroup": "XOM",
         "marker": {
          "color": "#FF97FF",
          "symbol": "circle"
         },
         "mode": "markers",
         "name": "XOM",
         "orientation": "v",
         "showlegend": true,
         "type": "scatter",
         "x": [
          "Jan",
          "Feb",
          "Mar",
          "Apr",
          "May",
          "Jun"
         ],
         "xaxis": "x",
         "y": [
          1.9627555,
          1.73337125,
          -1.03003375,
          1.38423,
          -1.0079099999999999,
          -1.8863025
         ],
         "yaxis": "y"
        },
        {
         "hovertemplate": "stock=MSFT<br>month_name=%{x}<br>percent_change_price=%{y}<extra></extra>",
         "legendgroup": "MSFT",
         "marker": {
          "color": "#FECB52",
          "symbol": "circle"
         },
         "mode": "markers",
         "name": "MSFT",
         "orientation": "v",
         "showlegend": true,
         "type": "scatter",
         "x": [
          "Jan",
          "Feb",
          "Mar",
          "Apr",
          "May",
          "Jun"
         ],
         "xaxis": "x",
         "y": [
          0.21365849999999997,
          -0.837994,
          -1.3635625,
          0.3370918,
          -0.7163935,
          -0.6425332500000001
         ],
         "yaxis": "y"
        },
        {
         "hovertemplate": "stock=MMM<br>month_name=%{x}<br>percent_change_price=%{y}<extra></extra>",
         "legendgroup": "MMM",
         "marker": {
          "color": "#636efa",
          "symbol": "circle"
         },
         "mode": "markers",
         "name": "MMM",
         "orientation": "v",
         "showlegend": true,
         "type": "scatter",
         "x": [
          "Jan",
          "Feb",
          "Mar",
          "Apr",
          "May",
          "Jun"
         ],
         "xaxis": "x",
         "y": [
          0.46692399999999995,
          0.80099425,
          -0.2403774999999999,
          1.239145,
          -0.5194835,
          -0.763053
         ],
         "yaxis": "y"
        },
        {
         "hovertemplate": "stock=IBM<br>month_name=%{x}<br>percent_change_price=%{y}<extra></extra>",
         "legendgroup": "IBM",
         "marker": {
          "color": "#EF553B",
          "symbol": "circle"
         },
         "mode": "markers",
         "name": "IBM",
         "orientation": "v",
         "showlegend": true,
         "type": "scatter",
         "x": [
          "Jan",
          "Feb",
          "Mar",
          "Apr",
          "May",
          "Jun"
         ],
         "xaxis": "x",
         "y": [
          2.18992175,
          0.62529725,
          -0.05072024999999991,
          1.4236654,
          -0.33741350000000003,
          -0.533666
         ],
         "yaxis": "y"
        },
        {
         "hovertemplate": "stock=CVX<br>month_name=%{x}<br>percent_change_price=%{y}<extra></extra>",
         "legendgroup": "CVX",
         "marker": {
          "color": "#00cc96",
          "symbol": "circle"
         },
         "mode": "markers",
         "name": "CVX",
         "orientation": "v",
         "showlegend": true,
         "type": "scatter",
         "x": [
          "Jan",
          "Feb",
          "Mar",
          "Apr",
          "May",
          "Jun"
         ],
         "xaxis": "x",
         "y": [
          0.47606850000000006,
          2.22110575,
          0.9738374999999999,
          0.924714,
          -1.0688535,
          -1.632673
         ],
         "yaxis": "y"
        },
        {
         "hovertemplate": "stock=BAC<br>month_name=%{x}<br>percent_change_price=%{y}<extra></extra>",
         "legendgroup": "BAC",
         "marker": {
          "color": "#ab63fa",
          "symbol": "circle"
         },
         "mode": "markers",
         "name": "BAC",
         "orientation": "v",
         "showlegend": true,
         "type": "scatter",
         "x": [
          "Jan",
          "Feb",
          "Mar",
          "Apr",
          "May",
          "Jun"
         ],
         "xaxis": "x",
         "y": [
          0.11111249999999995,
          1.1588025,
          -1.80996,
          -1.4722536,
          -0.9859677499999999,
          -2.73970275
         ],
         "yaxis": "y"
        },
        {
         "hovertemplate": "stock=INTC<br>month_name=%{x}<br>percent_change_price=%{y}<extra></extra>",
         "legendgroup": "INTC",
         "marker": {
          "color": "#FFA15A",
          "symbol": "circle"
         },
         "mode": "markers",
         "name": "INTC",
         "orientation": "v",
         "showlegend": true,
         "type": "scatter",
         "x": [
          "Jan",
          "Feb",
          "Mar",
          "Apr",
          "May",
          "Jun"
         ],
         "xaxis": "x",
         "y": [
          0.29170925000000003,
          0.6607653250000001,
          -1.4564232499999998,
          2.851388,
          -0.32921625,
          -1.5516194749999999
         ],
         "yaxis": "y"
        },
        {
         "hovertemplate": "stock=HD<br>month_name=%{x}<br>percent_change_price=%{y}<extra></extra>",
         "legendgroup": "HD",
         "marker": {
          "color": "#19d3f3",
          "symbol": "circle"
         },
         "mode": "markers",
         "name": "HD",
         "orientation": "v",
         "showlegend": true,
         "type": "scatter",
         "x": [
          "Jan",
          "Feb",
          "Mar",
          "Apr",
          "May",
          "Jun"
         ],
         "xaxis": "x",
         "y": [
          1.223589,
          -0.49857475000000007,
          0.12207599999999996,
          0.23566424000000002,
          -0.0010250000000000259,
          -0.46304750000000006
         ],
         "yaxis": "y"
        },
        {
         "hovertemplate": "stock=WMT<br>month_name=%{x}<br>percent_change_price=%{y}<extra></extra>",
         "legendgroup": "WMT",
         "marker": {
          "color": "#FF6692",
          "symbol": "circle"
         },
         "mode": "markers",
         "name": "WMT",
         "orientation": "v",
         "showlegend": true,
         "type": "scatter",
         "x": [
          "Jan",
          "Feb",
          "Mar",
          "Apr",
          "May",
          "Jun"
         ],
         "xaxis": "x",
         "y": [
          1.3439075,
          -1.2582175,
          0.21571625,
          1.1069056,
          0.07892824999999999,
          -1.26500375
         ],
         "yaxis": "y"
        },
        {
         "hovertemplate": "stock=GE<br>month_name=%{x}<br>percent_change_price=%{y}<extra></extra>",
         "legendgroup": "GE",
         "marker": {
          "color": "#B6E880",
          "symbol": "circle"
         },
         "mode": "markers",
         "name": "GE",
         "orientation": "v",
         "showlegend": true,
         "type": "scatter",
         "x": [
          "Jan",
          "Feb",
          "Mar",
          "Apr",
          "May",
          "Jun"
         ],
         "xaxis": "x",
         "y": [
          1.5407199999999999,
          1.0548835,
          -1.54149925,
          0.3064116,
          -1.06787575,
          -1.87218775
         ],
         "yaxis": "y"
        },
        {
         "hovertemplate": "stock=KO<br>month_name=%{x}<br>percent_change_price=%{y}<extra></extra>",
         "legendgroup": "KO",
         "marker": {
          "color": "#FF97FF",
          "symbol": "circle"
         },
         "mode": "markers",
         "name": "KO",
         "orientation": "v",
         "showlegend": true,
         "type": "scatter",
         "x": [
          "Jan",
          "Feb",
          "Mar",
          "Apr",
          "May",
          "Jun"
         ],
         "xaxis": "x",
         "y": [
          -1.3882742499999998,
          1.17567475,
          0.400397,
          0.8080635199999999,
          -0.149776,
          -0.54096475
         ],
         "yaxis": "y"
        },
        {
         "hovertemplate": "stock=DD<br>month_name=%{x}<br>percent_change_price=%{y}<extra></extra>",
         "legendgroup": "DD",
         "marker": {
          "color": "#FECB52",
          "symbol": "circle"
         },
         "mode": "markers",
         "name": "DD",
         "orientation": "v",
         "showlegend": true,
         "type": "scatter",
         "x": [
          "Jan",
          "Feb",
          "Mar",
          "Apr",
          "May",
          "Jun"
         ],
         "xaxis": "x",
         "y": [
          0.99073475,
          2.42448,
          -0.665821,
          1.1568,
          -1.3255875,
          -0.6044795000000003
         ],
         "yaxis": "y"
        },
        {
         "hovertemplate": "stock=VZ<br>month_name=%{x}<br>percent_change_price=%{y}<extra></extra>",
         "legendgroup": "VZ",
         "marker": {
          "color": "#636efa",
          "symbol": "circle"
         },
         "mode": "markers",
         "name": "VZ",
         "orientation": "v",
         "showlegend": true,
         "type": "scatter",
         "x": [
          "Jan",
          "Feb",
          "Mar",
          "Apr",
          "May",
          "Jun"
         ],
         "xaxis": "x",
         "y": [
          -0.6019699999999999,
          0.5591425,
          0.319693275,
          0.19878020000000002,
          -0.826482025,
          -0.47566825
         ],
         "yaxis": "y"
        },
        {
         "hovertemplate": "stock=TRV<br>month_name=%{x}<br>percent_change_price=%{y}<extra></extra>",
         "legendgroup": "TRV",
         "marker": {
          "color": "#EF553B",
          "symbol": "circle"
         },
         "mode": "markers",
         "name": "TRV",
         "orientation": "v",
         "showlegend": true,
         "type": "scatter",
         "x": [
          "Jan",
          "Feb",
          "Mar",
          "Apr",
          "May",
          "Jun"
         ],
         "xaxis": "x",
         "y": [
          -0.041808499999999915,
          1.9162975,
          -0.28078225,
          1.42314936,
          -0.6040265,
          -2.0767075
         ],
         "yaxis": "y"
        },
        {
         "hovertemplate": "stock=KRFT<br>month_name=%{x}<br>percent_change_price=%{y}<extra></extra>",
         "legendgroup": "KRFT",
         "marker": {
          "color": "#00cc96",
          "symbol": "circle"
         },
         "mode": "markers",
         "name": "KRFT",
         "orientation": "v",
         "showlegend": true,
         "type": "scatter",
         "x": [
          "Jan",
          "Feb",
          "Mar",
          "Apr",
          "May",
          "Jun"
         ],
         "xaxis": "x",
         "y": [
          -0.8335805000000001,
          1.1248135,
          -0.10036599999999996,
          1.6551876,
          1.27829475,
          -0.13589600000000002
         ],
         "yaxis": "y"
        },
        {
         "hovertemplate": "stock=T<br>month_name=%{x}<br>percent_change_price=%{y}<extra></extra>",
         "legendgroup": "T",
         "marker": {
          "color": "#ab63fa",
          "symbol": "circle"
         },
         "mode": "markers",
         "name": "T",
         "orientation": "v",
         "showlegend": true,
         "type": "scatter",
         "x": [
          "Jan",
          "Feb",
          "Mar",
          "Apr",
          "May",
          "Jun"
         ],
         "xaxis": "x",
         "y": [
          -1.840198,
          0.9302895,
          -0.10179824999999999,
          1.48251506,
          0.13315275000000001,
          -0.60582625
         ],
         "yaxis": "y"
        },
        {
         "hovertemplate": "stock=AXP<br>month_name=%{x}<br>percent_change_price=%{y}<extra></extra>",
         "legendgroup": "AXP",
         "marker": {
          "color": "#FFA15A",
          "symbol": "circle"
         },
         "mode": "markers",
         "name": "AXP",
         "orientation": "v",
         "showlegend": true,
         "type": "scatter",
         "x": [
          "Jan",
          "Feb",
          "Mar",
          "Apr",
          "May",
          "Jun"
         ],
         "xaxis": "x",
         "y": [
          0.5662937750000003,
          0.1473525,
          0.8796520999999999,
          1.5179258,
          1.2231809999999999,
          -1.457458125
         ],
         "yaxis": "y"
        },
        {
         "hovertemplate": "stock=JPM<br>month_name=%{x}<br>percent_change_price=%{y}<extra></extra>",
         "legendgroup": "JPM",
         "marker": {
          "color": "#19d3f3",
          "symbol": "circle"
         },
         "mode": "markers",
         "name": "JPM",
         "orientation": "v",
         "showlegend": true,
         "type": "scatter",
         "x": [
          "Jan",
          "Feb",
          "Mar",
          "Apr",
          "May",
          "Jun"
         ],
         "xaxis": "x",
         "y": [
          1.09907075,
          1.9296235,
          -0.67394025,
          0.14701280000000008,
          -1.060584,
          -1.91609375
         ],
         "yaxis": "y"
        },
        {
         "hovertemplate": "stock=JNJ<br>month_name=%{x}<br>percent_change_price=%{y}<extra></extra>",
         "legendgroup": "JNJ",
         "marker": {
          "color": "#FF6692",
          "symbol": "circle"
         },
         "mode": "markers",
         "name": "JNJ",
         "orientation": "v",
         "showlegend": true,
         "type": "scatter",
         "x": [
          "Jan",
          "Feb",
          "Mar",
          "Apr",
          "May",
          "Jun"
         ],
         "xaxis": "x",
         "y": [
          -0.7458081,
          -0.046802999999999984,
          -0.35606775,
          2.3502366199999996,
          0.6681539999999999,
          -0.7668335500000001
         ],
         "yaxis": "y"
        },
        {
         "hovertemplate": "stock=BA<br>month_name=%{x}<br>percent_change_price=%{y}<extra></extra>",
         "legendgroup": "BA",
         "marker": {
          "color": "#B6E880",
          "symbol": "circle"
         },
         "mode": "markers",
         "name": "BA",
         "orientation": "v",
         "showlegend": true,
         "type": "scatter",
         "x": [
          "Jan",
          "Feb",
          "Mar",
          "Apr",
          "May",
          "Jun"
         ],
         "xaxis": "x",
         "y": [
          0.9436199999999999,
          1.113369125,
          0.14049647500000007,
          1.7572234000000002,
          -0.63046925,
          -2.179625
         ],
         "yaxis": "y"
        },
        {
         "hovertemplate": "stock=MCD<br>month_name=%{x}<br>percent_change_price=%{y}<extra></extra>",
         "legendgroup": "MCD",
         "marker": {
          "color": "#FF97FF",
          "symbol": "circle"
         },
         "mode": "markers",
         "name": "MCD",
         "orientation": "v",
         "showlegend": true,
         "type": "scatter",
         "x": [
          "Jan",
          "Feb",
          "Mar",
          "Apr",
          "May",
          "Jun"
         ],
         "xaxis": "x",
         "y": [
          -1.15522525,
          0.28523192500000005,
          0.19811124999999996,
          0.6746754399999999,
          1.113373,
          -0.05457175000000006
         ],
         "yaxis": "y"
        },
        {
         "hovertemplate": "stock=DIS<br>month_name=%{x}<br>percent_change_price=%{y}<extra></extra>",
         "legendgroup": "DIS",
         "marker": {
          "color": "#FECB52",
          "symbol": "circle"
         },
         "mode": "markers",
         "name": "DIS",
         "orientation": "v",
         "showlegend": true,
         "type": "scatter",
         "x": [
          "Jan",
          "Feb",
          "Mar",
          "Apr",
          "May",
          "Jun"
         ],
         "xaxis": "x",
         "y": [
          1.2426737499999998,
          2.95289425,
          0.047234999999999916,
          0.2033776,
          -0.90436825,
          -2.497638
         ],
         "yaxis": "y"
        }
       ],
       "layout": {
        "legend": {
         "title": {
          "text": "stock"
         },
         "tracegroupgap": 0
        },
        "template": {
         "data": {
          "bar": [
           {
            "error_x": {
             "color": "#2a3f5f"
            },
            "error_y": {
             "color": "#2a3f5f"
            },
            "marker": {
             "line": {
              "color": "#E5ECF6",
              "width": 0.5
             },
             "pattern": {
              "fillmode": "overlay",
              "size": 10,
              "solidity": 0.2
             }
            },
            "type": "bar"
           }
          ],
          "barpolar": [
           {
            "marker": {
             "line": {
              "color": "#E5ECF6",
              "width": 0.5
             },
             "pattern": {
              "fillmode": "overlay",
              "size": 10,
              "solidity": 0.2
             }
            },
            "type": "barpolar"
           }
          ],
          "carpet": [
           {
            "aaxis": {
             "endlinecolor": "#2a3f5f",
             "gridcolor": "white",
             "linecolor": "white",
             "minorgridcolor": "white",
             "startlinecolor": "#2a3f5f"
            },
            "baxis": {
             "endlinecolor": "#2a3f5f",
             "gridcolor": "white",
             "linecolor": "white",
             "minorgridcolor": "white",
             "startlinecolor": "#2a3f5f"
            },
            "type": "carpet"
           }
          ],
          "choropleth": [
           {
            "colorbar": {
             "outlinewidth": 0,
             "ticks": ""
            },
            "type": "choropleth"
           }
          ],
          "contour": [
           {
            "colorbar": {
             "outlinewidth": 0,
             "ticks": ""
            },
            "colorscale": [
             [
              0,
              "#0d0887"
             ],
             [
              0.1111111111111111,
              "#46039f"
             ],
             [
              0.2222222222222222,
              "#7201a8"
             ],
             [
              0.3333333333333333,
              "#9c179e"
             ],
             [
              0.4444444444444444,
              "#bd3786"
             ],
             [
              0.5555555555555556,
              "#d8576b"
             ],
             [
              0.6666666666666666,
              "#ed7953"
             ],
             [
              0.7777777777777778,
              "#fb9f3a"
             ],
             [
              0.8888888888888888,
              "#fdca26"
             ],
             [
              1,
              "#f0f921"
             ]
            ],
            "type": "contour"
           }
          ],
          "contourcarpet": [
           {
            "colorbar": {
             "outlinewidth": 0,
             "ticks": ""
            },
            "type": "contourcarpet"
           }
          ],
          "heatmap": [
           {
            "colorbar": {
             "outlinewidth": 0,
             "ticks": ""
            },
            "colorscale": [
             [
              0,
              "#0d0887"
             ],
             [
              0.1111111111111111,
              "#46039f"
             ],
             [
              0.2222222222222222,
              "#7201a8"
             ],
             [
              0.3333333333333333,
              "#9c179e"
             ],
             [
              0.4444444444444444,
              "#bd3786"
             ],
             [
              0.5555555555555556,
              "#d8576b"
             ],
             [
              0.6666666666666666,
              "#ed7953"
             ],
             [
              0.7777777777777778,
              "#fb9f3a"
             ],
             [
              0.8888888888888888,
              "#fdca26"
             ],
             [
              1,
              "#f0f921"
             ]
            ],
            "type": "heatmap"
           }
          ],
          "heatmapgl": [
           {
            "colorbar": {
             "outlinewidth": 0,
             "ticks": ""
            },
            "colorscale": [
             [
              0,
              "#0d0887"
             ],
             [
              0.1111111111111111,
              "#46039f"
             ],
             [
              0.2222222222222222,
              "#7201a8"
             ],
             [
              0.3333333333333333,
              "#9c179e"
             ],
             [
              0.4444444444444444,
              "#bd3786"
             ],
             [
              0.5555555555555556,
              "#d8576b"
             ],
             [
              0.6666666666666666,
              "#ed7953"
             ],
             [
              0.7777777777777778,
              "#fb9f3a"
             ],
             [
              0.8888888888888888,
              "#fdca26"
             ],
             [
              1,
              "#f0f921"
             ]
            ],
            "type": "heatmapgl"
           }
          ],
          "histogram": [
           {
            "marker": {
             "pattern": {
              "fillmode": "overlay",
              "size": 10,
              "solidity": 0.2
             }
            },
            "type": "histogram"
           }
          ],
          "histogram2d": [
           {
            "colorbar": {
             "outlinewidth": 0,
             "ticks": ""
            },
            "colorscale": [
             [
              0,
              "#0d0887"
             ],
             [
              0.1111111111111111,
              "#46039f"
             ],
             [
              0.2222222222222222,
              "#7201a8"
             ],
             [
              0.3333333333333333,
              "#9c179e"
             ],
             [
              0.4444444444444444,
              "#bd3786"
             ],
             [
              0.5555555555555556,
              "#d8576b"
             ],
             [
              0.6666666666666666,
              "#ed7953"
             ],
             [
              0.7777777777777778,
              "#fb9f3a"
             ],
             [
              0.8888888888888888,
              "#fdca26"
             ],
             [
              1,
              "#f0f921"
             ]
            ],
            "type": "histogram2d"
           }
          ],
          "histogram2dcontour": [
           {
            "colorbar": {
             "outlinewidth": 0,
             "ticks": ""
            },
            "colorscale": [
             [
              0,
              "#0d0887"
             ],
             [
              0.1111111111111111,
              "#46039f"
             ],
             [
              0.2222222222222222,
              "#7201a8"
             ],
             [
              0.3333333333333333,
              "#9c179e"
             ],
             [
              0.4444444444444444,
              "#bd3786"
             ],
             [
              0.5555555555555556,
              "#d8576b"
             ],
             [
              0.6666666666666666,
              "#ed7953"
             ],
             [
              0.7777777777777778,
              "#fb9f3a"
             ],
             [
              0.8888888888888888,
              "#fdca26"
             ],
             [
              1,
              "#f0f921"
             ]
            ],
            "type": "histogram2dcontour"
           }
          ],
          "mesh3d": [
           {
            "colorbar": {
             "outlinewidth": 0,
             "ticks": ""
            },
            "type": "mesh3d"
           }
          ],
          "parcoords": [
           {
            "line": {
             "colorbar": {
              "outlinewidth": 0,
              "ticks": ""
             }
            },
            "type": "parcoords"
           }
          ],
          "pie": [
           {
            "automargin": true,
            "type": "pie"
           }
          ],
          "scatter": [
           {
            "fillpattern": {
             "fillmode": "overlay",
             "size": 10,
             "solidity": 0.2
            },
            "type": "scatter"
           }
          ],
          "scatter3d": [
           {
            "line": {
             "colorbar": {
              "outlinewidth": 0,
              "ticks": ""
             }
            },
            "marker": {
             "colorbar": {
              "outlinewidth": 0,
              "ticks": ""
             }
            },
            "type": "scatter3d"
           }
          ],
          "scattercarpet": [
           {
            "marker": {
             "colorbar": {
              "outlinewidth": 0,
              "ticks": ""
             }
            },
            "type": "scattercarpet"
           }
          ],
          "scattergeo": [
           {
            "marker": {
             "colorbar": {
              "outlinewidth": 0,
              "ticks": ""
             }
            },
            "type": "scattergeo"
           }
          ],
          "scattergl": [
           {
            "marker": {
             "colorbar": {
              "outlinewidth": 0,
              "ticks": ""
             }
            },
            "type": "scattergl"
           }
          ],
          "scattermapbox": [
           {
            "marker": {
             "colorbar": {
              "outlinewidth": 0,
              "ticks": ""
             }
            },
            "type": "scattermapbox"
           }
          ],
          "scatterpolar": [
           {
            "marker": {
             "colorbar": {
              "outlinewidth": 0,
              "ticks": ""
             }
            },
            "type": "scatterpolar"
           }
          ],
          "scatterpolargl": [
           {
            "marker": {
             "colorbar": {
              "outlinewidth": 0,
              "ticks": ""
             }
            },
            "type": "scatterpolargl"
           }
          ],
          "scatterternary": [
           {
            "marker": {
             "colorbar": {
              "outlinewidth": 0,
              "ticks": ""
             }
            },
            "type": "scatterternary"
           }
          ],
          "surface": [
           {
            "colorbar": {
             "outlinewidth": 0,
             "ticks": ""
            },
            "colorscale": [
             [
              0,
              "#0d0887"
             ],
             [
              0.1111111111111111,
              "#46039f"
             ],
             [
              0.2222222222222222,
              "#7201a8"
             ],
             [
              0.3333333333333333,
              "#9c179e"
             ],
             [
              0.4444444444444444,
              "#bd3786"
             ],
             [
              0.5555555555555556,
              "#d8576b"
             ],
             [
              0.6666666666666666,
              "#ed7953"
             ],
             [
              0.7777777777777778,
              "#fb9f3a"
             ],
             [
              0.8888888888888888,
              "#fdca26"
             ],
             [
              1,
              "#f0f921"
             ]
            ],
            "type": "surface"
           }
          ],
          "table": [
           {
            "cells": {
             "fill": {
              "color": "#EBF0F8"
             },
             "line": {
              "color": "white"
             }
            },
            "header": {
             "fill": {
              "color": "#C8D4E3"
             },
             "line": {
              "color": "white"
             }
            },
            "type": "table"
           }
          ]
         },
         "layout": {
          "annotationdefaults": {
           "arrowcolor": "#2a3f5f",
           "arrowhead": 0,
           "arrowwidth": 1
          },
          "autotypenumbers": "strict",
          "coloraxis": {
           "colorbar": {
            "outlinewidth": 0,
            "ticks": ""
           }
          },
          "colorscale": {
           "diverging": [
            [
             0,
             "#8e0152"
            ],
            [
             0.1,
             "#c51b7d"
            ],
            [
             0.2,
             "#de77ae"
            ],
            [
             0.3,
             "#f1b6da"
            ],
            [
             0.4,
             "#fde0ef"
            ],
            [
             0.5,
             "#f7f7f7"
            ],
            [
             0.6,
             "#e6f5d0"
            ],
            [
             0.7,
             "#b8e186"
            ],
            [
             0.8,
             "#7fbc41"
            ],
            [
             0.9,
             "#4d9221"
            ],
            [
             1,
             "#276419"
            ]
           ],
           "sequential": [
            [
             0,
             "#0d0887"
            ],
            [
             0.1111111111111111,
             "#46039f"
            ],
            [
             0.2222222222222222,
             "#7201a8"
            ],
            [
             0.3333333333333333,
             "#9c179e"
            ],
            [
             0.4444444444444444,
             "#bd3786"
            ],
            [
             0.5555555555555556,
             "#d8576b"
            ],
            [
             0.6666666666666666,
             "#ed7953"
            ],
            [
             0.7777777777777778,
             "#fb9f3a"
            ],
            [
             0.8888888888888888,
             "#fdca26"
            ],
            [
             1,
             "#f0f921"
            ]
           ],
           "sequentialminus": [
            [
             0,
             "#0d0887"
            ],
            [
             0.1111111111111111,
             "#46039f"
            ],
            [
             0.2222222222222222,
             "#7201a8"
            ],
            [
             0.3333333333333333,
             "#9c179e"
            ],
            [
             0.4444444444444444,
             "#bd3786"
            ],
            [
             0.5555555555555556,
             "#d8576b"
            ],
            [
             0.6666666666666666,
             "#ed7953"
            ],
            [
             0.7777777777777778,
             "#fb9f3a"
            ],
            [
             0.8888888888888888,
             "#fdca26"
            ],
            [
             1,
             "#f0f921"
            ]
           ]
          },
          "colorway": [
           "#636efa",
           "#EF553B",
           "#00cc96",
           "#ab63fa",
           "#FFA15A",
           "#19d3f3",
           "#FF6692",
           "#B6E880",
           "#FF97FF",
           "#FECB52"
          ],
          "font": {
           "color": "#2a3f5f"
          },
          "geo": {
           "bgcolor": "white",
           "lakecolor": "white",
           "landcolor": "#E5ECF6",
           "showlakes": true,
           "showland": true,
           "subunitcolor": "white"
          },
          "hoverlabel": {
           "align": "left"
          },
          "hovermode": "closest",
          "mapbox": {
           "style": "light"
          },
          "paper_bgcolor": "white",
          "plot_bgcolor": "#E5ECF6",
          "polar": {
           "angularaxis": {
            "gridcolor": "white",
            "linecolor": "white",
            "ticks": ""
           },
           "bgcolor": "#E5ECF6",
           "radialaxis": {
            "gridcolor": "white",
            "linecolor": "white",
            "ticks": ""
           }
          },
          "scene": {
           "xaxis": {
            "backgroundcolor": "#E5ECF6",
            "gridcolor": "white",
            "gridwidth": 2,
            "linecolor": "white",
            "showbackground": true,
            "ticks": "",
            "zerolinecolor": "white"
           },
           "yaxis": {
            "backgroundcolor": "#E5ECF6",
            "gridcolor": "white",
            "gridwidth": 2,
            "linecolor": "white",
            "showbackground": true,
            "ticks": "",
            "zerolinecolor": "white"
           },
           "zaxis": {
            "backgroundcolor": "#E5ECF6",
            "gridcolor": "white",
            "gridwidth": 2,
            "linecolor": "white",
            "showbackground": true,
            "ticks": "",
            "zerolinecolor": "white"
           }
          },
          "shapedefaults": {
           "line": {
            "color": "#2a3f5f"
           }
          },
          "ternary": {
           "aaxis": {
            "gridcolor": "white",
            "linecolor": "white",
            "ticks": ""
           },
           "baxis": {
            "gridcolor": "white",
            "linecolor": "white",
            "ticks": ""
           },
           "bgcolor": "#E5ECF6",
           "caxis": {
            "gridcolor": "white",
            "linecolor": "white",
            "ticks": ""
           }
          },
          "title": {
           "x": 0.05
          },
          "xaxis": {
           "automargin": true,
           "gridcolor": "white",
           "linecolor": "white",
           "ticks": "",
           "title": {
            "standoff": 15
           },
           "zerolinecolor": "white",
           "zerolinewidth": 2
          },
          "yaxis": {
           "automargin": true,
           "gridcolor": "white",
           "linecolor": "white",
           "ticks": "",
           "title": {
            "standoff": 15
           },
           "zerolinecolor": "white",
           "zerolinewidth": 2
          }
         }
        },
        "title": {
         "text": "Average Percent Change in Price by Month"
        },
        "xaxis": {
         "anchor": "y",
         "domain": [
          0,
          1
         ],
         "title": {
          "text": "month_name"
         }
        },
        "yaxis": {
         "anchor": "x",
         "domain": [
          0,
          1
         ],
         "title": {
          "text": "percent_change_price"
         }
        }
       }
      },
      "text/html": [
       "<div>                            <div id=\"7cd9a472-83b5-4cea-93fd-6dce52c11f17\" class=\"plotly-graph-div\" style=\"height:525px; width:100%;\"></div>            <script type=\"text/javascript\">                require([\"plotly\"], function(Plotly) {                    window.PLOTLYENV=window.PLOTLYENV || {};                                    if (document.getElementById(\"7cd9a472-83b5-4cea-93fd-6dce52c11f17\")) {                    Plotly.newPlot(                        \"7cd9a472-83b5-4cea-93fd-6dce52c11f17\",                        [{\"hovertemplate\":\"stock=AA<br>month_name=%{x}<br>percent_change_price=%{y}<extra></extra>\",\"legendgroup\":\"AA\",\"marker\":{\"color\":\"#636efa\",\"symbol\":\"circle\"},\"mode\":\"markers\",\"name\":\"AA\",\"orientation\":\"v\",\"showlegend\":true,\"x\":[\"Jan\",\"Feb\",\"Mar\",\"Apr\",\"May\",\"Jun\"],\"xaxis\":\"x\",\"y\":[-0.3670425,0.9411842500000001,0.16305000000000003,0.08215020000000012,-0.53482175,-2.19308],\"yaxis\":\"y\",\"type\":\"scatter\"},{\"hovertemplate\":\"stock=CSCO<br>month_name=%{x}<br>percent_change_price=%{y}<extra></extra>\",\"legendgroup\":\"CSCO\",\"marker\":{\"color\":\"#EF553B\",\"symbol\":\"circle\"},\"mode\":\"markers\",\"name\":\"CSCO\",\"orientation\":\"v\",\"showlegend\":true,\"x\":[\"Jan\",\"Feb\",\"Mar\",\"Apr\",\"May\",\"Jun\"],\"xaxis\":\"x\",\"y\":[0.4769455000000001,-2.6247911,-1.88065025,0.383984,-1.21045675,-2.6053811000000002],\"yaxis\":\"y\",\"type\":\"scatter\"},{\"hovertemplate\":\"stock=MRK<br>month_name=%{x}<br>percent_change_price=%{y}<extra></extra>\",\"legendgroup\":\"MRK\",\"marker\":{\"color\":\"#00cc96\",\"symbol\":\"circle\"},\"mode\":\"markers\",\"name\":\"MRK\",\"orientation\":\"v\",\"showlegend\":true,\"x\":[\"Jan\",\"Feb\",\"Mar\",\"Apr\",\"May\",\"Jun\"],\"xaxis\":\"x\",\"y\":[-2.1041957499999997,-0.7201975,0.3832595,2.2583311999999998,0.3236495000000001,-0.833965],\"yaxis\":\"y\",\"type\":\"scatter\"},{\"hovertemplate\":\"stock=UTX<br>month_name=%{x}<br>percent_change_price=%{y}<extra></extra>\",\"legendgroup\":\"UTX\",\"marker\":{\"color\":\"#ab63fa\",\"symbol\":\"circle\"},\"mode\":\"markers\",\"name\":\"UTX\",\"orientation\":\"v\",\"showlegend\":true,\"x\":[\"Jan\",\"Feb\",\"Mar\",\"Apr\",\"May\",\"Jun\"],\"xaxis\":\"x\",\"y\":[0.8785434999999999,0.5655389499999999,-0.23921125,1.494453,-0.49402947500000005,-0.661218475],\"yaxis\":\"y\",\"type\":\"scatter\"},{\"hovertemplate\":\"stock=PG<br>month_name=%{x}<br>percent_change_price=%{y}<extra></extra>\",\"legendgroup\":\"PG\",\"marker\":{\"color\":\"#FFA15A\",\"symbol\":\"circle\"},\"mode\":\"markers\",\"name\":\"PG\",\"orientation\":\"v\",\"showlegend\":true,\"x\":[\"Jan\",\"Feb\",\"Mar\",\"Apr\",\"May\",\"Jun\"],\"xaxis\":\"x\",\"y\":[-0.06453399999999998,-0.52459625,-0.725191,1.3885295999999998,0.792577525,-1.3202620999999999],\"yaxis\":\"y\",\"type\":\"scatter\"},{\"hovertemplate\":\"stock=HPQ<br>month_name=%{x}<br>percent_change_price=%{y}<extra></extra>\",\"legendgroup\":\"HPQ\",\"marker\":{\"color\":\"#19d3f3\",\"symbol\":\"circle\"},\"mode\":\"markers\",\"name\":\"HPQ\",\"orientation\":\"v\",\"showlegend\":true,\"x\":[\"Jan\",\"Feb\",\"Mar\",\"Apr\",\"May\",\"Jun\"],\"xaxis\":\"x\",\"y\":[2.4328325,-0.8569710000000001,-0.5308157,-0.6959797999999999,-1.8139020000000001,-1.31210275],\"yaxis\":\"y\",\"type\":\"scatter\"},{\"hovertemplate\":\"stock=PFE<br>month_name=%{x}<br>percent_change_price=%{y}<extra></extra>\",\"legendgroup\":\"PFE\",\"marker\":{\"color\":\"#FF6692\",\"symbol\":\"circle\"},\"mode\":\"markers\",\"name\":\"PFE\",\"orientation\":\"v\",\"showlegend\":true,\"x\":[\"Jan\",\"Feb\",\"Mar\",\"Apr\",\"May\",\"Jun\"],\"xaxis\":\"x\",\"y\":[0.836733975,1.4197419999999998,1.695492,0.35466888,0.13409000000000004,-0.83136175],\"yaxis\":\"y\",\"type\":\"scatter\"},{\"hovertemplate\":\"stock=CAT<br>month_name=%{x}<br>percent_change_price=%{y}<extra></extra>\",\"legendgroup\":\"CAT\",\"marker\":{\"color\":\"#B6E880\",\"symbol\":\"circle\"},\"mode\":\"markers\",\"name\":\"CAT\",\"orientation\":\"v\",\"showlegend\":true,\"x\":[\"Jan\",\"Feb\",\"Mar\",\"Apr\",\"May\",\"Jun\"],\"xaxis\":\"x\",\"y\":[0.46891550000000004,1.75693,0.3700589999999999,1.308868,-1.8267425,-1.4511224999999999],\"yaxis\":\"y\",\"type\":\"scatter\"},{\"hovertemplate\":\"stock=XOM<br>month_name=%{x}<br>percent_change_price=%{y}<extra></extra>\",\"legendgroup\":\"XOM\",\"marker\":{\"color\":\"#FF97FF\",\"symbol\":\"circle\"},\"mode\":\"markers\",\"name\":\"XOM\",\"orientation\":\"v\",\"showlegend\":true,\"x\":[\"Jan\",\"Feb\",\"Mar\",\"Apr\",\"May\",\"Jun\"],\"xaxis\":\"x\",\"y\":[1.9627555,1.73337125,-1.03003375,1.38423,-1.0079099999999999,-1.8863025],\"yaxis\":\"y\",\"type\":\"scatter\"},{\"hovertemplate\":\"stock=MSFT<br>month_name=%{x}<br>percent_change_price=%{y}<extra></extra>\",\"legendgroup\":\"MSFT\",\"marker\":{\"color\":\"#FECB52\",\"symbol\":\"circle\"},\"mode\":\"markers\",\"name\":\"MSFT\",\"orientation\":\"v\",\"showlegend\":true,\"x\":[\"Jan\",\"Feb\",\"Mar\",\"Apr\",\"May\",\"Jun\"],\"xaxis\":\"x\",\"y\":[0.21365849999999997,-0.837994,-1.3635625,0.3370918,-0.7163935,-0.6425332500000001],\"yaxis\":\"y\",\"type\":\"scatter\"},{\"hovertemplate\":\"stock=MMM<br>month_name=%{x}<br>percent_change_price=%{y}<extra></extra>\",\"legendgroup\":\"MMM\",\"marker\":{\"color\":\"#636efa\",\"symbol\":\"circle\"},\"mode\":\"markers\",\"name\":\"MMM\",\"orientation\":\"v\",\"showlegend\":true,\"x\":[\"Jan\",\"Feb\",\"Mar\",\"Apr\",\"May\",\"Jun\"],\"xaxis\":\"x\",\"y\":[0.46692399999999995,0.80099425,-0.2403774999999999,1.239145,-0.5194835,-0.763053],\"yaxis\":\"y\",\"type\":\"scatter\"},{\"hovertemplate\":\"stock=IBM<br>month_name=%{x}<br>percent_change_price=%{y}<extra></extra>\",\"legendgroup\":\"IBM\",\"marker\":{\"color\":\"#EF553B\",\"symbol\":\"circle\"},\"mode\":\"markers\",\"name\":\"IBM\",\"orientation\":\"v\",\"showlegend\":true,\"x\":[\"Jan\",\"Feb\",\"Mar\",\"Apr\",\"May\",\"Jun\"],\"xaxis\":\"x\",\"y\":[2.18992175,0.62529725,-0.05072024999999991,1.4236654,-0.33741350000000003,-0.533666],\"yaxis\":\"y\",\"type\":\"scatter\"},{\"hovertemplate\":\"stock=CVX<br>month_name=%{x}<br>percent_change_price=%{y}<extra></extra>\",\"legendgroup\":\"CVX\",\"marker\":{\"color\":\"#00cc96\",\"symbol\":\"circle\"},\"mode\":\"markers\",\"name\":\"CVX\",\"orientation\":\"v\",\"showlegend\":true,\"x\":[\"Jan\",\"Feb\",\"Mar\",\"Apr\",\"May\",\"Jun\"],\"xaxis\":\"x\",\"y\":[0.47606850000000006,2.22110575,0.9738374999999999,0.924714,-1.0688535,-1.632673],\"yaxis\":\"y\",\"type\":\"scatter\"},{\"hovertemplate\":\"stock=BAC<br>month_name=%{x}<br>percent_change_price=%{y}<extra></extra>\",\"legendgroup\":\"BAC\",\"marker\":{\"color\":\"#ab63fa\",\"symbol\":\"circle\"},\"mode\":\"markers\",\"name\":\"BAC\",\"orientation\":\"v\",\"showlegend\":true,\"x\":[\"Jan\",\"Feb\",\"Mar\",\"Apr\",\"May\",\"Jun\"],\"xaxis\":\"x\",\"y\":[0.11111249999999995,1.1588025,-1.80996,-1.4722536,-0.9859677499999999,-2.73970275],\"yaxis\":\"y\",\"type\":\"scatter\"},{\"hovertemplate\":\"stock=INTC<br>month_name=%{x}<br>percent_change_price=%{y}<extra></extra>\",\"legendgroup\":\"INTC\",\"marker\":{\"color\":\"#FFA15A\",\"symbol\":\"circle\"},\"mode\":\"markers\",\"name\":\"INTC\",\"orientation\":\"v\",\"showlegend\":true,\"x\":[\"Jan\",\"Feb\",\"Mar\",\"Apr\",\"May\",\"Jun\"],\"xaxis\":\"x\",\"y\":[0.29170925000000003,0.6607653250000001,-1.4564232499999998,2.851388,-0.32921625,-1.5516194749999999],\"yaxis\":\"y\",\"type\":\"scatter\"},{\"hovertemplate\":\"stock=HD<br>month_name=%{x}<br>percent_change_price=%{y}<extra></extra>\",\"legendgroup\":\"HD\",\"marker\":{\"color\":\"#19d3f3\",\"symbol\":\"circle\"},\"mode\":\"markers\",\"name\":\"HD\",\"orientation\":\"v\",\"showlegend\":true,\"x\":[\"Jan\",\"Feb\",\"Mar\",\"Apr\",\"May\",\"Jun\"],\"xaxis\":\"x\",\"y\":[1.223589,-0.49857475000000007,0.12207599999999996,0.23566424000000002,-0.0010250000000000259,-0.46304750000000006],\"yaxis\":\"y\",\"type\":\"scatter\"},{\"hovertemplate\":\"stock=WMT<br>month_name=%{x}<br>percent_change_price=%{y}<extra></extra>\",\"legendgroup\":\"WMT\",\"marker\":{\"color\":\"#FF6692\",\"symbol\":\"circle\"},\"mode\":\"markers\",\"name\":\"WMT\",\"orientation\":\"v\",\"showlegend\":true,\"x\":[\"Jan\",\"Feb\",\"Mar\",\"Apr\",\"May\",\"Jun\"],\"xaxis\":\"x\",\"y\":[1.3439075,-1.2582175,0.21571625,1.1069056,0.07892824999999999,-1.26500375],\"yaxis\":\"y\",\"type\":\"scatter\"},{\"hovertemplate\":\"stock=GE<br>month_name=%{x}<br>percent_change_price=%{y}<extra></extra>\",\"legendgroup\":\"GE\",\"marker\":{\"color\":\"#B6E880\",\"symbol\":\"circle\"},\"mode\":\"markers\",\"name\":\"GE\",\"orientation\":\"v\",\"showlegend\":true,\"x\":[\"Jan\",\"Feb\",\"Mar\",\"Apr\",\"May\",\"Jun\"],\"xaxis\":\"x\",\"y\":[1.5407199999999999,1.0548835,-1.54149925,0.3064116,-1.06787575,-1.87218775],\"yaxis\":\"y\",\"type\":\"scatter\"},{\"hovertemplate\":\"stock=KO<br>month_name=%{x}<br>percent_change_price=%{y}<extra></extra>\",\"legendgroup\":\"KO\",\"marker\":{\"color\":\"#FF97FF\",\"symbol\":\"circle\"},\"mode\":\"markers\",\"name\":\"KO\",\"orientation\":\"v\",\"showlegend\":true,\"x\":[\"Jan\",\"Feb\",\"Mar\",\"Apr\",\"May\",\"Jun\"],\"xaxis\":\"x\",\"y\":[-1.3882742499999998,1.17567475,0.400397,0.8080635199999999,-0.149776,-0.54096475],\"yaxis\":\"y\",\"type\":\"scatter\"},{\"hovertemplate\":\"stock=DD<br>month_name=%{x}<br>percent_change_price=%{y}<extra></extra>\",\"legendgroup\":\"DD\",\"marker\":{\"color\":\"#FECB52\",\"symbol\":\"circle\"},\"mode\":\"markers\",\"name\":\"DD\",\"orientation\":\"v\",\"showlegend\":true,\"x\":[\"Jan\",\"Feb\",\"Mar\",\"Apr\",\"May\",\"Jun\"],\"xaxis\":\"x\",\"y\":[0.99073475,2.42448,-0.665821,1.1568,-1.3255875,-0.6044795000000003],\"yaxis\":\"y\",\"type\":\"scatter\"},{\"hovertemplate\":\"stock=VZ<br>month_name=%{x}<br>percent_change_price=%{y}<extra></extra>\",\"legendgroup\":\"VZ\",\"marker\":{\"color\":\"#636efa\",\"symbol\":\"circle\"},\"mode\":\"markers\",\"name\":\"VZ\",\"orientation\":\"v\",\"showlegend\":true,\"x\":[\"Jan\",\"Feb\",\"Mar\",\"Apr\",\"May\",\"Jun\"],\"xaxis\":\"x\",\"y\":[-0.6019699999999999,0.5591425,0.319693275,0.19878020000000002,-0.826482025,-0.47566825],\"yaxis\":\"y\",\"type\":\"scatter\"},{\"hovertemplate\":\"stock=TRV<br>month_name=%{x}<br>percent_change_price=%{y}<extra></extra>\",\"legendgroup\":\"TRV\",\"marker\":{\"color\":\"#EF553B\",\"symbol\":\"circle\"},\"mode\":\"markers\",\"name\":\"TRV\",\"orientation\":\"v\",\"showlegend\":true,\"x\":[\"Jan\",\"Feb\",\"Mar\",\"Apr\",\"May\",\"Jun\"],\"xaxis\":\"x\",\"y\":[-0.041808499999999915,1.9162975,-0.28078225,1.42314936,-0.6040265,-2.0767075],\"yaxis\":\"y\",\"type\":\"scatter\"},{\"hovertemplate\":\"stock=KRFT<br>month_name=%{x}<br>percent_change_price=%{y}<extra></extra>\",\"legendgroup\":\"KRFT\",\"marker\":{\"color\":\"#00cc96\",\"symbol\":\"circle\"},\"mode\":\"markers\",\"name\":\"KRFT\",\"orientation\":\"v\",\"showlegend\":true,\"x\":[\"Jan\",\"Feb\",\"Mar\",\"Apr\",\"May\",\"Jun\"],\"xaxis\":\"x\",\"y\":[-0.8335805000000001,1.1248135,-0.10036599999999996,1.6551876,1.27829475,-0.13589600000000002],\"yaxis\":\"y\",\"type\":\"scatter\"},{\"hovertemplate\":\"stock=T<br>month_name=%{x}<br>percent_change_price=%{y}<extra></extra>\",\"legendgroup\":\"T\",\"marker\":{\"color\":\"#ab63fa\",\"symbol\":\"circle\"},\"mode\":\"markers\",\"name\":\"T\",\"orientation\":\"v\",\"showlegend\":true,\"x\":[\"Jan\",\"Feb\",\"Mar\",\"Apr\",\"May\",\"Jun\"],\"xaxis\":\"x\",\"y\":[-1.840198,0.9302895,-0.10179824999999999,1.48251506,0.13315275000000001,-0.60582625],\"yaxis\":\"y\",\"type\":\"scatter\"},{\"hovertemplate\":\"stock=AXP<br>month_name=%{x}<br>percent_change_price=%{y}<extra></extra>\",\"legendgroup\":\"AXP\",\"marker\":{\"color\":\"#FFA15A\",\"symbol\":\"circle\"},\"mode\":\"markers\",\"name\":\"AXP\",\"orientation\":\"v\",\"showlegend\":true,\"x\":[\"Jan\",\"Feb\",\"Mar\",\"Apr\",\"May\",\"Jun\"],\"xaxis\":\"x\",\"y\":[0.5662937750000003,0.1473525,0.8796520999999999,1.5179258,1.2231809999999999,-1.457458125],\"yaxis\":\"y\",\"type\":\"scatter\"},{\"hovertemplate\":\"stock=JPM<br>month_name=%{x}<br>percent_change_price=%{y}<extra></extra>\",\"legendgroup\":\"JPM\",\"marker\":{\"color\":\"#19d3f3\",\"symbol\":\"circle\"},\"mode\":\"markers\",\"name\":\"JPM\",\"orientation\":\"v\",\"showlegend\":true,\"x\":[\"Jan\",\"Feb\",\"Mar\",\"Apr\",\"May\",\"Jun\"],\"xaxis\":\"x\",\"y\":[1.09907075,1.9296235,-0.67394025,0.14701280000000008,-1.060584,-1.91609375],\"yaxis\":\"y\",\"type\":\"scatter\"},{\"hovertemplate\":\"stock=JNJ<br>month_name=%{x}<br>percent_change_price=%{y}<extra></extra>\",\"legendgroup\":\"JNJ\",\"marker\":{\"color\":\"#FF6692\",\"symbol\":\"circle\"},\"mode\":\"markers\",\"name\":\"JNJ\",\"orientation\":\"v\",\"showlegend\":true,\"x\":[\"Jan\",\"Feb\",\"Mar\",\"Apr\",\"May\",\"Jun\"],\"xaxis\":\"x\",\"y\":[-0.7458081,-0.046802999999999984,-0.35606775,2.3502366199999996,0.6681539999999999,-0.7668335500000001],\"yaxis\":\"y\",\"type\":\"scatter\"},{\"hovertemplate\":\"stock=BA<br>month_name=%{x}<br>percent_change_price=%{y}<extra></extra>\",\"legendgroup\":\"BA\",\"marker\":{\"color\":\"#B6E880\",\"symbol\":\"circle\"},\"mode\":\"markers\",\"name\":\"BA\",\"orientation\":\"v\",\"showlegend\":true,\"x\":[\"Jan\",\"Feb\",\"Mar\",\"Apr\",\"May\",\"Jun\"],\"xaxis\":\"x\",\"y\":[0.9436199999999999,1.113369125,0.14049647500000007,1.7572234000000002,-0.63046925,-2.179625],\"yaxis\":\"y\",\"type\":\"scatter\"},{\"hovertemplate\":\"stock=MCD<br>month_name=%{x}<br>percent_change_price=%{y}<extra></extra>\",\"legendgroup\":\"MCD\",\"marker\":{\"color\":\"#FF97FF\",\"symbol\":\"circle\"},\"mode\":\"markers\",\"name\":\"MCD\",\"orientation\":\"v\",\"showlegend\":true,\"x\":[\"Jan\",\"Feb\",\"Mar\",\"Apr\",\"May\",\"Jun\"],\"xaxis\":\"x\",\"y\":[-1.15522525,0.28523192500000005,0.19811124999999996,0.6746754399999999,1.113373,-0.05457175000000006],\"yaxis\":\"y\",\"type\":\"scatter\"},{\"hovertemplate\":\"stock=DIS<br>month_name=%{x}<br>percent_change_price=%{y}<extra></extra>\",\"legendgroup\":\"DIS\",\"marker\":{\"color\":\"#FECB52\",\"symbol\":\"circle\"},\"mode\":\"markers\",\"name\":\"DIS\",\"orientation\":\"v\",\"showlegend\":true,\"x\":[\"Jan\",\"Feb\",\"Mar\",\"Apr\",\"May\",\"Jun\"],\"xaxis\":\"x\",\"y\":[1.2426737499999998,2.95289425,0.047234999999999916,0.2033776,-0.90436825,-2.497638],\"yaxis\":\"y\",\"type\":\"scatter\"}],                        {\"template\":{\"data\":{\"histogram2dcontour\":[{\"type\":\"histogram2dcontour\",\"colorbar\":{\"outlinewidth\":0,\"ticks\":\"\"},\"colorscale\":[[0.0,\"#0d0887\"],[0.1111111111111111,\"#46039f\"],[0.2222222222222222,\"#7201a8\"],[0.3333333333333333,\"#9c179e\"],[0.4444444444444444,\"#bd3786\"],[0.5555555555555556,\"#d8576b\"],[0.6666666666666666,\"#ed7953\"],[0.7777777777777778,\"#fb9f3a\"],[0.8888888888888888,\"#fdca26\"],[1.0,\"#f0f921\"]]}],\"choropleth\":[{\"type\":\"choropleth\",\"colorbar\":{\"outlinewidth\":0,\"ticks\":\"\"}}],\"histogram2d\":[{\"type\":\"histogram2d\",\"colorbar\":{\"outlinewidth\":0,\"ticks\":\"\"},\"colorscale\":[[0.0,\"#0d0887\"],[0.1111111111111111,\"#46039f\"],[0.2222222222222222,\"#7201a8\"],[0.3333333333333333,\"#9c179e\"],[0.4444444444444444,\"#bd3786\"],[0.5555555555555556,\"#d8576b\"],[0.6666666666666666,\"#ed7953\"],[0.7777777777777778,\"#fb9f3a\"],[0.8888888888888888,\"#fdca26\"],[1.0,\"#f0f921\"]]}],\"heatmap\":[{\"type\":\"heatmap\",\"colorbar\":{\"outlinewidth\":0,\"ticks\":\"\"},\"colorscale\":[[0.0,\"#0d0887\"],[0.1111111111111111,\"#46039f\"],[0.2222222222222222,\"#7201a8\"],[0.3333333333333333,\"#9c179e\"],[0.4444444444444444,\"#bd3786\"],[0.5555555555555556,\"#d8576b\"],[0.6666666666666666,\"#ed7953\"],[0.7777777777777778,\"#fb9f3a\"],[0.8888888888888888,\"#fdca26\"],[1.0,\"#f0f921\"]]}],\"heatmapgl\":[{\"type\":\"heatmapgl\",\"colorbar\":{\"outlinewidth\":0,\"ticks\":\"\"},\"colorscale\":[[0.0,\"#0d0887\"],[0.1111111111111111,\"#46039f\"],[0.2222222222222222,\"#7201a8\"],[0.3333333333333333,\"#9c179e\"],[0.4444444444444444,\"#bd3786\"],[0.5555555555555556,\"#d8576b\"],[0.6666666666666666,\"#ed7953\"],[0.7777777777777778,\"#fb9f3a\"],[0.8888888888888888,\"#fdca26\"],[1.0,\"#f0f921\"]]}],\"contourcarpet\":[{\"type\":\"contourcarpet\",\"colorbar\":{\"outlinewidth\":0,\"ticks\":\"\"}}],\"contour\":[{\"type\":\"contour\",\"colorbar\":{\"outlinewidth\":0,\"ticks\":\"\"},\"colorscale\":[[0.0,\"#0d0887\"],[0.1111111111111111,\"#46039f\"],[0.2222222222222222,\"#7201a8\"],[0.3333333333333333,\"#9c179e\"],[0.4444444444444444,\"#bd3786\"],[0.5555555555555556,\"#d8576b\"],[0.6666666666666666,\"#ed7953\"],[0.7777777777777778,\"#fb9f3a\"],[0.8888888888888888,\"#fdca26\"],[1.0,\"#f0f921\"]]}],\"surface\":[{\"type\":\"surface\",\"colorbar\":{\"outlinewidth\":0,\"ticks\":\"\"},\"colorscale\":[[0.0,\"#0d0887\"],[0.1111111111111111,\"#46039f\"],[0.2222222222222222,\"#7201a8\"],[0.3333333333333333,\"#9c179e\"],[0.4444444444444444,\"#bd3786\"],[0.5555555555555556,\"#d8576b\"],[0.6666666666666666,\"#ed7953\"],[0.7777777777777778,\"#fb9f3a\"],[0.8888888888888888,\"#fdca26\"],[1.0,\"#f0f921\"]]}],\"mesh3d\":[{\"type\":\"mesh3d\",\"colorbar\":{\"outlinewidth\":0,\"ticks\":\"\"}}],\"scatter\":[{\"fillpattern\":{\"fillmode\":\"overlay\",\"size\":10,\"solidity\":0.2},\"type\":\"scatter\"}],\"parcoords\":[{\"type\":\"parcoords\",\"line\":{\"colorbar\":{\"outlinewidth\":0,\"ticks\":\"\"}}}],\"scatterpolargl\":[{\"type\":\"scatterpolargl\",\"marker\":{\"colorbar\":{\"outlinewidth\":0,\"ticks\":\"\"}}}],\"bar\":[{\"error_x\":{\"color\":\"#2a3f5f\"},\"error_y\":{\"color\":\"#2a3f5f\"},\"marker\":{\"line\":{\"color\":\"#E5ECF6\",\"width\":0.5},\"pattern\":{\"fillmode\":\"overlay\",\"size\":10,\"solidity\":0.2}},\"type\":\"bar\"}],\"scattergeo\":[{\"type\":\"scattergeo\",\"marker\":{\"colorbar\":{\"outlinewidth\":0,\"ticks\":\"\"}}}],\"scatterpolar\":[{\"type\":\"scatterpolar\",\"marker\":{\"colorbar\":{\"outlinewidth\":0,\"ticks\":\"\"}}}],\"histogram\":[{\"marker\":{\"pattern\":{\"fillmode\":\"overlay\",\"size\":10,\"solidity\":0.2}},\"type\":\"histogram\"}],\"scattergl\":[{\"type\":\"scattergl\",\"marker\":{\"colorbar\":{\"outlinewidth\":0,\"ticks\":\"\"}}}],\"scatter3d\":[{\"type\":\"scatter3d\",\"line\":{\"colorbar\":{\"outlinewidth\":0,\"ticks\":\"\"}},\"marker\":{\"colorbar\":{\"outlinewidth\":0,\"ticks\":\"\"}}}],\"scattermapbox\":[{\"type\":\"scattermapbox\",\"marker\":{\"colorbar\":{\"outlinewidth\":0,\"ticks\":\"\"}}}],\"scatterternary\":[{\"type\":\"scatterternary\",\"marker\":{\"colorbar\":{\"outlinewidth\":0,\"ticks\":\"\"}}}],\"scattercarpet\":[{\"type\":\"scattercarpet\",\"marker\":{\"colorbar\":{\"outlinewidth\":0,\"ticks\":\"\"}}}],\"carpet\":[{\"aaxis\":{\"endlinecolor\":\"#2a3f5f\",\"gridcolor\":\"white\",\"linecolor\":\"white\",\"minorgridcolor\":\"white\",\"startlinecolor\":\"#2a3f5f\"},\"baxis\":{\"endlinecolor\":\"#2a3f5f\",\"gridcolor\":\"white\",\"linecolor\":\"white\",\"minorgridcolor\":\"white\",\"startlinecolor\":\"#2a3f5f\"},\"type\":\"carpet\"}],\"table\":[{\"cells\":{\"fill\":{\"color\":\"#EBF0F8\"},\"line\":{\"color\":\"white\"}},\"header\":{\"fill\":{\"color\":\"#C8D4E3\"},\"line\":{\"color\":\"white\"}},\"type\":\"table\"}],\"barpolar\":[{\"marker\":{\"line\":{\"color\":\"#E5ECF6\",\"width\":0.5},\"pattern\":{\"fillmode\":\"overlay\",\"size\":10,\"solidity\":0.2}},\"type\":\"barpolar\"}],\"pie\":[{\"automargin\":true,\"type\":\"pie\"}]},\"layout\":{\"autotypenumbers\":\"strict\",\"colorway\":[\"#636efa\",\"#EF553B\",\"#00cc96\",\"#ab63fa\",\"#FFA15A\",\"#19d3f3\",\"#FF6692\",\"#B6E880\",\"#FF97FF\",\"#FECB52\"],\"font\":{\"color\":\"#2a3f5f\"},\"hovermode\":\"closest\",\"hoverlabel\":{\"align\":\"left\"},\"paper_bgcolor\":\"white\",\"plot_bgcolor\":\"#E5ECF6\",\"polar\":{\"bgcolor\":\"#E5ECF6\",\"angularaxis\":{\"gridcolor\":\"white\",\"linecolor\":\"white\",\"ticks\":\"\"},\"radialaxis\":{\"gridcolor\":\"white\",\"linecolor\":\"white\",\"ticks\":\"\"}},\"ternary\":{\"bgcolor\":\"#E5ECF6\",\"aaxis\":{\"gridcolor\":\"white\",\"linecolor\":\"white\",\"ticks\":\"\"},\"baxis\":{\"gridcolor\":\"white\",\"linecolor\":\"white\",\"ticks\":\"\"},\"caxis\":{\"gridcolor\":\"white\",\"linecolor\":\"white\",\"ticks\":\"\"}},\"coloraxis\":{\"colorbar\":{\"outlinewidth\":0,\"ticks\":\"\"}},\"colorscale\":{\"sequential\":[[0.0,\"#0d0887\"],[0.1111111111111111,\"#46039f\"],[0.2222222222222222,\"#7201a8\"],[0.3333333333333333,\"#9c179e\"],[0.4444444444444444,\"#bd3786\"],[0.5555555555555556,\"#d8576b\"],[0.6666666666666666,\"#ed7953\"],[0.7777777777777778,\"#fb9f3a\"],[0.8888888888888888,\"#fdca26\"],[1.0,\"#f0f921\"]],\"sequentialminus\":[[0.0,\"#0d0887\"],[0.1111111111111111,\"#46039f\"],[0.2222222222222222,\"#7201a8\"],[0.3333333333333333,\"#9c179e\"],[0.4444444444444444,\"#bd3786\"],[0.5555555555555556,\"#d8576b\"],[0.6666666666666666,\"#ed7953\"],[0.7777777777777778,\"#fb9f3a\"],[0.8888888888888888,\"#fdca26\"],[1.0,\"#f0f921\"]],\"diverging\":[[0,\"#8e0152\"],[0.1,\"#c51b7d\"],[0.2,\"#de77ae\"],[0.3,\"#f1b6da\"],[0.4,\"#fde0ef\"],[0.5,\"#f7f7f7\"],[0.6,\"#e6f5d0\"],[0.7,\"#b8e186\"],[0.8,\"#7fbc41\"],[0.9,\"#4d9221\"],[1,\"#276419\"]]},\"xaxis\":{\"gridcolor\":\"white\",\"linecolor\":\"white\",\"ticks\":\"\",\"title\":{\"standoff\":15},\"zerolinecolor\":\"white\",\"automargin\":true,\"zerolinewidth\":2},\"yaxis\":{\"gridcolor\":\"white\",\"linecolor\":\"white\",\"ticks\":\"\",\"title\":{\"standoff\":15},\"zerolinecolor\":\"white\",\"automargin\":true,\"zerolinewidth\":2},\"scene\":{\"xaxis\":{\"backgroundcolor\":\"#E5ECF6\",\"gridcolor\":\"white\",\"linecolor\":\"white\",\"showbackground\":true,\"ticks\":\"\",\"zerolinecolor\":\"white\",\"gridwidth\":2},\"yaxis\":{\"backgroundcolor\":\"#E5ECF6\",\"gridcolor\":\"white\",\"linecolor\":\"white\",\"showbackground\":true,\"ticks\":\"\",\"zerolinecolor\":\"white\",\"gridwidth\":2},\"zaxis\":{\"backgroundcolor\":\"#E5ECF6\",\"gridcolor\":\"white\",\"linecolor\":\"white\",\"showbackground\":true,\"ticks\":\"\",\"zerolinecolor\":\"white\",\"gridwidth\":2}},\"shapedefaults\":{\"line\":{\"color\":\"#2a3f5f\"}},\"annotationdefaults\":{\"arrowcolor\":\"#2a3f5f\",\"arrowhead\":0,\"arrowwidth\":1},\"geo\":{\"bgcolor\":\"white\",\"landcolor\":\"#E5ECF6\",\"subunitcolor\":\"white\",\"showland\":true,\"showlakes\":true,\"lakecolor\":\"white\"},\"title\":{\"x\":0.05},\"mapbox\":{\"style\":\"light\"}}},\"xaxis\":{\"anchor\":\"y\",\"domain\":[0.0,1.0],\"title\":{\"text\":\"month_name\"}},\"yaxis\":{\"anchor\":\"x\",\"domain\":[0.0,1.0],\"title\":{\"text\":\"percent_change_price\"}},\"legend\":{\"title\":{\"text\":\"stock\"},\"tracegroupgap\":0},\"title\":{\"text\":\"Average Percent Change in Price by Month\"}},                        {\"responsive\": true}                    ).then(function(){\n",
       "                            \n",
       "var gd = document.getElementById('7cd9a472-83b5-4cea-93fd-6dce52c11f17');\n",
       "var x = new MutationObserver(function (mutations, observer) {{\n",
       "        var display = window.getComputedStyle(gd).display;\n",
       "        if (!display || display === 'none') {{\n",
       "            console.log([gd, 'removed!']);\n",
       "            Plotly.purge(gd);\n",
       "            observer.disconnect();\n",
       "        }}\n",
       "}});\n",
       "\n",
       "// Listen for the removal of the full notebook cells\n",
       "var notebookContainer = gd.closest('#notebook-container');\n",
       "if (notebookContainer) {{\n",
       "    x.observe(notebookContainer, {childList: true});\n",
       "}}\n",
       "\n",
       "// Listen for the clearing of the current output cell\n",
       "var outputEl = gd.closest('.output');\n",
       "if (outputEl) {{\n",
       "    x.observe(outputEl, {childList: true});\n",
       "}}\n",
       "\n",
       "                        })                };                });            </script>        </div>"
      ]
     },
     "metadata": {},
     "output_type": "display_data"
    }
   ],
   "source": [
    "# Create a line plot to show the average percent change in price for each stock per month\n",
    "fig = px.scatter(monthly_trends_percent_change, x='month_name', y='percent_change_price', color='stock', title='Average Percent Change in Price by Month')\n",
    "fig.show()\n"
   ]
  },
  {
   "cell_type": "markdown",
   "id": "10d1e9c1",
   "metadata": {},
   "source": [
    "### Quarterly Closing of All Stocks\n",
    "\n",
    "Now, let's visualize the average quarterly closing for all the stocks. The visualiation shows that generally quarter 2 seems to have higher prices than quarter 1. this could be due to the fact that in general markets increase over time so the overall trends of stocks will go up.\n"
   ]
  },
  {
   "cell_type": "code",
   "execution_count": 74,
   "id": "9ec0a901",
   "metadata": {},
   "outputs": [
    {
     "data": {
      "application/vnd.plotly.v1+json": {
       "config": {
        "plotlyServerURL": "https://plot.ly"
       },
       "data": [
        {
         "alignmentgroup": "True",
         "hovertemplate": "stock=AA<br>quarter=%{x}<br>closing_price=%{y}<extra></extra>",
         "legendgroup": "AA",
         "marker": {
          "color": "#636efa",
          "pattern": {
           "shape": ""
          }
         },
         "name": "AA",
         "offsetgroup": "AA",
         "orientation": "v",
         "showlegend": true,
         "textposition": "auto",
         "type": "bar",
         "x": [
          1,
          2
         ],
         "xaxis": "x",
         "y": [
          16.549166666666668,
          16.463076923076922
         ],
         "yaxis": "y"
        },
        {
         "alignmentgroup": "True",
         "hovertemplate": "stock=MCD<br>quarter=%{x}<br>closing_price=%{y}<extra></extra>",
         "legendgroup": "MCD",
         "marker": {
          "color": "#EF553B",
          "pattern": {
           "shape": ""
          }
         },
         "name": "MCD",
         "offsetgroup": "MCD",
         "orientation": "v",
         "showlegend": true,
         "textposition": "auto",
         "type": "bar",
         "x": [
          1,
          2
         ],
         "xaxis": "x",
         "y": [
          74.87333333333333,
          79.48307692307692
         ],
         "yaxis": "y"
        },
        {
         "alignmentgroup": "True",
         "hovertemplate": "stock=KRFT<br>quarter=%{x}<br>closing_price=%{y}<extra></extra>",
         "legendgroup": "KRFT",
         "marker": {
          "color": "#00cc96",
          "pattern": {
           "shape": ""
          }
         },
         "name": "KRFT",
         "offsetgroup": "KRFT",
         "orientation": "v",
         "showlegend": true,
         "textposition": "auto",
         "type": "bar",
         "x": [
          1,
          2
         ],
         "xaxis": "x",
         "y": [
          31.200833333333335,
          33.809999999999995
         ],
         "yaxis": "y"
        },
        {
         "alignmentgroup": "True",
         "hovertemplate": "stock=MSFT<br>quarter=%{x}<br>closing_price=%{y}<extra></extra>",
         "legendgroup": "MSFT",
         "marker": {
          "color": "#ab63fa",
          "pattern": {
           "shape": ""
          }
         },
         "name": "MSFT",
         "offsetgroup": "MSFT",
         "orientation": "v",
         "showlegend": true,
         "textposition": "auto",
         "type": "bar",
         "x": [
          1,
          2
         ],
         "xaxis": "x",
         "y": [
          26.945833333333336,
          24.974615384615387
         ],
         "yaxis": "y"
        },
        {
         "alignmentgroup": "True",
         "hovertemplate": "stock=KO<br>quarter=%{x}<br>closing_price=%{y}<extra></extra>",
         "legendgroup": "KO",
         "marker": {
          "color": "#FFA15A",
          "pattern": {
           "shape": ""
          }
         },
         "name": "KO",
         "offsetgroup": "KO",
         "orientation": "v",
         "showlegend": true,
         "textposition": "auto",
         "type": "bar",
         "x": [
          1,
          2
         ],
         "xaxis": "x",
         "y": [
          63.663333333333334,
          66.86153846153846
         ],
         "yaxis": "y"
        },
        {
         "alignmentgroup": "True",
         "hovertemplate": "stock=JPM<br>quarter=%{x}<br>closing_price=%{y}<extra></extra>",
         "legendgroup": "JPM",
         "marker": {
          "color": "#19d3f3",
          "pattern": {
           "shape": ""
          }
         },
         "name": "JPM",
         "offsetgroup": "JPM",
         "orientation": "v",
         "showlegend": true,
         "textposition": "auto",
         "type": "bar",
         "x": [
          1,
          2
         ],
         "xaxis": "x",
         "y": [
          45.59,
          43.49307692307692
         ],
         "yaxis": "y"
        },
        {
         "alignmentgroup": "True",
         "hovertemplate": "stock=XOM<br>quarter=%{x}<br>closing_price=%{y}<extra></extra>",
         "legendgroup": "XOM",
         "marker": {
          "color": "#FF6692",
          "pattern": {
           "shape": ""
          }
         },
         "name": "XOM",
         "offsetgroup": "XOM",
         "orientation": "v",
         "showlegend": true,
         "textposition": "auto",
         "type": "bar",
         "x": [
          1,
          2
         ],
         "xaxis": "x",
         "y": [
          81.58416666666666,
          82.59846153846154
         ],
         "yaxis": "y"
        },
        {
         "alignmentgroup": "True",
         "hovertemplate": "stock=JNJ<br>quarter=%{x}<br>closing_price=%{y}<extra></extra>",
         "legendgroup": "JNJ",
         "marker": {
          "color": "#B6E880",
          "pattern": {
           "shape": ""
          }
         },
         "name": "JNJ",
         "offsetgroup": "JNJ",
         "orientation": "v",
         "showlegend": true,
         "textposition": "auto",
         "type": "bar",
         "x": [
          1,
          2
         ],
         "xaxis": "x",
         "y": [
          60.70083333333333,
          64.39846153846155
         ],
         "yaxis": "y"
        },
        {
         "alignmentgroup": "True",
         "hovertemplate": "stock=PFE<br>quarter=%{x}<br>closing_price=%{y}<extra></extra>",
         "legendgroup": "PFE",
         "marker": {
          "color": "#FF97FF",
          "pattern": {
           "shape": ""
          }
         },
         "name": "PFE",
         "offsetgroup": "PFE",
         "orientation": "v",
         "showlegend": true,
         "textposition": "auto",
         "type": "bar",
         "x": [
          1,
          2
         ],
         "xaxis": "x",
         "y": [
          19.085833333333333,
          20.50076923076923
         ],
         "yaxis": "y"
        },
        {
         "alignmentgroup": "True",
         "hovertemplate": "stock=INTC<br>quarter=%{x}<br>closing_price=%{y}<extra></extra>",
         "legendgroup": "INTC",
         "marker": {
          "color": "#FECB52",
          "pattern": {
           "shape": ""
          }
         },
         "name": "INTC",
         "offsetgroup": "INTC",
         "orientation": "v",
         "showlegend": true,
         "textposition": "auto",
         "type": "bar",
         "x": [
          1,
          2
         ],
         "xaxis": "x",
         "y": [
          21.1825,
          21.66846153846154
         ],
         "yaxis": "y"
        },
        {
         "alignmentgroup": "True",
         "hovertemplate": "stock=IBM<br>quarter=%{x}<br>closing_price=%{y}<extra></extra>",
         "legendgroup": "IBM",
         "marker": {
          "color": "#636efa",
          "pattern": {
           "shape": ""
          }
         },
         "name": "IBM",
         "offsetgroup": "IBM",
         "orientation": "v",
         "showlegend": true,
         "textposition": "auto",
         "type": "bar",
         "x": [
          1,
          2
         ],
         "xaxis": "x",
         "y": [
          159.16166666666666,
          166.73846153846154
         ],
         "yaxis": "y"
        },
        {
         "alignmentgroup": "True",
         "hovertemplate": "stock=PG<br>quarter=%{x}<br>closing_price=%{y}<extra></extra>",
         "legendgroup": "PG",
         "marker": {
          "color": "#EF553B",
          "pattern": {
           "shape": ""
          }
         },
         "name": "PG",
         "offsetgroup": "PG",
         "orientation": "v",
         "showlegend": true,
         "textposition": "auto",
         "type": "bar",
         "x": [
          1,
          2
         ],
         "xaxis": "x",
         "y": [
          63.385,
          64.57153846153847
         ],
         "yaxis": "y"
        },
        {
         "alignmentgroup": "True",
         "hovertemplate": "stock=HPQ<br>quarter=%{x}<br>closing_price=%{y}<extra></extra>",
         "legendgroup": "HPQ",
         "marker": {
          "color": "#00cc96",
          "pattern": {
           "shape": ""
          }
         },
         "name": "HPQ",
         "offsetgroup": "HPQ",
         "orientation": "v",
         "showlegend": true,
         "textposition": "auto",
         "type": "bar",
         "x": [
          1,
          2
         ],
         "xaxis": "x",
         "y": [
          44.97416666666667,
          38.36307692307692
         ],
         "yaxis": "y"
        },
        {
         "alignmentgroup": "True",
         "hovertemplate": "stock=HD<br>quarter=%{x}<br>closing_price=%{y}<extra></extra>",
         "legendgroup": "HD",
         "marker": {
          "color": "#ab63fa",
          "pattern": {
           "shape": ""
          }
         },
         "name": "HD",
         "offsetgroup": "HD",
         "orientation": "v",
         "showlegend": true,
         "textposition": "auto",
         "type": "bar",
         "x": [
          1,
          2
         ],
         "xaxis": "x",
         "y": [
          36.75833333333333,
          36.37692307692308
         ],
         "yaxis": "y"
        },
        {
         "alignmentgroup": "True",
         "hovertemplate": "stock=MRK<br>quarter=%{x}<br>closing_price=%{y}<extra></extra>",
         "legendgroup": "MRK",
         "marker": {
          "color": "#FFA15A",
          "pattern": {
           "shape": ""
          }
         },
         "name": "MRK",
         "offsetgroup": "MRK",
         "orientation": "v",
         "showlegend": true,
         "textposition": "auto",
         "type": "bar",
         "x": [
          1,
          2
         ],
         "xaxis": "x",
         "y": [
          33.318333333333335,
          35.32230769230769
         ],
         "yaxis": "y"
        },
        {
         "alignmentgroup": "True",
         "hovertemplate": "stock=GE<br>quarter=%{x}<br>closing_price=%{y}<extra></extra>",
         "legendgroup": "GE",
         "marker": {
          "color": "#19d3f3",
          "pattern": {
           "shape": ""
          }
         },
         "name": "GE",
         "offsetgroup": "GE",
         "orientation": "v",
         "showlegend": true,
         "textposition": "auto",
         "type": "bar",
         "x": [
          1,
          2
         ],
         "xaxis": "x",
         "y": [
          20.089166666666667,
          19.502307692307692
         ],
         "yaxis": "y"
        },
        {
         "alignmentgroup": "True",
         "hovertemplate": "stock=T<br>quarter=%{x}<br>closing_price=%{y}<extra></extra>",
         "legendgroup": "T",
         "marker": {
          "color": "#FF6692",
          "pattern": {
           "shape": ""
          }
         },
         "name": "T",
         "offsetgroup": "T",
         "orientation": "v",
         "showlegend": true,
         "textposition": "auto",
         "type": "bar",
         "x": [
          1,
          2
         ],
         "xaxis": "x",
         "y": [
          28.284166666666668,
          30.866153846153846
         ],
         "yaxis": "y"
        },
        {
         "alignmentgroup": "True",
         "hovertemplate": "stock=CAT<br>quarter=%{x}<br>closing_price=%{y}<extra></extra>",
         "legendgroup": "CAT",
         "marker": {
          "color": "#B6E880",
          "pattern": {
           "shape": ""
          }
         },
         "name": "CAT",
         "offsetgroup": "CAT",
         "orientation": "v",
         "showlegend": true,
         "textposition": "auto",
         "type": "bar",
         "x": [
          1,
          2
         ],
         "xaxis": "x",
         "y": [
          100.36416666666668,
          105.72538461538463
         ],
         "yaxis": "y"
        },
        {
         "alignmentgroup": "True",
         "hovertemplate": "stock=AXP<br>quarter=%{x}<br>closing_price=%{y}<extra></extra>",
         "legendgroup": "AXP",
         "marker": {
          "color": "#FF97FF",
          "pattern": {
           "shape": ""
          }
         },
         "name": "AXP",
         "offsetgroup": "AXP",
         "orientation": "v",
         "showlegend": true,
         "textposition": "auto",
         "type": "bar",
         "x": [
          1,
          2
         ],
         "xaxis": "x",
         "y": [
          44.821666666666665,
          48.45769230769231
         ],
         "yaxis": "y"
        },
        {
         "alignmentgroup": "True",
         "hovertemplate": "stock=WMT<br>quarter=%{x}<br>closing_price=%{y}<extra></extra>",
         "legendgroup": "WMT",
         "marker": {
          "color": "#FECB52",
          "pattern": {
           "shape": ""
          }
         },
         "name": "WMT",
         "offsetgroup": "WMT",
         "orientation": "v",
         "showlegend": true,
         "textposition": "auto",
         "type": "bar",
         "x": [
          1,
          2
         ],
         "xaxis": "x",
         "y": [
          54.05833333333334,
          53.77846153846154
         ],
         "yaxis": "y"
        },
        {
         "alignmentgroup": "True",
         "hovertemplate": "stock=BA<br>quarter=%{x}<br>closing_price=%{y}<extra></extra>",
         "legendgroup": "BA",
         "marker": {
          "color": "#636efa",
          "pattern": {
           "shape": ""
          }
         },
         "name": "BA",
         "offsetgroup": "BA",
         "orientation": "v",
         "showlegend": true,
         "textposition": "auto",
         "type": "bar",
         "x": [
          1,
          2
         ],
         "xaxis": "x",
         "y": [
          71.25833333333334,
          75.46923076923078
         ],
         "yaxis": "y"
        },
        {
         "alignmentgroup": "True",
         "hovertemplate": "stock=BAC<br>quarter=%{x}<br>closing_price=%{y}<extra></extra>",
         "legendgroup": "BAC",
         "marker": {
          "color": "#EF553B",
          "pattern": {
           "shape": ""
          }
         },
         "name": "BAC",
         "offsetgroup": "BAC",
         "orientation": "v",
         "showlegend": true,
         "textposition": "auto",
         "type": "bar",
         "x": [
          1,
          2
         ],
         "xaxis": "x",
         "y": [
          14.270000000000001,
          11.926923076923078
         ],
         "yaxis": "y"
        },
        {
         "alignmentgroup": "True",
         "hovertemplate": "stock=VZ<br>quarter=%{x}<br>closing_price=%{y}<extra></extra>",
         "legendgroup": "VZ",
         "marker": {
          "color": "#00cc96",
          "pattern": {
           "shape": ""
          }
         },
         "name": "VZ",
         "offsetgroup": "VZ",
         "orientation": "v",
         "showlegend": true,
         "textposition": "auto",
         "type": "bar",
         "x": [
          1,
          2
         ],
         "xaxis": "x",
         "y": [
          36.026666666666664,
          36.878461538461536
         ],
         "yaxis": "y"
        },
        {
         "alignmentgroup": "True",
         "hovertemplate": "stock=DIS<br>quarter=%{x}<br>closing_price=%{y}<extra></extra>",
         "legendgroup": "DIS",
         "marker": {
          "color": "#ab63fa",
          "pattern": {
           "shape": ""
          }
         },
         "name": "DIS",
         "offsetgroup": "DIS",
         "orientation": "v",
         "showlegend": true,
         "textposition": "auto",
         "type": "bar",
         "x": [
          1,
          2
         ],
         "xaxis": "x",
         "y": [
          41.553333333333335,
          40.96923076923077
         ],
         "yaxis": "y"
        },
        {
         "alignmentgroup": "True",
         "hovertemplate": "stock=MMM<br>quarter=%{x}<br>closing_price=%{y}<extra></extra>",
         "legendgroup": "MMM",
         "marker": {
          "color": "#FFA15A",
          "pattern": {
           "shape": ""
          }
         },
         "name": "MMM",
         "offsetgroup": "MMM",
         "orientation": "v",
         "showlegend": true,
         "textposition": "auto",
         "type": "bar",
         "x": [
          1,
          2
         ],
         "xaxis": "x",
         "y": [
          89.95083333333334,
          93.31076923076922
         ],
         "yaxis": "y"
        },
        {
         "alignmentgroup": "True",
         "hovertemplate": "stock=UTX<br>quarter=%{x}<br>closing_price=%{y}<extra></extra>",
         "legendgroup": "UTX",
         "marker": {
          "color": "#19d3f3",
          "pattern": {
           "shape": ""
          }
         },
         "name": "UTX",
         "offsetgroup": "UTX",
         "orientation": "v",
         "showlegend": true,
         "textposition": "auto",
         "type": "bar",
         "x": [
          1,
          2
         ],
         "xaxis": "x",
         "y": [
          81.97583333333334,
          85.93230769230769
         ],
         "yaxis": "y"
        },
        {
         "alignmentgroup": "True",
         "hovertemplate": "stock=CVX<br>quarter=%{x}<br>closing_price=%{y}<extra></extra>",
         "legendgroup": "CVX",
         "marker": {
          "color": "#FF6692",
          "pattern": {
           "shape": ""
          }
         },
         "name": "CVX",
         "offsetgroup": "CVX",
         "orientation": "v",
         "showlegend": true,
         "textposition": "auto",
         "type": "bar",
         "x": [
          1,
          2
         ],
         "xaxis": "x",
         "y": [
          98.23416666666667,
          103.89076923076922
         ],
         "yaxis": "y"
        },
        {
         "alignmentgroup": "True",
         "hovertemplate": "stock=DD<br>quarter=%{x}<br>closing_price=%{y}<extra></extra>",
         "legendgroup": "DD",
         "marker": {
          "color": "#B6E880",
          "pattern": {
           "shape": ""
          }
         },
         "name": "DD",
         "offsetgroup": "DD",
         "orientation": "v",
         "showlegend": true,
         "textposition": "auto",
         "type": "bar",
         "x": [
          1,
          2
         ],
         "xaxis": "x",
         "y": [
          52.435,
          53.27846153846154
         ],
         "yaxis": "y"
        },
        {
         "alignmentgroup": "True",
         "hovertemplate": "stock=TRV<br>quarter=%{x}<br>closing_price=%{y}<extra></extra>",
         "legendgroup": "TRV",
         "marker": {
          "color": "#FF97FF",
          "pattern": {
           "shape": ""
          }
         },
         "name": "TRV",
         "offsetgroup": "TRV",
         "orientation": "v",
         "showlegend": true,
         "textposition": "auto",
         "type": "bar",
         "x": [
          1,
          2
         ],
         "xaxis": "x",
         "y": [
          57.56583333333333,
          60.63153846153846
         ],
         "yaxis": "y"
        },
        {
         "alignmentgroup": "True",
         "hovertemplate": "stock=CSCO<br>quarter=%{x}<br>closing_price=%{y}<extra></extra>",
         "legendgroup": "CSCO",
         "marker": {
          "color": "#FECB52",
          "pattern": {
           "shape": ""
          }
         },
         "name": "CSCO",
         "offsetgroup": "CSCO",
         "orientation": "v",
         "showlegend": true,
         "textposition": "auto",
         "type": "bar",
         "x": [
          1,
          2
         ],
         "xaxis": "x",
         "y": [
          19.403333333333332,
          16.51076923076923
         ],
         "yaxis": "y"
        }
       ],
       "layout": {
        "barmode": "relative",
        "legend": {
         "title": {
          "text": "stock"
         },
         "tracegroupgap": 0
        },
        "margin": {
         "t": 60
        },
        "template": {
         "data": {
          "bar": [
           {
            "error_x": {
             "color": "#2a3f5f"
            },
            "error_y": {
             "color": "#2a3f5f"
            },
            "marker": {
             "line": {
              "color": "#E5ECF6",
              "width": 0.5
             },
             "pattern": {
              "fillmode": "overlay",
              "size": 10,
              "solidity": 0.2
             }
            },
            "type": "bar"
           }
          ],
          "barpolar": [
           {
            "marker": {
             "line": {
              "color": "#E5ECF6",
              "width": 0.5
             },
             "pattern": {
              "fillmode": "overlay",
              "size": 10,
              "solidity": 0.2
             }
            },
            "type": "barpolar"
           }
          ],
          "carpet": [
           {
            "aaxis": {
             "endlinecolor": "#2a3f5f",
             "gridcolor": "white",
             "linecolor": "white",
             "minorgridcolor": "white",
             "startlinecolor": "#2a3f5f"
            },
            "baxis": {
             "endlinecolor": "#2a3f5f",
             "gridcolor": "white",
             "linecolor": "white",
             "minorgridcolor": "white",
             "startlinecolor": "#2a3f5f"
            },
            "type": "carpet"
           }
          ],
          "choropleth": [
           {
            "colorbar": {
             "outlinewidth": 0,
             "ticks": ""
            },
            "type": "choropleth"
           }
          ],
          "contour": [
           {
            "colorbar": {
             "outlinewidth": 0,
             "ticks": ""
            },
            "colorscale": [
             [
              0,
              "#0d0887"
             ],
             [
              0.1111111111111111,
              "#46039f"
             ],
             [
              0.2222222222222222,
              "#7201a8"
             ],
             [
              0.3333333333333333,
              "#9c179e"
             ],
             [
              0.4444444444444444,
              "#bd3786"
             ],
             [
              0.5555555555555556,
              "#d8576b"
             ],
             [
              0.6666666666666666,
              "#ed7953"
             ],
             [
              0.7777777777777778,
              "#fb9f3a"
             ],
             [
              0.8888888888888888,
              "#fdca26"
             ],
             [
              1,
              "#f0f921"
             ]
            ],
            "type": "contour"
           }
          ],
          "contourcarpet": [
           {
            "colorbar": {
             "outlinewidth": 0,
             "ticks": ""
            },
            "type": "contourcarpet"
           }
          ],
          "heatmap": [
           {
            "colorbar": {
             "outlinewidth": 0,
             "ticks": ""
            },
            "colorscale": [
             [
              0,
              "#0d0887"
             ],
             [
              0.1111111111111111,
              "#46039f"
             ],
             [
              0.2222222222222222,
              "#7201a8"
             ],
             [
              0.3333333333333333,
              "#9c179e"
             ],
             [
              0.4444444444444444,
              "#bd3786"
             ],
             [
              0.5555555555555556,
              "#d8576b"
             ],
             [
              0.6666666666666666,
              "#ed7953"
             ],
             [
              0.7777777777777778,
              "#fb9f3a"
             ],
             [
              0.8888888888888888,
              "#fdca26"
             ],
             [
              1,
              "#f0f921"
             ]
            ],
            "type": "heatmap"
           }
          ],
          "heatmapgl": [
           {
            "colorbar": {
             "outlinewidth": 0,
             "ticks": ""
            },
            "colorscale": [
             [
              0,
              "#0d0887"
             ],
             [
              0.1111111111111111,
              "#46039f"
             ],
             [
              0.2222222222222222,
              "#7201a8"
             ],
             [
              0.3333333333333333,
              "#9c179e"
             ],
             [
              0.4444444444444444,
              "#bd3786"
             ],
             [
              0.5555555555555556,
              "#d8576b"
             ],
             [
              0.6666666666666666,
              "#ed7953"
             ],
             [
              0.7777777777777778,
              "#fb9f3a"
             ],
             [
              0.8888888888888888,
              "#fdca26"
             ],
             [
              1,
              "#f0f921"
             ]
            ],
            "type": "heatmapgl"
           }
          ],
          "histogram": [
           {
            "marker": {
             "pattern": {
              "fillmode": "overlay",
              "size": 10,
              "solidity": 0.2
             }
            },
            "type": "histogram"
           }
          ],
          "histogram2d": [
           {
            "colorbar": {
             "outlinewidth": 0,
             "ticks": ""
            },
            "colorscale": [
             [
              0,
              "#0d0887"
             ],
             [
              0.1111111111111111,
              "#46039f"
             ],
             [
              0.2222222222222222,
              "#7201a8"
             ],
             [
              0.3333333333333333,
              "#9c179e"
             ],
             [
              0.4444444444444444,
              "#bd3786"
             ],
             [
              0.5555555555555556,
              "#d8576b"
             ],
             [
              0.6666666666666666,
              "#ed7953"
             ],
             [
              0.7777777777777778,
              "#fb9f3a"
             ],
             [
              0.8888888888888888,
              "#fdca26"
             ],
             [
              1,
              "#f0f921"
             ]
            ],
            "type": "histogram2d"
           }
          ],
          "histogram2dcontour": [
           {
            "colorbar": {
             "outlinewidth": 0,
             "ticks": ""
            },
            "colorscale": [
             [
              0,
              "#0d0887"
             ],
             [
              0.1111111111111111,
              "#46039f"
             ],
             [
              0.2222222222222222,
              "#7201a8"
             ],
             [
              0.3333333333333333,
              "#9c179e"
             ],
             [
              0.4444444444444444,
              "#bd3786"
             ],
             [
              0.5555555555555556,
              "#d8576b"
             ],
             [
              0.6666666666666666,
              "#ed7953"
             ],
             [
              0.7777777777777778,
              "#fb9f3a"
             ],
             [
              0.8888888888888888,
              "#fdca26"
             ],
             [
              1,
              "#f0f921"
             ]
            ],
            "type": "histogram2dcontour"
           }
          ],
          "mesh3d": [
           {
            "colorbar": {
             "outlinewidth": 0,
             "ticks": ""
            },
            "type": "mesh3d"
           }
          ],
          "parcoords": [
           {
            "line": {
             "colorbar": {
              "outlinewidth": 0,
              "ticks": ""
             }
            },
            "type": "parcoords"
           }
          ],
          "pie": [
           {
            "automargin": true,
            "type": "pie"
           }
          ],
          "scatter": [
           {
            "fillpattern": {
             "fillmode": "overlay",
             "size": 10,
             "solidity": 0.2
            },
            "type": "scatter"
           }
          ],
          "scatter3d": [
           {
            "line": {
             "colorbar": {
              "outlinewidth": 0,
              "ticks": ""
             }
            },
            "marker": {
             "colorbar": {
              "outlinewidth": 0,
              "ticks": ""
             }
            },
            "type": "scatter3d"
           }
          ],
          "scattercarpet": [
           {
            "marker": {
             "colorbar": {
              "outlinewidth": 0,
              "ticks": ""
             }
            },
            "type": "scattercarpet"
           }
          ],
          "scattergeo": [
           {
            "marker": {
             "colorbar": {
              "outlinewidth": 0,
              "ticks": ""
             }
            },
            "type": "scattergeo"
           }
          ],
          "scattergl": [
           {
            "marker": {
             "colorbar": {
              "outlinewidth": 0,
              "ticks": ""
             }
            },
            "type": "scattergl"
           }
          ],
          "scattermapbox": [
           {
            "marker": {
             "colorbar": {
              "outlinewidth": 0,
              "ticks": ""
             }
            },
            "type": "scattermapbox"
           }
          ],
          "scatterpolar": [
           {
            "marker": {
             "colorbar": {
              "outlinewidth": 0,
              "ticks": ""
             }
            },
            "type": "scatterpolar"
           }
          ],
          "scatterpolargl": [
           {
            "marker": {
             "colorbar": {
              "outlinewidth": 0,
              "ticks": ""
             }
            },
            "type": "scatterpolargl"
           }
          ],
          "scatterternary": [
           {
            "marker": {
             "colorbar": {
              "outlinewidth": 0,
              "ticks": ""
             }
            },
            "type": "scatterternary"
           }
          ],
          "surface": [
           {
            "colorbar": {
             "outlinewidth": 0,
             "ticks": ""
            },
            "colorscale": [
             [
              0,
              "#0d0887"
             ],
             [
              0.1111111111111111,
              "#46039f"
             ],
             [
              0.2222222222222222,
              "#7201a8"
             ],
             [
              0.3333333333333333,
              "#9c179e"
             ],
             [
              0.4444444444444444,
              "#bd3786"
             ],
             [
              0.5555555555555556,
              "#d8576b"
             ],
             [
              0.6666666666666666,
              "#ed7953"
             ],
             [
              0.7777777777777778,
              "#fb9f3a"
             ],
             [
              0.8888888888888888,
              "#fdca26"
             ],
             [
              1,
              "#f0f921"
             ]
            ],
            "type": "surface"
           }
          ],
          "table": [
           {
            "cells": {
             "fill": {
              "color": "#EBF0F8"
             },
             "line": {
              "color": "white"
             }
            },
            "header": {
             "fill": {
              "color": "#C8D4E3"
             },
             "line": {
              "color": "white"
             }
            },
            "type": "table"
           }
          ]
         },
         "layout": {
          "annotationdefaults": {
           "arrowcolor": "#2a3f5f",
           "arrowhead": 0,
           "arrowwidth": 1
          },
          "autotypenumbers": "strict",
          "coloraxis": {
           "colorbar": {
            "outlinewidth": 0,
            "ticks": ""
           }
          },
          "colorscale": {
           "diverging": [
            [
             0,
             "#8e0152"
            ],
            [
             0.1,
             "#c51b7d"
            ],
            [
             0.2,
             "#de77ae"
            ],
            [
             0.3,
             "#f1b6da"
            ],
            [
             0.4,
             "#fde0ef"
            ],
            [
             0.5,
             "#f7f7f7"
            ],
            [
             0.6,
             "#e6f5d0"
            ],
            [
             0.7,
             "#b8e186"
            ],
            [
             0.8,
             "#7fbc41"
            ],
            [
             0.9,
             "#4d9221"
            ],
            [
             1,
             "#276419"
            ]
           ],
           "sequential": [
            [
             0,
             "#0d0887"
            ],
            [
             0.1111111111111111,
             "#46039f"
            ],
            [
             0.2222222222222222,
             "#7201a8"
            ],
            [
             0.3333333333333333,
             "#9c179e"
            ],
            [
             0.4444444444444444,
             "#bd3786"
            ],
            [
             0.5555555555555556,
             "#d8576b"
            ],
            [
             0.6666666666666666,
             "#ed7953"
            ],
            [
             0.7777777777777778,
             "#fb9f3a"
            ],
            [
             0.8888888888888888,
             "#fdca26"
            ],
            [
             1,
             "#f0f921"
            ]
           ],
           "sequentialminus": [
            [
             0,
             "#0d0887"
            ],
            [
             0.1111111111111111,
             "#46039f"
            ],
            [
             0.2222222222222222,
             "#7201a8"
            ],
            [
             0.3333333333333333,
             "#9c179e"
            ],
            [
             0.4444444444444444,
             "#bd3786"
            ],
            [
             0.5555555555555556,
             "#d8576b"
            ],
            [
             0.6666666666666666,
             "#ed7953"
            ],
            [
             0.7777777777777778,
             "#fb9f3a"
            ],
            [
             0.8888888888888888,
             "#fdca26"
            ],
            [
             1,
             "#f0f921"
            ]
           ]
          },
          "colorway": [
           "#636efa",
           "#EF553B",
           "#00cc96",
           "#ab63fa",
           "#FFA15A",
           "#19d3f3",
           "#FF6692",
           "#B6E880",
           "#FF97FF",
           "#FECB52"
          ],
          "font": {
           "color": "#2a3f5f"
          },
          "geo": {
           "bgcolor": "white",
           "lakecolor": "white",
           "landcolor": "#E5ECF6",
           "showlakes": true,
           "showland": true,
           "subunitcolor": "white"
          },
          "hoverlabel": {
           "align": "left"
          },
          "hovermode": "closest",
          "mapbox": {
           "style": "light"
          },
          "paper_bgcolor": "white",
          "plot_bgcolor": "#E5ECF6",
          "polar": {
           "angularaxis": {
            "gridcolor": "white",
            "linecolor": "white",
            "ticks": ""
           },
           "bgcolor": "#E5ECF6",
           "radialaxis": {
            "gridcolor": "white",
            "linecolor": "white",
            "ticks": ""
           }
          },
          "scene": {
           "xaxis": {
            "backgroundcolor": "#E5ECF6",
            "gridcolor": "white",
            "gridwidth": 2,
            "linecolor": "white",
            "showbackground": true,
            "ticks": "",
            "zerolinecolor": "white"
           },
           "yaxis": {
            "backgroundcolor": "#E5ECF6",
            "gridcolor": "white",
            "gridwidth": 2,
            "linecolor": "white",
            "showbackground": true,
            "ticks": "",
            "zerolinecolor": "white"
           },
           "zaxis": {
            "backgroundcolor": "#E5ECF6",
            "gridcolor": "white",
            "gridwidth": 2,
            "linecolor": "white",
            "showbackground": true,
            "ticks": "",
            "zerolinecolor": "white"
           }
          },
          "shapedefaults": {
           "line": {
            "color": "#2a3f5f"
           }
          },
          "ternary": {
           "aaxis": {
            "gridcolor": "white",
            "linecolor": "white",
            "ticks": ""
           },
           "baxis": {
            "gridcolor": "white",
            "linecolor": "white",
            "ticks": ""
           },
           "bgcolor": "#E5ECF6",
           "caxis": {
            "gridcolor": "white",
            "linecolor": "white",
            "ticks": ""
           }
          },
          "title": {
           "x": 0.05
          },
          "xaxis": {
           "automargin": true,
           "gridcolor": "white",
           "linecolor": "white",
           "ticks": "",
           "title": {
            "standoff": 15
           },
           "zerolinecolor": "white",
           "zerolinewidth": 2
          },
          "yaxis": {
           "automargin": true,
           "gridcolor": "white",
           "linecolor": "white",
           "ticks": "",
           "title": {
            "standoff": 15
           },
           "zerolinecolor": "white",
           "zerolinewidth": 2
          }
         }
        },
        "xaxis": {
         "anchor": "y",
         "domain": [
          0,
          1
         ],
         "title": {
          "text": "quarter"
         }
        },
        "yaxis": {
         "anchor": "x",
         "domain": [
          0,
          1
         ],
         "title": {
          "text": "closing_price"
         }
        }
       }
      },
      "text/html": [
       "<div>                            <div id=\"65b73cc5-bcc0-431c-b938-e0ec0b597b2b\" class=\"plotly-graph-div\" style=\"height:525px; width:100%;\"></div>            <script type=\"text/javascript\">                require([\"plotly\"], function(Plotly) {                    window.PLOTLYENV=window.PLOTLYENV || {};                                    if (document.getElementById(\"65b73cc5-bcc0-431c-b938-e0ec0b597b2b\")) {                    Plotly.newPlot(                        \"65b73cc5-bcc0-431c-b938-e0ec0b597b2b\",                        [{\"alignmentgroup\":\"True\",\"hovertemplate\":\"stock=AA<br>quarter=%{x}<br>closing_price=%{y}<extra></extra>\",\"legendgroup\":\"AA\",\"marker\":{\"color\":\"#636efa\",\"pattern\":{\"shape\":\"\"}},\"name\":\"AA\",\"offsetgroup\":\"AA\",\"orientation\":\"v\",\"showlegend\":true,\"textposition\":\"auto\",\"x\":[1,2],\"xaxis\":\"x\",\"y\":[16.549166666666668,16.463076923076922],\"yaxis\":\"y\",\"type\":\"bar\"},{\"alignmentgroup\":\"True\",\"hovertemplate\":\"stock=MCD<br>quarter=%{x}<br>closing_price=%{y}<extra></extra>\",\"legendgroup\":\"MCD\",\"marker\":{\"color\":\"#EF553B\",\"pattern\":{\"shape\":\"\"}},\"name\":\"MCD\",\"offsetgroup\":\"MCD\",\"orientation\":\"v\",\"showlegend\":true,\"textposition\":\"auto\",\"x\":[1,2],\"xaxis\":\"x\",\"y\":[74.87333333333333,79.48307692307692],\"yaxis\":\"y\",\"type\":\"bar\"},{\"alignmentgroup\":\"True\",\"hovertemplate\":\"stock=KRFT<br>quarter=%{x}<br>closing_price=%{y}<extra></extra>\",\"legendgroup\":\"KRFT\",\"marker\":{\"color\":\"#00cc96\",\"pattern\":{\"shape\":\"\"}},\"name\":\"KRFT\",\"offsetgroup\":\"KRFT\",\"orientation\":\"v\",\"showlegend\":true,\"textposition\":\"auto\",\"x\":[1,2],\"xaxis\":\"x\",\"y\":[31.200833333333335,33.809999999999995],\"yaxis\":\"y\",\"type\":\"bar\"},{\"alignmentgroup\":\"True\",\"hovertemplate\":\"stock=MSFT<br>quarter=%{x}<br>closing_price=%{y}<extra></extra>\",\"legendgroup\":\"MSFT\",\"marker\":{\"color\":\"#ab63fa\",\"pattern\":{\"shape\":\"\"}},\"name\":\"MSFT\",\"offsetgroup\":\"MSFT\",\"orientation\":\"v\",\"showlegend\":true,\"textposition\":\"auto\",\"x\":[1,2],\"xaxis\":\"x\",\"y\":[26.945833333333336,24.974615384615387],\"yaxis\":\"y\",\"type\":\"bar\"},{\"alignmentgroup\":\"True\",\"hovertemplate\":\"stock=KO<br>quarter=%{x}<br>closing_price=%{y}<extra></extra>\",\"legendgroup\":\"KO\",\"marker\":{\"color\":\"#FFA15A\",\"pattern\":{\"shape\":\"\"}},\"name\":\"KO\",\"offsetgroup\":\"KO\",\"orientation\":\"v\",\"showlegend\":true,\"textposition\":\"auto\",\"x\":[1,2],\"xaxis\":\"x\",\"y\":[63.663333333333334,66.86153846153846],\"yaxis\":\"y\",\"type\":\"bar\"},{\"alignmentgroup\":\"True\",\"hovertemplate\":\"stock=JPM<br>quarter=%{x}<br>closing_price=%{y}<extra></extra>\",\"legendgroup\":\"JPM\",\"marker\":{\"color\":\"#19d3f3\",\"pattern\":{\"shape\":\"\"}},\"name\":\"JPM\",\"offsetgroup\":\"JPM\",\"orientation\":\"v\",\"showlegend\":true,\"textposition\":\"auto\",\"x\":[1,2],\"xaxis\":\"x\",\"y\":[45.59,43.49307692307692],\"yaxis\":\"y\",\"type\":\"bar\"},{\"alignmentgroup\":\"True\",\"hovertemplate\":\"stock=XOM<br>quarter=%{x}<br>closing_price=%{y}<extra></extra>\",\"legendgroup\":\"XOM\",\"marker\":{\"color\":\"#FF6692\",\"pattern\":{\"shape\":\"\"}},\"name\":\"XOM\",\"offsetgroup\":\"XOM\",\"orientation\":\"v\",\"showlegend\":true,\"textposition\":\"auto\",\"x\":[1,2],\"xaxis\":\"x\",\"y\":[81.58416666666666,82.59846153846154],\"yaxis\":\"y\",\"type\":\"bar\"},{\"alignmentgroup\":\"True\",\"hovertemplate\":\"stock=JNJ<br>quarter=%{x}<br>closing_price=%{y}<extra></extra>\",\"legendgroup\":\"JNJ\",\"marker\":{\"color\":\"#B6E880\",\"pattern\":{\"shape\":\"\"}},\"name\":\"JNJ\",\"offsetgroup\":\"JNJ\",\"orientation\":\"v\",\"showlegend\":true,\"textposition\":\"auto\",\"x\":[1,2],\"xaxis\":\"x\",\"y\":[60.70083333333333,64.39846153846155],\"yaxis\":\"y\",\"type\":\"bar\"},{\"alignmentgroup\":\"True\",\"hovertemplate\":\"stock=PFE<br>quarter=%{x}<br>closing_price=%{y}<extra></extra>\",\"legendgroup\":\"PFE\",\"marker\":{\"color\":\"#FF97FF\",\"pattern\":{\"shape\":\"\"}},\"name\":\"PFE\",\"offsetgroup\":\"PFE\",\"orientation\":\"v\",\"showlegend\":true,\"textposition\":\"auto\",\"x\":[1,2],\"xaxis\":\"x\",\"y\":[19.085833333333333,20.50076923076923],\"yaxis\":\"y\",\"type\":\"bar\"},{\"alignmentgroup\":\"True\",\"hovertemplate\":\"stock=INTC<br>quarter=%{x}<br>closing_price=%{y}<extra></extra>\",\"legendgroup\":\"INTC\",\"marker\":{\"color\":\"#FECB52\",\"pattern\":{\"shape\":\"\"}},\"name\":\"INTC\",\"offsetgroup\":\"INTC\",\"orientation\":\"v\",\"showlegend\":true,\"textposition\":\"auto\",\"x\":[1,2],\"xaxis\":\"x\",\"y\":[21.1825,21.66846153846154],\"yaxis\":\"y\",\"type\":\"bar\"},{\"alignmentgroup\":\"True\",\"hovertemplate\":\"stock=IBM<br>quarter=%{x}<br>closing_price=%{y}<extra></extra>\",\"legendgroup\":\"IBM\",\"marker\":{\"color\":\"#636efa\",\"pattern\":{\"shape\":\"\"}},\"name\":\"IBM\",\"offsetgroup\":\"IBM\",\"orientation\":\"v\",\"showlegend\":true,\"textposition\":\"auto\",\"x\":[1,2],\"xaxis\":\"x\",\"y\":[159.16166666666666,166.73846153846154],\"yaxis\":\"y\",\"type\":\"bar\"},{\"alignmentgroup\":\"True\",\"hovertemplate\":\"stock=PG<br>quarter=%{x}<br>closing_price=%{y}<extra></extra>\",\"legendgroup\":\"PG\",\"marker\":{\"color\":\"#EF553B\",\"pattern\":{\"shape\":\"\"}},\"name\":\"PG\",\"offsetgroup\":\"PG\",\"orientation\":\"v\",\"showlegend\":true,\"textposition\":\"auto\",\"x\":[1,2],\"xaxis\":\"x\",\"y\":[63.385,64.57153846153847],\"yaxis\":\"y\",\"type\":\"bar\"},{\"alignmentgroup\":\"True\",\"hovertemplate\":\"stock=HPQ<br>quarter=%{x}<br>closing_price=%{y}<extra></extra>\",\"legendgroup\":\"HPQ\",\"marker\":{\"color\":\"#00cc96\",\"pattern\":{\"shape\":\"\"}},\"name\":\"HPQ\",\"offsetgroup\":\"HPQ\",\"orientation\":\"v\",\"showlegend\":true,\"textposition\":\"auto\",\"x\":[1,2],\"xaxis\":\"x\",\"y\":[44.97416666666667,38.36307692307692],\"yaxis\":\"y\",\"type\":\"bar\"},{\"alignmentgroup\":\"True\",\"hovertemplate\":\"stock=HD<br>quarter=%{x}<br>closing_price=%{y}<extra></extra>\",\"legendgroup\":\"HD\",\"marker\":{\"color\":\"#ab63fa\",\"pattern\":{\"shape\":\"\"}},\"name\":\"HD\",\"offsetgroup\":\"HD\",\"orientation\":\"v\",\"showlegend\":true,\"textposition\":\"auto\",\"x\":[1,2],\"xaxis\":\"x\",\"y\":[36.75833333333333,36.37692307692308],\"yaxis\":\"y\",\"type\":\"bar\"},{\"alignmentgroup\":\"True\",\"hovertemplate\":\"stock=MRK<br>quarter=%{x}<br>closing_price=%{y}<extra></extra>\",\"legendgroup\":\"MRK\",\"marker\":{\"color\":\"#FFA15A\",\"pattern\":{\"shape\":\"\"}},\"name\":\"MRK\",\"offsetgroup\":\"MRK\",\"orientation\":\"v\",\"showlegend\":true,\"textposition\":\"auto\",\"x\":[1,2],\"xaxis\":\"x\",\"y\":[33.318333333333335,35.32230769230769],\"yaxis\":\"y\",\"type\":\"bar\"},{\"alignmentgroup\":\"True\",\"hovertemplate\":\"stock=GE<br>quarter=%{x}<br>closing_price=%{y}<extra></extra>\",\"legendgroup\":\"GE\",\"marker\":{\"color\":\"#19d3f3\",\"pattern\":{\"shape\":\"\"}},\"name\":\"GE\",\"offsetgroup\":\"GE\",\"orientation\":\"v\",\"showlegend\":true,\"textposition\":\"auto\",\"x\":[1,2],\"xaxis\":\"x\",\"y\":[20.089166666666667,19.502307692307692],\"yaxis\":\"y\",\"type\":\"bar\"},{\"alignmentgroup\":\"True\",\"hovertemplate\":\"stock=T<br>quarter=%{x}<br>closing_price=%{y}<extra></extra>\",\"legendgroup\":\"T\",\"marker\":{\"color\":\"#FF6692\",\"pattern\":{\"shape\":\"\"}},\"name\":\"T\",\"offsetgroup\":\"T\",\"orientation\":\"v\",\"showlegend\":true,\"textposition\":\"auto\",\"x\":[1,2],\"xaxis\":\"x\",\"y\":[28.284166666666668,30.866153846153846],\"yaxis\":\"y\",\"type\":\"bar\"},{\"alignmentgroup\":\"True\",\"hovertemplate\":\"stock=CAT<br>quarter=%{x}<br>closing_price=%{y}<extra></extra>\",\"legendgroup\":\"CAT\",\"marker\":{\"color\":\"#B6E880\",\"pattern\":{\"shape\":\"\"}},\"name\":\"CAT\",\"offsetgroup\":\"CAT\",\"orientation\":\"v\",\"showlegend\":true,\"textposition\":\"auto\",\"x\":[1,2],\"xaxis\":\"x\",\"y\":[100.36416666666668,105.72538461538463],\"yaxis\":\"y\",\"type\":\"bar\"},{\"alignmentgroup\":\"True\",\"hovertemplate\":\"stock=AXP<br>quarter=%{x}<br>closing_price=%{y}<extra></extra>\",\"legendgroup\":\"AXP\",\"marker\":{\"color\":\"#FF97FF\",\"pattern\":{\"shape\":\"\"}},\"name\":\"AXP\",\"offsetgroup\":\"AXP\",\"orientation\":\"v\",\"showlegend\":true,\"textposition\":\"auto\",\"x\":[1,2],\"xaxis\":\"x\",\"y\":[44.821666666666665,48.45769230769231],\"yaxis\":\"y\",\"type\":\"bar\"},{\"alignmentgroup\":\"True\",\"hovertemplate\":\"stock=WMT<br>quarter=%{x}<br>closing_price=%{y}<extra></extra>\",\"legendgroup\":\"WMT\",\"marker\":{\"color\":\"#FECB52\",\"pattern\":{\"shape\":\"\"}},\"name\":\"WMT\",\"offsetgroup\":\"WMT\",\"orientation\":\"v\",\"showlegend\":true,\"textposition\":\"auto\",\"x\":[1,2],\"xaxis\":\"x\",\"y\":[54.05833333333334,53.77846153846154],\"yaxis\":\"y\",\"type\":\"bar\"},{\"alignmentgroup\":\"True\",\"hovertemplate\":\"stock=BA<br>quarter=%{x}<br>closing_price=%{y}<extra></extra>\",\"legendgroup\":\"BA\",\"marker\":{\"color\":\"#636efa\",\"pattern\":{\"shape\":\"\"}},\"name\":\"BA\",\"offsetgroup\":\"BA\",\"orientation\":\"v\",\"showlegend\":true,\"textposition\":\"auto\",\"x\":[1,2],\"xaxis\":\"x\",\"y\":[71.25833333333334,75.46923076923078],\"yaxis\":\"y\",\"type\":\"bar\"},{\"alignmentgroup\":\"True\",\"hovertemplate\":\"stock=BAC<br>quarter=%{x}<br>closing_price=%{y}<extra></extra>\",\"legendgroup\":\"BAC\",\"marker\":{\"color\":\"#EF553B\",\"pattern\":{\"shape\":\"\"}},\"name\":\"BAC\",\"offsetgroup\":\"BAC\",\"orientation\":\"v\",\"showlegend\":true,\"textposition\":\"auto\",\"x\":[1,2],\"xaxis\":\"x\",\"y\":[14.270000000000001,11.926923076923078],\"yaxis\":\"y\",\"type\":\"bar\"},{\"alignmentgroup\":\"True\",\"hovertemplate\":\"stock=VZ<br>quarter=%{x}<br>closing_price=%{y}<extra></extra>\",\"legendgroup\":\"VZ\",\"marker\":{\"color\":\"#00cc96\",\"pattern\":{\"shape\":\"\"}},\"name\":\"VZ\",\"offsetgroup\":\"VZ\",\"orientation\":\"v\",\"showlegend\":true,\"textposition\":\"auto\",\"x\":[1,2],\"xaxis\":\"x\",\"y\":[36.026666666666664,36.878461538461536],\"yaxis\":\"y\",\"type\":\"bar\"},{\"alignmentgroup\":\"True\",\"hovertemplate\":\"stock=DIS<br>quarter=%{x}<br>closing_price=%{y}<extra></extra>\",\"legendgroup\":\"DIS\",\"marker\":{\"color\":\"#ab63fa\",\"pattern\":{\"shape\":\"\"}},\"name\":\"DIS\",\"offsetgroup\":\"DIS\",\"orientation\":\"v\",\"showlegend\":true,\"textposition\":\"auto\",\"x\":[1,2],\"xaxis\":\"x\",\"y\":[41.553333333333335,40.96923076923077],\"yaxis\":\"y\",\"type\":\"bar\"},{\"alignmentgroup\":\"True\",\"hovertemplate\":\"stock=MMM<br>quarter=%{x}<br>closing_price=%{y}<extra></extra>\",\"legendgroup\":\"MMM\",\"marker\":{\"color\":\"#FFA15A\",\"pattern\":{\"shape\":\"\"}},\"name\":\"MMM\",\"offsetgroup\":\"MMM\",\"orientation\":\"v\",\"showlegend\":true,\"textposition\":\"auto\",\"x\":[1,2],\"xaxis\":\"x\",\"y\":[89.95083333333334,93.31076923076922],\"yaxis\":\"y\",\"type\":\"bar\"},{\"alignmentgroup\":\"True\",\"hovertemplate\":\"stock=UTX<br>quarter=%{x}<br>closing_price=%{y}<extra></extra>\",\"legendgroup\":\"UTX\",\"marker\":{\"color\":\"#19d3f3\",\"pattern\":{\"shape\":\"\"}},\"name\":\"UTX\",\"offsetgroup\":\"UTX\",\"orientation\":\"v\",\"showlegend\":true,\"textposition\":\"auto\",\"x\":[1,2],\"xaxis\":\"x\",\"y\":[81.97583333333334,85.93230769230769],\"yaxis\":\"y\",\"type\":\"bar\"},{\"alignmentgroup\":\"True\",\"hovertemplate\":\"stock=CVX<br>quarter=%{x}<br>closing_price=%{y}<extra></extra>\",\"legendgroup\":\"CVX\",\"marker\":{\"color\":\"#FF6692\",\"pattern\":{\"shape\":\"\"}},\"name\":\"CVX\",\"offsetgroup\":\"CVX\",\"orientation\":\"v\",\"showlegend\":true,\"textposition\":\"auto\",\"x\":[1,2],\"xaxis\":\"x\",\"y\":[98.23416666666667,103.89076923076922],\"yaxis\":\"y\",\"type\":\"bar\"},{\"alignmentgroup\":\"True\",\"hovertemplate\":\"stock=DD<br>quarter=%{x}<br>closing_price=%{y}<extra></extra>\",\"legendgroup\":\"DD\",\"marker\":{\"color\":\"#B6E880\",\"pattern\":{\"shape\":\"\"}},\"name\":\"DD\",\"offsetgroup\":\"DD\",\"orientation\":\"v\",\"showlegend\":true,\"textposition\":\"auto\",\"x\":[1,2],\"xaxis\":\"x\",\"y\":[52.435,53.27846153846154],\"yaxis\":\"y\",\"type\":\"bar\"},{\"alignmentgroup\":\"True\",\"hovertemplate\":\"stock=TRV<br>quarter=%{x}<br>closing_price=%{y}<extra></extra>\",\"legendgroup\":\"TRV\",\"marker\":{\"color\":\"#FF97FF\",\"pattern\":{\"shape\":\"\"}},\"name\":\"TRV\",\"offsetgroup\":\"TRV\",\"orientation\":\"v\",\"showlegend\":true,\"textposition\":\"auto\",\"x\":[1,2],\"xaxis\":\"x\",\"y\":[57.56583333333333,60.63153846153846],\"yaxis\":\"y\",\"type\":\"bar\"},{\"alignmentgroup\":\"True\",\"hovertemplate\":\"stock=CSCO<br>quarter=%{x}<br>closing_price=%{y}<extra></extra>\",\"legendgroup\":\"CSCO\",\"marker\":{\"color\":\"#FECB52\",\"pattern\":{\"shape\":\"\"}},\"name\":\"CSCO\",\"offsetgroup\":\"CSCO\",\"orientation\":\"v\",\"showlegend\":true,\"textposition\":\"auto\",\"x\":[1,2],\"xaxis\":\"x\",\"y\":[19.403333333333332,16.51076923076923],\"yaxis\":\"y\",\"type\":\"bar\"}],                        {\"template\":{\"data\":{\"histogram2dcontour\":[{\"type\":\"histogram2dcontour\",\"colorbar\":{\"outlinewidth\":0,\"ticks\":\"\"},\"colorscale\":[[0.0,\"#0d0887\"],[0.1111111111111111,\"#46039f\"],[0.2222222222222222,\"#7201a8\"],[0.3333333333333333,\"#9c179e\"],[0.4444444444444444,\"#bd3786\"],[0.5555555555555556,\"#d8576b\"],[0.6666666666666666,\"#ed7953\"],[0.7777777777777778,\"#fb9f3a\"],[0.8888888888888888,\"#fdca26\"],[1.0,\"#f0f921\"]]}],\"choropleth\":[{\"type\":\"choropleth\",\"colorbar\":{\"outlinewidth\":0,\"ticks\":\"\"}}],\"histogram2d\":[{\"type\":\"histogram2d\",\"colorbar\":{\"outlinewidth\":0,\"ticks\":\"\"},\"colorscale\":[[0.0,\"#0d0887\"],[0.1111111111111111,\"#46039f\"],[0.2222222222222222,\"#7201a8\"],[0.3333333333333333,\"#9c179e\"],[0.4444444444444444,\"#bd3786\"],[0.5555555555555556,\"#d8576b\"],[0.6666666666666666,\"#ed7953\"],[0.7777777777777778,\"#fb9f3a\"],[0.8888888888888888,\"#fdca26\"],[1.0,\"#f0f921\"]]}],\"heatmap\":[{\"type\":\"heatmap\",\"colorbar\":{\"outlinewidth\":0,\"ticks\":\"\"},\"colorscale\":[[0.0,\"#0d0887\"],[0.1111111111111111,\"#46039f\"],[0.2222222222222222,\"#7201a8\"],[0.3333333333333333,\"#9c179e\"],[0.4444444444444444,\"#bd3786\"],[0.5555555555555556,\"#d8576b\"],[0.6666666666666666,\"#ed7953\"],[0.7777777777777778,\"#fb9f3a\"],[0.8888888888888888,\"#fdca26\"],[1.0,\"#f0f921\"]]}],\"heatmapgl\":[{\"type\":\"heatmapgl\",\"colorbar\":{\"outlinewidth\":0,\"ticks\":\"\"},\"colorscale\":[[0.0,\"#0d0887\"],[0.1111111111111111,\"#46039f\"],[0.2222222222222222,\"#7201a8\"],[0.3333333333333333,\"#9c179e\"],[0.4444444444444444,\"#bd3786\"],[0.5555555555555556,\"#d8576b\"],[0.6666666666666666,\"#ed7953\"],[0.7777777777777778,\"#fb9f3a\"],[0.8888888888888888,\"#fdca26\"],[1.0,\"#f0f921\"]]}],\"contourcarpet\":[{\"type\":\"contourcarpet\",\"colorbar\":{\"outlinewidth\":0,\"ticks\":\"\"}}],\"contour\":[{\"type\":\"contour\",\"colorbar\":{\"outlinewidth\":0,\"ticks\":\"\"},\"colorscale\":[[0.0,\"#0d0887\"],[0.1111111111111111,\"#46039f\"],[0.2222222222222222,\"#7201a8\"],[0.3333333333333333,\"#9c179e\"],[0.4444444444444444,\"#bd3786\"],[0.5555555555555556,\"#d8576b\"],[0.6666666666666666,\"#ed7953\"],[0.7777777777777778,\"#fb9f3a\"],[0.8888888888888888,\"#fdca26\"],[1.0,\"#f0f921\"]]}],\"surface\":[{\"type\":\"surface\",\"colorbar\":{\"outlinewidth\":0,\"ticks\":\"\"},\"colorscale\":[[0.0,\"#0d0887\"],[0.1111111111111111,\"#46039f\"],[0.2222222222222222,\"#7201a8\"],[0.3333333333333333,\"#9c179e\"],[0.4444444444444444,\"#bd3786\"],[0.5555555555555556,\"#d8576b\"],[0.6666666666666666,\"#ed7953\"],[0.7777777777777778,\"#fb9f3a\"],[0.8888888888888888,\"#fdca26\"],[1.0,\"#f0f921\"]]}],\"mesh3d\":[{\"type\":\"mesh3d\",\"colorbar\":{\"outlinewidth\":0,\"ticks\":\"\"}}],\"scatter\":[{\"fillpattern\":{\"fillmode\":\"overlay\",\"size\":10,\"solidity\":0.2},\"type\":\"scatter\"}],\"parcoords\":[{\"type\":\"parcoords\",\"line\":{\"colorbar\":{\"outlinewidth\":0,\"ticks\":\"\"}}}],\"scatterpolargl\":[{\"type\":\"scatterpolargl\",\"marker\":{\"colorbar\":{\"outlinewidth\":0,\"ticks\":\"\"}}}],\"bar\":[{\"error_x\":{\"color\":\"#2a3f5f\"},\"error_y\":{\"color\":\"#2a3f5f\"},\"marker\":{\"line\":{\"color\":\"#E5ECF6\",\"width\":0.5},\"pattern\":{\"fillmode\":\"overlay\",\"size\":10,\"solidity\":0.2}},\"type\":\"bar\"}],\"scattergeo\":[{\"type\":\"scattergeo\",\"marker\":{\"colorbar\":{\"outlinewidth\":0,\"ticks\":\"\"}}}],\"scatterpolar\":[{\"type\":\"scatterpolar\",\"marker\":{\"colorbar\":{\"outlinewidth\":0,\"ticks\":\"\"}}}],\"histogram\":[{\"marker\":{\"pattern\":{\"fillmode\":\"overlay\",\"size\":10,\"solidity\":0.2}},\"type\":\"histogram\"}],\"scattergl\":[{\"type\":\"scattergl\",\"marker\":{\"colorbar\":{\"outlinewidth\":0,\"ticks\":\"\"}}}],\"scatter3d\":[{\"type\":\"scatter3d\",\"line\":{\"colorbar\":{\"outlinewidth\":0,\"ticks\":\"\"}},\"marker\":{\"colorbar\":{\"outlinewidth\":0,\"ticks\":\"\"}}}],\"scattermapbox\":[{\"type\":\"scattermapbox\",\"marker\":{\"colorbar\":{\"outlinewidth\":0,\"ticks\":\"\"}}}],\"scatterternary\":[{\"type\":\"scatterternary\",\"marker\":{\"colorbar\":{\"outlinewidth\":0,\"ticks\":\"\"}}}],\"scattercarpet\":[{\"type\":\"scattercarpet\",\"marker\":{\"colorbar\":{\"outlinewidth\":0,\"ticks\":\"\"}}}],\"carpet\":[{\"aaxis\":{\"endlinecolor\":\"#2a3f5f\",\"gridcolor\":\"white\",\"linecolor\":\"white\",\"minorgridcolor\":\"white\",\"startlinecolor\":\"#2a3f5f\"},\"baxis\":{\"endlinecolor\":\"#2a3f5f\",\"gridcolor\":\"white\",\"linecolor\":\"white\",\"minorgridcolor\":\"white\",\"startlinecolor\":\"#2a3f5f\"},\"type\":\"carpet\"}],\"table\":[{\"cells\":{\"fill\":{\"color\":\"#EBF0F8\"},\"line\":{\"color\":\"white\"}},\"header\":{\"fill\":{\"color\":\"#C8D4E3\"},\"line\":{\"color\":\"white\"}},\"type\":\"table\"}],\"barpolar\":[{\"marker\":{\"line\":{\"color\":\"#E5ECF6\",\"width\":0.5},\"pattern\":{\"fillmode\":\"overlay\",\"size\":10,\"solidity\":0.2}},\"type\":\"barpolar\"}],\"pie\":[{\"automargin\":true,\"type\":\"pie\"}]},\"layout\":{\"autotypenumbers\":\"strict\",\"colorway\":[\"#636efa\",\"#EF553B\",\"#00cc96\",\"#ab63fa\",\"#FFA15A\",\"#19d3f3\",\"#FF6692\",\"#B6E880\",\"#FF97FF\",\"#FECB52\"],\"font\":{\"color\":\"#2a3f5f\"},\"hovermode\":\"closest\",\"hoverlabel\":{\"align\":\"left\"},\"paper_bgcolor\":\"white\",\"plot_bgcolor\":\"#E5ECF6\",\"polar\":{\"bgcolor\":\"#E5ECF6\",\"angularaxis\":{\"gridcolor\":\"white\",\"linecolor\":\"white\",\"ticks\":\"\"},\"radialaxis\":{\"gridcolor\":\"white\",\"linecolor\":\"white\",\"ticks\":\"\"}},\"ternary\":{\"bgcolor\":\"#E5ECF6\",\"aaxis\":{\"gridcolor\":\"white\",\"linecolor\":\"white\",\"ticks\":\"\"},\"baxis\":{\"gridcolor\":\"white\",\"linecolor\":\"white\",\"ticks\":\"\"},\"caxis\":{\"gridcolor\":\"white\",\"linecolor\":\"white\",\"ticks\":\"\"}},\"coloraxis\":{\"colorbar\":{\"outlinewidth\":0,\"ticks\":\"\"}},\"colorscale\":{\"sequential\":[[0.0,\"#0d0887\"],[0.1111111111111111,\"#46039f\"],[0.2222222222222222,\"#7201a8\"],[0.3333333333333333,\"#9c179e\"],[0.4444444444444444,\"#bd3786\"],[0.5555555555555556,\"#d8576b\"],[0.6666666666666666,\"#ed7953\"],[0.7777777777777778,\"#fb9f3a\"],[0.8888888888888888,\"#fdca26\"],[1.0,\"#f0f921\"]],\"sequentialminus\":[[0.0,\"#0d0887\"],[0.1111111111111111,\"#46039f\"],[0.2222222222222222,\"#7201a8\"],[0.3333333333333333,\"#9c179e\"],[0.4444444444444444,\"#bd3786\"],[0.5555555555555556,\"#d8576b\"],[0.6666666666666666,\"#ed7953\"],[0.7777777777777778,\"#fb9f3a\"],[0.8888888888888888,\"#fdca26\"],[1.0,\"#f0f921\"]],\"diverging\":[[0,\"#8e0152\"],[0.1,\"#c51b7d\"],[0.2,\"#de77ae\"],[0.3,\"#f1b6da\"],[0.4,\"#fde0ef\"],[0.5,\"#f7f7f7\"],[0.6,\"#e6f5d0\"],[0.7,\"#b8e186\"],[0.8,\"#7fbc41\"],[0.9,\"#4d9221\"],[1,\"#276419\"]]},\"xaxis\":{\"gridcolor\":\"white\",\"linecolor\":\"white\",\"ticks\":\"\",\"title\":{\"standoff\":15},\"zerolinecolor\":\"white\",\"automargin\":true,\"zerolinewidth\":2},\"yaxis\":{\"gridcolor\":\"white\",\"linecolor\":\"white\",\"ticks\":\"\",\"title\":{\"standoff\":15},\"zerolinecolor\":\"white\",\"automargin\":true,\"zerolinewidth\":2},\"scene\":{\"xaxis\":{\"backgroundcolor\":\"#E5ECF6\",\"gridcolor\":\"white\",\"linecolor\":\"white\",\"showbackground\":true,\"ticks\":\"\",\"zerolinecolor\":\"white\",\"gridwidth\":2},\"yaxis\":{\"backgroundcolor\":\"#E5ECF6\",\"gridcolor\":\"white\",\"linecolor\":\"white\",\"showbackground\":true,\"ticks\":\"\",\"zerolinecolor\":\"white\",\"gridwidth\":2},\"zaxis\":{\"backgroundcolor\":\"#E5ECF6\",\"gridcolor\":\"white\",\"linecolor\":\"white\",\"showbackground\":true,\"ticks\":\"\",\"zerolinecolor\":\"white\",\"gridwidth\":2}},\"shapedefaults\":{\"line\":{\"color\":\"#2a3f5f\"}},\"annotationdefaults\":{\"arrowcolor\":\"#2a3f5f\",\"arrowhead\":0,\"arrowwidth\":1},\"geo\":{\"bgcolor\":\"white\",\"landcolor\":\"#E5ECF6\",\"subunitcolor\":\"white\",\"showland\":true,\"showlakes\":true,\"lakecolor\":\"white\"},\"title\":{\"x\":0.05},\"mapbox\":{\"style\":\"light\"}}},\"xaxis\":{\"anchor\":\"y\",\"domain\":[0.0,1.0],\"title\":{\"text\":\"quarter\"}},\"yaxis\":{\"anchor\":\"x\",\"domain\":[0.0,1.0],\"title\":{\"text\":\"closing_price\"}},\"legend\":{\"title\":{\"text\":\"stock\"},\"tracegroupgap\":0},\"margin\":{\"t\":60},\"barmode\":\"relative\"},                        {\"responsive\": true}                    ).then(function(){\n",
       "                            \n",
       "var gd = document.getElementById('65b73cc5-bcc0-431c-b938-e0ec0b597b2b');\n",
       "var x = new MutationObserver(function (mutations, observer) {{\n",
       "        var display = window.getComputedStyle(gd).display;\n",
       "        if (!display || display === 'none') {{\n",
       "            console.log([gd, 'removed!']);\n",
       "            Plotly.purge(gd);\n",
       "            observer.disconnect();\n",
       "        }}\n",
       "}});\n",
       "\n",
       "// Listen for the removal of the full notebook cells\n",
       "var notebookContainer = gd.closest('#notebook-container');\n",
       "if (notebookContainer) {{\n",
       "    x.observe(notebookContainer, {childList: true});\n",
       "}}\n",
       "\n",
       "// Listen for the clearing of the current output cell\n",
       "var outputEl = gd.closest('.output');\n",
       "if (outputEl) {{\n",
       "    x.observe(outputEl, {childList: true});\n",
       "}}\n",
       "\n",
       "                        })                };                });            </script>        </div>"
      ]
     },
     "metadata": {},
     "output_type": "display_data"
    }
   ],
   "source": [
    "# Create a new DataFrame with quarterly data\n",
    "df_quarterly = df.copy()\n",
    "# Calculate the average closing price and volume for each stock by quarter\n",
    "quarterly_trends_all = df_quarterly.groupby(['stock', 'quarter']).agg({'close': 'mean', 'volume': 'mean'}).reset_index()\n",
    "quarterly_trends_all.sort_values(by='quarter', inplace=True)\n",
    "\n",
    "closing_prices_quarterly_pivot = quarterly_trends_all.pivot_table(index='stock', columns='quarter', values='close', sort=False)\n",
    "\n",
    "plot_df = closing_prices_quarterly_pivot.reset_index().melt(id_vars='stock', var_name='quarter', value_name='closing_price')\n",
    "\n",
    "fig = px.bar(plot_df, x='quarter', y='closing_price', color='stock')\n",
    "fig.show()"
   ]
  },
  {
   "cell_type": "markdown",
   "id": "af5b7451",
   "metadata": {},
   "source": [
    "### Quarterly Volume of All Stocks\n",
    "\n",
    "Now, let's visualize the average quarterly Volume for all the stocks. The visualiation shows that generally the volume is higher in quarter 1 than 2. This also goes with the months visualization that generally more trades occur earlier in the year.\n"
   ]
  },
  {
   "cell_type": "code",
   "execution_count": 69,
   "id": "4e0d45ce",
   "metadata": {},
   "outputs": [
    {
     "data": {
      "application/vnd.plotly.v1+json": {
       "config": {
        "plotlyServerURL": "https://plot.ly"
       },
       "data": [
        {
         "alignmentgroup": "True",
         "hovertemplate": "stock=AA<br>quarter=%{x}<br>volume=%{y}<extra></extra>",
         "legendgroup": "AA",
         "marker": {
          "color": "#636efa",
          "pattern": {
           "shape": ""
          }
         },
         "name": "AA",
         "offsetgroup": "AA",
         "orientation": "v",
         "showlegend": true,
         "textposition": "auto",
         "type": "bar",
         "x": [
          1,
          2
         ],
         "xaxis": "x",
         "y": [
          142021801.58333334,
          118208356.61538461
         ],
         "yaxis": "y"
        },
        {
         "alignmentgroup": "True",
         "hovertemplate": "stock=MCD<br>quarter=%{x}<br>volume=%{y}<extra></extra>",
         "legendgroup": "MCD",
         "marker": {
          "color": "#EF553B",
          "pattern": {
           "shape": ""
          }
         },
         "name": "MCD",
         "offsetgroup": "MCD",
         "orientation": "v",
         "showlegend": true,
         "textposition": "auto",
         "type": "bar",
         "x": [
          1,
          2
         ],
         "xaxis": "x",
         "y": [
          40268351.75,
          24659406.615384616
         ],
         "yaxis": "y"
        },
        {
         "alignmentgroup": "True",
         "hovertemplate": "stock=KRFT<br>quarter=%{x}<br>volume=%{y}<extra></extra>",
         "legendgroup": "KRFT",
         "marker": {
          "color": "#00cc96",
          "pattern": {
           "shape": ""
          }
         },
         "name": "KRFT",
         "offsetgroup": "KRFT",
         "orientation": "v",
         "showlegend": true,
         "textposition": "auto",
         "type": "bar",
         "x": [
          1,
          2
         ],
         "xaxis": "x",
         "y": [
          45564120.5,
          44125756.538461536
         ],
         "yaxis": "y"
        },
        {
         "alignmentgroup": "True",
         "hovertemplate": "stock=MSFT<br>quarter=%{x}<br>volume=%{y}<extra></extra>",
         "legendgroup": "MSFT",
         "marker": {
          "color": "#ab63fa",
          "pattern": {
           "shape": ""
          }
         },
         "name": "MSFT",
         "offsetgroup": "MSFT",
         "orientation": "v",
         "showlegend": true,
         "textposition": "auto",
         "type": "bar",
         "x": [
          1,
          2
         ],
         "xaxis": "x",
         "y": [
          288362899.25,
          290931924.2307692
         ],
         "yaxis": "y"
        },
        {
         "alignmentgroup": "True",
         "hovertemplate": "stock=KO<br>quarter=%{x}<br>volume=%{y}<extra></extra>",
         "legendgroup": "KO",
         "marker": {
          "color": "#FFA15A",
          "pattern": {
           "shape": ""
          }
         },
         "name": "KO",
         "offsetgroup": "KO",
         "orientation": "v",
         "showlegend": true,
         "textposition": "auto",
         "type": "bar",
         "x": [
          1,
          2
         ],
         "xaxis": "x",
         "y": [
          42355548.666666664,
          35049049.384615384
         ],
         "yaxis": "y"
        },
        {
         "alignmentgroup": "True",
         "hovertemplate": "stock=JPM<br>quarter=%{x}<br>volume=%{y}<extra></extra>",
         "legendgroup": "JPM",
         "marker": {
          "color": "#19d3f3",
          "pattern": {
           "shape": ""
          }
         },
         "name": "JPM",
         "offsetgroup": "JPM",
         "orientation": "v",
         "showlegend": true,
         "textposition": "auto",
         "type": "bar",
         "x": [
          1,
          2
         ],
         "xaxis": "x",
         "y": [
          159350011.91666666,
          143501943.84615386
         ],
         "yaxis": "y"
        },
        {
         "alignmentgroup": "True",
         "hovertemplate": "stock=XOM<br>quarter=%{x}<br>volume=%{y}<extra></extra>",
         "legendgroup": "XOM",
         "marker": {
          "color": "#FF6692",
          "pattern": {
           "shape": ""
          }
         },
         "name": "XOM",
         "offsetgroup": "XOM",
         "orientation": "v",
         "showlegend": true,
         "textposition": "auto",
         "type": "bar",
         "x": [
          1,
          2
         ],
         "xaxis": "x",
         "y": [
          102033144.33333333,
          85987660.15384616
         ],
         "yaxis": "y"
        },
        {
         "alignmentgroup": "True",
         "hovertemplate": "stock=JNJ<br>quarter=%{x}<br>volume=%{y}<extra></extra>",
         "legendgroup": "JNJ",
         "marker": {
          "color": "#B6E880",
          "pattern": {
           "shape": ""
          }
         },
         "name": "JNJ",
         "offsetgroup": "JNJ",
         "orientation": "v",
         "showlegend": true,
         "textposition": "auto",
         "type": "bar",
         "x": [
          1,
          2
         ],
         "xaxis": "x",
         "y": [
          54182410.25,
          57689515.76923077
         ],
         "yaxis": "y"
        },
        {
         "alignmentgroup": "True",
         "hovertemplate": "stock=PFE<br>quarter=%{x}<br>volume=%{y}<extra></extra>",
         "legendgroup": "PFE",
         "marker": {
          "color": "#FF97FF",
          "pattern": {
           "shape": ""
          }
         },
         "name": "PFE",
         "offsetgroup": "PFE",
         "orientation": "v",
         "showlegend": true,
         "textposition": "auto",
         "type": "bar",
         "x": [
          1,
          2
         ],
         "xaxis": "x",
         "y": [
          253239530.5,
          203676896.07692307
         ],
         "yaxis": "y"
        },
        {
         "alignmentgroup": "True",
         "hovertemplate": "stock=INTC<br>quarter=%{x}<br>volume=%{y}<extra></extra>",
         "legendgroup": "INTC",
         "marker": {
          "color": "#FECB52",
          "pattern": {
           "shape": ""
          }
         },
         "name": "INTC",
         "offsetgroup": "INTC",
         "orientation": "v",
         "showlegend": true,
         "textposition": "auto",
         "type": "bar",
         "x": [
          1,
          2
         ],
         "xaxis": "x",
         "y": [
          277900865.1666667,
          318519233.3076923
         ],
         "yaxis": "y"
        },
        {
         "alignmentgroup": "True",
         "hovertemplate": "stock=IBM<br>quarter=%{x}<br>volume=%{y}<extra></extra>",
         "legendgroup": "IBM",
         "marker": {
          "color": "#636efa",
          "pattern": {
           "shape": ""
          }
         },
         "name": "IBM",
         "offsetgroup": "IBM",
         "orientation": "v",
         "showlegend": true,
         "textposition": "auto",
         "type": "bar",
         "x": [
          1,
          2
         ],
         "xaxis": "x",
         "y": [
          26189041.083333332,
          23400855.230769232
         ],
         "yaxis": "y"
        },
        {
         "alignmentgroup": "True",
         "hovertemplate": "stock=PG<br>quarter=%{x}<br>volume=%{y}<extra></extra>",
         "legendgroup": "PG",
         "marker": {
          "color": "#EF553B",
          "pattern": {
           "shape": ""
          }
         },
         "name": "PG",
         "offsetgroup": "PG",
         "orientation": "v",
         "showlegend": true,
         "textposition": "auto",
         "type": "bar",
         "x": [
          1,
          2
         ],
         "xaxis": "x",
         "y": [
          51979729.833333336,
          45582346.384615384
         ],
         "yaxis": "y"
        },
        {
         "alignmentgroup": "True",
         "hovertemplate": "stock=HPQ<br>quarter=%{x}<br>volume=%{y}<extra></extra>",
         "legendgroup": "HPQ",
         "marker": {
          "color": "#00cc96",
          "pattern": {
           "shape": ""
          }
         },
         "name": "HPQ",
         "offsetgroup": "HPQ",
         "orientation": "v",
         "showlegend": true,
         "textposition": "auto",
         "type": "bar",
         "x": [
          1,
          2
         ],
         "xaxis": "x",
         "y": [
          95522815.91666667,
          94245151.07692307
         ],
         "yaxis": "y"
        },
        {
         "alignmentgroup": "True",
         "hovertemplate": "stock=HD<br>quarter=%{x}<br>volume=%{y}<extra></extra>",
         "legendgroup": "HD",
         "marker": {
          "color": "#ab63fa",
          "pattern": {
           "shape": ""
          }
         },
         "name": "HD",
         "offsetgroup": "HD",
         "orientation": "v",
         "showlegend": true,
         "textposition": "auto",
         "type": "bar",
         "x": [
          1,
          2
         ],
         "xaxis": "x",
         "y": [
          46876557,
          49431347.461538464
         ],
         "yaxis": "y"
        },
        {
         "alignmentgroup": "True",
         "hovertemplate": "stock=MRK<br>quarter=%{x}<br>volume=%{y}<extra></extra>",
         "legendgroup": "MRK",
         "marker": {
          "color": "#FFA15A",
          "pattern": {
           "shape": ""
          }
         },
         "name": "MRK",
         "offsetgroup": "MRK",
         "orientation": "v",
         "showlegend": true,
         "textposition": "auto",
         "type": "bar",
         "x": [
          1,
          2
         ],
         "xaxis": "x",
         "y": [
          90233551,
          64349482.23076923
         ],
         "yaxis": "y"
        },
        {
         "alignmentgroup": "True",
         "hovertemplate": "stock=GE<br>quarter=%{x}<br>volume=%{y}<extra></extra>",
         "legendgroup": "GE",
         "marker": {
          "color": "#19d3f3",
          "pattern": {
           "shape": ""
          }
         },
         "name": "GE",
         "offsetgroup": "GE",
         "orientation": "v",
         "showlegend": true,
         "textposition": "auto",
         "type": "bar",
         "x": [
          1,
          2
         ],
         "xaxis": "x",
         "y": [
          301809476.5,
          228979864.69230768
         ],
         "yaxis": "y"
        },
        {
         "alignmentgroup": "True",
         "hovertemplate": "stock=T<br>quarter=%{x}<br>volume=%{y}<extra></extra>",
         "legendgroup": "T",
         "marker": {
          "color": "#FF6692",
          "pattern": {
           "shape": ""
          }
         },
         "name": "T",
         "offsetgroup": "T",
         "orientation": "v",
         "showlegend": true,
         "textposition": "auto",
         "type": "bar",
         "x": [
          1,
          2
         ],
         "xaxis": "x",
         "y": [
          136822432.91666666,
          128101049
         ],
         "yaxis": "y"
        },
        {
         "alignmentgroup": "True",
         "hovertemplate": "stock=CAT<br>quarter=%{x}<br>volume=%{y}<extra></extra>",
         "legendgroup": "CAT",
         "marker": {
          "color": "#B6E880",
          "pattern": {
           "shape": ""
          }
         },
         "name": "CAT",
         "offsetgroup": "CAT",
         "orientation": "v",
         "showlegend": true,
         "textposition": "auto",
         "type": "bar",
         "x": [
          1,
          2
         ],
         "xaxis": "x",
         "y": [
          30933516.166666668,
          36313515.615384616
         ],
         "yaxis": "y"
        },
        {
         "alignmentgroup": "True",
         "hovertemplate": "stock=AXP<br>quarter=%{x}<br>volume=%{y}<extra></extra>",
         "legendgroup": "AXP",
         "marker": {
          "color": "#FF97FF",
          "pattern": {
           "shape": ""
          }
         },
         "name": "AXP",
         "offsetgroup": "AXP",
         "orientation": "v",
         "showlegend": true,
         "textposition": "auto",
         "type": "bar",
         "x": [
          1,
          2
         ],
         "xaxis": "x",
         "y": [
          38490817.916666664,
          32178632.692307692
         ],
         "yaxis": "y"
        },
        {
         "alignmentgroup": "True",
         "hovertemplate": "stock=WMT<br>quarter=%{x}<br>volume=%{y}<extra></extra>",
         "legendgroup": "WMT",
         "marker": {
          "color": "#FECB52",
          "pattern": {
           "shape": ""
          }
         },
         "name": "WMT",
         "offsetgroup": "WMT",
         "orientation": "v",
         "showlegend": true,
         "textposition": "auto",
         "type": "bar",
         "x": [
          1,
          2
         ],
         "xaxis": "x",
         "y": [
          62596862.666666664,
          49374883.76923077
         ],
         "yaxis": "y"
        },
        {
         "alignmentgroup": "True",
         "hovertemplate": "stock=BA<br>quarter=%{x}<br>volume=%{y}<extra></extra>",
         "legendgroup": "BA",
         "marker": {
          "color": "#636efa",
          "pattern": {
           "shape": ""
          }
         },
         "name": "BA",
         "offsetgroup": "BA",
         "orientation": "v",
         "showlegend": true,
         "textposition": "auto",
         "type": "bar",
         "x": [
          1,
          2
         ],
         "xaxis": "x",
         "y": [
          26141443.333333332,
          21602937.923076924
         ],
         "yaxis": "y"
        },
        {
         "alignmentgroup": "True",
         "hovertemplate": "stock=BAC<br>quarter=%{x}<br>volume=%{y}<extra></extra>",
         "legendgroup": "BAC",
         "marker": {
          "color": "#EF553B",
          "pattern": {
           "shape": ""
          }
         },
         "name": "BAC",
         "offsetgroup": "BAC",
         "orientation": "v",
         "showlegend": true,
         "textposition": "auto",
         "type": "bar",
         "x": [
          1,
          2
         ],
         "xaxis": "x",
         "y": [
          828392983.4166666,
          625712506.7692307
         ],
         "yaxis": "y"
        },
        {
         "alignmentgroup": "True",
         "hovertemplate": "stock=VZ<br>quarter=%{x}<br>volume=%{y}<extra></extra>",
         "legendgroup": "VZ",
         "marker": {
          "color": "#00cc96",
          "pattern": {
           "shape": ""
          }
         },
         "name": "VZ",
         "offsetgroup": "VZ",
         "orientation": "v",
         "showlegend": true,
         "textposition": "auto",
         "type": "bar",
         "x": [
          1,
          2
         ],
         "xaxis": "x",
         "y": [
          94409382.83333333,
          63593617.15384615
         ],
         "yaxis": "y"
        },
        {
         "alignmentgroup": "True",
         "hovertemplate": "stock=DIS<br>quarter=%{x}<br>volume=%{y}<extra></extra>",
         "legendgroup": "DIS",
         "marker": {
          "color": "#ab63fa",
          "pattern": {
           "shape": ""
          }
         },
         "name": "DIS",
         "offsetgroup": "DIS",
         "orientation": "v",
         "showlegend": true,
         "textposition": "auto",
         "type": "bar",
         "x": [
          1,
          2
         ],
         "xaxis": "x",
         "y": [
          50966177.166666664,
          44192131.538461536
         ],
         "yaxis": "y"
        },
        {
         "alignmentgroup": "True",
         "hovertemplate": "stock=MMM<br>quarter=%{x}<br>volume=%{y}<extra></extra>",
         "legendgroup": "MMM",
         "marker": {
          "color": "#FFA15A",
          "pattern": {
           "shape": ""
          }
         },
         "name": "MMM",
         "offsetgroup": "MMM",
         "orientation": "v",
         "showlegend": true,
         "textposition": "auto",
         "type": "bar",
         "x": [
          1,
          2
         ],
         "xaxis": "x",
         "y": [
          16727280.166666666,
          14789536.76923077
         ],
         "yaxis": "y"
        },
        {
         "alignmentgroup": "True",
         "hovertemplate": "stock=UTX<br>quarter=%{x}<br>volume=%{y}<extra></extra>",
         "legendgroup": "UTX",
         "marker": {
          "color": "#19d3f3",
          "pattern": {
           "shape": ""
          }
         },
         "name": "UTX",
         "offsetgroup": "UTX",
         "orientation": "v",
         "showlegend": true,
         "textposition": "auto",
         "type": "bar",
         "x": [
          1,
          2
         ],
         "xaxis": "x",
         "y": [
          17899332.666666668,
          18704594.846153848
         ],
         "yaxis": "y"
        },
        {
         "alignmentgroup": "True",
         "hovertemplate": "stock=CVX<br>quarter=%{x}<br>volume=%{y}<extra></extra>",
         "legendgroup": "CVX",
         "marker": {
          "color": "#FF6692",
          "pattern": {
           "shape": ""
          }
         },
         "name": "CVX",
         "offsetgroup": "CVX",
         "orientation": "v",
         "showlegend": true,
         "textposition": "auto",
         "type": "bar",
         "x": [
          1,
          2
         ],
         "xaxis": "x",
         "y": [
          41257885.75,
          36107778.07692308
         ],
         "yaxis": "y"
        },
        {
         "alignmentgroup": "True",
         "hovertemplate": "stock=DD<br>quarter=%{x}<br>volume=%{y}<extra></extra>",
         "legendgroup": "DD",
         "marker": {
          "color": "#B6E880",
          "pattern": {
           "shape": ""
          }
         },
         "name": "DD",
         "offsetgroup": "DD",
         "orientation": "v",
         "showlegend": true,
         "textposition": "auto",
         "type": "bar",
         "x": [
          1,
          2
         ],
         "xaxis": "x",
         "y": [
          32221933.166666668,
          26250251.53846154
         ],
         "yaxis": "y"
        },
        {
         "alignmentgroup": "True",
         "hovertemplate": "stock=TRV<br>quarter=%{x}<br>volume=%{y}<extra></extra>",
         "legendgroup": "TRV",
         "marker": {
          "color": "#FF97FF",
          "pattern": {
           "shape": ""
          }
         },
         "name": "TRV",
         "offsetgroup": "TRV",
         "orientation": "v",
         "showlegend": true,
         "textposition": "auto",
         "type": "bar",
         "x": [
          1,
          2
         ],
         "xaxis": "x",
         "y": [
          19356036.916666668,
          15127473
         ],
         "yaxis": "y"
        },
        {
         "alignmentgroup": "True",
         "hovertemplate": "stock=CSCO<br>quarter=%{x}<br>volume=%{y}<extra></extra>",
         "legendgroup": "CSCO",
         "marker": {
          "color": "#FECB52",
          "pattern": {
           "shape": ""
          }
         },
         "name": "CSCO",
         "offsetgroup": "CSCO",
         "orientation": "v",
         "showlegend": true,
         "textposition": "auto",
         "type": "bar",
         "x": [
          1,
          2
         ],
         "xaxis": "x",
         "y": [
          347651700,
          368824561
         ],
         "yaxis": "y"
        }
       ],
       "layout": {
        "barmode": "relative",
        "legend": {
         "title": {
          "text": "stock"
         },
         "tracegroupgap": 0
        },
        "margin": {
         "t": 60
        },
        "template": {
         "data": {
          "bar": [
           {
            "error_x": {
             "color": "#2a3f5f"
            },
            "error_y": {
             "color": "#2a3f5f"
            },
            "marker": {
             "line": {
              "color": "#E5ECF6",
              "width": 0.5
             },
             "pattern": {
              "fillmode": "overlay",
              "size": 10,
              "solidity": 0.2
             }
            },
            "type": "bar"
           }
          ],
          "barpolar": [
           {
            "marker": {
             "line": {
              "color": "#E5ECF6",
              "width": 0.5
             },
             "pattern": {
              "fillmode": "overlay",
              "size": 10,
              "solidity": 0.2
             }
            },
            "type": "barpolar"
           }
          ],
          "carpet": [
           {
            "aaxis": {
             "endlinecolor": "#2a3f5f",
             "gridcolor": "white",
             "linecolor": "white",
             "minorgridcolor": "white",
             "startlinecolor": "#2a3f5f"
            },
            "baxis": {
             "endlinecolor": "#2a3f5f",
             "gridcolor": "white",
             "linecolor": "white",
             "minorgridcolor": "white",
             "startlinecolor": "#2a3f5f"
            },
            "type": "carpet"
           }
          ],
          "choropleth": [
           {
            "colorbar": {
             "outlinewidth": 0,
             "ticks": ""
            },
            "type": "choropleth"
           }
          ],
          "contour": [
           {
            "colorbar": {
             "outlinewidth": 0,
             "ticks": ""
            },
            "colorscale": [
             [
              0,
              "#0d0887"
             ],
             [
              0.1111111111111111,
              "#46039f"
             ],
             [
              0.2222222222222222,
              "#7201a8"
             ],
             [
              0.3333333333333333,
              "#9c179e"
             ],
             [
              0.4444444444444444,
              "#bd3786"
             ],
             [
              0.5555555555555556,
              "#d8576b"
             ],
             [
              0.6666666666666666,
              "#ed7953"
             ],
             [
              0.7777777777777778,
              "#fb9f3a"
             ],
             [
              0.8888888888888888,
              "#fdca26"
             ],
             [
              1,
              "#f0f921"
             ]
            ],
            "type": "contour"
           }
          ],
          "contourcarpet": [
           {
            "colorbar": {
             "outlinewidth": 0,
             "ticks": ""
            },
            "type": "contourcarpet"
           }
          ],
          "heatmap": [
           {
            "colorbar": {
             "outlinewidth": 0,
             "ticks": ""
            },
            "colorscale": [
             [
              0,
              "#0d0887"
             ],
             [
              0.1111111111111111,
              "#46039f"
             ],
             [
              0.2222222222222222,
              "#7201a8"
             ],
             [
              0.3333333333333333,
              "#9c179e"
             ],
             [
              0.4444444444444444,
              "#bd3786"
             ],
             [
              0.5555555555555556,
              "#d8576b"
             ],
             [
              0.6666666666666666,
              "#ed7953"
             ],
             [
              0.7777777777777778,
              "#fb9f3a"
             ],
             [
              0.8888888888888888,
              "#fdca26"
             ],
             [
              1,
              "#f0f921"
             ]
            ],
            "type": "heatmap"
           }
          ],
          "heatmapgl": [
           {
            "colorbar": {
             "outlinewidth": 0,
             "ticks": ""
            },
            "colorscale": [
             [
              0,
              "#0d0887"
             ],
             [
              0.1111111111111111,
              "#46039f"
             ],
             [
              0.2222222222222222,
              "#7201a8"
             ],
             [
              0.3333333333333333,
              "#9c179e"
             ],
             [
              0.4444444444444444,
              "#bd3786"
             ],
             [
              0.5555555555555556,
              "#d8576b"
             ],
             [
              0.6666666666666666,
              "#ed7953"
             ],
             [
              0.7777777777777778,
              "#fb9f3a"
             ],
             [
              0.8888888888888888,
              "#fdca26"
             ],
             [
              1,
              "#f0f921"
             ]
            ],
            "type": "heatmapgl"
           }
          ],
          "histogram": [
           {
            "marker": {
             "pattern": {
              "fillmode": "overlay",
              "size": 10,
              "solidity": 0.2
             }
            },
            "type": "histogram"
           }
          ],
          "histogram2d": [
           {
            "colorbar": {
             "outlinewidth": 0,
             "ticks": ""
            },
            "colorscale": [
             [
              0,
              "#0d0887"
             ],
             [
              0.1111111111111111,
              "#46039f"
             ],
             [
              0.2222222222222222,
              "#7201a8"
             ],
             [
              0.3333333333333333,
              "#9c179e"
             ],
             [
              0.4444444444444444,
              "#bd3786"
             ],
             [
              0.5555555555555556,
              "#d8576b"
             ],
             [
              0.6666666666666666,
              "#ed7953"
             ],
             [
              0.7777777777777778,
              "#fb9f3a"
             ],
             [
              0.8888888888888888,
              "#fdca26"
             ],
             [
              1,
              "#f0f921"
             ]
            ],
            "type": "histogram2d"
           }
          ],
          "histogram2dcontour": [
           {
            "colorbar": {
             "outlinewidth": 0,
             "ticks": ""
            },
            "colorscale": [
             [
              0,
              "#0d0887"
             ],
             [
              0.1111111111111111,
              "#46039f"
             ],
             [
              0.2222222222222222,
              "#7201a8"
             ],
             [
              0.3333333333333333,
              "#9c179e"
             ],
             [
              0.4444444444444444,
              "#bd3786"
             ],
             [
              0.5555555555555556,
              "#d8576b"
             ],
             [
              0.6666666666666666,
              "#ed7953"
             ],
             [
              0.7777777777777778,
              "#fb9f3a"
             ],
             [
              0.8888888888888888,
              "#fdca26"
             ],
             [
              1,
              "#f0f921"
             ]
            ],
            "type": "histogram2dcontour"
           }
          ],
          "mesh3d": [
           {
            "colorbar": {
             "outlinewidth": 0,
             "ticks": ""
            },
            "type": "mesh3d"
           }
          ],
          "parcoords": [
           {
            "line": {
             "colorbar": {
              "outlinewidth": 0,
              "ticks": ""
             }
            },
            "type": "parcoords"
           }
          ],
          "pie": [
           {
            "automargin": true,
            "type": "pie"
           }
          ],
          "scatter": [
           {
            "fillpattern": {
             "fillmode": "overlay",
             "size": 10,
             "solidity": 0.2
            },
            "type": "scatter"
           }
          ],
          "scatter3d": [
           {
            "line": {
             "colorbar": {
              "outlinewidth": 0,
              "ticks": ""
             }
            },
            "marker": {
             "colorbar": {
              "outlinewidth": 0,
              "ticks": ""
             }
            },
            "type": "scatter3d"
           }
          ],
          "scattercarpet": [
           {
            "marker": {
             "colorbar": {
              "outlinewidth": 0,
              "ticks": ""
             }
            },
            "type": "scattercarpet"
           }
          ],
          "scattergeo": [
           {
            "marker": {
             "colorbar": {
              "outlinewidth": 0,
              "ticks": ""
             }
            },
            "type": "scattergeo"
           }
          ],
          "scattergl": [
           {
            "marker": {
             "colorbar": {
              "outlinewidth": 0,
              "ticks": ""
             }
            },
            "type": "scattergl"
           }
          ],
          "scattermapbox": [
           {
            "marker": {
             "colorbar": {
              "outlinewidth": 0,
              "ticks": ""
             }
            },
            "type": "scattermapbox"
           }
          ],
          "scatterpolar": [
           {
            "marker": {
             "colorbar": {
              "outlinewidth": 0,
              "ticks": ""
             }
            },
            "type": "scatterpolar"
           }
          ],
          "scatterpolargl": [
           {
            "marker": {
             "colorbar": {
              "outlinewidth": 0,
              "ticks": ""
             }
            },
            "type": "scatterpolargl"
           }
          ],
          "scatterternary": [
           {
            "marker": {
             "colorbar": {
              "outlinewidth": 0,
              "ticks": ""
             }
            },
            "type": "scatterternary"
           }
          ],
          "surface": [
           {
            "colorbar": {
             "outlinewidth": 0,
             "ticks": ""
            },
            "colorscale": [
             [
              0,
              "#0d0887"
             ],
             [
              0.1111111111111111,
              "#46039f"
             ],
             [
              0.2222222222222222,
              "#7201a8"
             ],
             [
              0.3333333333333333,
              "#9c179e"
             ],
             [
              0.4444444444444444,
              "#bd3786"
             ],
             [
              0.5555555555555556,
              "#d8576b"
             ],
             [
              0.6666666666666666,
              "#ed7953"
             ],
             [
              0.7777777777777778,
              "#fb9f3a"
             ],
             [
              0.8888888888888888,
              "#fdca26"
             ],
             [
              1,
              "#f0f921"
             ]
            ],
            "type": "surface"
           }
          ],
          "table": [
           {
            "cells": {
             "fill": {
              "color": "#EBF0F8"
             },
             "line": {
              "color": "white"
             }
            },
            "header": {
             "fill": {
              "color": "#C8D4E3"
             },
             "line": {
              "color": "white"
             }
            },
            "type": "table"
           }
          ]
         },
         "layout": {
          "annotationdefaults": {
           "arrowcolor": "#2a3f5f",
           "arrowhead": 0,
           "arrowwidth": 1
          },
          "autotypenumbers": "strict",
          "coloraxis": {
           "colorbar": {
            "outlinewidth": 0,
            "ticks": ""
           }
          },
          "colorscale": {
           "diverging": [
            [
             0,
             "#8e0152"
            ],
            [
             0.1,
             "#c51b7d"
            ],
            [
             0.2,
             "#de77ae"
            ],
            [
             0.3,
             "#f1b6da"
            ],
            [
             0.4,
             "#fde0ef"
            ],
            [
             0.5,
             "#f7f7f7"
            ],
            [
             0.6,
             "#e6f5d0"
            ],
            [
             0.7,
             "#b8e186"
            ],
            [
             0.8,
             "#7fbc41"
            ],
            [
             0.9,
             "#4d9221"
            ],
            [
             1,
             "#276419"
            ]
           ],
           "sequential": [
            [
             0,
             "#0d0887"
            ],
            [
             0.1111111111111111,
             "#46039f"
            ],
            [
             0.2222222222222222,
             "#7201a8"
            ],
            [
             0.3333333333333333,
             "#9c179e"
            ],
            [
             0.4444444444444444,
             "#bd3786"
            ],
            [
             0.5555555555555556,
             "#d8576b"
            ],
            [
             0.6666666666666666,
             "#ed7953"
            ],
            [
             0.7777777777777778,
             "#fb9f3a"
            ],
            [
             0.8888888888888888,
             "#fdca26"
            ],
            [
             1,
             "#f0f921"
            ]
           ],
           "sequentialminus": [
            [
             0,
             "#0d0887"
            ],
            [
             0.1111111111111111,
             "#46039f"
            ],
            [
             0.2222222222222222,
             "#7201a8"
            ],
            [
             0.3333333333333333,
             "#9c179e"
            ],
            [
             0.4444444444444444,
             "#bd3786"
            ],
            [
             0.5555555555555556,
             "#d8576b"
            ],
            [
             0.6666666666666666,
             "#ed7953"
            ],
            [
             0.7777777777777778,
             "#fb9f3a"
            ],
            [
             0.8888888888888888,
             "#fdca26"
            ],
            [
             1,
             "#f0f921"
            ]
           ]
          },
          "colorway": [
           "#636efa",
           "#EF553B",
           "#00cc96",
           "#ab63fa",
           "#FFA15A",
           "#19d3f3",
           "#FF6692",
           "#B6E880",
           "#FF97FF",
           "#FECB52"
          ],
          "font": {
           "color": "#2a3f5f"
          },
          "geo": {
           "bgcolor": "white",
           "lakecolor": "white",
           "landcolor": "#E5ECF6",
           "showlakes": true,
           "showland": true,
           "subunitcolor": "white"
          },
          "hoverlabel": {
           "align": "left"
          },
          "hovermode": "closest",
          "mapbox": {
           "style": "light"
          },
          "paper_bgcolor": "white",
          "plot_bgcolor": "#E5ECF6",
          "polar": {
           "angularaxis": {
            "gridcolor": "white",
            "linecolor": "white",
            "ticks": ""
           },
           "bgcolor": "#E5ECF6",
           "radialaxis": {
            "gridcolor": "white",
            "linecolor": "white",
            "ticks": ""
           }
          },
          "scene": {
           "xaxis": {
            "backgroundcolor": "#E5ECF6",
            "gridcolor": "white",
            "gridwidth": 2,
            "linecolor": "white",
            "showbackground": true,
            "ticks": "",
            "zerolinecolor": "white"
           },
           "yaxis": {
            "backgroundcolor": "#E5ECF6",
            "gridcolor": "white",
            "gridwidth": 2,
            "linecolor": "white",
            "showbackground": true,
            "ticks": "",
            "zerolinecolor": "white"
           },
           "zaxis": {
            "backgroundcolor": "#E5ECF6",
            "gridcolor": "white",
            "gridwidth": 2,
            "linecolor": "white",
            "showbackground": true,
            "ticks": "",
            "zerolinecolor": "white"
           }
          },
          "shapedefaults": {
           "line": {
            "color": "#2a3f5f"
           }
          },
          "ternary": {
           "aaxis": {
            "gridcolor": "white",
            "linecolor": "white",
            "ticks": ""
           },
           "baxis": {
            "gridcolor": "white",
            "linecolor": "white",
            "ticks": ""
           },
           "bgcolor": "#E5ECF6",
           "caxis": {
            "gridcolor": "white",
            "linecolor": "white",
            "ticks": ""
           }
          },
          "title": {
           "x": 0.05
          },
          "xaxis": {
           "automargin": true,
           "gridcolor": "white",
           "linecolor": "white",
           "ticks": "",
           "title": {
            "standoff": 15
           },
           "zerolinecolor": "white",
           "zerolinewidth": 2
          },
          "yaxis": {
           "automargin": true,
           "gridcolor": "white",
           "linecolor": "white",
           "ticks": "",
           "title": {
            "standoff": 15
           },
           "zerolinecolor": "white",
           "zerolinewidth": 2
          }
         }
        },
        "xaxis": {
         "anchor": "y",
         "domain": [
          0,
          1
         ],
         "title": {
          "text": "quarter"
         }
        },
        "yaxis": {
         "anchor": "x",
         "domain": [
          0,
          1
         ],
         "title": {
          "text": "volume"
         }
        }
       }
      },
      "text/html": [
       "<div>                            <div id=\"26f76387-89c9-403f-bd2f-77d16d964782\" class=\"plotly-graph-div\" style=\"height:525px; width:100%;\"></div>            <script type=\"text/javascript\">                require([\"plotly\"], function(Plotly) {                    window.PLOTLYENV=window.PLOTLYENV || {};                                    if (document.getElementById(\"26f76387-89c9-403f-bd2f-77d16d964782\")) {                    Plotly.newPlot(                        \"26f76387-89c9-403f-bd2f-77d16d964782\",                        [{\"alignmentgroup\":\"True\",\"hovertemplate\":\"stock=AA<br>quarter=%{x}<br>volume=%{y}<extra></extra>\",\"legendgroup\":\"AA\",\"marker\":{\"color\":\"#636efa\",\"pattern\":{\"shape\":\"\"}},\"name\":\"AA\",\"offsetgroup\":\"AA\",\"orientation\":\"v\",\"showlegend\":true,\"textposition\":\"auto\",\"x\":[1,2],\"xaxis\":\"x\",\"y\":[142021801.58333334,118208356.61538461],\"yaxis\":\"y\",\"type\":\"bar\"},{\"alignmentgroup\":\"True\",\"hovertemplate\":\"stock=MCD<br>quarter=%{x}<br>volume=%{y}<extra></extra>\",\"legendgroup\":\"MCD\",\"marker\":{\"color\":\"#EF553B\",\"pattern\":{\"shape\":\"\"}},\"name\":\"MCD\",\"offsetgroup\":\"MCD\",\"orientation\":\"v\",\"showlegend\":true,\"textposition\":\"auto\",\"x\":[1,2],\"xaxis\":\"x\",\"y\":[40268351.75,24659406.615384616],\"yaxis\":\"y\",\"type\":\"bar\"},{\"alignmentgroup\":\"True\",\"hovertemplate\":\"stock=KRFT<br>quarter=%{x}<br>volume=%{y}<extra></extra>\",\"legendgroup\":\"KRFT\",\"marker\":{\"color\":\"#00cc96\",\"pattern\":{\"shape\":\"\"}},\"name\":\"KRFT\",\"offsetgroup\":\"KRFT\",\"orientation\":\"v\",\"showlegend\":true,\"textposition\":\"auto\",\"x\":[1,2],\"xaxis\":\"x\",\"y\":[45564120.5,44125756.538461536],\"yaxis\":\"y\",\"type\":\"bar\"},{\"alignmentgroup\":\"True\",\"hovertemplate\":\"stock=MSFT<br>quarter=%{x}<br>volume=%{y}<extra></extra>\",\"legendgroup\":\"MSFT\",\"marker\":{\"color\":\"#ab63fa\",\"pattern\":{\"shape\":\"\"}},\"name\":\"MSFT\",\"offsetgroup\":\"MSFT\",\"orientation\":\"v\",\"showlegend\":true,\"textposition\":\"auto\",\"x\":[1,2],\"xaxis\":\"x\",\"y\":[288362899.25,290931924.2307692],\"yaxis\":\"y\",\"type\":\"bar\"},{\"alignmentgroup\":\"True\",\"hovertemplate\":\"stock=KO<br>quarter=%{x}<br>volume=%{y}<extra></extra>\",\"legendgroup\":\"KO\",\"marker\":{\"color\":\"#FFA15A\",\"pattern\":{\"shape\":\"\"}},\"name\":\"KO\",\"offsetgroup\":\"KO\",\"orientation\":\"v\",\"showlegend\":true,\"textposition\":\"auto\",\"x\":[1,2],\"xaxis\":\"x\",\"y\":[42355548.666666664,35049049.384615384],\"yaxis\":\"y\",\"type\":\"bar\"},{\"alignmentgroup\":\"True\",\"hovertemplate\":\"stock=JPM<br>quarter=%{x}<br>volume=%{y}<extra></extra>\",\"legendgroup\":\"JPM\",\"marker\":{\"color\":\"#19d3f3\",\"pattern\":{\"shape\":\"\"}},\"name\":\"JPM\",\"offsetgroup\":\"JPM\",\"orientation\":\"v\",\"showlegend\":true,\"textposition\":\"auto\",\"x\":[1,2],\"xaxis\":\"x\",\"y\":[159350011.91666666,143501943.84615386],\"yaxis\":\"y\",\"type\":\"bar\"},{\"alignmentgroup\":\"True\",\"hovertemplate\":\"stock=XOM<br>quarter=%{x}<br>volume=%{y}<extra></extra>\",\"legendgroup\":\"XOM\",\"marker\":{\"color\":\"#FF6692\",\"pattern\":{\"shape\":\"\"}},\"name\":\"XOM\",\"offsetgroup\":\"XOM\",\"orientation\":\"v\",\"showlegend\":true,\"textposition\":\"auto\",\"x\":[1,2],\"xaxis\":\"x\",\"y\":[102033144.33333333,85987660.15384616],\"yaxis\":\"y\",\"type\":\"bar\"},{\"alignmentgroup\":\"True\",\"hovertemplate\":\"stock=JNJ<br>quarter=%{x}<br>volume=%{y}<extra></extra>\",\"legendgroup\":\"JNJ\",\"marker\":{\"color\":\"#B6E880\",\"pattern\":{\"shape\":\"\"}},\"name\":\"JNJ\",\"offsetgroup\":\"JNJ\",\"orientation\":\"v\",\"showlegend\":true,\"textposition\":\"auto\",\"x\":[1,2],\"xaxis\":\"x\",\"y\":[54182410.25,57689515.76923077],\"yaxis\":\"y\",\"type\":\"bar\"},{\"alignmentgroup\":\"True\",\"hovertemplate\":\"stock=PFE<br>quarter=%{x}<br>volume=%{y}<extra></extra>\",\"legendgroup\":\"PFE\",\"marker\":{\"color\":\"#FF97FF\",\"pattern\":{\"shape\":\"\"}},\"name\":\"PFE\",\"offsetgroup\":\"PFE\",\"orientation\":\"v\",\"showlegend\":true,\"textposition\":\"auto\",\"x\":[1,2],\"xaxis\":\"x\",\"y\":[253239530.5,203676896.07692307],\"yaxis\":\"y\",\"type\":\"bar\"},{\"alignmentgroup\":\"True\",\"hovertemplate\":\"stock=INTC<br>quarter=%{x}<br>volume=%{y}<extra></extra>\",\"legendgroup\":\"INTC\",\"marker\":{\"color\":\"#FECB52\",\"pattern\":{\"shape\":\"\"}},\"name\":\"INTC\",\"offsetgroup\":\"INTC\",\"orientation\":\"v\",\"showlegend\":true,\"textposition\":\"auto\",\"x\":[1,2],\"xaxis\":\"x\",\"y\":[277900865.1666667,318519233.3076923],\"yaxis\":\"y\",\"type\":\"bar\"},{\"alignmentgroup\":\"True\",\"hovertemplate\":\"stock=IBM<br>quarter=%{x}<br>volume=%{y}<extra></extra>\",\"legendgroup\":\"IBM\",\"marker\":{\"color\":\"#636efa\",\"pattern\":{\"shape\":\"\"}},\"name\":\"IBM\",\"offsetgroup\":\"IBM\",\"orientation\":\"v\",\"showlegend\":true,\"textposition\":\"auto\",\"x\":[1,2],\"xaxis\":\"x\",\"y\":[26189041.083333332,23400855.230769232],\"yaxis\":\"y\",\"type\":\"bar\"},{\"alignmentgroup\":\"True\",\"hovertemplate\":\"stock=PG<br>quarter=%{x}<br>volume=%{y}<extra></extra>\",\"legendgroup\":\"PG\",\"marker\":{\"color\":\"#EF553B\",\"pattern\":{\"shape\":\"\"}},\"name\":\"PG\",\"offsetgroup\":\"PG\",\"orientation\":\"v\",\"showlegend\":true,\"textposition\":\"auto\",\"x\":[1,2],\"xaxis\":\"x\",\"y\":[51979729.833333336,45582346.384615384],\"yaxis\":\"y\",\"type\":\"bar\"},{\"alignmentgroup\":\"True\",\"hovertemplate\":\"stock=HPQ<br>quarter=%{x}<br>volume=%{y}<extra></extra>\",\"legendgroup\":\"HPQ\",\"marker\":{\"color\":\"#00cc96\",\"pattern\":{\"shape\":\"\"}},\"name\":\"HPQ\",\"offsetgroup\":\"HPQ\",\"orientation\":\"v\",\"showlegend\":true,\"textposition\":\"auto\",\"x\":[1,2],\"xaxis\":\"x\",\"y\":[95522815.91666667,94245151.07692307],\"yaxis\":\"y\",\"type\":\"bar\"},{\"alignmentgroup\":\"True\",\"hovertemplate\":\"stock=HD<br>quarter=%{x}<br>volume=%{y}<extra></extra>\",\"legendgroup\":\"HD\",\"marker\":{\"color\":\"#ab63fa\",\"pattern\":{\"shape\":\"\"}},\"name\":\"HD\",\"offsetgroup\":\"HD\",\"orientation\":\"v\",\"showlegend\":true,\"textposition\":\"auto\",\"x\":[1,2],\"xaxis\":\"x\",\"y\":[46876557.0,49431347.461538464],\"yaxis\":\"y\",\"type\":\"bar\"},{\"alignmentgroup\":\"True\",\"hovertemplate\":\"stock=MRK<br>quarter=%{x}<br>volume=%{y}<extra></extra>\",\"legendgroup\":\"MRK\",\"marker\":{\"color\":\"#FFA15A\",\"pattern\":{\"shape\":\"\"}},\"name\":\"MRK\",\"offsetgroup\":\"MRK\",\"orientation\":\"v\",\"showlegend\":true,\"textposition\":\"auto\",\"x\":[1,2],\"xaxis\":\"x\",\"y\":[90233551.0,64349482.23076923],\"yaxis\":\"y\",\"type\":\"bar\"},{\"alignmentgroup\":\"True\",\"hovertemplate\":\"stock=GE<br>quarter=%{x}<br>volume=%{y}<extra></extra>\",\"legendgroup\":\"GE\",\"marker\":{\"color\":\"#19d3f3\",\"pattern\":{\"shape\":\"\"}},\"name\":\"GE\",\"offsetgroup\":\"GE\",\"orientation\":\"v\",\"showlegend\":true,\"textposition\":\"auto\",\"x\":[1,2],\"xaxis\":\"x\",\"y\":[301809476.5,228979864.69230768],\"yaxis\":\"y\",\"type\":\"bar\"},{\"alignmentgroup\":\"True\",\"hovertemplate\":\"stock=T<br>quarter=%{x}<br>volume=%{y}<extra></extra>\",\"legendgroup\":\"T\",\"marker\":{\"color\":\"#FF6692\",\"pattern\":{\"shape\":\"\"}},\"name\":\"T\",\"offsetgroup\":\"T\",\"orientation\":\"v\",\"showlegend\":true,\"textposition\":\"auto\",\"x\":[1,2],\"xaxis\":\"x\",\"y\":[136822432.91666666,128101049.0],\"yaxis\":\"y\",\"type\":\"bar\"},{\"alignmentgroup\":\"True\",\"hovertemplate\":\"stock=CAT<br>quarter=%{x}<br>volume=%{y}<extra></extra>\",\"legendgroup\":\"CAT\",\"marker\":{\"color\":\"#B6E880\",\"pattern\":{\"shape\":\"\"}},\"name\":\"CAT\",\"offsetgroup\":\"CAT\",\"orientation\":\"v\",\"showlegend\":true,\"textposition\":\"auto\",\"x\":[1,2],\"xaxis\":\"x\",\"y\":[30933516.166666668,36313515.615384616],\"yaxis\":\"y\",\"type\":\"bar\"},{\"alignmentgroup\":\"True\",\"hovertemplate\":\"stock=AXP<br>quarter=%{x}<br>volume=%{y}<extra></extra>\",\"legendgroup\":\"AXP\",\"marker\":{\"color\":\"#FF97FF\",\"pattern\":{\"shape\":\"\"}},\"name\":\"AXP\",\"offsetgroup\":\"AXP\",\"orientation\":\"v\",\"showlegend\":true,\"textposition\":\"auto\",\"x\":[1,2],\"xaxis\":\"x\",\"y\":[38490817.916666664,32178632.692307692],\"yaxis\":\"y\",\"type\":\"bar\"},{\"alignmentgroup\":\"True\",\"hovertemplate\":\"stock=WMT<br>quarter=%{x}<br>volume=%{y}<extra></extra>\",\"legendgroup\":\"WMT\",\"marker\":{\"color\":\"#FECB52\",\"pattern\":{\"shape\":\"\"}},\"name\":\"WMT\",\"offsetgroup\":\"WMT\",\"orientation\":\"v\",\"showlegend\":true,\"textposition\":\"auto\",\"x\":[1,2],\"xaxis\":\"x\",\"y\":[62596862.666666664,49374883.76923077],\"yaxis\":\"y\",\"type\":\"bar\"},{\"alignmentgroup\":\"True\",\"hovertemplate\":\"stock=BA<br>quarter=%{x}<br>volume=%{y}<extra></extra>\",\"legendgroup\":\"BA\",\"marker\":{\"color\":\"#636efa\",\"pattern\":{\"shape\":\"\"}},\"name\":\"BA\",\"offsetgroup\":\"BA\",\"orientation\":\"v\",\"showlegend\":true,\"textposition\":\"auto\",\"x\":[1,2],\"xaxis\":\"x\",\"y\":[26141443.333333332,21602937.923076924],\"yaxis\":\"y\",\"type\":\"bar\"},{\"alignmentgroup\":\"True\",\"hovertemplate\":\"stock=BAC<br>quarter=%{x}<br>volume=%{y}<extra></extra>\",\"legendgroup\":\"BAC\",\"marker\":{\"color\":\"#EF553B\",\"pattern\":{\"shape\":\"\"}},\"name\":\"BAC\",\"offsetgroup\":\"BAC\",\"orientation\":\"v\",\"showlegend\":true,\"textposition\":\"auto\",\"x\":[1,2],\"xaxis\":\"x\",\"y\":[828392983.4166666,625712506.7692307],\"yaxis\":\"y\",\"type\":\"bar\"},{\"alignmentgroup\":\"True\",\"hovertemplate\":\"stock=VZ<br>quarter=%{x}<br>volume=%{y}<extra></extra>\",\"legendgroup\":\"VZ\",\"marker\":{\"color\":\"#00cc96\",\"pattern\":{\"shape\":\"\"}},\"name\":\"VZ\",\"offsetgroup\":\"VZ\",\"orientation\":\"v\",\"showlegend\":true,\"textposition\":\"auto\",\"x\":[1,2],\"xaxis\":\"x\",\"y\":[94409382.83333333,63593617.15384615],\"yaxis\":\"y\",\"type\":\"bar\"},{\"alignmentgroup\":\"True\",\"hovertemplate\":\"stock=DIS<br>quarter=%{x}<br>volume=%{y}<extra></extra>\",\"legendgroup\":\"DIS\",\"marker\":{\"color\":\"#ab63fa\",\"pattern\":{\"shape\":\"\"}},\"name\":\"DIS\",\"offsetgroup\":\"DIS\",\"orientation\":\"v\",\"showlegend\":true,\"textposition\":\"auto\",\"x\":[1,2],\"xaxis\":\"x\",\"y\":[50966177.166666664,44192131.538461536],\"yaxis\":\"y\",\"type\":\"bar\"},{\"alignmentgroup\":\"True\",\"hovertemplate\":\"stock=MMM<br>quarter=%{x}<br>volume=%{y}<extra></extra>\",\"legendgroup\":\"MMM\",\"marker\":{\"color\":\"#FFA15A\",\"pattern\":{\"shape\":\"\"}},\"name\":\"MMM\",\"offsetgroup\":\"MMM\",\"orientation\":\"v\",\"showlegend\":true,\"textposition\":\"auto\",\"x\":[1,2],\"xaxis\":\"x\",\"y\":[16727280.166666666,14789536.76923077],\"yaxis\":\"y\",\"type\":\"bar\"},{\"alignmentgroup\":\"True\",\"hovertemplate\":\"stock=UTX<br>quarter=%{x}<br>volume=%{y}<extra></extra>\",\"legendgroup\":\"UTX\",\"marker\":{\"color\":\"#19d3f3\",\"pattern\":{\"shape\":\"\"}},\"name\":\"UTX\",\"offsetgroup\":\"UTX\",\"orientation\":\"v\",\"showlegend\":true,\"textposition\":\"auto\",\"x\":[1,2],\"xaxis\":\"x\",\"y\":[17899332.666666668,18704594.846153848],\"yaxis\":\"y\",\"type\":\"bar\"},{\"alignmentgroup\":\"True\",\"hovertemplate\":\"stock=CVX<br>quarter=%{x}<br>volume=%{y}<extra></extra>\",\"legendgroup\":\"CVX\",\"marker\":{\"color\":\"#FF6692\",\"pattern\":{\"shape\":\"\"}},\"name\":\"CVX\",\"offsetgroup\":\"CVX\",\"orientation\":\"v\",\"showlegend\":true,\"textposition\":\"auto\",\"x\":[1,2],\"xaxis\":\"x\",\"y\":[41257885.75,36107778.07692308],\"yaxis\":\"y\",\"type\":\"bar\"},{\"alignmentgroup\":\"True\",\"hovertemplate\":\"stock=DD<br>quarter=%{x}<br>volume=%{y}<extra></extra>\",\"legendgroup\":\"DD\",\"marker\":{\"color\":\"#B6E880\",\"pattern\":{\"shape\":\"\"}},\"name\":\"DD\",\"offsetgroup\":\"DD\",\"orientation\":\"v\",\"showlegend\":true,\"textposition\":\"auto\",\"x\":[1,2],\"xaxis\":\"x\",\"y\":[32221933.166666668,26250251.53846154],\"yaxis\":\"y\",\"type\":\"bar\"},{\"alignmentgroup\":\"True\",\"hovertemplate\":\"stock=TRV<br>quarter=%{x}<br>volume=%{y}<extra></extra>\",\"legendgroup\":\"TRV\",\"marker\":{\"color\":\"#FF97FF\",\"pattern\":{\"shape\":\"\"}},\"name\":\"TRV\",\"offsetgroup\":\"TRV\",\"orientation\":\"v\",\"showlegend\":true,\"textposition\":\"auto\",\"x\":[1,2],\"xaxis\":\"x\",\"y\":[19356036.916666668,15127473.0],\"yaxis\":\"y\",\"type\":\"bar\"},{\"alignmentgroup\":\"True\",\"hovertemplate\":\"stock=CSCO<br>quarter=%{x}<br>volume=%{y}<extra></extra>\",\"legendgroup\":\"CSCO\",\"marker\":{\"color\":\"#FECB52\",\"pattern\":{\"shape\":\"\"}},\"name\":\"CSCO\",\"offsetgroup\":\"CSCO\",\"orientation\":\"v\",\"showlegend\":true,\"textposition\":\"auto\",\"x\":[1,2],\"xaxis\":\"x\",\"y\":[347651700.0,368824561.0],\"yaxis\":\"y\",\"type\":\"bar\"}],                        {\"template\":{\"data\":{\"histogram2dcontour\":[{\"type\":\"histogram2dcontour\",\"colorbar\":{\"outlinewidth\":0,\"ticks\":\"\"},\"colorscale\":[[0.0,\"#0d0887\"],[0.1111111111111111,\"#46039f\"],[0.2222222222222222,\"#7201a8\"],[0.3333333333333333,\"#9c179e\"],[0.4444444444444444,\"#bd3786\"],[0.5555555555555556,\"#d8576b\"],[0.6666666666666666,\"#ed7953\"],[0.7777777777777778,\"#fb9f3a\"],[0.8888888888888888,\"#fdca26\"],[1.0,\"#f0f921\"]]}],\"choropleth\":[{\"type\":\"choropleth\",\"colorbar\":{\"outlinewidth\":0,\"ticks\":\"\"}}],\"histogram2d\":[{\"type\":\"histogram2d\",\"colorbar\":{\"outlinewidth\":0,\"ticks\":\"\"},\"colorscale\":[[0.0,\"#0d0887\"],[0.1111111111111111,\"#46039f\"],[0.2222222222222222,\"#7201a8\"],[0.3333333333333333,\"#9c179e\"],[0.4444444444444444,\"#bd3786\"],[0.5555555555555556,\"#d8576b\"],[0.6666666666666666,\"#ed7953\"],[0.7777777777777778,\"#fb9f3a\"],[0.8888888888888888,\"#fdca26\"],[1.0,\"#f0f921\"]]}],\"heatmap\":[{\"type\":\"heatmap\",\"colorbar\":{\"outlinewidth\":0,\"ticks\":\"\"},\"colorscale\":[[0.0,\"#0d0887\"],[0.1111111111111111,\"#46039f\"],[0.2222222222222222,\"#7201a8\"],[0.3333333333333333,\"#9c179e\"],[0.4444444444444444,\"#bd3786\"],[0.5555555555555556,\"#d8576b\"],[0.6666666666666666,\"#ed7953\"],[0.7777777777777778,\"#fb9f3a\"],[0.8888888888888888,\"#fdca26\"],[1.0,\"#f0f921\"]]}],\"heatmapgl\":[{\"type\":\"heatmapgl\",\"colorbar\":{\"outlinewidth\":0,\"ticks\":\"\"},\"colorscale\":[[0.0,\"#0d0887\"],[0.1111111111111111,\"#46039f\"],[0.2222222222222222,\"#7201a8\"],[0.3333333333333333,\"#9c179e\"],[0.4444444444444444,\"#bd3786\"],[0.5555555555555556,\"#d8576b\"],[0.6666666666666666,\"#ed7953\"],[0.7777777777777778,\"#fb9f3a\"],[0.8888888888888888,\"#fdca26\"],[1.0,\"#f0f921\"]]}],\"contourcarpet\":[{\"type\":\"contourcarpet\",\"colorbar\":{\"outlinewidth\":0,\"ticks\":\"\"}}],\"contour\":[{\"type\":\"contour\",\"colorbar\":{\"outlinewidth\":0,\"ticks\":\"\"},\"colorscale\":[[0.0,\"#0d0887\"],[0.1111111111111111,\"#46039f\"],[0.2222222222222222,\"#7201a8\"],[0.3333333333333333,\"#9c179e\"],[0.4444444444444444,\"#bd3786\"],[0.5555555555555556,\"#d8576b\"],[0.6666666666666666,\"#ed7953\"],[0.7777777777777778,\"#fb9f3a\"],[0.8888888888888888,\"#fdca26\"],[1.0,\"#f0f921\"]]}],\"surface\":[{\"type\":\"surface\",\"colorbar\":{\"outlinewidth\":0,\"ticks\":\"\"},\"colorscale\":[[0.0,\"#0d0887\"],[0.1111111111111111,\"#46039f\"],[0.2222222222222222,\"#7201a8\"],[0.3333333333333333,\"#9c179e\"],[0.4444444444444444,\"#bd3786\"],[0.5555555555555556,\"#d8576b\"],[0.6666666666666666,\"#ed7953\"],[0.7777777777777778,\"#fb9f3a\"],[0.8888888888888888,\"#fdca26\"],[1.0,\"#f0f921\"]]}],\"mesh3d\":[{\"type\":\"mesh3d\",\"colorbar\":{\"outlinewidth\":0,\"ticks\":\"\"}}],\"scatter\":[{\"fillpattern\":{\"fillmode\":\"overlay\",\"size\":10,\"solidity\":0.2},\"type\":\"scatter\"}],\"parcoords\":[{\"type\":\"parcoords\",\"line\":{\"colorbar\":{\"outlinewidth\":0,\"ticks\":\"\"}}}],\"scatterpolargl\":[{\"type\":\"scatterpolargl\",\"marker\":{\"colorbar\":{\"outlinewidth\":0,\"ticks\":\"\"}}}],\"bar\":[{\"error_x\":{\"color\":\"#2a3f5f\"},\"error_y\":{\"color\":\"#2a3f5f\"},\"marker\":{\"line\":{\"color\":\"#E5ECF6\",\"width\":0.5},\"pattern\":{\"fillmode\":\"overlay\",\"size\":10,\"solidity\":0.2}},\"type\":\"bar\"}],\"scattergeo\":[{\"type\":\"scattergeo\",\"marker\":{\"colorbar\":{\"outlinewidth\":0,\"ticks\":\"\"}}}],\"scatterpolar\":[{\"type\":\"scatterpolar\",\"marker\":{\"colorbar\":{\"outlinewidth\":0,\"ticks\":\"\"}}}],\"histogram\":[{\"marker\":{\"pattern\":{\"fillmode\":\"overlay\",\"size\":10,\"solidity\":0.2}},\"type\":\"histogram\"}],\"scattergl\":[{\"type\":\"scattergl\",\"marker\":{\"colorbar\":{\"outlinewidth\":0,\"ticks\":\"\"}}}],\"scatter3d\":[{\"type\":\"scatter3d\",\"line\":{\"colorbar\":{\"outlinewidth\":0,\"ticks\":\"\"}},\"marker\":{\"colorbar\":{\"outlinewidth\":0,\"ticks\":\"\"}}}],\"scattermapbox\":[{\"type\":\"scattermapbox\",\"marker\":{\"colorbar\":{\"outlinewidth\":0,\"ticks\":\"\"}}}],\"scatterternary\":[{\"type\":\"scatterternary\",\"marker\":{\"colorbar\":{\"outlinewidth\":0,\"ticks\":\"\"}}}],\"scattercarpet\":[{\"type\":\"scattercarpet\",\"marker\":{\"colorbar\":{\"outlinewidth\":0,\"ticks\":\"\"}}}],\"carpet\":[{\"aaxis\":{\"endlinecolor\":\"#2a3f5f\",\"gridcolor\":\"white\",\"linecolor\":\"white\",\"minorgridcolor\":\"white\",\"startlinecolor\":\"#2a3f5f\"},\"baxis\":{\"endlinecolor\":\"#2a3f5f\",\"gridcolor\":\"white\",\"linecolor\":\"white\",\"minorgridcolor\":\"white\",\"startlinecolor\":\"#2a3f5f\"},\"type\":\"carpet\"}],\"table\":[{\"cells\":{\"fill\":{\"color\":\"#EBF0F8\"},\"line\":{\"color\":\"white\"}},\"header\":{\"fill\":{\"color\":\"#C8D4E3\"},\"line\":{\"color\":\"white\"}},\"type\":\"table\"}],\"barpolar\":[{\"marker\":{\"line\":{\"color\":\"#E5ECF6\",\"width\":0.5},\"pattern\":{\"fillmode\":\"overlay\",\"size\":10,\"solidity\":0.2}},\"type\":\"barpolar\"}],\"pie\":[{\"automargin\":true,\"type\":\"pie\"}]},\"layout\":{\"autotypenumbers\":\"strict\",\"colorway\":[\"#636efa\",\"#EF553B\",\"#00cc96\",\"#ab63fa\",\"#FFA15A\",\"#19d3f3\",\"#FF6692\",\"#B6E880\",\"#FF97FF\",\"#FECB52\"],\"font\":{\"color\":\"#2a3f5f\"},\"hovermode\":\"closest\",\"hoverlabel\":{\"align\":\"left\"},\"paper_bgcolor\":\"white\",\"plot_bgcolor\":\"#E5ECF6\",\"polar\":{\"bgcolor\":\"#E5ECF6\",\"angularaxis\":{\"gridcolor\":\"white\",\"linecolor\":\"white\",\"ticks\":\"\"},\"radialaxis\":{\"gridcolor\":\"white\",\"linecolor\":\"white\",\"ticks\":\"\"}},\"ternary\":{\"bgcolor\":\"#E5ECF6\",\"aaxis\":{\"gridcolor\":\"white\",\"linecolor\":\"white\",\"ticks\":\"\"},\"baxis\":{\"gridcolor\":\"white\",\"linecolor\":\"white\",\"ticks\":\"\"},\"caxis\":{\"gridcolor\":\"white\",\"linecolor\":\"white\",\"ticks\":\"\"}},\"coloraxis\":{\"colorbar\":{\"outlinewidth\":0,\"ticks\":\"\"}},\"colorscale\":{\"sequential\":[[0.0,\"#0d0887\"],[0.1111111111111111,\"#46039f\"],[0.2222222222222222,\"#7201a8\"],[0.3333333333333333,\"#9c179e\"],[0.4444444444444444,\"#bd3786\"],[0.5555555555555556,\"#d8576b\"],[0.6666666666666666,\"#ed7953\"],[0.7777777777777778,\"#fb9f3a\"],[0.8888888888888888,\"#fdca26\"],[1.0,\"#f0f921\"]],\"sequentialminus\":[[0.0,\"#0d0887\"],[0.1111111111111111,\"#46039f\"],[0.2222222222222222,\"#7201a8\"],[0.3333333333333333,\"#9c179e\"],[0.4444444444444444,\"#bd3786\"],[0.5555555555555556,\"#d8576b\"],[0.6666666666666666,\"#ed7953\"],[0.7777777777777778,\"#fb9f3a\"],[0.8888888888888888,\"#fdca26\"],[1.0,\"#f0f921\"]],\"diverging\":[[0,\"#8e0152\"],[0.1,\"#c51b7d\"],[0.2,\"#de77ae\"],[0.3,\"#f1b6da\"],[0.4,\"#fde0ef\"],[0.5,\"#f7f7f7\"],[0.6,\"#e6f5d0\"],[0.7,\"#b8e186\"],[0.8,\"#7fbc41\"],[0.9,\"#4d9221\"],[1,\"#276419\"]]},\"xaxis\":{\"gridcolor\":\"white\",\"linecolor\":\"white\",\"ticks\":\"\",\"title\":{\"standoff\":15},\"zerolinecolor\":\"white\",\"automargin\":true,\"zerolinewidth\":2},\"yaxis\":{\"gridcolor\":\"white\",\"linecolor\":\"white\",\"ticks\":\"\",\"title\":{\"standoff\":15},\"zerolinecolor\":\"white\",\"automargin\":true,\"zerolinewidth\":2},\"scene\":{\"xaxis\":{\"backgroundcolor\":\"#E5ECF6\",\"gridcolor\":\"white\",\"linecolor\":\"white\",\"showbackground\":true,\"ticks\":\"\",\"zerolinecolor\":\"white\",\"gridwidth\":2},\"yaxis\":{\"backgroundcolor\":\"#E5ECF6\",\"gridcolor\":\"white\",\"linecolor\":\"white\",\"showbackground\":true,\"ticks\":\"\",\"zerolinecolor\":\"white\",\"gridwidth\":2},\"zaxis\":{\"backgroundcolor\":\"#E5ECF6\",\"gridcolor\":\"white\",\"linecolor\":\"white\",\"showbackground\":true,\"ticks\":\"\",\"zerolinecolor\":\"white\",\"gridwidth\":2}},\"shapedefaults\":{\"line\":{\"color\":\"#2a3f5f\"}},\"annotationdefaults\":{\"arrowcolor\":\"#2a3f5f\",\"arrowhead\":0,\"arrowwidth\":1},\"geo\":{\"bgcolor\":\"white\",\"landcolor\":\"#E5ECF6\",\"subunitcolor\":\"white\",\"showland\":true,\"showlakes\":true,\"lakecolor\":\"white\"},\"title\":{\"x\":0.05},\"mapbox\":{\"style\":\"light\"}}},\"xaxis\":{\"anchor\":\"y\",\"domain\":[0.0,1.0],\"title\":{\"text\":\"quarter\"}},\"yaxis\":{\"anchor\":\"x\",\"domain\":[0.0,1.0],\"title\":{\"text\":\"volume\"}},\"legend\":{\"title\":{\"text\":\"stock\"},\"tracegroupgap\":0},\"margin\":{\"t\":60},\"barmode\":\"relative\"},                        {\"responsive\": true}                    ).then(function(){\n",
       "                            \n",
       "var gd = document.getElementById('26f76387-89c9-403f-bd2f-77d16d964782');\n",
       "var x = new MutationObserver(function (mutations, observer) {{\n",
       "        var display = window.getComputedStyle(gd).display;\n",
       "        if (!display || display === 'none') {{\n",
       "            console.log([gd, 'removed!']);\n",
       "            Plotly.purge(gd);\n",
       "            observer.disconnect();\n",
       "        }}\n",
       "}});\n",
       "\n",
       "// Listen for the removal of the full notebook cells\n",
       "var notebookContainer = gd.closest('#notebook-container');\n",
       "if (notebookContainer) {{\n",
       "    x.observe(notebookContainer, {childList: true});\n",
       "}}\n",
       "\n",
       "// Listen for the clearing of the current output cell\n",
       "var outputEl = gd.closest('.output');\n",
       "if (outputEl) {{\n",
       "    x.observe(outputEl, {childList: true});\n",
       "}}\n",
       "\n",
       "                        })                };                });            </script>        </div>"
      ]
     },
     "metadata": {},
     "output_type": "display_data"
    }
   ],
   "source": [
    "volume_quarterly_pivot = quarterly_trends_all.pivot_table(index='stock', columns='quarter', values='volume', sort=False)\n",
    "\n",
    "plot_df = volume_quarterly_pivot.reset_index().melt(id_vars='stock', var_name='quarter', value_name='volume')\n",
    "\n",
    "fig = px.bar(plot_df, x='quarter', y='volume', color='stock')\n",
    "fig.show()"
   ]
  },
  {
   "cell_type": "code",
   "execution_count": null,
   "id": "8b91d551",
   "metadata": {},
   "outputs": [],
   "source": []
  }
 ],
 "metadata": {
  "kernelspec": {
   "display_name": "Python 3 (ipykernel)",
   "language": "python",
   "name": "python3"
  },
  "language_info": {
   "codemirror_mode": {
    "name": "ipython",
    "version": 3
   },
   "file_extension": ".py",
   "mimetype": "text/x-python",
   "name": "python",
   "nbconvert_exporter": "python",
   "pygments_lexer": "ipython3",
   "version": "3.9.13"
  },
  "widgets": {
   "application/vnd.jupyter.widget-state+json": {
    "state": {},
    "version_major": 2,
    "version_minor": 0
   }
  }
 },
 "nbformat": 4,
 "nbformat_minor": 5
}
